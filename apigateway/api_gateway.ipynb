{
 "cells": [
  {
   "cell_type": "markdown",
   "metadata": {},
   "source": [
    "# [API Gateway Micro-project](https://boto3.amazonaws.com/v1/documentation/api/latest/reference/services/apigateway.html)"
   ]
  },
  {
   "cell_type": "markdown",
   "metadata": {},
   "source": [
    "-   [LoveToCode: API Gateway](https://www.youtube.com/playlist?list=PLruLATXv4pNz2RPn5X6iMmqyvv69NprJS)\n",
    "    -   [API Gateway Lambda Mapping (Template Mapping)](https://www.youtube.com/watch?v=o98qYUFSQbc)\n",
    "    -   [Troubleshooting AWS API Gateway](https://www.youtube.com/watch?v=tUPhFd4Q_Bk)\n",
    "-   [Complete API Gateway tutorial](https://www.youtube.com/playlist?list=PL5KTLzN85O4ISx9guOjbynlhCxB87xmUq)\n",
    "-   [AWS API Gateway | REST API for CRUD operations](https://www.youtube.com/watch?v=mQov1eetSec)\n",
    "-   [Apache Velocity Project](https://velocity.apache.org/)"
   ]
  },
  {
   "cell_type": "code",
   "execution_count": null,
   "metadata": {},
   "outputs": [],
   "source": [
    "import boto3\n",
    "import botocore\n",
    "from botocore.exceptions import ClientError\n",
    "import os, time, json, io, zipfile, subprocess, shutil, requests\n",
    "from requests_aws4auth import AWS4Auth\n",
    "from pathlib import Path\n",
    "from datetime import date\n",
    "from dotenv import load_dotenv\n",
    "\n",
    "import s3, iam, lf, glue, lambdafn as lfn, sns, eventbridge as event\n",
    "\n",
    "from ads.utils import red"
   ]
  },
  {
   "cell_type": "code",
   "execution_count": null,
   "metadata": {},
   "outputs": [],
   "source": [
    "load_dotenv(\".env\")\n",
    "VPC_ID              = 'vpc-03617a8a518caa526'\n",
    "SUBNET_IDS          = ['subnet-0980ad10eb313405b', 'subnet-0de97821ddb8236f7', 'subnet-0a160fbe0fcafe373', 'subnet-0ca765b361e4cb186', 'subnet-0a972b05a5b162feb']\n",
    "SUBNET_ID           = SUBNET_IDS[0]\n",
    "SECURITY_GROUP_ID   = 'sg-07f4ccd7a5be677ea'\n",
    "ACCOUNT_ID          = os.environ['AWS_ACCOUNT_ID_ROOT']\n",
    "REGION              = os.environ['AWS_DEFAULT_REGION']"
   ]
  },
  {
   "cell_type": "code",
   "execution_count": null,
   "metadata": {},
   "outputs": [],
   "source": [
    "sts_client           = boto3.client('sts')\n",
    "iam_client           = boto3.client('iam')\n",
    "s3_client            = boto3.client('s3')\n",
    "glue_client          = boto3.client('glue')\n",
    "ec2_client           = boto3.client('ec2', region_name=REGION)\n",
    "ec2_resource         = boto3.resource('ec2', region_name=REGION)\n",
    "lfn_client           = boto3.client('lambda')\n",
    "sfn_client           = boto3.client('stepfunctions')\n",
    "logs_client          = boto3.client('logs')\n",
    "events_client        = boto3.client('events')\n",
    "\n",
    "apigateway_client    = boto3.client('apigateway', region_name=REGION)\n",
    "sqs_client           = boto3.client('sqs')"
   ]
  },
  {
   "cell_type": "markdown",
   "metadata": {},
   "source": [
    "-   [Mini Project - Learn to use API Gateway with Lambda, AWS Service and Mock Integrations](https://www.youtube.com/watch?v=sDxsTPbUiik)\n"
   ]
  },
  {
   "cell_type": "markdown",
   "metadata": {},
   "source": [
    "#### [How to validate the request in AWS API Gateway](https://www.youtube.com/watch?v=e1x8j8BUEHs)"
   ]
  },
  {
   "cell_type": "code",
   "execution_count": null,
   "metadata": {},
   "outputs": [],
   "source": [
    "api_id = \"a1b2c3d4e5\"  # Replace with your actual API ID\n",
    "\n",
    "# Model details\n",
    "model_name = \"MyModel\"\n",
    "description = \"Model for user data\"\n",
    "content_type = \"application/json\"\n",
    "schema = {\n",
    "    \"type\": \"object\",\n",
    "    \"properties\": {\n",
    "        \"id\": {\"type\": \"string\"},\n",
    "        \"name\": {\"type\": \"string\"},\n",
    "        \"phone_number\": {\"type\": \"string\", \"pattern\": \"^[0-9]{10}$\"},\n",
    "        \"email_number\": {\"type\": \"string\", \"pattern\": \"email\"}\n",
    "    },\n",
    "    \"required\": [\"id\", \"name\"]\n",
    "}"
   ]
  },
  {
   "cell_type": "code",
   "execution_count": null,
   "metadata": {},
   "outputs": [],
   "source": [
    "apigateway_client.create_model(\n",
    "    restApiId=api_id,\n",
    "    name=model_name,\n",
    "    description=description,\n",
    "    contentType=content_type,\n",
    "    schema=json.dumps(schema)  # Convert schema dictionary to JSON string\n",
    ")"
   ]
  },
  {
   "cell_type": "code",
   "execution_count": null,
   "metadata": {},
   "outputs": [],
   "source": []
  },
  {
   "cell_type": "markdown",
   "metadata": {},
   "source": [
    "#### [How to enable CloudWatch logs for API Gateway](https://www.youtube.com/watch?v=N49Bp_bd93I&list=PL5KTLzN85O4ISx9guOjbynlhCxB87xmUq&index=16)"
   ]
  },
  {
   "cell_type": "code",
   "execution_count": null,
   "metadata": {},
   "outputs": [],
   "source": [
    "apigateway_client.update_account(\n",
    "    patchOperations=[\n",
    "        {\n",
    "            'op': 'replace',\n",
    "            'path': '/cloudwatchRoleArn',\n",
    "            'value': \"\"  # Use the ARN of the role you created\n",
    "        }\n",
    "    ]\n",
    ")"
   ]
  },
  {
   "cell_type": "code",
   "execution_count": null,
   "metadata": {},
   "outputs": [],
   "source": [
    "LOG_GROUP_NAME = f\"/aws/apigateway/{\"API_NAME\"}\"  # Choose a log group name\n",
    "LOG_LEVEL = 'INFO'  # Options: 'OFF', 'ERROR', 'INFO'\n"
   ]
  },
  {
   "cell_type": "code",
   "execution_count": null,
   "metadata": {},
   "outputs": [],
   "source": [
    "\n",
    "# Step 1: Create a CloudWatch Log Group\n",
    "try:\n",
    "    logs_client.create_log_group(logGroupName=LOG_GROUP_NAME)\n",
    "except logs_client.exceptions.ResourceAlreadyExistsException:\n",
    "    print(f\"Log group '{LOG_GROUP_NAME}' already exists.\")\n",
    "\n",
    "# Step 2: Enable access logging and method settings for the API Gateway stage\n",
    "try:\n",
    "    apigateway_client.update_stage(\n",
    "        restApiId=\"API_ID\",\n",
    "        stageName=\"STAGE_NAME\",\n",
    "        patchOperations=[\n",
    "            {\n",
    "                'op': 'replace',\n",
    "                'path': '/accessLogSettings/destinationArn',\n",
    "                'value': f'arn:aws:logs:{REGION}:{ACCOUNT_ID}:log-group:{LOG_GROUP_NAME}'  # Update with your REGION and ACCOUNT_ID\n",
    "            },\n",
    "            {\n",
    "                'op': 'replace',\n",
    "                'path': '/accessLogSettings/format',\n",
    "                'value': '\"$context.identity.sourceIp - $context.requestId\"'  # Customize as needed\n",
    "            },\n",
    "            {\n",
    "                'op': 'replace',\n",
    "                'path': '/*/*/logging/dataTrace',\n",
    "                'value': 'true'\n",
    "            },\n",
    "            {\n",
    "                'op': 'replace',\n",
    "                'path': '/*/*/logging/loglevel',\n",
    "                'value': LOG_LEVEL\n",
    "            }\n",
    "        ]\n",
    "    )"
   ]
  },
  {
   "cell_type": "code",
   "execution_count": null,
   "metadata": {},
   "outputs": [],
   "source": [
    "# Delete the log group:\n",
    "logs_client.delete_log_group(logGroupName=LOG_GROUP_NAME)"
   ]
  },
  {
   "cell_type": "code",
   "execution_count": null,
   "metadata": {},
   "outputs": [],
   "source": []
  },
  {
   "cell_type": "markdown",
   "metadata": {},
   "source": [
    "#### [Cross Origin Resource Sharing (CORS)](https://www.youtube.com/watch?v=baQh1X3LN5s)"
   ]
  },
  {
   "cell_type": "code",
   "execution_count": null,
   "metadata": {},
   "outputs": [],
   "source": []
  },
  {
   "cell_type": "code",
   "execution_count": null,
   "metadata": {},
   "outputs": [],
   "source": []
  },
  {
   "cell_type": "code",
   "execution_count": null,
   "metadata": {},
   "outputs": [],
   "source": []
  },
  {
   "cell_type": "code",
   "execution_count": null,
   "metadata": {},
   "outputs": [],
   "source": []
  },
  {
   "cell_type": "markdown",
   "metadata": {},
   "source": [
    "## REST API"
   ]
  },
  {
   "cell_type": "markdown",
   "metadata": {},
   "source": [
    "### Technical Notes"
   ]
  },
  {
   "cell_type": "markdown",
   "metadata": {},
   "source": [
    "#### Integration Pass Through Behavior"
   ]
  },
  {
   "cell_type": "markdown",
   "metadata": {},
   "source": [
    "The `passthroughBehavior` setting in AWS API Gateway's integration requests controls how incoming requests are handled when API Gateway attempts to map the client request data to the backend. This setting is crucial for managing how API Gateway deals with requests that may not have a perfect match with the expected integration request mapping templates. There are three possible values for `passthroughBehavior`:\n",
    "\n",
    "1. **WHEN_NO_MATCH**\n",
    "   - **Description**: The request payload is passed through to the backend **only if** none of the mapping templates specified for the integration matches the `Content-Type` of the incoming request.\n",
    "   - **Use Case**: This is the most commonly used option as it ensures that, if there's a matching mapping template for the `Content-Type` (like `application/json`), it will be used. If there isn’t, the request will bypass mapping and go straight to the backend.\n",
    "   - **Example**: If you have a mapping template for `application/json` but receive a request with `Content-Type: text/plain`, API Gateway will pass the request directly to the backend without attempting any mapping transformations.\n",
    "\n",
    "2. **WHEN_NO_TEMPLATES**\n",
    "   - **Description**: The request payload is passed through to the backend **if there are no mapping templates defined at all** for the integration request.\n",
    "   - **Use Case**: This setting is helpful if you want to apply mapping templates selectively based on certain conditions or requests and don’t require strict `Content-Type` validation.\n",
    "   - **Example**: If no mapping templates are defined for the integration, the request will be sent directly to the backend, regardless of the `Content-Type` in the incoming request.\n",
    "\n",
    "3. **NEVER**\n",
    "   - **Description**: The request payload is never passed through to the backend if no matching mapping template is found. Instead, API Gateway will respond with an HTTP `415 Unsupported Media Type` error.\n",
    "   - **Use Case**: Use this setting if you require strict validation and want to prevent any request from reaching the backend without a defined mapping template.\n",
    "   - **Example**: If a request has a `Content-Type` not supported by the defined mapping templates, API Gateway will immediately return a `415` error without attempting to forward the request to the backend.\n",
    "\n",
    "4. **Summary Table**\n",
    "\n",
    "    | `passthroughBehavior` | Description                                                                                   | Behavior if No Match Found    |\n",
    "    |-----------------------|-----------------------------------------------------------------------------------------------|-------------------------------|\n",
    "    | `WHEN_NO_MATCH`       | Pass through if no matching `Content-Type` mapping template is found                         | Forward request to backend    |\n",
    "    | `WHEN_NO_TEMPLATES`   | Pass through if no mapping templates are defined at all                                      | Forward request to backend    |\n",
    "    | `NEVER`               | Never pass through if no matching template; return `415 Unsupported Media Type` error instead | Respond with `415` error      |\n"
   ]
  },
  {
   "cell_type": "markdown",
   "metadata": {},
   "source": [
    "### [12. AWS API Gateway Input/Output Mapping](https://www.youtube.com/watch?v=HksMXyfFOyM)"
   ]
  },
  {
   "cell_type": "markdown",
   "metadata": {},
   "source": [
    "-   [13. API Gateway CORS](https://www.youtube.com/watch?v=kDSxCPbBJFo)"
   ]
  },
  {
   "cell_type": "code",
   "execution_count": null,
   "metadata": {},
   "outputs": [],
   "source": []
  },
  {
   "cell_type": "code",
   "execution_count": null,
   "metadata": {},
   "outputs": [],
   "source": []
  },
  {
   "cell_type": "markdown",
   "metadata": {},
   "source": [
    "### [Creating a Step Functions API using API Gateway](https://docs.aws.amazon.com/step-functions/latest/dg/tutorial-api-gateway.html)"
   ]
  },
  {
   "cell_type": "markdown",
   "metadata": {},
   "source": [
    "- [YT: Call Your AWS Step Functions With API Gateway](https://www.youtube.com/watch?v=c7mjj-YQXxE&list=PLjfRmoYoxpNoahLvGnz_vJnOZ2FBQhaVu&index=3)"
   ]
  },
  {
   "cell_type": "markdown",
   "metadata": {},
   "source": [
    "#### Create Role"
   ]
  },
  {
   "cell_type": "code",
   "execution_count": null,
   "metadata": {},
   "outputs": [],
   "source": [
    "API_GATEWAY_ROLE_NAME = \"gateway-sfn-role\"\n",
    "LFN_ROLE_NAME = 'lfn-gateway-role'\n",
    "SFN_ROLE_NAME = 'sfn-pipeline-role'"
   ]
  },
  {
   "cell_type": "markdown",
   "metadata": {},
   "source": [
    "- **API Gateway Role**"
   ]
  },
  {
   "cell_type": "code",
   "execution_count": null,
   "metadata": {},
   "outputs": [],
   "source": [
    "assume_role_policy_document = {\n",
    "    \"Version\": \"2012-10-17\",\n",
    "    \"Statement\": [\n",
    "        {\n",
    "            \"Sid\": \"\",\n",
    "            \"Effect\": \"Allow\",\n",
    "            \"Principal\": {\n",
    "                \"Service\": [\"apigateway.amazonaws.com\"]\n",
    "            },\n",
    "            \"Action\": [\"sts:AssumeRole\"]\n",
    "        }\n",
    "    ]\n",
    "}\n",
    "\n",
    "API_GATEWAY_ROLE_ARN =  iam_client.create_role(\n",
    "    RoleName=API_GATEWAY_ROLE_NAME,\n",
    "    AssumeRolePolicyDocument=json.dumps(assume_role_policy_document),\n",
    "    Description='Api Gateway Role'\n",
    ")['Role']['Arn']"
   ]
  },
  {
   "cell_type": "code",
   "execution_count": null,
   "metadata": {},
   "outputs": [],
   "source": [
    "policy_arns = [\n",
    "    'arn:aws:iam::aws:policy/AWSStepFunctionsFullAccess', \n",
    "    'arn:aws:iam::aws:policy/service-role/AmazonAPIGatewayPushToCloudWatchLogs',\n",
    "    # 'arn:aws:iam::aws:policy/CloudWatchFullAccess'\n",
    "]\n",
    "\n",
    "[iam_client.attach_role_policy(RoleName=API_GATEWAY_ROLE_NAME, PolicyArn=arn) for arn in policy_arns]"
   ]
  },
  {
   "cell_type": "code",
   "execution_count": null,
   "metadata": {},
   "outputs": [],
   "source": [
    "# Policy to enable CloudWatch logging\n",
    "cloudwatch_logs_policy = {\n",
    "    \"Version\": \"2012-10-17\",\n",
    "    \"Statement\": [\n",
    "        {\n",
    "            \"Effect\": \"Allow\",\n",
    "            \"Action\": [\n",
    "                \"logs:CreateLogGroup\",\n",
    "                \"logs:CreateLogStream\",\n",
    "                \"logs:PutLogEvents\"\n",
    "            ],\n",
    "            \"Resource\": \"arn:aws:logs:*:*:*\"\n",
    "        }\n",
    "    ]\n",
    "}\n",
    "\n",
    "# # Attach the CloudWatch Logs policy to the role\n",
    "# response = iam_client.put_role_policy(\n",
    "#     RoleName=API_GATEWAY_ROLE_NAME,\n",
    "#     PolicyName='CloudWatchLogsPolicy',\n",
    "#     PolicyDocument=json.dumps(cloudwatch_logs_policy)\n",
    "# )"
   ]
  },
  {
   "cell_type": "markdown",
   "metadata": {},
   "source": [
    "- **Lambda Role**"
   ]
  },
  {
   "cell_type": "code",
   "execution_count": null,
   "metadata": {},
   "outputs": [],
   "source": [
    "assume_role_policy_document = {\n",
    "    \"Version\": \"2012-10-17\",\n",
    "    \"Statement\": [\n",
    "        {\n",
    "            \"Effect\": \"Allow\",\n",
    "            \"Principal\": {\n",
    "                \"Service\": \"lambda.amazonaws.com\"\n",
    "            },\n",
    "            \"Action\": \"sts:AssumeRole\"\n",
    "        }\n",
    "    ]\n",
    "}\n",
    "\n",
    "# Create the IAM role with the assume role policy document\n",
    "LFN_ROLE_ARN = iam_client.create_role(\n",
    "    RoleName=LFN_ROLE_NAME,\n",
    "    AssumeRolePolicyDocument=json.dumps(assume_role_policy_document)\n",
    ")['Role']['Arn']"
   ]
  },
  {
   "cell_type": "code",
   "execution_count": null,
   "metadata": {},
   "outputs": [],
   "source": [
    "# Attach the CloudWatch Logs policy to the role\n",
    "response = iam_client.put_role_policy(\n",
    "    RoleName=LFN_ROLE_NAME,\n",
    "    PolicyName='CloudWatchLogsPolicy',\n",
    "    PolicyDocument=json.dumps(cloudwatch_logs_policy)\n",
    ")"
   ]
  },
  {
   "cell_type": "markdown",
   "metadata": {},
   "source": [
    "- **SFN Role**"
   ]
  },
  {
   "cell_type": "code",
   "execution_count": null,
   "metadata": {},
   "outputs": [],
   "source": [
    "stepfunctions_trust_policy = {\n",
    "    \"Version\": \"2012-10-17\",\n",
    "    \"Statement\": [\n",
    "        {\n",
    "            \"Effect\": \"Allow\",\n",
    "            \"Principal\": {\n",
    "                \"Service\": \"states.amazonaws.com\"\n",
    "            },\n",
    "            \"Action\": \"sts:AssumeRole\"\n",
    "        }\n",
    "    ]\n",
    "}\n",
    "\n",
    "SFN_ROLE_ARN = iam_client.create_role(\n",
    "    RoleName=SFN_ROLE_NAME,\n",
    "    AssumeRolePolicyDocument=json.dumps(stepfunctions_trust_policy),\n",
    "    Description=\"Glue Service Role\"\n",
    ")['Role']['Arn']\n"
   ]
  },
  {
   "cell_type": "code",
   "execution_count": null,
   "metadata": {},
   "outputs": [],
   "source": [
    "\n",
    "# # Attach AWS managed policy with the role\n",
    "iam_client.attach_role_policy(\n",
    "    RoleName=SFN_ROLE_NAME,\n",
    "    PolicyArn='arn:aws:iam::aws:policy/AWSLambda_FullAccess'\n",
    ")"
   ]
  },
  {
   "cell_type": "markdown",
   "metadata": {},
   "source": [
    "#### Create Lambda Function"
   ]
  },
  {
   "cell_type": "code",
   "execution_count": null,
   "metadata": {},
   "outputs": [],
   "source": [
    "LFN_APIGATEWAY_NAME = \"lfn_in_sfn\""
   ]
  },
  {
   "cell_type": "code",
   "execution_count": null,
   "metadata": {},
   "outputs": [],
   "source": [
    "# lfn.create_lambda_package('./lambdas', \"./lambdas/\", requirements_file=None)"
   ]
  },
  {
   "cell_type": "code",
   "execution_count": null,
   "metadata": {},
   "outputs": [],
   "source": [
    "# Lambda function code as a string\n",
    "lambda_code = \"\"\"\n",
    "def lambda_handler(event, context):\n",
    "    print(event)\n",
    "    return {\n",
    "        'statusCode': 200,\n",
    "        'body': 'Hello from Lambda!'\n",
    "    }\n",
    "\"\"\"\n",
    "\n",
    "# # Create a ZIP file in memory for the Lambda code\n",
    "# zip_buffer = io.BytesIO()\n",
    "# with zipfile.ZipFile(zip_buffer, 'w') as zip_file:\n",
    "#     zip_file.writestr('lambda_function.py', lambda_code)\n",
    "# zip_buffer.seek(0)\n",
    "\n",
    "# Create Lambda function\n",
    "with open(\"./lambdas/package.zip\", 'rb') as f:\n",
    "    zipped_code = f.read()\n",
    "\n",
    "\n",
    "# Create the Lambda function\n",
    "LFN_ARN = lfn_client.create_function(\n",
    "    FunctionName=LFN_APIGATEWAY_NAME,\n",
    "    Runtime='python3.9',  # Specify the runtime version\n",
    "    Role=LFN_ROLE_ARN,  # Replace with your Lambda execution role ARN\n",
    "    Handler='hello_world.lambda_handler',\n",
    "    Code={'ZipFile': zipped_code},\n",
    "    Description='A simple Lambda function created with boto3',\n",
    "    Timeout=15,  # Maximum allowed time in seconds for the function to run\n",
    "    MemorySize=128,  # Allocate memory (128 MB is the minimum)\n",
    "    Publish=True\n",
    ")['FunctionArn']\n"
   ]
  },
  {
   "cell_type": "code",
   "execution_count": null,
   "metadata": {},
   "outputs": [],
   "source": [
    "# Create the CloudWatch log group\n",
    "response = logs_client.create_log_group(logGroupName=f\"/aws/lambda/{LFN_APIGATEWAY_NAME}\")"
   ]
  },
  {
   "cell_type": "markdown",
   "metadata": {},
   "source": [
    "#### SFN"
   ]
  },
  {
   "cell_type": "code",
   "execution_count": null,
   "metadata": {},
   "outputs": [],
   "source": [
    "SMN_NAME = 'api_called_sfn'"
   ]
  },
  {
   "cell_type": "code",
   "execution_count": null,
   "metadata": {},
   "outputs": [],
   "source": [
    "state_machine_definition = {\n",
    "  \"Comment\": \"A description of my state machine\",\n",
    "  \"StartAt\": \"lfn_gateway\",\n",
    "  \"States\": {\n",
    "    \"lfn_gateway\": {\n",
    "      \"Type\": \"Task\",\n",
    "      \"Resource\": \"arn:aws:states:::lambda:invoke\",\n",
    "      \"OutputPath\": \"$.Payload\",\n",
    "      \"Parameters\": {\n",
    "        \"Payload.$\": \"$\",\n",
    "        \"FunctionName\": f\"arn:aws:lambda:{REGION}:{ACCOUNT_ID}:function:{LFN_APIGATEWAY_NAME}:$LATEST\"\n",
    "      },\n",
    "      \"Retry\": [\n",
    "        {\n",
    "          \"ErrorEquals\": [\n",
    "            \"Lambda.ServiceException\",\n",
    "            \"Lambda.AWSLambdaException\",\n",
    "            \"Lambda.SdkClientException\",\n",
    "            \"Lambda.TooManyRequestsException\"\n",
    "          ],\n",
    "          \"IntervalSeconds\": 1,\n",
    "          \"MaxAttempts\":0,\n",
    "          \"BackoffRate\": 2\n",
    "        }\n",
    "      ],\n",
    "      \"End\": True\n",
    "    }\n",
    "  }\n",
    "}"
   ]
  },
  {
   "cell_type": "code",
   "execution_count": null,
   "metadata": {},
   "outputs": [],
   "source": [
    "SFN_ARN = sfn_client.create_state_machine(\n",
    "    name=SMN_NAME,\n",
    "    definition=json.dumps(state_machine_definition),\n",
    "    roleArn=SFN_ROLE_ARN\n",
    ")['stateMachineArn']"
   ]
  },
  {
   "cell_type": "code",
   "execution_count": null,
   "metadata": {},
   "outputs": [],
   "source": [
    "response = lfn_client.add_permission(\n",
    "    FunctionName=LFN_APIGATEWAY_NAME,  # Replace with your Lambda function name\n",
    "    StatementId=f\"{SMN_NAME}_invocation_perm\",  # An identifier for this statement, unique for each permission you add\n",
    "    Action='lambda:InvokeFunction',\n",
    "    Principal='states.amazonaws.com',\n",
    "    SourceArn=f\"arn:aws:states:{REGION}:{ACCOUNT_ID}:stateMachine:{SMN_NAME}\",  # Replace with your S3 bucket ARN\n",
    ")"
   ]
  },
  {
   "cell_type": "code",
   "execution_count": null,
   "metadata": {},
   "outputs": [],
   "source": [
    "sfn_client.start_execution(stateMachineArn=SFN_ARN, input='{\"input\": \"{}\", \"name\": \"MyExecution\"}')"
   ]
  },
  {
   "cell_type": "markdown",
   "metadata": {},
   "source": [
    "#### API Gateway"
   ]
  },
  {
   "cell_type": "code",
   "execution_count": null,
   "metadata": {},
   "outputs": [],
   "source": [
    "API_NAME = 'test_a_post_api'\n",
    "RESOURCE_NAME = \"postdatatosfn\"\n",
    "HTTP_METHOD = 'POST'\n",
    "STAGE_NAME = 'dev'\n",
    "DESCRIPTION = 'My REST API Description'\n",
    "VERSION = '1.0'\n",
    "ENDPOINT_CONFIGURATION = {'types': ['REGIONAL']}"
   ]
  },
  {
   "cell_type": "code",
   "execution_count": null,
   "metadata": {},
   "outputs": [],
   "source": [
    "params = {\n",
    "    'name': API_NAME,\n",
    "    'description': DESCRIPTION,\n",
    "    'version': VERSION,\n",
    "    'endpointConfiguration': ENDPOINT_CONFIGURATION,\n",
    "    # 'apiKeySource': None, # 'HEADER'|'AUTHORIZER',\n",
    "    # 'policy': 'string',\n",
    "    # 'tags': None # {'string': 'string'},\n",
    "    # 'disableExecuteApiEndpoint': True|False\n",
    "}"
   ]
  },
  {
   "cell_type": "code",
   "execution_count": null,
   "metadata": {},
   "outputs": [],
   "source": [
    "API_ID = apigateway_client.create_rest_api(**params)['id']\n",
    "# API_ID = response['id']\n",
    "# print(response)"
   ]
  },
  {
   "cell_type": "code",
   "execution_count": null,
   "metadata": {},
   "outputs": [],
   "source": [
    "# Get the root resource ID\n",
    "resources = apigateway_client.get_resources(restApiId=API_ID)\n",
    "print(resources['items']) # Output: [{'id': 'h8kjhm9x8e', 'path': '/'}]"
   ]
  },
  {
   "cell_type": "code",
   "execution_count": null,
   "metadata": {},
   "outputs": [],
   "source": [
    "resource_root_id = next(item['id'] for item in resources['items'] if item['path'] == '/')"
   ]
  },
  {
   "cell_type": "code",
   "execution_count": null,
   "metadata": {},
   "outputs": [],
   "source": [
    "RESOURCE_ID = apigateway_client.create_resource(\n",
    "    restApiId=API_ID,\n",
    "    parentId=resource_root_id,\n",
    "    pathPart=RESOURCE_NAME \n",
    ")['id']"
   ]
  },
  {
   "cell_type": "code",
   "execution_count": null,
   "metadata": {},
   "outputs": [],
   "source": [
    "response = apigateway_client.put_method(\n",
    "    restApiId=API_ID,\n",
    "    resourceId=RESOURCE_ID,\n",
    "    httpMethod=HTTP_METHOD,\n",
    "    authorizationType='NONE',\n",
    "    apiKeyRequired=False,\n",
    "    requestParameters= {}\n",
    ")"
   ]
  },
  {
   "cell_type": "code",
   "execution_count": null,
   "metadata": {},
   "outputs": [],
   "source": [
    "# Step Functions invoke endpoint\n",
    "apigateway_client.put_integration(\n",
    "    restApiId=API_ID,\n",
    "    resourceId=RESOURCE_ID,\n",
    "    httpMethod='POST',\n",
    "    type='AWS',\n",
    "    integrationHttpMethod='POST',\n",
    "    uri=f'arn:aws:apigateway:{REGION}:states:action/StartExecution',\n",
    "    credentials=f'arn:aws:iam::{ACCOUNT_ID}:role/{API_GATEWAY_ROLE_NAME}',\n",
    "    requestTemplates={\n",
    "        'application/json': f'''{{\n",
    "            \"input\": \"$util.escapeJavaScript($input.body)\",\n",
    "            \"stateMachineArn\": \"arn:aws:states:{REGION}:{ACCOUNT_ID}:stateMachine:{SMN_NAME}\"\n",
    "        }}'''\n",
    "    }\n",
    ")"
   ]
  },
  {
   "cell_type": "code",
   "execution_count": null,
   "metadata": {},
   "outputs": [],
   "source": [
    "# The mapping template to extract the Step Function execution details\n",
    "mapping_template = '''\n",
    "#if($input.path('$.executionArn') && $input.path('$.executionArn') != \"\")\n",
    "{\n",
    "  \"executionArn\": \"$input.path('$.executionArn')\",\n",
    "  \"startDate\": \"$input.path('$.startDate')\"\n",
    "}\n",
    "#else\n",
    "{\n",
    "  \"errorMessage\": \"Step function execution failed.\"\n",
    "}\n",
    "#end\n",
    "'''\n",
    "\n",
    "# Add the integration response\n",
    "response = apigateway_client.put_integration_response(\n",
    "    restApiId=API_ID,\n",
    "    resourceId=RESOURCE_ID,\n",
    "    httpMethod=HTTP_METHOD,\n",
    "    statusCode='200',\n",
    "    selectionPattern='',\n",
    "    responseTemplates={\n",
    "        'application/json': mapping_template\n",
    "    }\n",
    ")\n",
    "\n",
    "print(\"Integration response configured:\", response)"
   ]
  },
  {
   "cell_type": "code",
   "execution_count": null,
   "metadata": {},
   "outputs": [],
   "source": [
    "# Add the method response\n",
    "response = apigateway_client.put_method_response(\n",
    "    restApiId=API_ID,\n",
    "    resourceId=RESOURCE_ID,\n",
    "    httpMethod=HTTP_METHOD,\n",
    "    statusCode='200',\n",
    "    responseModels={\n",
    "        'application/json': 'Empty'   # Sets the content type for the response\n",
    "    }\n",
    ")"
   ]
  },
  {
   "cell_type": "code",
   "execution_count": null,
   "metadata": {},
   "outputs": [],
   "source": [
    "response = apigateway_client.create_deployment(\n",
    "    restApiId=API_ID,\n",
    "    stageName=STAGE_NAME\n",
    ")"
   ]
  },
  {
   "cell_type": "code",
   "execution_count": null,
   "metadata": {},
   "outputs": [],
   "source": [
    "print(f'arn:aws:iam::{ACCOUNT_ID}:role/{API_GATEWAY_ROLE_NAME}')"
   ]
  },
  {
   "cell_type": "markdown",
   "metadata": {},
   "source": [
    "##### Analysis"
   ]
  },
  {
   "cell_type": "code",
   "execution_count": null,
   "metadata": {},
   "outputs": [],
   "source": [
    "response = apigateway_client.get_integration_response(\n",
    "    restApiId=API_ID,\n",
    "    resourceId=RESOURCE_ID,\n",
    "    httpMethod=HTTP_METHOD,\n",
    "    statusCode='200'\n",
    ")\n",
    "\n",
    "print(response)\n",
    "response = apigateway_client.get_method_response(\n",
    "    restApiId=API_ID,\n",
    "    resourceId=RESOURCE_ID,\n",
    "    httpMethod=HTTP_METHOD,\n",
    "    statusCode='200'\n",
    ")\n",
    "print(response)"
   ]
  },
  {
   "cell_type": "code",
   "execution_count": null,
   "metadata": {},
   "outputs": [],
   "source": [
    "apigateway_client.get_rest_api(restApiId=API_ID)"
   ]
  },
  {
   "cell_type": "code",
   "execution_count": null,
   "metadata": {},
   "outputs": [],
   "source": [
    "# apigateway_client.get_integration(restApiId=API_ID,resourceId=RESOURCE_ID,httpMethod='POST')"
   ]
  },
  {
   "cell_type": "code",
   "execution_count": null,
   "metadata": {},
   "outputs": [],
   "source": [
    "# apigateway_client.get_method(restApiId=API_ID,resourceId=RESOURCE_ID,httpMethod=HTTP_METHOD)"
   ]
  },
  {
   "cell_type": "markdown",
   "metadata": {},
   "source": [
    "##### Test API"
   ]
  },
  {
   "cell_type": "markdown",
   "metadata": {},
   "source": [
    "<b style=\"color:red\">Resources created through boto3 api does not pass test!!</b>"
   ]
  },
  {
   "cell_type": "markdown",
   "metadata": {},
   "source": [
    "-   AWS CLI client"
   ]
  },
  {
   "cell_type": "code",
   "execution_count": null,
   "metadata": {},
   "outputs": [],
   "source": [
    "! aws apigateway test-invoke-method \\\n",
    "  --rest-api-id {API_ID} \\\n",
    "  --resource-id {RESOURCE_ID} \\\n",
    "  --http-method POST \\\n",
    "  --body '{\"input\": \"{\\\"name\\\": \\\"Momin\\\", \\\"age\\\": 40}\", \"stateMachineArn\": \"arn:aws:states:us-east-1:381492255899:stateMachine:apigateway_backend_sfn\"}'\n"
   ]
  },
  {
   "cell_type": "markdown",
   "metadata": {},
   "source": [
    "- Python Client"
   ]
  },
  {
   "cell_type": "code",
   "execution_count": null,
   "metadata": {},
   "outputs": [],
   "source": [
    "api_url = f\"https://{API_ID}.execute-api.{REGION}.amazonaws.com\" # \n",
    "post_endpoint = f\"{api_url}/{STAGE_NAME}/{RESOURCE_NAME}\"; post_endpoint\n",
    "print()"
   ]
  },
  {
   "cell_type": "code",
   "execution_count": null,
   "metadata": {},
   "outputs": [],
   "source": [
    "\n",
    "# # AWS credentials\n",
    "# session = boto3.Session()\n",
    "# credentials = session.get_credentials()\n",
    "# auth = AWS4Auth(credentials.access_key, credentials.secret_key, REGION, 'execute-api', session_token=credentials.token)\n",
    "\n",
    "# Define headers\n",
    "headers = {\n",
    "    'Content-Type': 'application/json',\n",
    "    # Uncomment if using API key\n",
    "    # 'x-api-key': 'your-api-key',\n",
    "}\n",
    "\n",
    "# Define the payload to trigger the Step Function\n",
    "payload = {\n",
    "   \"input\": json.dumps({\n",
    "       \"name\": \"Momin\",\n",
    "       \"age\": 40\n",
    "   }),\n",
    "   \"stateMachineArn\": f\"arn:aws:states:{REGION}:{ACCOUNT_ID}:stateMachine:{SMN_NAME}\"\n",
    "}\n",
    "\n",
    "# Send the POST request with SigV4 signing\n",
    "response = requests.post(post_endpoint, headers=headers, data=json.dumps(payload))\n",
    "\n",
    "# # Check the response status and data\n",
    "# if response.status_code == 200:\n",
    "#     print(\"POST request was successful!\")\n",
    "#     print(\"Response data:\", response.json())\n",
    "# else:\n",
    "#     print(f\"Failed with status code: {response.status_code}\")\n",
    "#     print(\"Response:\", response.text)\n",
    "\n",
    "print(response)"
   ]
  },
  {
   "cell_type": "code",
   "execution_count": null,
   "metadata": {},
   "outputs": [],
   "source": [
    "print(f\"arn:aws:states:{REGION}:{ACCOUNT_ID}:stateMachine:{SMN_NAME}\")\n",
    "# print(post_endpoint)\n",
    "{\n",
    "   \"input\": \"{\\\"name\\\": \\\"Momin\\\", \\\"age\\\": 40}\",\n",
    "   \"stateMachineArn\": \"arn:aws:states:us-east-1:381492255899:stateMachine:apigateway_backend_sfn\"\n",
    "}"
   ]
  },
  {
   "cell_type": "markdown",
   "metadata": {},
   "source": [
    "-   Test the API using `curl` command"
   ]
  },
  {
   "cell_type": "code",
   "execution_count": null,
   "metadata": {},
   "outputs": [],
   "source": [
    "!curl -X POST \"https://kz8tizmso1.execute-api.us-east-1.amazonaws.com/dev/postdatatosfn\" \\\n",
    "-H \"Content-Type: application/json\" \\\n",
    "-d '{\"input\": \"{\\\"name\\\": \\\"Momin\\\", \\\"age\\\": 40}\", \"stateMachineArn\": \"arn:aws:states:us-east-1:381492255899:stateMachine:apigateway_backend_sfn\"}'\n"
   ]
  },
  {
   "cell_type": "code",
   "execution_count": null,
   "metadata": {},
   "outputs": [],
   "source": []
  },
  {
   "cell_type": "markdown",
   "metadata": {},
   "source": [
    "#### Delete Resources"
   ]
  },
  {
   "cell_type": "code",
   "execution_count": null,
   "metadata": {},
   "outputs": [],
   "source": [
    "lfn_client.delete_function(FunctionName=LFN_APIGATEWAY_NAME)"
   ]
  },
  {
   "cell_type": "code",
   "execution_count": null,
   "metadata": {},
   "outputs": [],
   "source": [
    "response = apigateway_client.delete_rest_api(restApiId=API_ID)"
   ]
  },
  {
   "cell_type": "code",
   "execution_count": null,
   "metadata": {},
   "outputs": [],
   "source": [
    "sfn_client.delete_state_machine(stateMachineArn=SFN_ARN)"
   ]
  },
  {
   "cell_type": "code",
   "execution_count": null,
   "metadata": {},
   "outputs": [],
   "source": [
    "## DELETE IAM ROLE AT THE END AFTER DELETING ALL OTHER RESOURCES.\n",
    "iam.delete_iam_role(API_GATEWAY_ROLE_NAME)\n",
    "iam.delete_iam_role(LFN_ROLE_NAME)\n",
    "iam.delete_iam_role(SFN_ROLE_NAME)"
   ]
  },
  {
   "cell_type": "code",
   "execution_count": null,
   "metadata": {},
   "outputs": [],
   "source": []
  },
  {
   "cell_type": "markdown",
   "metadata": {},
   "source": [
    "### SQS integration with API Gateway"
   ]
  },
  {
   "cell_type": "markdown",
   "metadata": {},
   "source": [
    "\n",
    "-   [part-1](https://www.youtube.com/watch?v=v8cqDXyHZ4Y&list=PL5KTLzN85O4ISx9guOjbynlhCxB87xmUq&index=21) || `SUCCESS`\n",
    "-   [part-2: Send message to SQS using query string not through Body](https://www.youtube.com/watch?v=eoVv455UEJE&list=PL5KTLzN85O4ISx9guOjbynlhCxB87xmUq&index=22) || `SUCCESS`\n",
    "-   [part-3: Fetch message from SQS](https://www.youtube.com/watch?v=1iZpzCu3ZmE&list=PL5KTLzN85O4ISx9guOjbynlhCxB87xmUq&index=23) || `SUCCESS`"
   ]
  },
  {
   "cell_type": "markdown",
   "metadata": {},
   "source": []
  },
  {
   "cell_type": "markdown",
   "metadata": {},
   "source": [
    "#### SQS"
   ]
  },
  {
   "cell_type": "code",
   "execution_count": null,
   "metadata": {},
   "outputs": [],
   "source": [
    "QUE_NAME = 'lambda_integrated_sqs'\n",
    "attributes = {\n",
    "    'DelaySeconds': '0',\n",
    "    'MaximumMessageSize': '262144',  # 256 KB\n",
    "    'MessageRetentionPeriod': '345600',  # 4 days\n",
    "    'ReceiveMessageWaitTimeSeconds': '0',\n",
    "    'VisibilityTimeout': '30', # 30 secoonds\n",
    "}"
   ]
  },
  {
   "cell_type": "code",
   "execution_count": null,
   "metadata": {},
   "outputs": [],
   "source": [
    "# Create the SQS queue with the specified attributes\n",
    "que_url = sqs_client.create_queue(\n",
    "    QueueName=QUE_NAME,\n",
    "    Attributes=attributes\n",
    ")"
   ]
  },
  {
   "cell_type": "code",
   "execution_count": null,
   "metadata": {},
   "outputs": [],
   "source": [
    "# que_url = sqs_client.get_queue_url(QueueName=QUE_NAME)['QueueUrl']"
   ]
  },
  {
   "cell_type": "code",
   "execution_count": null,
   "metadata": {},
   "outputs": [],
   "source": [
    "# message_body = 'This is a SQS test message'\n",
    "# message_attributes = {}\n",
    "# response = sqs_client.send_message(\n",
    "#             QueueUrl=que_url,\n",
    "#             MessageBody=message_body,\n",
    "#             MessageAttributes=message_attributes or {}\n",
    "#         )\n",
    "# message_id = response['MessageId']"
   ]
  },
  {
   "cell_type": "code",
   "execution_count": null,
   "metadata": {},
   "outputs": [],
   "source": [
    "response = sqs_client.receive_message(\n",
    "            QueueUrl=que_url,\n",
    "            MaxNumberOfMessages=10,\n",
    "            WaitTimeSeconds=10\n",
    "        )\n",
    "messages = response.get('Messages', [])\n",
    "\n",
    "len(messages)"
   ]
  },
  {
   "cell_type": "code",
   "execution_count": null,
   "metadata": {},
   "outputs": [],
   "source": [
    "# Delete messages\n",
    "for message in messages:\n",
    "    print(message['Body'])\n",
    "    # sqs_client.delete_message(\n",
    "    #     QueueUrl=que_url,\n",
    "    #     ReceiptHandle=message['ReceiptHandle']\n",
    "    # )"
   ]
  },
  {
   "cell_type": "markdown",
   "metadata": {},
   "source": [
    "#### IAM Role"
   ]
  },
  {
   "cell_type": "code",
   "execution_count": null,
   "metadata": {},
   "outputs": [],
   "source": [
    "API_GATEWAY_ROLE_NAME = \"apigateway_sqs_role\""
   ]
  },
  {
   "cell_type": "code",
   "execution_count": null,
   "metadata": {},
   "outputs": [],
   "source": [
    "assume_role_policy_document = {\n",
    "    \"Version\": \"2012-10-17\",\n",
    "    \"Statement\": [\n",
    "        {\n",
    "            \"Sid\": \"\",\n",
    "            \"Effect\": \"Allow\",\n",
    "            \"Principal\": {\n",
    "                \"Service\": [\"apigateway.amazonaws.com\"]\n",
    "            },\n",
    "            \"Action\": [\"sts:AssumeRole\"]\n",
    "        }\n",
    "    ]\n",
    "}\n",
    "\n",
    "API_GATEWAY_ROLE_ARN =  iam_client.create_role(\n",
    "    RoleName=API_GATEWAY_ROLE_NAME,\n",
    "    AssumeRolePolicyDocument=json.dumps(assume_role_policy_document),\n",
    "    Description='Api Gateway Role'\n",
    ")['Role']['Arn']"
   ]
  },
  {
   "cell_type": "code",
   "execution_count": null,
   "metadata": {},
   "outputs": [],
   "source": [
    "policy_arns = [\n",
    "    'arn:aws:iam::aws:policy/service-role/AmazonAPIGatewayPushToCloudWatchLogs',\n",
    "    # 'arn:aws:iam::aws:policy/CloudWatchFullAccess'\n",
    "]\n",
    "\n",
    "[iam_client.attach_role_policy(RoleName=API_GATEWAY_ROLE_NAME, PolicyArn=arn) for arn in policy_arns]"
   ]
  },
  {
   "cell_type": "code",
   "execution_count": null,
   "metadata": {},
   "outputs": [],
   "source": [
    "sqs_send_message_policy_document = {\n",
    "    \"Version\": \"2012-10-17\",\n",
    "    \"Statement\": [\n",
    "        {\n",
    "            \"Sid\": \"\",\n",
    "            \"Effect\": \"Allow\",\n",
    "            \"Action\": [\n",
    "                \"sqs:SendMessage\",\n",
    "                \"sqs:ReceiveMessage\",\n",
    "                \"sqs:GetQueueAttributes\"\n",
    "            ],\n",
    "            \"Resource\": f\"arn:aws:sqs:{REGION}:{ACCOUNT_ID}:{QUE_NAME}\",\n",
    "        }\n",
    "    ]\n",
    "}\n",
    "\n",
    "iam_client.put_role_policy(\n",
    "    RoleName=API_GATEWAY_ROLE_NAME,\n",
    "    PolicyName=\"sqs_send_Receive_message_from_apigateway\",\n",
    "    PolicyDocument=json.dumps(sqs_send_message_policy_document)\n",
    ")"
   ]
  },
  {
   "cell_type": "code",
   "execution_count": null,
   "metadata": {},
   "outputs": [],
   "source": []
  },
  {
   "cell_type": "markdown",
   "metadata": {},
   "source": [
    "#### API Gateway"
   ]
  },
  {
   "cell_type": "code",
   "execution_count": null,
   "metadata": {},
   "outputs": [],
   "source": [
    "API_NAME = 'sqs_api_endpoint'\n",
    "RESOURCE_NAME = \"sqs\"\n",
    "HTTP_METHOD = 'POST'\n",
    "STAGE_NAME = 'dev'\n",
    "DESCRIPTION = 'A SQS intergrated api gateway endpoint'\n",
    "VERSION = '1.0'\n",
    "ENDPOINT_CONFIGURATION = {'types': ['REGIONAL']}"
   ]
  },
  {
   "cell_type": "code",
   "execution_count": null,
   "metadata": {},
   "outputs": [],
   "source": [
    "params = {\n",
    "    'name': API_NAME,\n",
    "    'description': DESCRIPTION,\n",
    "    'version': VERSION,\n",
    "    'endpointConfiguration': ENDPOINT_CONFIGURATION,\n",
    "    'disableExecuteApiEndpoint': False,\n",
    "    'apiKeySource': 'HEADER' #|'AUTHORIZER',\n",
    "    # 'policy': 'string',\n",
    "    # 'tags': None # {'string': 'string'},\n",
    "}"
   ]
  },
  {
   "cell_type": "code",
   "execution_count": null,
   "metadata": {},
   "outputs": [],
   "source": [
    "API_ID = apigateway_client.create_rest_api(**params)['id']\n",
    "# print(API_ID)"
   ]
  },
  {
   "cell_type": "code",
   "execution_count": null,
   "metadata": {},
   "outputs": [],
   "source": [
    "# Get the root resource ID\n",
    "resources = apigateway_client.get_resources(restApiId=API_ID)\n",
    "print(resources['items']) # Output: [{'id': 'h8kjhm9x8e', 'path': '/'}]"
   ]
  },
  {
   "cell_type": "code",
   "execution_count": null,
   "metadata": {},
   "outputs": [],
   "source": [
    "resource_root_id = next(item['id'] for item in resources['items'] if item['path'] == '/')"
   ]
  },
  {
   "cell_type": "code",
   "execution_count": null,
   "metadata": {},
   "outputs": [],
   "source": [
    "RESOURCE_ID = apigateway_client.create_resource(\n",
    "    restApiId=API_ID,\n",
    "    parentId=resource_root_id,\n",
    "    pathPart=RESOURCE_NAME \n",
    ")['id']"
   ]
  },
  {
   "cell_type": "markdown",
   "metadata": {},
   "source": [
    "##### Part 1: Send Message a `Message-Body` with `HTTP Headers`"
   ]
  },
  {
   "cell_type": "code",
   "execution_count": null,
   "metadata": {},
   "outputs": [],
   "source": [
    "response = apigateway_client.put_method(\n",
    "    restApiId=API_ID,\n",
    "    resourceId=RESOURCE_ID,\n",
    "    httpMethod=HTTP_METHOD,\n",
    "    authorizationType='NONE',\n",
    "    apiKeyRequired=False,\n",
    "    requestParameters= {}\n",
    ")"
   ]
  },
  {
   "cell_type": "code",
   "execution_count": null,
   "metadata": {},
   "outputs": [],
   "source": [
    "apigateway_client.put_integration(\n",
    "    restApiId=API_ID,\n",
    "    resourceId=RESOURCE_ID,\n",
    "    httpMethod='POST',\n",
    "    type='AWS',\n",
    "    integrationHttpMethod='POST',\n",
    "    uri=f'arn:aws:apigateway:{REGION}:sqs:path/{ACCOUNT_ID}/{QUE_NAME}', ## Only for Action-Type = \"Use path override\"\n",
    "    # uri=f'arn:aws:apigateway:{REGION}:sqs:action/SendMessage',         ## Only for Action-Type = \"Use action Name\"\n",
    "    credentials=f'arn:aws:iam::{ACCOUNT_ID}:role/{API_GATEWAY_ROLE_NAME}',\n",
    "\n",
    "    requestParameters={\n",
    "        'integration.request.header.Content-Type': \"'application/x-www-form-urlencoded'\", ## set value for 'HTTP Headers'\n",
    "        # Since you are specifying the queue ARN directly in the integration uri, you don't need to add QueueUrl as a parameter.\n",
    "        # 'integration.request.querystring.QueueUrl': f\"'{que_url}'\"  # Set QueueUrl\n",
    "    },\n",
    "    requestTemplates={\n",
    "        'application/json': \"Action=SendMessage&MessageBody=$input.body\" # set value for 'Mapping Templates'\n",
    "    },\n",
    "    passthroughBehavior='NEVER',\n",
    ")\n"
   ]
  },
  {
   "cell_type": "code",
   "execution_count": null,
   "metadata": {},
   "outputs": [],
   "source": [
    "# response = apigateway_client.delete_integration(\n",
    "#     restApiId=API_ID,\n",
    "#     resourceId=RESOURCE_ID,\n",
    "#     httpMethod=HTTP_METHOD\n",
    "# )"
   ]
  },
  {
   "cell_type": "code",
   "execution_count": null,
   "metadata": {},
   "outputs": [],
   "source": [
    "mapping_template = \"\"\"\n",
    "#set($inputRoot = $input.path('$'))\n",
    "{\n",
    "    \"MessageId\": \"$inputRoot.SendMessageResponse.SendMessageResult.MessageId\",\n",
    "    \"MD5OfMessageBody\": \"$inputRoot.SendMessageResponse.SendMessageResult.MD5OfMessageBody\"\n",
    "}\n",
    "\"\"\"\n",
    "\n",
    "# Add the integration response\n",
    "apigateway_client.put_integration_response(\n",
    "    restApiId=API_ID,\n",
    "    resourceId=RESOURCE_ID,\n",
    "    httpMethod=HTTP_METHOD,\n",
    "    statusCode='200',\n",
    "    selectionPattern='',\n",
    "    responseTemplates={\n",
    "        'application/json': mapping_template\n",
    "    }\n",
    ")\n",
    "\n",
    "# print(\"Integration response configured:\", response)"
   ]
  },
  {
   "cell_type": "code",
   "execution_count": null,
   "metadata": {},
   "outputs": [],
   "source": [
    "# response = apigateway_client.delete_integration_response(\n",
    "#     restApiId=API_ID,\n",
    "#     resourceId=RESOURCE_ID,\n",
    "#     httpMethod=HTTP_METHOD,\n",
    "#     statusCode='200',\n",
    "# )"
   ]
  },
  {
   "cell_type": "code",
   "execution_count": null,
   "metadata": {},
   "outputs": [],
   "source": [
    "# Add the method response\n",
    "response = apigateway_client.put_method_response(\n",
    "    restApiId=API_ID,\n",
    "    resourceId=RESOURCE_ID,\n",
    "    httpMethod=HTTP_METHOD,\n",
    "    statusCode='200',\n",
    "    responseModels={\n",
    "        'application/json': 'Empty'   # Sets the content type for the response\n",
    "    }\n",
    ")"
   ]
  },
  {
   "cell_type": "code",
   "execution_count": null,
   "metadata": {},
   "outputs": [],
   "source": []
  },
  {
   "cell_type": "code",
   "execution_count": null,
   "metadata": {},
   "outputs": [],
   "source": [
    "response = apigateway_client.create_deployment(\n",
    "    restApiId=API_ID,\n",
    "    stageName=STAGE_NAME\n",
    ")"
   ]
  },
  {
   "cell_type": "code",
   "execution_count": null,
   "metadata": {},
   "outputs": [],
   "source": [
    "print(f'arn:aws:iam::{ACCOUNT_ID}:role/{API_GATEWAY_ROLE_NAME}')"
   ]
  },
  {
   "cell_type": "markdown",
   "metadata": {},
   "source": [
    "##### Part 2: Send Message as `Query String Parameter`"
   ]
  },
  {
   "cell_type": "code",
   "execution_count": null,
   "metadata": {},
   "outputs": [],
   "source": [
    "API_ID=\"h2jhdnm2gl\"\n",
    "RESOURCE_ID=\"9yiik7\""
   ]
  },
  {
   "cell_type": "code",
   "execution_count": null,
   "metadata": {},
   "outputs": [],
   "source": [
    "apigateway_client.put_method(\n",
    "    restApiId=API_ID,\n",
    "    resourceId=RESOURCE_ID,\n",
    "    httpMethod=HTTP_METHOD,\n",
    "    authorizationType='NONE',\n",
    "    apiKeyRequired=False,\n",
    "    requestParameters={\n",
    "        \"method.request.querystring.MessageBody\": True  # method.request.querystring.<parameter-name>: Replace <parameter-name> with the actual query parameter you expect. The value (True or False) indicates whether the parameter is required.\n",
    "    }\n",
    ")"
   ]
  },
  {
   "cell_type": "code",
   "execution_count": null,
   "metadata": {},
   "outputs": [],
   "source": [
    "# apigateway_client.delete_method(\n",
    "#     restApiId=API_ID,\n",
    "#     resourceId=RESOURCE_ID,\n",
    "#     httpMethod=HTTP_METHOD\n",
    "# )"
   ]
  },
  {
   "cell_type": "code",
   "execution_count": null,
   "metadata": {},
   "outputs": [],
   "source": [
    "apigateway_client.put_integration(\n",
    "    restApiId=API_ID,\n",
    "    resourceId=RESOURCE_ID,\n",
    "    httpMethod='POST',\n",
    "    type='AWS',\n",
    "    integrationHttpMethod='POST',\n",
    "    uri=f'arn:aws:apigateway:{REGION}:sqs:path/{ACCOUNT_ID}/{QUE_NAME}',   # For path override\n",
    "    # uri=f'arn:aws:apigateway:{REGION}:sqs:action/SendMessage',           # For action name\n",
    "    \n",
    "    credentials=f'arn:aws:iam::{ACCOUNT_ID}:role/{API_GATEWAY_ROLE_NAME}',\n",
    "\n",
    "    requestParameters={\n",
    "        \"integration.request.querystring.Action\": \"'SendMessage'\",  # Literal value\n",
    "        \"integration.request.querystring.MessageBody\": \"method.request.querystring.MessageBody\"\n",
    "    },\n",
    "    \n",
    "    requestTemplates={\n",
    "        \"application/x-www-form-urlencoded\": (\n",
    "            \"Action=SendMessage&\"\n",
    "            \"MessageBody=$input.params('MessageBody')\"\n",
    "        )\n",
    "    },\n",
    "\n",
    "    passthroughBehavior='WHEN_NO_MATCH',  # Use WHEN_NO_MATCH to avoid 415 error if template doesn't match\n",
    ")"
   ]
  },
  {
   "cell_type": "code",
   "execution_count": null,
   "metadata": {},
   "outputs": [],
   "source": [
    "# apigateway_client.delete_integration(\n",
    "#     restApiId=API_ID,\n",
    "#     resourceId=RESOURCE_ID,\n",
    "#     httpMethod=HTTP_METHOD\n",
    "# )"
   ]
  },
  {
   "cell_type": "code",
   "execution_count": null,
   "metadata": {},
   "outputs": [],
   "source": [
    "# Add Method Response for HTTP 200 status code\n",
    "apigateway_client.put_method_response(\n",
    "    restApiId=API_ID,\n",
    "    resourceId=RESOURCE_ID,\n",
    "    httpMethod='POST',\n",
    "    statusCode='200',\n",
    "    responseParameters={\n",
    "        \"method.response.header.Content-Type\": False\n",
    "    },\n",
    "    responseModels={\n",
    "        \"application/json\": \"Empty\"\n",
    "    }\n",
    ")\n",
    "\n",
    "# Add Integration Response to handle SQS's HTTP 200 response\n",
    "apigateway_client.put_integration_response(\n",
    "    restApiId=API_ID,\n",
    "    resourceId=RESOURCE_ID,\n",
    "    httpMethod='POST',\n",
    "    statusCode='200',\n",
    "    selectionPattern='',\n",
    "    responseParameters={\n",
    "        \"method.response.header.Content-Type\": \"integration.response.header.Content-Type\"\n",
    "    },\n",
    "    responseTemplates={\n",
    "        \"application/json\": \"\"\n",
    "    }\n",
    ")\n"
   ]
  },
  {
   "cell_type": "code",
   "execution_count": null,
   "metadata": {},
   "outputs": [],
   "source": [
    "# response = apigateway_client.delete_integration_response(\n",
    "#     restApiId=API_ID,\n",
    "#     resourceId=RESOURCE_ID,\n",
    "#     httpMethod=HTTP_METHOD,\n",
    "#     statusCode='200',\n",
    "# )"
   ]
  },
  {
   "cell_type": "code",
   "execution_count": null,
   "metadata": {},
   "outputs": [],
   "source": [
    "response = apigateway_client.create_deployment(\n",
    "    restApiId=API_ID,\n",
    "    stageName=STAGE_NAME\n",
    ")"
   ]
  },
  {
   "cell_type": "markdown",
   "metadata": {},
   "source": [
    "##### Part 3: Fetch Message from SQS"
   ]
  },
  {
   "cell_type": "code",
   "execution_count": null,
   "metadata": {},
   "outputs": [],
   "source": [
    "# API_ID=\"83y4nly4ag\"\n",
    "# RESOURCE_ID=\"dkpp7wkarg\"\n",
    "HTTP_METHOD = \"GET\"\n",
    "INTEGRATION_HTTP_METHOD = \"GET\""
   ]
  },
  {
   "cell_type": "code",
   "execution_count": null,
   "metadata": {},
   "outputs": [],
   "source": [
    "apigateway_client.put_method(\n",
    "    restApiId=API_ID,\n",
    "    resourceId=RESOURCE_ID,\n",
    "    httpMethod=\"GET\",\n",
    "    authorizationType='NONE',\n",
    "    apiKeyRequired=False,\n",
    "    requestParameters={\n",
    "        \"method.request.querystring.MessageBody\": True  # method.request.querystring.<parameter-name>: Replace <parameter-name> with the actual query parameter you expect. The value (True or False) indicates whether the parameter is required.\n",
    "    }\n",
    ")"
   ]
  },
  {
   "cell_type": "code",
   "execution_count": null,
   "metadata": {},
   "outputs": [],
   "source": [
    "# apigateway_client.delete_method(\n",
    "#     restApiId=API_ID,\n",
    "#     resourceId=RESOURCE_ID,\n",
    "#     httpMethod=GET_HTTP_METHOD\n",
    "# )"
   ]
  },
  {
   "cell_type": "code",
   "execution_count": null,
   "metadata": {},
   "outputs": [],
   "source": [
    "apigateway_client.put_integration(\n",
    "    restApiId=API_ID,\n",
    "    resourceId=RESOURCE_ID,\n",
    "    httpMethod=\"GET\",\n",
    "    type='AWS',\n",
    "    integrationHttpMethod=\"GET\",\n",
    "    uri=f'arn:aws:apigateway:{REGION}:sqs:path/{ACCOUNT_ID}/{QUE_NAME}',   # For path override\n",
    "    # uri=f'arn:aws:apigateway:{REGION}:sqs:action/SendMessage',               # For action name\n",
    "    \n",
    "    credentials=f'arn:aws:iam::{ACCOUNT_ID}:role/{API_GATEWAY_ROLE_NAME}',\n",
    "\n",
    "    requestParameters={\n",
    "        \"integration.request.querystring.Action\": \"'ReceiveMessage'\",  # Literal value\n",
    "        # \"integration.request.querystring.MessageBody\": \"method.request.querystring.MessageBody\"\n",
    "    },\n",
    "    passthroughBehavior='WHEN_NO_MATCH',  # Use WHEN_NO_MATCH to avoid 415 error if template doesn't match\n",
    ")"
   ]
  },
  {
   "cell_type": "code",
   "execution_count": null,
   "metadata": {},
   "outputs": [],
   "source": [
    "# apigateway_client.delete_integration(\n",
    "#     restApiId=API_ID,\n",
    "#     resourceId=RESOURCE_ID,\n",
    "#     httpMethod=\"GET\"\n",
    "# )"
   ]
  },
  {
   "cell_type": "code",
   "execution_count": null,
   "metadata": {},
   "outputs": [],
   "source": [
    "# Add Method Response for HTTP 200 status code\n",
    "apigateway_client.put_method_response(\n",
    "    restApiId=API_ID,\n",
    "    resourceId=RESOURCE_ID,\n",
    "    httpMethod=\"GET\",\n",
    "    statusCode='200',\n",
    "    responseParameters={\n",
    "        \"method.response.header.Content-Type\": False  # Not required, but can include\n",
    "    },\n",
    "    responseModels={\n",
    "        \"application/json\": \"Empty\"  # No specific model required; pass through SQS response\n",
    "    }\n",
    ")\n"
   ]
  },
  {
   "cell_type": "code",
   "execution_count": null,
   "metadata": {},
   "outputs": [],
   "source": [
    "# Add Integration Response to handle SQS's HTTP 200 response\n",
    "apigateway_client.put_integration_response(\n",
    "    restApiId=API_ID,\n",
    "    resourceId=RESOURCE_ID,\n",
    "    httpMethod=\"GET\",\n",
    "    statusCode='200',\n",
    "    selectionPattern='',\n",
    "    responseParameters={\n",
    "        \"method.response.header.Content-Type\": \"integration.response.header.Content-Type\"\n",
    "    },\n",
    "    responseTemplates={\n",
    "        # Define a response template to format the SQS response as JSON\n",
    "        \"application/json\": \"\"\"\n",
    "            #set($inputRoot = $input.path('$'))\n",
    "            {\n",
    "                \"Messages\": $inputRoot.Messages\n",
    "            }\n",
    "        \"\"\"\n",
    "    }\n",
    ")\n"
   ]
  },
  {
   "cell_type": "code",
   "execution_count": null,
   "metadata": {},
   "outputs": [],
   "source": [
    "# response = apigateway_client.delete_integration_response(\n",
    "#     restApiId=API_ID,\n",
    "#     resourceId=RESOURCE_ID,\n",
    "#     httpMethod=HTTP_METHOD,\n",
    "#     statusCode='200',\n",
    "# )"
   ]
  },
  {
   "cell_type": "code",
   "execution_count": null,
   "metadata": {},
   "outputs": [],
   "source": [
    "apigateway_client.create_deployment(\n",
    "    restApiId=API_ID,\n",
    "    stageName=STAGE_NAME\n",
    ")"
   ]
  },
  {
   "cell_type": "markdown",
   "metadata": {},
   "source": [
    "##### Analysis"
   ]
  },
  {
   "cell_type": "code",
   "execution_count": null,
   "metadata": {},
   "outputs": [],
   "source": [
    "apigateway_client.get_integration_response(\n",
    "    restApiId=API_ID,\n",
    "    resourceId=RESOURCE_ID,\n",
    "    httpMethod=HTTP_METHOD,\n",
    "    statusCode='200'\n",
    ")"
   ]
  },
  {
   "cell_type": "code",
   "execution_count": null,
   "metadata": {},
   "outputs": [],
   "source": [
    "apigateway_client.get_method_response(\n",
    "    restApiId=API_ID,\n",
    "    resourceId=RESOURCE_ID,\n",
    "    httpMethod=HTTP_METHOD,\n",
    "    statusCode='200'\n",
    ")"
   ]
  },
  {
   "cell_type": "code",
   "execution_count": null,
   "metadata": {},
   "outputs": [],
   "source": [
    "apigateway_client.get_rest_api(restApiId=API_ID)"
   ]
  },
  {
   "cell_type": "code",
   "execution_count": null,
   "metadata": {},
   "outputs": [],
   "source": [
    "apigateway_client.get_integration(restApiId=API_ID,resourceId=RESOURCE_ID,httpMethod='POST')"
   ]
  },
  {
   "cell_type": "code",
   "execution_count": null,
   "metadata": {},
   "outputs": [],
   "source": [
    "# apigateway_client.get_method(restApiId=API_ID,resourceId=RESOURCE_ID,httpMethod=HTTP_METHOD)"
   ]
  },
  {
   "cell_type": "markdown",
   "metadata": {},
   "source": [
    "##### Test API"
   ]
  },
  {
   "cell_type": "code",
   "execution_count": null,
   "metadata": {},
   "outputs": [],
   "source": [
    "api_url = f\"https://{API_ID}.execute-api.{REGION}.amazonaws.com\" # \n",
    "API_ENDPOINT_URL = f\"{api_url}/{STAGE_NAME}/{RESOURCE_NAME}\"\n",
    "print(API_ENDPOINT_URL)"
   ]
  },
  {
   "cell_type": "markdown",
   "metadata": {},
   "source": [
    "###### Part 1"
   ]
  },
  {
   "cell_type": "code",
   "execution_count": null,
   "metadata": {},
   "outputs": [],
   "source": [
    "import requests\n",
    "import json\n",
    "\n",
    "# Replace this with your actual API Gateway endpoint\n",
    "# API_ENDPOINT_URL = \"https://<api_id>.execute-api.<region>.amazonaws.com/<stage>/<resource>\"\n",
    "\n",
    "# Sample data to send in the request body\n",
    "data = {\n",
    "    \"input\": json.dumps({\n",
    "        \"name\": \"Momin\",\n",
    "        \"age\": 40\n",
    "    })\n",
    "}\n",
    "\n",
    "# Headers (add an API key or other authentication if needed)\n",
    "headers = {\n",
    "    \"Content-Type\": \"application/json\"\n",
    "}\n",
    "\n",
    "try:\n",
    "    # Sending a POST request\n",
    "    response = requests.post(API_ENDPOINT_URL, headers=headers, data=json.dumps(data))\n",
    "\n",
    "    # Check if the request was successful\n",
    "    if response.status_code == 200:\n",
    "        print(\"Request succeeded:\", response.json())\n",
    "    else:\n",
    "        print(\"Request failed with status:\", response.status_code)\n",
    "        print(\"Response:\", response.text)\n",
    "\n",
    "except requests.exceptions.RequestException as e:\n",
    "    print(\"An error occurred:\", e)\n"
   ]
  },
  {
   "cell_type": "markdown",
   "metadata": {},
   "source": [
    "###### Part 2:"
   ]
  },
  {
   "cell_type": "code",
   "execution_count": null,
   "metadata": {},
   "outputs": [],
   "source": [
    "import requests\n",
    "\n",
    "# Replace these values with your actual API details\n",
    "api_url = \"https://<api-id>.execute-api.<region>.amazonaws.com/<stage>/send-message\"\n",
    "message_body = \"Hello, this is a test message for SQS via API Gateway!\"\n",
    "\n",
    "# Send a POST request with the query string parameter `MessageBody`\n",
    "response = requests.post(API_ENDPOINT_URL,params={\"MessageBody\": message_body})\n",
    "\n",
    "# Output the response\n",
    "print(f\"Status Code: {response.status_code}\")\n",
    "print(\"Response Body:\", response.json() if response.headers[\"Content-Type\"] == \"application/json\" else response.text)\n"
   ]
  },
  {
   "cell_type": "markdown",
   "metadata": {},
   "source": [
    "###### Part 3:"
   ]
  },
  {
   "cell_type": "code",
   "execution_count": null,
   "metadata": {},
   "outputs": [],
   "source": [
    "# Define the query parameters, if required\n",
    "params = {\n",
    "    \"MessageBody\": \"SampleMessage\"  # Include this only if your API expects a query parameter\n",
    "}\n",
    "\n",
    "# Send the GET request\n",
    "response = requests.get(API_ENDPOINT_URL, params=params)\n",
    "print(response)\n",
    "\n",
    "# # Output the response\n",
    "# print(f\"Status Code: {response.status_code}\")\n",
    "print(\"Response Headers:\", response.headers)\n",
    "# print(\"Response Body:\", response.json() if response.headers.get(\"Content-Type\") == \"application/json\" else response.text)"
   ]
  },
  {
   "cell_type": "markdown",
   "metadata": {},
   "source": [
    "#### Delete Resources"
   ]
  },
  {
   "cell_type": "code",
   "execution_count": null,
   "metadata": {},
   "outputs": [],
   "source": [
    "sqs_client.delete_queue(QueueUrl=que_url)"
   ]
  },
  {
   "cell_type": "code",
   "execution_count": null,
   "metadata": {},
   "outputs": [],
   "source": [
    "apigateway_client.delete_rest_api(restApiId=API_ID)"
   ]
  },
  {
   "cell_type": "code",
   "execution_count": null,
   "metadata": {},
   "outputs": [],
   "source": [
    "# Remove all inline policies\n",
    "inline_policies = iam_client.list_role_policies(RoleName=API_GATEWAY_ROLE_NAME)['PolicyNames']\n",
    "for policy_name in inline_policies:\n",
    "    iam_client.delete_role_policy(RoleName=API_GATEWAY_ROLE_NAME, PolicyName=policy_name)\n",
    "    print(f\"Deleted inline policy {policy_name} from role {API_GATEWAY_ROLE_NAME}\")"
   ]
  },
  {
   "cell_type": "code",
   "execution_count": null,
   "metadata": {},
   "outputs": [],
   "source": [
    "iam.delete_iam_role(API_GATEWAY_ROLE_NAME)"
   ]
  },
  {
   "cell_type": "code",
   "execution_count": null,
   "metadata": {},
   "outputs": [],
   "source": []
  },
  {
   "cell_type": "markdown",
   "metadata": {},
   "source": [
    "\n",
    "### [AWS Tutorials - Deploy Simple Web Applications in Lambda](https://www.youtube.com/watch?v=a6ltARyR9J8)"
   ]
  },
  {
   "cell_type": "markdown",
   "metadata": {},
   "source": [
    "-   [lab](https://aws-dojo.com/ws47/labs/)"
   ]
  },
  {
   "cell_type": "markdown",
   "metadata": {},
   "source": [
    "<div style=\"text-align:center\"><img src=\"./web_app_with_lfn/images/api_lfn_webapp1.png\" height=\"260p\" height=\"200p\"></img</dev>\n",
    "<div style=\"text-align:center\"><img src=\"./web_app_with_lfn/images/api_lfn_webapp2.png\" height=\"260p\" height=\"200p\"></img</dev>"
   ]
  },
  {
   "cell_type": "markdown",
   "metadata": {},
   "source": [
    "- Only Prototype has been created"
   ]
  },
  {
   "cell_type": "markdown",
   "metadata": {},
   "source": [
    "#### Create IAM Role"
   ]
  },
  {
   "cell_type": "code",
   "execution_count": null,
   "metadata": {},
   "outputs": [],
   "source": [
    "LFN_ROLE_NAME = 'lfn-pipeline-role'"
   ]
  },
  {
   "cell_type": "code",
   "execution_count": null,
   "metadata": {},
   "outputs": [],
   "source": [
    "policy_arns = [\n",
    "    # \"arn:aws:iam::aws:policy/service-role/AWSGlueServiceRole\",\n",
    "    # \"arn:aws:iam::aws:policy/CloudWatchFullAccess\",\n",
    "    # \"arn:aws:iam::aws:policy/AmazonS3FullAccess\",\n",
    "    # \"arn:aws:iam::aws:policy/AdministratorAccess\",\n",
    "    \"arn:aws:iam::aws:policy/PowerUserAccess\"\n",
    "]"
   ]
  },
  {
   "cell_type": "code",
   "execution_count": null,
   "metadata": {},
   "outputs": [],
   "source": [
    "assume_role_policy_document = {\n",
    "    \"Version\": \"2012-10-17\",\n",
    "    \"Statement\": [\n",
    "        {\n",
    "            \"Effect\": \"Allow\",\n",
    "            \"Principal\": {\n",
    "                \"Service\": \"lambda.amazonaws.com\"\n",
    "            },\n",
    "            \"Action\": \"sts:AssumeRole\"\n",
    "        }\n",
    "    ]\n",
    "}\n",
    "\n",
    "# Create the IAM role with the assume role policy document\n",
    "LFN_ROLE_ARN = iam_client.create_role(\n",
    "    RoleName=LFN_ROLE_NAME,\n",
    "    AssumeRolePolicyDocument=json.dumps(assume_role_policy_document)\n",
    ")['Role']['Arn']"
   ]
  },
  {
   "cell_type": "code",
   "execution_count": null,
   "metadata": {},
   "outputs": [],
   "source": [
    "[iam_client.attach_role_policy(RoleName=LFN_ROLE_NAME, PolicyArn=parn) for parn in policy_arns]"
   ]
  },
  {
   "cell_type": "markdown",
   "metadata": {},
   "source": [
    "#### Create DynamoDB Table"
   ]
  },
  {
   "cell_type": "code",
   "execution_count": null,
   "metadata": {},
   "outputs": [],
   "source": [
    "dynamodb_client.create_table(\n",
    "            TableName=table_name,\n",
    "            KeySchema=key_schema,\n",
    "            AttributeDefinitions=attribute_definitions,\n",
    "            ProvisionedThroughput={\n",
    "                'ReadCapacityUnits': read_capacity_units,\n",
    "                'WriteCapacityUnits': write_capacity_units\n",
    "            }\n",
    "        )"
   ]
  },
  {
   "cell_type": "markdown",
   "metadata": {},
   "source": [
    "#### Create Lambda Function"
   ]
  },
  {
   "cell_type": "code",
   "execution_count": null,
   "metadata": {},
   "outputs": [],
   "source": []
  },
  {
   "cell_type": "code",
   "execution_count": null,
   "metadata": {},
   "outputs": [],
   "source": [
    "LFN_NAME = \"httx-web-handler\"\n",
    "zip_file = \"./lambdas/lfn1/package.zip\"  # Change this to the actual zip file path\n",
    "\n",
    "# Create Lambda function\n",
    "with open(zip_file, 'rb') as f:\n",
    "    zipped_code = f.read()\n",
    "\n",
    "LFN_CRAWLER_ARN = lambda_client.create_function(\n",
    "    FunctionName=LFN_NAME,\n",
    "    Runtime='python3.8',\n",
    "    Role=LFN_ROLE_ARN,\n",
    "    Handler='httx-web-handler.lambda_handler',\n",
    "    Code={'ZipFile': zipped_code},\n",
    "    Timeout=120,\n",
    "    Environment={\n",
    "        'Variables': {\n",
    "            'foo': 'BAR'\n",
    "        }\n",
    "    }\n",
    ")['FunctionArn']"
   ]
  },
  {
   "cell_type": "code",
   "execution_count": null,
   "metadata": {},
   "outputs": [],
   "source": []
  },
  {
   "cell_type": "markdown",
   "metadata": {},
   "source": [
    "#### API Gateway"
   ]
  },
  {
   "cell_type": "code",
   "execution_count": null,
   "metadata": {},
   "outputs": [],
   "source": [
    "API_NAME = 'sqs_api_endpoint'\n",
    "RESOURCE_NAME = \"sqs\"\n",
    "HTTP_METHOD = 'POST'\n",
    "STAGE_NAME = 'dev'\n",
    "DESCRIPTION = 'A SQS intergrated api gateway endpoint'\n",
    "VERSION = '1.0'\n",
    "ENDPOINT_CONFIGURATION = {'types': ['REGIONAL']}"
   ]
  },
  {
   "cell_type": "code",
   "execution_count": null,
   "metadata": {},
   "outputs": [],
   "source": [
    "params = {\n",
    "    'name': API_NAME,\n",
    "    'description': DESCRIPTION,\n",
    "    'version': VERSION,\n",
    "    'endpointConfiguration': ENDPOINT_CONFIGURATION,\n",
    "    'disableExecuteApiEndpoint': False,\n",
    "    'apiKeySource': 'HEADER' #|'AUTHORIZER',\n",
    "    # 'policy': 'string',\n",
    "    # 'tags': None # {'string': 'string'},\n",
    "}"
   ]
  },
  {
   "cell_type": "code",
   "execution_count": null,
   "metadata": {},
   "outputs": [],
   "source": [
    "API_ID = apigateway_client.create_rest_api(**params)['id']\n",
    "# print(API_ID)"
   ]
  },
  {
   "cell_type": "code",
   "execution_count": null,
   "metadata": {},
   "outputs": [],
   "source": [
    "# Get the root resource ID\n",
    "resources = apigateway_client.get_resources(restApiId=API_ID)\n",
    "print(resources['items']) # Output: [{'id': 'h8kjhm9x8e', 'path': '/'}]"
   ]
  },
  {
   "cell_type": "code",
   "execution_count": null,
   "metadata": {},
   "outputs": [],
   "source": [
    "resource_root_id = next(item['id'] for item in resources['items'] if item['path'] == '/')"
   ]
  },
  {
   "cell_type": "code",
   "execution_count": null,
   "metadata": {},
   "outputs": [],
   "source": [
    "RESOURCE_ID = apigateway_client.create_resource(\n",
    "    restApiId=API_ID,\n",
    "    parentId=resource_root_id,\n",
    "    pathPart=RESOURCE_NAME \n",
    ")['id']"
   ]
  },
  {
   "cell_type": "code",
   "execution_count": null,
   "metadata": {},
   "outputs": [],
   "source": []
  },
  {
   "cell_type": "code",
   "execution_count": null,
   "metadata": {},
   "outputs": [],
   "source": []
  },
  {
   "cell_type": "code",
   "execution_count": null,
   "metadata": {},
   "outputs": [],
   "source": []
  }
 ],
 "metadata": {
  "kernelspec": {
   "display_name": "dsnb",
   "language": "python",
   "name": "python3"
  },
  "language_info": {
   "codemirror_mode": {
    "name": "ipython",
    "version": 3
   },
   "file_extension": ".py",
   "mimetype": "text/x-python",
   "name": "python",
   "nbconvert_exporter": "python",
   "pygments_lexer": "ipython3",
   "version": "3.9.6"
  }
 },
 "nbformat": 4,
 "nbformat_minor": 2
}
