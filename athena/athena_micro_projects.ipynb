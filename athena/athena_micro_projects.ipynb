{
 "cells": [
  {
   "cell_type": "code",
   "execution_count": null,
   "metadata": {},
   "outputs": [
    {
     "data": {
      "text/plain": [
       "False"
      ]
     },
     "execution_count": 29,
     "metadata": {},
     "output_type": "execute_result"
    }
   ],
   "source": [
    "import boto3, botocore\n",
    "from botocore.exceptions import ClientError\n",
    "import os, time, json, io, zipfile, requests\n",
    "from datetime import date\n",
    "from dotenv import load_dotenv\n",
    "\n",
    "\n",
    "from misc import load_from_yaml, save_to_yaml\n",
    "import iam, s3, eventbridge, lambdafn as lfn\n",
    "\n",
    "from ec2 import ALL_IN_ONE_INBOUND_RULES, ALL_IN_ONE_OUTBOUND_RULES\n",
    "\n",
    "load_dotenv(\".env\")\n",
    "# boto3.setup_default_session(profile_name=\"AMominNJ\")"
   ]
  },
  {
   "cell_type": "code",
   "execution_count": 17,
   "metadata": {},
   "outputs": [
    {
     "name": "stdout",
     "output_type": "stream",
     "text": [
      "['subnet-0a972b05a5b162feb', 'subnet-0ca765b361e4cb186', 'subnet-0de97821ddb8236f7', 'subnet-0a160fbe0fcafe373', 'subnet-0980ad10eb313405b']\n"
     ]
    }
   ],
   "source": [
    "ACCOUNT_ID        = os.environ['AWS_ACCOUNT_ID_ROOT']\n",
    "REGION            = os.environ['AWS_DEFAULT_REGION']\n",
    "VPC_ID            = os.environ['AWS_DEFAULT_VPC']\n",
    "SECURITY_GROUP_ID = os.environ['AWS_DEFAULT_SG_ID']\n",
    "SUBNET_IDS        = SUBNET_IDS = os.environ[\"AWS_DEFAULT_SUBNET_IDS\"].split(\":\")\n",
    "SUBNET_ID         = SUBNET_IDS[0]\n",
    "print(SUBNET_IDS)"
   ]
  },
  {
   "cell_type": "code",
   "execution_count": 18,
   "metadata": {},
   "outputs": [],
   "source": [
    "sts_client           = boto3.client('sts')\n",
    "rds_client           = boto3.client('rds')\n",
    "iam_client           = boto3.client('iam')\n",
    "s3_client            = boto3.client('s3')\n",
    "glue_client          = boto3.client('glue')\n",
    "lakeformation_client = boto3.client('lakeformation')\n",
    "stepfunctions_client = boto3.client('stepfunctions')\n",
    "lfn_client           = boto3.client('lambda')\n",
    "events_client        = boto3.client('events')"
   ]
  },
  {
   "cell_type": "code",
   "execution_count": 19,
   "metadata": {},
   "outputs": [],
   "source": [
    "ec2_client   = boto3.client('ec2', region_name=REGION)\n",
    "ec2_resource = boto3.resource('ec2', region_name=REGION)\n",
    "msk_client   = boto3.client('kafka')"
   ]
  },
  {
   "cell_type": "markdown",
   "metadata": {},
   "source": [
    "- [Boto3 Docs: AWS Athena](https://boto3.amazonaws.com/v1/documentation/api/latest/reference/services/athena.html)"
   ]
  },
  {
   "cell_type": "markdown",
   "metadata": {},
   "source": [
    "### [Automate Daily Data Analysis with Amazon Athena, AWS Lambda, & S3](https://www.youtube.com/watch?v=72Qalunaru4)"
   ]
  },
  {
   "cell_type": "markdown",
   "metadata": {},
   "source": [
    "<!-- <div><img src=\"./images/automate_daily_data_analysis.png\" width=\"400px\" length=\"400px\"></div> -->\n",
    "![](./images/automate_daily_data_analysis1.png)\n",
    "![](./images/automate_daily_data_analysis2.png)"
   ]
  },
  {
   "cell_type": "markdown",
   "metadata": {},
   "source": [
    "#### S3"
   ]
  },
  {
   "cell_type": "code",
   "execution_count": null,
   "metadata": {},
   "outputs": [],
   "source": [
    "S3_BUCKET_NAME = \"\"\n",
    "raw, athena, processed = ['raw', 'athena', 'processed']\n"
   ]
  },
  {
   "cell_type": "code",
   "execution_count": null,
   "metadata": {},
   "outputs": [],
   "source": [
    "s3.create_s3_bucket(S3_BUCKET_NAME, folders=[raw, athena, processed])"
   ]
  },
  {
   "cell_type": "code",
   "execution_count": null,
   "metadata": {},
   "outputs": [],
   "source": [
    "s3. upload_file_to_s3(S3_BUCKET_NAME, \"./kombucha_casks.csv\", f\"{raw}/rkombucha_casks.csv\")"
   ]
  },
  {
   "cell_type": "markdown",
   "metadata": {},
   "source": [
    "#### Athena"
   ]
  },
  {
   "cell_type": "code",
   "execution_count": null,
   "metadata": {},
   "outputs": [],
   "source": [
    "def create_athena_database(database_name, output_location):\n",
    "    \"\"\"\n",
    "    Creates an AWS Athena database.\n",
    "\n",
    "    Parameters:\n",
    "    database_name (str): The name of the database to create.\n",
    "    output_location (str): S3 bucket location for Athena query results, e.g., \"s3://your-output-bucket/\"\n",
    "\n",
    "    Returns:\n",
    "    dict: The query execution response from Athena.\n",
    "    \"\"\"\n",
    "    athena_client = boto3.client('athena')\n",
    "    \n",
    "    # SQL query to create the database\n",
    "    query = f\"CREATE DATABASE IF NOT EXISTS {database_name};\"\n",
    "\n",
    "    try:\n",
    "        # Start query execution\n",
    "        response = athena_client.start_query_execution(\n",
    "            QueryString=query,\n",
    "            ResultConfiguration={\n",
    "                'OutputLocation': output_location\n",
    "            }\n",
    "        )\n",
    "        \n",
    "        # Get the query execution ID\n",
    "        query_execution_id = response['QueryExecutionId']\n",
    "        print(f\"Query Execution ID: {query_execution_id}\")\n",
    "        \n",
    "        # Optionally, wait for the query to complete\n",
    "        while True:\n",
    "            status_response = athena_client.get_query_execution(QueryExecutionId=query_execution_id)\n",
    "            status = status_response['QueryExecution']['Status']['State']\n",
    "            \n",
    "            if status in ['SUCCEEDED', 'FAILED', 'CANCELLED']: break\n",
    "            \n",
    "            print(f\"Query is still running... (Status: {status})\")\n",
    "            time.sleep(2)\n",
    "        \n",
    "        # Check final status\n",
    "        if status == 'SUCCEEDED': print(f\"Database '{database_name}' created successfully.\")\n",
    "        else: print(f\"Failed to create database. Status: {status}\")\n",
    "        \n",
    "        return response\n",
    "\n",
    "    except Exception as e:\n",
    "        print(f\"Error creating Athena database: {str(e)}\")\n",
    "        return None"
   ]
  },
  {
   "cell_type": "code",
   "execution_count": null,
   "metadata": {},
   "outputs": [],
   "source": [
    "athena_database_name = \"example_database\"\n",
    "output_location = f\"s3://{S3_BUCKET_NAME}/{athena}/\"\n",
    "create_athena_database(athena_database_name, output_location)\n"
   ]
  },
  {
   "cell_type": "code",
   "execution_count": null,
   "metadata": {},
   "outputs": [],
   "source": []
  },
  {
   "cell_type": "code",
   "execution_count": null,
   "metadata": {},
   "outputs": [],
   "source": []
  },
  {
   "cell_type": "markdown",
   "metadata": {},
   "source": [
    "#### AMI"
   ]
  },
  {
   "cell_type": "code",
   "execution_count": null,
   "metadata": {},
   "outputs": [],
   "source": [
    "LFN_ROLE_NAME=\"athena-lambda-role\""
   ]
  },
  {
   "cell_type": "code",
   "execution_count": null,
   "metadata": {},
   "outputs": [],
   "source": [
    "assume_role_policy_doc = {\n",
    "    \"Version\": \"2012-10-17\",\n",
    "    \"Statement\": [\n",
    "        {\n",
    "            \"Effect\": \"Allow\",\n",
    "            \"Action\": [\n",
    "                \"sts:AssumeRole\"\n",
    "            ],\n",
    "            \"Principal\": {\n",
    "                \"Service\": [\n",
    "                    \"lambda.amazonaws.com\"\n",
    "                ]\n",
    "            }\n",
    "        }\n",
    "    ]\n",
    "}"
   ]
  },
  {
   "cell_type": "code",
   "execution_count": null,
   "metadata": {},
   "outputs": [],
   "source": [
    "policy_arns = [\n",
    "    \"arn:aws:iam::aws:policy/AmazonS3FullAccess\",\n",
    "    \"arn:aws:iam::aws:policy/AmazonAthenaFullAccess\",\n",
    "    \"arn:aws:iam::aws:policy/service-role/AmazonAPIGatewayPushToCloudWatchLogs\",\n",
    "    # \"arn:aws:iam::aws:policy/AdministratorAccess\",\n",
    "    # \"arn:aws:iam::aws:policy/PowerUserAccess\"\n",
    "]"
   ]
  },
  {
   "cell_type": "code",
   "execution_count": null,
   "metadata": {},
   "outputs": [],
   "source": [
    "LFN_ROLE_ARN = iam_client.create_role(\n",
    "    RoleName=LFN_ROLE_NAME,\n",
    "    AssumeRolePolicyDocument=json.dumps(assume_role_policy_doc),\n",
    "    Description=\"Glue Service Role\"\n",
    ")['Role']['Arn']"
   ]
  },
  {
   "cell_type": "code",
   "execution_count": null,
   "metadata": {},
   "outputs": [],
   "source": [
    "# Attach AWS managed policy with the role\n",
    "[iam_client.attach_role_policy(RoleName=LFN_ROLE_NAME, PolicyArn=parn) for parn in policy_arns]"
   ]
  },
  {
   "cell_type": "code",
   "execution_count": null,
   "metadata": {},
   "outputs": [],
   "source": []
  },
  {
   "cell_type": "markdown",
   "metadata": {},
   "source": [
    "#### Lambda"
   ]
  },
  {
   "cell_type": "code",
   "execution_count": 30,
   "metadata": {},
   "outputs": [
    {
     "name": "stdout",
     "output_type": "stream",
     "text": [
      "Package created successfully at package.zip\n"
     ]
    }
   ],
   "source": [
    "lfn.create_lambda_package(lfn_scripts=['./lambdafunction.py'], package_dir=\".\")"
   ]
  },
  {
   "cell_type": "code",
   "execution_count": null,
   "metadata": {},
   "outputs": [],
   "source": [
    "LFN_NAME=\"athena-lfn\""
   ]
  },
  {
   "cell_type": "code",
   "execution_count": null,
   "metadata": {},
   "outputs": [],
   "source": []
  },
  {
   "cell_type": "code",
   "execution_count": null,
   "metadata": {},
   "outputs": [],
   "source": [
    "LFN_ARN = lfn.create_lambda_function(LFN_NAME, LFN_ROLE_ARN, \".\", \"lambda_handler\")\n",
    "print(LFN_ARN)"
   ]
  },
  {
   "cell_type": "code",
   "execution_count": null,
   "metadata": {},
   "outputs": [],
   "source": []
  },
  {
   "cell_type": "markdown",
   "metadata": {},
   "source": [
    "#### EventBridge"
   ]
  },
  {
   "cell_type": "code",
   "execution_count": null,
   "metadata": {},
   "outputs": [],
   "source": [
    "event_rule_name = \"lfn-athena\"\n",
    "schedule_expression = \"rate(5 minutes)\"  # Example: trigger every 5 minutes\n",
    "# schedule_expression = \"cron(0 20 * * ? *)\" # Everyday at 8PM.\n",
    "description = \"A rule to trigger an event every 5 minutes.\""
   ]
  },
  {
   "cell_type": "code",
   "execution_count": null,
   "metadata": {},
   "outputs": [],
   "source": [
    "event_rule_arn = eventbridge.create_eventbridge_schedule_rule(\n",
    "    event_rule_name,\n",
    "    schedule_expression,\n",
    "    description\n",
    ")['RuleArn']\n",
    "\n",
    "target_input = {'Arn': LFN_ARN,'Id': f\"{event_rule_name}-target\"}\n",
    "\n",
    "# Add the target to the rule\n",
    "events_client.put_targets(Rule=event_rule_name,EventBusName='default',Targets=[target_input])\n"
   ]
  },
  {
   "cell_type": "code",
   "execution_count": null,
   "metadata": {},
   "outputs": [],
   "source": [
    "# Grant EventBridge permission to invoke the Lambda function\n",
    "lfn_client.add_permission(\n",
    "    FunctionName=LFN_NAME,\n",
    "    StatementId=f\"{event_rule_name}-invoke-permission\",\n",
    "    Action=\"lambda:InvokeFunction\",\n",
    "    Principal=\"events.amazonaws.com\",\n",
    "    SourceArn=event_rule_arn\n",
    ")"
   ]
  },
  {
   "cell_type": "code",
   "execution_count": null,
   "metadata": {},
   "outputs": [],
   "source": []
  },
  {
   "cell_type": "code",
   "execution_count": null,
   "metadata": {},
   "outputs": [],
   "source": []
  }
 ],
 "metadata": {
  "kernelspec": {
   "display_name": "dsnb",
   "language": "python",
   "name": "python3"
  },
  "language_info": {
   "codemirror_mode": {
    "name": "ipython",
    "version": 3
   },
   "file_extension": ".py",
   "mimetype": "text/x-python",
   "name": "python",
   "nbconvert_exporter": "python",
   "pygments_lexer": "ipython3",
   "version": "3.9.6"
  }
 },
 "nbformat": 4,
 "nbformat_minor": 2
}
