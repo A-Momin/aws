{
 "cells": [
  {
   "cell_type": "markdown",
   "metadata": {},
   "source": [
    "### [Intro to AWS Data Wrangler by AWS Tutorial](https://www.youtube.com/watch?v=6Eljk5j8AVY&list=PL8RIJKpVAN1e611zQsSDcRja90bQiEMr3&index=20&t=987s)"
   ]
  },
  {
   "cell_type": "markdown",
   "metadata": {},
   "source": [
    "### [AWS Data Wrangler Series - Part1 by AWS Tutorial](https://www.youtube.com/watch?v=6GxRe_c4s58&list=PL8RIJKpVAN1e611zQsSDcRja90bQiEMr3&index=24)\n",
    "-   [lab](https://aws-dojo.com/excercises/excercise34/)\n"
   ]
  },
  {
   "cell_type": "markdown",
   "metadata": {},
   "source": [
    "### [AWS Data Wrangler Series - Part2 by AWS Tutorial](https://www.youtube.com/watch?v=lmJQS-yquFU&list=PL8RIJKpVAN1e611zQsSDcRja90bQiEMr3&index=26)\n",
    "-   [lab](https://aws-dojo.com/excercises/excercise35/)\n"
   ]
  },
  {
   "cell_type": "markdown",
   "metadata": {},
   "source": [
    "### [AWS Data Wrangler Series - Part4 by AWS Tutorial](https://www.youtube.com/watch?v=6jqXHyPFukw&list=PL8RIJKpVAN1e611zQsSDcRja90bQiEMr3&index=30)\n",
    "-   [lab](https://aws-dojo.com/excercises/excercise39/)"
   ]
  }
 ],
 "metadata": {
  "language_info": {
   "name": "python"
  }
 },
 "nbformat": 4,
 "nbformat_minor": 2
}
