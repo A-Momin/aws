{
 "cells": [
  {
   "cell_type": "markdown",
   "metadata": {},
   "source": [
    "- [AWS MGN - STEP by STEP - ONPREM to AWS - ENGLISH](https://www.youtube.com/watch?v=gVdfsFN6svw)\n",
    "- [End to End Streaming Data Pipeline Using AWS MSK & AWS Serverless Services](https://www.youtube.com/watch?v=l5ypWBHMsNY)"
   ]
  },
  {
   "cell_type": "code",
   "execution_count": null,
   "metadata": {},
   "outputs": [],
   "source": []
  },
  {
   "cell_type": "code",
   "execution_count": null,
   "metadata": {},
   "outputs": [],
   "source": []
  }
 ],
 "metadata": {
  "language_info": {
   "name": "python"
  }
 },
 "nbformat": 4,
 "nbformat_minor": 2
}
