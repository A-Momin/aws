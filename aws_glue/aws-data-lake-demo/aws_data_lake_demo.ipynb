{
 "cells": [
  {
   "cell_type": "markdown",
   "metadata": {},
   "source": [
    "## AWS Data Lake Demo"
   ]
  },
  {
   "cell_type": "markdown",
   "metadata": {},
   "source": [
    "- Template Only (Not TEsted or Run)"
   ]
  },
  {
   "cell_type": "code",
   "execution_count": 1,
   "metadata": {},
   "outputs": [],
   "source": [
    "import boto3, botocore\n",
    "from botocore.exceptions import ClientError\n",
    "import os, time, json, io, zipfile\n",
    "from datetime import date\n",
    "from dotenv import load_dotenv\n",
    "\n",
    "\n",
    "from misc import load_from_yaml, save_to_yaml\n",
    "import iam, s3, lf, rds, vpc, ec2\n",
    "\n",
    "load_dotenv(\".env\")\n",
    "# boto3.setup_default_session(profile_name=\"AMominNJ\")"
   ]
  },
  {
   "cell_type": "code",
   "execution_count": null,
   "metadata": {},
   "outputs": [],
   "source": [
    "ACCOUNT_ID        = os.environ['AWS_ACCOUNT_ID_ROOT']\n",
    "REGION            = os.environ['AWS_DEFAULT_REGION']\n",
    "VPC_ID            = os.environ['AWS_DEFAULT_VPC']\n",
    "SECURITY_GROUP_ID = os.environ['AWS_DEFAULT_SG_ID']\n",
    "SUBNET_IDS        = SUBNET_IDS = os.environ[\"AWS_DEFAULT_SUBNET_IDS\"].split(\":\")\n",
    "SUBNET_ID         = SUBNET_IDS[0]\n",
    "print(SUBNET_IDS)"
   ]
  },
  {
   "cell_type": "code",
   "execution_count": 2,
   "metadata": {},
   "outputs": [],
   "source": [
    "sts_client           = boto3.client('sts')\n",
    "rds_client           = boto3.client('rds')\n",
    "iam_client           = boto3.client('iam')\n",
    "s3_client            = boto3.client('s3')\n",
    "glue_client          = boto3.client('glue')\n",
    "lakeformation_client = boto3.client('lakeformation')\n",
    "ec2_client           = boto3.client('ec2', region_name='us-east-1')\n",
    "ec2_resource         = boto3.resource('ec2', region_name='us-east-1')"
   ]
  },
  {
   "cell_type": "markdown",
   "metadata": {},
   "source": [
    "#### Create IAM Role (for AWS Glue Service)"
   ]
  },
  {
   "cell_type": "markdown",
   "metadata": {},
   "source": [
    "- Create aws glue role by the name of `glue_role_name`.\n",
    "- Assign Power User Access Policy (`PowerUserAccess`) to the role."
   ]
  },
  {
   "cell_type": "code",
   "execution_count": 7,
   "metadata": {},
   "outputs": [],
   "source": [
    "GLUE_ROLE_NAME = 'glue-rds-role_name'"
   ]
  },
  {
   "cell_type": "code",
   "execution_count": 8,
   "metadata": {},
   "outputs": [],
   "source": [
    "assume_role_policy_doc = {\n",
    "    \"Version\": \"2012-10-17\",\n",
    "    \"Statement\": [\n",
    "        {\n",
    "            \"Effect\": \"Allow\",\n",
    "            \"Principal\": {\n",
    "                \"Service\": \"glue.amazonaws.com\"\n",
    "            },\n",
    "            \"Action\": \"sts:AssumeRole\"\n",
    "        }\n",
    "    ]\n",
    "}\n",
    "GLUE_ROLE_ARN = iam_client.create_role(\n",
    "    RoleName=GLUE_ROLE_NAME,\n",
    "    AssumeRolePolicyDocument=json.dumps(assume_role_policy_doc),\n",
    "    Description=\"Glue Service Role\"\n",
    ")['Role']['Arn']"
   ]
  },
  {
   "cell_type": "code",
   "execution_count": 9,
   "metadata": {},
   "outputs": [],
   "source": [
    "aws_glue_service_policy_arn = \"arn:aws:iam::aws:policy/service-role/AWSGlueServiceRole\"\n",
    "# admin_access_policy_arn = \"arn:aws:iam::aws:policy/AdministratorAccess\"\n",
    "# power_user_access_policy_arn = \"arn:aws:iam::aws:policy/PowerUserAccess\""
   ]
  },
  {
   "cell_type": "code",
   "execution_count": null,
   "metadata": {},
   "outputs": [],
   "source": [
    "# Attach AWS managed policy with the role\n",
    "iam_client.attach_role_policy(\n",
    "    RoleName=GLUE_ROLE_NAME,\n",
    "    PolicyArn=aws_glue_service_policy_arn\n",
    ")"
   ]
  },
  {
   "cell_type": "markdown",
   "metadata": {},
   "source": [
    "#### Create S3 Bucket and Folders"
   ]
  },
  {
   "cell_type": "code",
   "execution_count": 11,
   "metadata": {},
   "outputs": [],
   "source": [
    "S3_BUCKET_DATA_LAKE = \"httx-datalake-bkt\"\n",
    "S3_BUCKET_GLUE_ASSETS = \"httx-glue-assets-bkt\""
   ]
  },
  {
   "cell_type": "code",
   "execution_count": null,
   "metadata": {},
   "outputs": [],
   "source": [
    "acl = 'private'                             # Set the ACL (e.g., 'private', 'public-read')\n",
    "enable_versioning = False                   # Enable versioning\n",
    "enable_encryption = False                   # Enable server-side encryption\n",
    "\n",
    "folders = ['temporary', 'sparkHistoryLogs']\n",
    "\n",
    "s3.create_s3_bucket(S3_BUCKET_DATA_LAKE, REGION, enable_versioning, enable_encryption)\n",
    "s3.create_s3_bucket(S3_BUCKET_GLUE_ASSETS, REGION, enable_versioning, enable_encryption, folders)"
   ]
  },
  {
   "cell_type": "markdown",
   "metadata": {},
   "source": [
    "#### Create Glue Catalog Database"
   ]
  },
  {
   "cell_type": "code",
   "execution_count": 13,
   "metadata": {},
   "outputs": [],
   "source": [
    "CATALOG_DB_NAME = 'httx-catalog-db'"
   ]
  },
  {
   "cell_type": "code",
   "execution_count": null,
   "metadata": {},
   "outputs": [],
   "source": [
    "## Example usage\n",
    "DATALAKE_LOCATION_URI = f\"s3://{S3_BUCKET_DATA_LAKE}\"\n",
    "\n",
    "create_database_response = glue_client.create_database(\n",
    "    CatalogId=ACCOUNT_ID,\n",
    "    DatabaseInput={\n",
    "        'Name': CATALOG_DB_NAME,\n",
    "        'Description': 'TICKIT: A platform that brings together buyers and sellers of tickets to entertainment events',\n",
    "        'LocationUri': DATALAKE_LOCATION_URI,\n",
    "    }\n",
    ")\n",
    "print(create_database_response)"
   ]
  },
  {
   "cell_type": "code",
   "execution_count": 16,
   "metadata": {},
   "outputs": [],
   "source": [
    "# glue_client.update_database(\n",
    "#     CatalogId=ACCOUNT_ID,\n",
    "#     Name=CATALOG_DB_NAME,\n",
    "#     DatabaseInput={\n",
    "#         'Name': CATALOG_DB_NAME,\n",
    "#         'UseOnlyIamAccessControl': False\n",
    "#     }\n",
    "# )\n",
    "# lf.register_s3_path_as_data_lake_location(LFDB_LOCATION_URI)"
   ]
  },
  {
   "cell_type": "markdown",
   "metadata": {},
   "source": [
    "#### Create RDS Databases & it's Resources"
   ]
  },
  {
   "cell_type": "code",
   "execution_count": 17,
   "metadata": {},
   "outputs": [],
   "source": [
    "DB_NAME='glue-rds-db'\n",
    "DB_USERNAME = os.environ['USERNAME']\n",
    "DB_PASSWORD = os.environ['PASSWORD']\n",
    "JDBC_PASSWORD = os.environ['PASSWORD'] # Password for RDS Databases"
   ]
  },
  {
   "cell_type": "code",
   "execution_count": null,
   "metadata": {},
   "outputs": [],
   "source": [
    "SUBNET_GROUP_NAME = 'httx-rds-subnet-group'\n",
    "## Create the RDS subnet group\n",
    "response = rds_client.create_db_subnet_group(\n",
    "    DBSubnetGroupName=SUBNET_GROUP_NAME,\n",
    "    DBSubnetGroupDescription='Subnet group for RDS instance',\n",
    "    SubnetIds=SUBNET_IDS\n",
    ")\n",
    "print(response)"
   ]
  },
  {
   "cell_type": "code",
   "execution_count": 21,
   "metadata": {},
   "outputs": [],
   "source": [
    "instances = [\n",
    "    {\n",
    "        'db_instance_identifier': 'httx-rds-mysql',\n",
    "        'db_name': 'httx_mysql',\n",
    "        'db_username': DB_USERNAME,\n",
    "        'db_password': JDBC_PASSWORD,\n",
    "        'engine': 'mysql',\n",
    "        'port': 3306,\n",
    "        'engine_version': '8.0.32',\n",
    "        'db_instance_class': 'db.t3.micro',\n",
    "        'allocated_storage': 20,\n",
    "        'availability_zone': 'us-east-1a',\n",
    "        'tags': [{'Key': 'Project', 'Value': 'glue-rds-Crawler'}],\n",
    "        'security_group_ids': [SECURITY_GROUP_ID],\n",
    "        'db_subnet_group_name': SUBNET_GROUP_NAME,\n",
    "    },\n",
    "    {\n",
    "        'db_instance_identifier': 'httx-rds-mssql',\n",
    "        'db_name': '',\n",
    "        'db_username': DB_USERNAME,\n",
    "        'db_password': JDBC_PASSWORD,\n",
    "        'port': 1433,\n",
    "        'engine': 'sqlserver-ex',\n",
    "        'engine_version': '15.00.4153.1.v1',\n",
    "        'db_instance_class': 'db.t3.micro',\n",
    "        'allocated_storage': 20,\n",
    "        'availability_zone': 'us-east-1a',\n",
    "        'tags': [{'Key': 'Project', 'Value': 'glue-rds-Crawler'}],\n",
    "        'security_group_ids': [SECURITY_GROUP_ID],\n",
    "        'db_subnet_group_name': SUBNET_GROUP_NAME,\n",
    "    },\n",
    "    {\n",
    "        'db_instance_identifier': 'httx-rds-postgresql',\n",
    "        'db_name': 'httx_postgresql',\n",
    "        'db_username': DB_USERNAME,\n",
    "        'db_password': JDBC_PASSWORD,\n",
    "        'port': 5432,\n",
    "        'engine': 'postgres',\n",
    "        'engine_version': '14.13',\n",
    "        'db_instance_class': 'db.t3.micro',\n",
    "        'allocated_storage': 20,\n",
    "        'availability_zone': 'us-east-1a',\n",
    "        'tags': [{'Key': 'Project', 'Value': 'glue-rds-Crawler'}],\n",
    "        'security_group_ids': [SECURITY_GROUP_ID],\n",
    "        'db_subnet_group_name': SUBNET_GROUP_NAME,\n",
    "    }\n",
    "]"
   ]
  },
  {
   "cell_type": "code",
   "execution_count": null,
   "metadata": {},
   "outputs": [],
   "source": [
    "rds.create_rds_instance(**instances[0])   # 'httx-rds-mysql'\n",
    "rds.create_rds_instance(**instances[1])   # 'httx-rds-mssql'\n",
    "rds.create_rds_instance(**instances[2])   # 'httx-rds-postgresql'"
   ]
  },
  {
   "cell_type": "markdown",
   "metadata": {},
   "source": [
    "-   `Gateway` endpoints serve as a target for a route in your route table for traffic destined for the service."
   ]
  },
  {
   "cell_type": "code",
   "execution_count": 23,
   "metadata": {},
   "outputs": [],
   "source": [
    "# VPC Endpoint parameters\n",
    "VPC_ENDPOINT_TAG = 'rds-glue-vpc-endpoint'\n",
    "VPC_ENDPOINT_SERVICE_NAME = 'com.amazonaws.us-east-1.s3'\n",
    "SECURITY_GROUP_IDS = [SECURITY_GROUP_ID]  # Security group(s) associated with the endpoint\n",
    "ROUTE_TABLE_IDS = ['rtb-0ec4311296ec952f8']\n",
    "\n",
    "# Create an Interface Endpoint\n",
    "VPC_ENDPOINT_ID = ec2_client.create_vpc_endpoint(\n",
    "    VpcEndpointType='Gateway',\n",
    "    VpcId=VPC_ID,\n",
    "    ServiceName=VPC_ENDPOINT_SERVICE_NAME,\n",
    "    RouteTableIds=ROUTE_TABLE_IDS,\n",
    "    # SubnetIds=sg_id,\n",
    "    # SecurityGroupIds=security_group_ids,\n",
    "    PrivateDnsEnabled=False  # Enable private DNS to resolve service names within the VPC\n",
    ")['VpcEndpoint']['VpcEndpointId']"
   ]
  },
  {
   "cell_type": "code",
   "execution_count": null,
   "metadata": {},
   "outputs": [],
   "source": [
    "ec2_client.create_tags(Resources=[VPC_ENDPOINT_ID],Tags=[{'Key': 'Name', 'Value': 'rds_vpc_endpoint'}])"
   ]
  },
  {
   "cell_type": "markdown",
   "metadata": {},
   "source": [
    "##### Load sql data from Local Machine to RDS Instance"
   ]
  },
  {
   "cell_type": "markdown",
   "metadata": {},
   "source": [
    "-   Load into Postgresql (TESTED):\n",
    "\n",
    "    -   `$ brew install postgresql` -> Install PostgreSQL Client\n",
    "    -   `$ psql -h <rds-endpoint> -p <port> -U <username> -d <dbname>` -> Connect via Command Line if needed\n",
    "    -   `$ PGPASSWORD={DB_PASSWORD} psql -h {postgresql_endpoint} -p {rds_instances[0]['port']} -U {DB_USERNAME} -d interview_questions < /Users/am/mydocs/Software_Development/Web_Development/aws/aws_rds/interview_questions.sql`\n",
    "\n",
    "-   Load into MySQL (TESTED):\n",
    "\n",
    "    -   `$ brew install postgresql` -> Install PostgreSQL Client\n",
    "    -   `$ mysql -h <rds-endpoint> -p <port> -U <username> -d <dbname>` -> Connect via Command Line if needed\n",
    "    -   `$ mysql -h {mysql_endpoint} -P {mysql_port} -u httxadmin -p'{DB_PASSWORD}' interview_questions < /Users/am/mydocs/Software_Development/Web_Development/aws/aws_rds/interview_questions.sql`\n",
    "\n",
    "-   Load into MSSQL:\n",
    "\n",
    "    -   Install `sqlcmd` Client on the local machine\n",
    "    -   `$ sqlcmd -S <rds_mssql_endpoint>,<mssql_port> -U <httxadmin> -P <DB_PASSWORD> -d <dbname>` -> Connect via Command Line if needed\n",
    "    -   `$ sqlcmd -S {mssql_endpoint},{mssql_por}> -U {httxadmin} -P {DB_PASSWORD} -d {database_name} -i /Users/am/mydocs/Software_Development/Web_Development/aws/aws_rds/interview_questions.sql`\n"
   ]
  },
  {
   "cell_type": "code",
   "execution_count": null,
   "metadata": {},
   "outputs": [],
   "source": []
  },
  {
   "cell_type": "markdown",
   "metadata": {},
   "source": [
    "#### Create Glue Resources"
   ]
  },
  {
   "cell_type": "code",
   "execution_count": null,
   "metadata": {},
   "outputs": [],
   "source": [
    "MSSQL_CONNECTION_NAME = 'tickit_mssql_connection'\n",
    "MYSQL_CONNECTION_NAME = 'tickit_mysql_connection'\n",
    "POSTGRESQL_CONNECTION_NAME = 'tickit_postgresql_connection'\n",
    "\n",
    "MSSQL_CRAWLER_NAME = \"httx-mssqlcrawler\"\n",
    "MYSQL_CRAWLER_NAME = \"httx-mysqlcrawler\"\n",
    "POSTGRESQL_CRAWLER_NAME = \"httx-postgresqlcrawler\""
   ]
  },
  {
   "cell_type": "code",
   "execution_count": null,
   "metadata": {},
   "outputs": [],
   "source": [
    "mssql_endpoint = rds.get_rds_endpoint(rds.get_rds_endpoint(instances[0]['db_instance_identifier']))\n",
    "mysql_endpoint = rds.get_rds_endpoint(rds.get_rds_endpoint(instances[1]['db_instance_identifier']))\n",
    "postgresql_endpoint = rds.get_rds_endpoint(rds.get_rds_endpoint(instances[2]['db_instance_identifier']))"
   ]
  },
  {
   "cell_type": "code",
   "execution_count": null,
   "metadata": {},
   "outputs": [],
   "source": [
    "mysql_connection_url = f\"jdbc:sqlserver://{rds.get_rds_endpoint(instances[0]['db_instance_identifier'])}:{instances[0]['port']}/{instances[0]['db_name']}\"\n",
    "mssql_connection_url = f\"jdbc:sqlserver://{rds.get_rds_endpoint(instances[1]['db_instance_identifier'])}:{instances[1]['port']}/{instances[1]['db_name']}\"\n",
    "postgresql_connection_url = f\"jdbc:sqlserver://{rds.get_rds_endpoint(instances[2]['db_instance_identifier'])}:{instances[2]['port']}/{instances[2]['db_name']}\"\n",
    "\n",
    "glue.create_glue_connection(MYSQL_CONNECTION_NAME, mysql_connection_url, DB_USERNAME, DB_PASSWORD, SECURITY_GROUP_ID, SUBNET_ID, REGION)\n",
    "glue.create_glue_connection(MSSQL_CONNECTION_NAME, mssql_connection_url, DB_USERNAME, DB_PASSWORD, SECURITY_GROUP_ID, SUBNET_ID, REGION)\n",
    "glue.create_glue_connection(POSTGRESQL_CONNECTION_NAME, postgresql_connection_url, DB_USERNAME, DB_PASSWORD, SECURITY_GROUP_ID, SUBNET_ID, REGION)"
   ]
  },
  {
   "cell_type": "code",
   "execution_count": null,
   "metadata": {},
   "outputs": [],
   "source": [
    "glue.create_glue_jdbc_crawler(MYSQL_CRAWLER_NAME, MYSQL_CONNECTION_NAME, GLUE_ROLE_ARN, CATALOG_DB_NAME, 'ecomm/%')\n",
    "glue.create_glue_jdbc_crawler(MSSQL_CRAWLER_NAME, MSSQL_CONNECTION_NAME, GLUE_ROLE_ARN, CATALOG_DB_NAME, 'tickit/crm/%')\n",
    "glue.create_glue_jdbc_crawler(POSTGRESQL_CRAWLER_NAME, POSTGRESQL_CONNECTION_NAME, GLUE_ROLE_ARN, CATALOG_DB_NAME, 'tickit/ems/%')"
   ]
  },
  {
   "cell_type": "code",
   "execution_count": null,
   "metadata": {},
   "outputs": [],
   "source": [
    "\n",
    "# Step 2: Create Glue Jobs (Bronze, Silver, and so on)\n",
    "glue_jobs = [\n",
    "    {\n",
    "        'name': 'tickit_silver_ems_venue',\n",
    "        'script': f\"s3://{S3_BUCKET_GLUE_ASSETS}/glue_job_scripts/silver/tickit_silver_ems_venue.py\"\n",
    "    },\n",
    "    {\n",
    "        'name': 'tickit_silver_ems_event',\n",
    "        'script': f\"s3://{S3_BUCKET_GLUE_ASSETS}/glue_job_scripts/silver/tickit_silver_ems_event.py\"\n",
    "    },\n",
    "    {\n",
    "        'name': 'tickit_silver_ems_category',\n",
    "        'script': f\"s3://{S3_BUCKET_GLUE_ASSETS}/glue_job_scripts/silver/tickit_silver_ems_category.py\"\n",
    "    },\n",
    "    {\n",
    "        'name': 'tickit_silver_crm_user',\n",
    "        'script': f\"s3://{S3_BUCKET_GLUE_ASSETS}/glue_job_scripts/silver/tickit_silver_crm_user.py\"\n",
    "    },\n",
    "    {\n",
    "        'name': 'tickit_silver_ecomm_sale',\n",
    "        'script': f\"s3://{S3_BUCKET_GLUE_ASSETS}/glue_job_scripts/silver/tickit_silver_ecomm_sale.py\"\n",
    "    },\n",
    "    {\n",
    "        'name': 'tickit_silver_ecomm_listing',\n",
    "        'script': f\"s3://{S3_BUCKET_GLUE_ASSETS}/glue_job_scripts/silver/tickit_silver_ecomm_listing.py\"\n",
    "    },\n",
    "    {\n",
    "        'name': 'tickit_silver_ecomm_date',\n",
    "        'script': f\"s3://{S3_BUCKET_GLUE_ASSETS}/glue_job_scripts/silver/tickit_silver_ecomm_date.py\"\n",
    "    },\n",
    "    {\n",
    "        'name': 'tickit_bronze_ems_category',\n",
    "        'script': f\"s3://{S3_BUCKET_GLUE_ASSETS}/glue_job_scripts/bronze/tickit_bronze_ems_category.py\"\n",
    "    },\n",
    "    {\n",
    "        'name': 'tickit_bronze_ems_event',\n",
    "        'script': f\"s3://{S3_BUCKET_GLUE_ASSETS}/glue_job_scripts/bronze/tickit_bronze_ems_event.py\"\n",
    "    },\n",
    "    {\n",
    "        'name': 'tickit_bronze_ems_venue',\n",
    "        'script': f\"s3://{S3_BUCKET_GLUE_ASSETS}/glue_job_scripts/bronze/tickit_bronze_ems_venue.py\"\n",
    "    },\n",
    "    {\n",
    "        'name': 'tickit_bronze_crm_user',\n",
    "        'script': f\"s3://{S3_BUCKET_GLUE_ASSETS}/glue_job_scripts/bronze/tickit_bronze_crm_user.py\"\n",
    "    },\n",
    "    {\n",
    "        'name': 'tickit_bronze_ecomm_date',\n",
    "        'script': f\"s3://{S3_BUCKET_GLUE_ASSETS}/glue_job_scripts/bronze/tickit_bronze_ecomm_date.py\"\n",
    "    },\n",
    "    {\n",
    "        'name': 'tickit_bronze_ecomm_listing',\n",
    "        'script': f\"s3://{S3_BUCKET_GLUE_ASSETS}/glue_job_scripts/bronze/tickit_bronze_ecomm_listing.py\"\n",
    "    },\n",
    "    {\n",
    "        'name': 'tickit_bronze_ecomm_sale',\n",
    "        'script': f\"s3://{S3_BUCKET_GLUE_ASSETS}/glue_job_scripts/bronze/tickit_bronze_ecomm_sale.py\"\n",
    "    },\n",
    "]\n",
    "\n",
    "TEM_DIR = f\"s3://{S3_BUCKET_GLUE_ASSETS}/temporary/\"\n",
    "SPARK_EVENT_LOG_PATH = f\"s3://{S3_BUCKET_GLUE_ASSETS}/sparkHistoryLogs/\"\n",
    "\n",
    "for job in glue_jobs: \n",
    "    glue.create_glue_job(job['name'], job['script'], GLUE_ROLE_ARN, TEM_DIR, SPARK_EVENT_LOG_PATH)"
   ]
  },
  {
   "cell_type": "code",
   "execution_count": null,
   "metadata": {},
   "outputs": [],
   "source": []
  },
  {
   "cell_type": "markdown",
   "metadata": {},
   "source": [
    "#### Delete Resources"
   ]
  },
  {
   "cell_type": "code",
   "execution_count": null,
   "metadata": {},
   "outputs": [],
   "source": [
    "# lakeformation_client.deregister_resource(ResourceArn=f'arn:aws:s3:::{bucket_name}')\n",
    "# glue_client.delete_database(CatalogId=catalog_id,Name=catalog_db_name)"
   ]
  },
  {
   "cell_type": "code",
   "execution_count": null,
   "metadata": {},
   "outputs": [],
   "source": [
    "# s3 = boto3.resource('s3')\n",
    "# bucket = s3.Bucket(bucket_name)\n",
    "\n",
    "# # Delete all objects in the bucket\n",
    "# bucket.objects.all().delete()\n",
    "\n",
    "# # Delete all object versions (if versioning is enabled)\n",
    "# # bucket.object_versions.all().delete()\n",
    "\n",
    "# # Finally, delete the bucket\n",
    "# bucket.delete()\n"
   ]
  },
  {
   "cell_type": "code",
   "execution_count": null,
   "metadata": {},
   "outputs": [],
   "source": [
    "# rds_client.delete_db_subnet_group(DBSubnetGroupName=SUBNET_GROUP_NAME)"
   ]
  },
  {
   "cell_type": "code",
   "execution_count": null,
   "metadata": {},
   "outputs": [],
   "source": [
    "# response = rds_client.delete_db_subnet_group(DBSubnetGroupName=SUBNET_GROUP_NAME)"
   ]
  },
  {
   "cell_type": "code",
   "execution_count": 26,
   "metadata": {},
   "outputs": [],
   "source": [
    "# rds.delete_rds_instance(instances[0]['db_instance_identifier'])\n",
    "# rds.delete_rds_instance(instances[1]['db_instance_identifier'])\n",
    "# rds.delete_rds_instance(instances[2]['db_instance_identifier'])"
   ]
  },
  {
   "cell_type": "code",
   "execution_count": null,
   "metadata": {},
   "outputs": [],
   "source": [
    "## Delete the VPC Endpoint\n",
    "# response = ec2_client.delete_vpc_endpoints(VpcEndpointIds=[vpc_endpoint_id])"
   ]
  },
  {
   "cell_type": "code",
   "execution_count": null,
   "metadata": {},
   "outputs": [],
   "source": [
    "# response = glue_client.delete_connection(ConnectionName=glue_mysql_connection_name)\n",
    "# response = glue_client.delete_crawler(Name=rds_crawler_name)"
   ]
  },
  {
   "cell_type": "code",
   "execution_count": null,
   "metadata": {},
   "outputs": [],
   "source": [
    "# for job in glue_jobs: glue_client.delete_job(JobName=job['name'])"
   ]
  },
  {
   "cell_type": "code",
   "execution_count": null,
   "metadata": {},
   "outputs": [],
   "source": [
    "# DELETE IAM ROLE AT THE END AFTER DELETING ALL OTHER RESOURCES.\n",
    "# iam.delete_iam_role(GLUE_ROLE_NAME)"
   ]
  }
 ],
 "metadata": {
  "kernelspec": {
   "display_name": "dsnb",
   "language": "python",
   "name": "python3"
  },
  "language_info": {
   "codemirror_mode": {
    "name": "ipython",
    "version": 3
   },
   "file_extension": ".py",
   "mimetype": "text/x-python",
   "name": "python",
   "nbconvert_exporter": "python",
   "pygments_lexer": "ipython3",
   "version": "3.9.6"
  }
 },
 "nbformat": 4,
 "nbformat_minor": 2
}
