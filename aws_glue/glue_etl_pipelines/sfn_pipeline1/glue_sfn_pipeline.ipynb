{
 "cells": [
  {
   "cell_type": "code",
   "execution_count": 79,
   "metadata": {},
   "outputs": [],
   "source": [
    "import boto3\n",
    "import botocore\n",
    "from botocore.exceptions import ClientError\n",
    "import os, time, json\n",
    "from datetime import date\n",
    "from dotenv import load_dotenv\n",
    "\n",
    "import s3, iam, lf, glue, lambda_fn, sns, eventbridge as event\n",
    "\n",
    "from ads.utils import red"
   ]
  },
  {
   "cell_type": "code",
   "execution_count": 41,
   "metadata": {},
   "outputs": [],
   "source": [
    "sts_client           = boto3.client('sts')\n",
    "rds_client           = boto3.client('rds')\n",
    "iam_client           = boto3.client('iam')\n",
    "s3_client            = boto3.client('s3')\n",
    "glue_client          = boto3.client('glue')\n",
    "lakeformation_client = boto3.client('lakeformation')\n",
    "ec2_client           = boto3.client('ec2', region_name='us-east-1')\n",
    "ec2_resource         = boto3.resource('ec2', region_name='us-east-1')\n",
    "dynamodb_client      = boto3.client('dynamodb')\n",
    "events_client        = boto3.client('events')\n",
    "lambda_client        = boto3.client('lambda')\n",
    "sfn_client           = boto3.client('stepfunctions')"
   ]
  },
  {
   "cell_type": "code",
   "execution_count": 42,
   "metadata": {},
   "outputs": [],
   "source": [
    "load_dotenv(\".env\")\n",
    "ACCOUNT_ID          = os.environ['AWS_ACCOUNT_ID_ROOT']\n",
    "REGION              = os.environ['AWS_DEFAULT_REGION']\n",
    "VPC_ID              = 'vpc-03617a8a518caa526'\n",
    "SUBNET_IDS          = ['subnet-0980ad10eb313405b', 'subnet-0de97821ddb8236f7', 'subnet-0a160fbe0fcafe373', 'subnet-0ca765b361e4cb186', 'subnet-0a972b05a5b162feb']\n",
    "SUBNET_ID           = SUBNET_IDS[0]\n",
    "SECURITY_GROUP_ID   = 'sg-07f4ccd7a5be677ea'"
   ]
  },
  {
   "cell_type": "markdown",
   "metadata": {},
   "source": [
    "### [Knowledge Amplifier: Manage AWS Glue Jobs with Step Functions](https://www.youtube.com/watch?v=KpLm3DFb1h0&t=353s)"
   ]
  },
  {
   "cell_type": "markdown",
   "metadata": {},
   "source": [
    "<div style=\"text-align:center\"><img src=\"./state_diagram.png\" length=\"400p\" height=\"400p\"></img></div>"
   ]
  },
  {
   "cell_type": "markdown",
   "metadata": {},
   "source": [
    "#### Create IAM Role"
   ]
  },
  {
   "cell_type": "markdown",
   "metadata": {},
   "source": [
    "- Create aws glue role by the name of `glue_role_name`.\n",
    "- Assign Power User Access Policy (`PowerUserAccess`) to the role."
   ]
  },
  {
   "cell_type": "code",
   "execution_count": 43,
   "metadata": {},
   "outputs": [],
   "source": [
    "GLUE_ROLE_NAME = 'glue-pipeline-role'\n",
    "SFN_ROLE_NAME = 'sfn-pipeline-role'\n",
    "LFN_ROLE_NAME = 'lfn-pipeline-role'"
   ]
  },
  {
   "cell_type": "code",
   "execution_count": 44,
   "metadata": {},
   "outputs": [],
   "source": [
    "aws_glue_service_policy_arn = \"arn:aws:iam::aws:policy/service-role/AWSGlueServiceRole\"\n",
    "cloud_watch_full_access_arn = \"arn:aws:iam::aws:policy/CloudWatchFullAccess\"\n",
    "amazon_s3_full_access_arn = \"arn:aws:iam::aws:policy/AmazonS3FullAccess\"\n",
    "# admin_access_policy_arn = \"arn:aws:iam::aws:policy/AdministratorAccess\"\n",
    "# power_user_access_policy_arn = \"arn:aws:iam::aws:policy/PowerUserAccess\""
   ]
  },
  {
   "cell_type": "markdown",
   "metadata": {},
   "source": [
    "##### Glue Role"
   ]
  },
  {
   "cell_type": "code",
   "execution_count": null,
   "metadata": {},
   "outputs": [],
   "source": [
    "assume_role_policy_doc = {\n",
    "    \"Version\": \"2012-10-17\",\n",
    "    \"Statement\": [\n",
    "        {\n",
    "            \"Effect\": \"Allow\",\n",
    "            \"Principal\": {\n",
    "                \"Service\": \"glue.amazonaws.com\"\n",
    "            },\n",
    "            \"Action\": \"sts:AssumeRole\"\n",
    "        }\n",
    "    ]\n",
    "}\n",
    "GLUE_ROLE_ARN = iam_client.create_role(\n",
    "    RoleName=GLUE_ROLE_NAME,\n",
    "    AssumeRolePolicyDocument=json.dumps(assume_role_policy_doc),\n",
    "    Description=\"Glue Service Role\"\n",
    ")['Role']['Arn']"
   ]
  },
  {
   "cell_type": "code",
   "execution_count": null,
   "metadata": {},
   "outputs": [],
   "source": [
    "# Attach AWS managed policy with the role\n",
    "iam_client.attach_role_policy(\n",
    "    RoleName=GLUE_ROLE_NAME,\n",
    "    PolicyArn=aws_glue_service_policy_arn\n",
    ")\n",
    "# Attach AWS managed policy with the role\n",
    "iam_client.attach_role_policy(\n",
    "    RoleName=GLUE_ROLE_NAME,\n",
    "    PolicyArn=cloud_watch_full_access_arn\n",
    ")\n",
    "# Attach AWS managed policy with the role\n",
    "iam_client.attach_role_policy(\n",
    "    RoleName=GLUE_ROLE_NAME,\n",
    "    PolicyArn=amazon_s3_full_access_arn\n",
    ")"
   ]
  },
  {
   "cell_type": "markdown",
   "metadata": {},
   "source": [
    "##### SFN Role"
   ]
  },
  {
   "cell_type": "code",
   "execution_count": null,
   "metadata": {},
   "outputs": [],
   "source": [
    "stepfunctions_trust_policy = {\n",
    "    \"Version\": \"2012-10-17\",\n",
    "    \"Statement\": [\n",
    "        {\n",
    "            \"Effect\": \"Allow\",\n",
    "            \"Principal\": {\n",
    "                \"Service\": \"states.amazonaws.com\"\n",
    "            },\n",
    "            \"Action\": \"sts:AssumeRole\"\n",
    "        }\n",
    "    ]\n",
    "}\n",
    "\n",
    "SFN_ROLE_ARN = iam_client.create_role(\n",
    "    RoleName=SFN_ROLE_NAME,\n",
    "    AssumeRolePolicyDocument=json.dumps(stepfunctions_trust_policy),\n",
    "    Description=\"Glue Service Role\"\n",
    ")['Role']['Arn']\n",
    "\n",
    "# Attach AWS managed policy with the role\n",
    "iam_client.attach_role_policy(\n",
    "    RoleName=SFN_ROLE_NAME,\n",
    "    PolicyArn=aws_glue_service_policy_arn\n",
    ")\n"
   ]
  },
  {
   "cell_type": "code",
   "execution_count": null,
   "metadata": {},
   "outputs": [],
   "source": [
    "\n",
    "# Attach AWS managed policy with the role\n",
    "iam_client.attach_role_policy(\n",
    "    RoleName=SFN_ROLE_NAME,\n",
    "    PolicyArn=cloud_watch_full_access_arn\n",
    ")"
   ]
  },
  {
   "cell_type": "markdown",
   "metadata": {},
   "source": [
    "##### Lambda Role: NOT NEEDED IN THIS PROJECT YET!"
   ]
  },
  {
   "cell_type": "code",
   "execution_count": null,
   "metadata": {},
   "outputs": [],
   "source": [
    "assume_role_policy_document = {\n",
    "    \"Version\": \"2012-10-17\",\n",
    "    \"Statement\": [\n",
    "        {\n",
    "            \"Effect\": \"Allow\",\n",
    "            \"Principal\": {\n",
    "                \"Service\": \"lambda.amazonaws.com\"\n",
    "            },\n",
    "            \"Action\": \"sts:AssumeRole\"\n",
    "        }\n",
    "    ]\n",
    "}\n",
    "\n",
    "# Create the IAM role with the assume role policy document\n",
    "LFN_ROLE_ARN = iam_client.create_role(\n",
    "    RoleName=LFN_ROLE_NAME,\n",
    "    AssumeRolePolicyDocument=json.dumps(assume_role_policy_document)\n",
    ")['Role']['Arn']"
   ]
  },
  {
   "cell_type": "code",
   "execution_count": null,
   "metadata": {},
   "outputs": [],
   "source": [
    "# Attach AWS managed policy with the role\n",
    "iam_client.attach_role_policy(\n",
    "    RoleName=LFN_ROLE_NAME,\n",
    "    PolicyArn=aws_glue_service_policy_arn\n",
    ")\n",
    "# Attach AWS managed policy with the role\n",
    "iam_client.attach_role_policy(\n",
    "    RoleName=LFN_ROLE_NAME,\n",
    "    PolicyArn=cloud_watch_full_access_arn\n",
    ")\n",
    "# Attach AWS managed policy with the role\n",
    "iam_client.attach_role_policy(\n",
    "    RoleName=LFN_ROLE_NAME,\n",
    "    PolicyArn=amazon_s3_full_access_arn\n",
    ")"
   ]
  },
  {
   "cell_type": "code",
   "execution_count": null,
   "metadata": {},
   "outputs": [],
   "source": [
    "\n",
    "# #### Create IAM Role Policy (, S3, Logs Permissions)\n",
    "# policy_document = {\n",
    "#     \"Version\": \"2012-10-17\",\n",
    "#     \"Statement\": [\n",
    "#         {   # StartCrawler permission\n",
    "#             \"Effect\": \"Allow\",\n",
    "#             \"Action\": [\n",
    "#                 \"glue:StartCrawler\"\n",
    "#             ],\n",
    "#             \"Resource\": f\"arn:aws:glue:region:account-id:crawler/*\"\n",
    "#             # \"Resource\": f\"arn:aws:glue:region:account-id:crawler/{crawler-name}\"\n",
    "#         },\n",
    "#         {\n",
    "#             \"Effect\": \"Allow\",\n",
    "#             \"Action\": [\n",
    "#                 \"glue:StartJobRun\",\n",
    "#                 \"glue:GetJob\",\n",
    "#                 \"glue:GetJobRun\"\n",
    "#             ],\n",
    "#             \"Resource\": f\"arn:aws:glue:region:account-id:job/*\"\n",
    "#         },\n",
    "#         {   # s3 full access\n",
    "#             \"Effect\": \"Allow\",\n",
    "#             \"Action\": [\n",
    "#                 \"s3:*\",\n",
    "#                 \"s3-object-lambda:*\"\n",
    "#             ],\n",
    "#             \"Resource\": \"*\"\n",
    "#         },\n",
    "#         {\n",
    "#             \"Effect\": \"Allow\",\n",
    "#             \"Action\": [\n",
    "#                 \"logs:*\"\n",
    "#             ],\n",
    "#             \"Resource\": \"*\"\n",
    "#         }\n",
    "#     ]\n",
    "# }\n",
    "\n",
    "# policy_name = \"s3_logs_policies\"\n",
    "\n",
    "# # Attach the inline policy to the IAM role\n",
    "# iam_client.put_role_policy(\n",
    "#     RoleName=LFN_ROLE_NAME,\n",
    "#     PolicyName=policy_name,\n",
    "#     PolicyDocument=json.dumps(policy_document)\n",
    "# )\n",
    "# print(f\"Policy {policy_name} attached to role {LFN_ROLE_NAME}\")\n"
   ]
  },
  {
   "cell_type": "markdown",
   "metadata": {},
   "source": [
    "#### Create S3 Bucket and Folders"
   ]
  },
  {
   "cell_type": "code",
   "execution_count": 77,
   "metadata": {},
   "outputs": [],
   "source": [
    "S3_BUCKET_DATALAKE = \"httx-datalake-bkt\"\n",
    "S3_BUCKET_GLUE_ASSETS = \"httx-glue-assets-bkt\""
   ]
  },
  {
   "cell_type": "code",
   "execution_count": 80,
   "metadata": {},
   "outputs": [
    {
     "name": "stdout",
     "output_type": "stream",
     "text": [
      "Bucket 'httx-datalake-bkt' created successfully\n",
      "Folder 'raw/customers/' created in bucket 'httx-datalake-bkt'\n",
      "Folder 'processed/customers/' created in bucket 'httx-datalake-bkt'\n",
      "Bucket 'httx-glue-assets-bkt' created successfully\n",
      "Folder 'temporary/' created in bucket 'httx-glue-assets-bkt'\n",
      "Folder 'sparkHistoryLogs/' created in bucket 'httx-glue-assets-bkt'\n"
     ]
    }
   ],
   "source": [
    "acl = 'public-read'                         # Set the ACL (e.g., 'private', 'public-read')\n",
    "enable_versioning = False                   # Enable versioning\n",
    "enable_encryption = False                   # Enable server-side encryption\n",
    "\n",
    "folders1 = ['raw/customers/', 'processed/customers/']\n",
    "folders2 = ['temporary', 'sparkHistoryLogs']\n",
    "\n",
    "s3.create_s3_bucket(S3_BUCKET_DATALAKE, folders1)\n",
    "s3.create_s3_bucket(S3_BUCKET_GLUE_ASSETS, folders2)"
   ]
  },
  {
   "cell_type": "code",
   "execution_count": 53,
   "metadata": {},
   "outputs": [],
   "source": [
    "s3_client.upload_file('./customers.csv', S3_BUCKET_DATALAKE, 'raw/customers/customers.csv')"
   ]
  },
  {
   "cell_type": "markdown",
   "metadata": {},
   "source": [
    "#### Create Glue Catalog Database"
   ]
  },
  {
   "cell_type": "code",
   "execution_count": 54,
   "metadata": {},
   "outputs": [],
   "source": [
    "CATALOG_DB_NAME = 'httx-catalog-db'"
   ]
  },
  {
   "cell_type": "code",
   "execution_count": null,
   "metadata": {},
   "outputs": [],
   "source": [
    "## Example usage\n",
    "DATALAKE_LOCATION_URI = f\"s3://{S3_BUCKET_DATALAKE}\"\n",
    "\n",
    "create_database_response = glue_client.create_database(\n",
    "    CatalogId=ACCOUNT_ID,\n",
    "    DatabaseInput={\n",
    "        'Name': CATALOG_DB_NAME,\n",
    "        'Description': '',\n",
    "        'LocationUri': DATALAKE_LOCATION_URI,\n",
    "    }\n",
    ")\n",
    "print(create_database_response)"
   ]
  },
  {
   "cell_type": "markdown",
   "metadata": {},
   "source": [
    "- Grant `CREATE_TABLE` permission to `glue_role_name` on data catalog DB."
   ]
  },
  {
   "cell_type": "code",
   "execution_count": 56,
   "metadata": {},
   "outputs": [],
   "source": [
    "# Arn for glue_role_name\n",
    "lf_principle = GLUE_ROLE_ARN\n",
    "\n",
    "# Grant 'CREATE_TABLE' LF Permission to `glue_role_name` Role\n",
    "response = lakeformation_client.grant_permissions(\n",
    "    Principal={\n",
    "        'DataLakePrincipalIdentifier': lf_principle\n",
    "    },\n",
    "    Resource={\n",
    "        'Database': {\n",
    "            'Name': CATALOG_DB_NAME\n",
    "        }\n",
    "    },\n",
    "    Permissions=['CREATE_TABLE', 'DROP'],\n",
    "    PermissionsWithGrantOption=[]\n",
    ")"
   ]
  },
  {
   "cell_type": "code",
   "execution_count": 57,
   "metadata": {},
   "outputs": [],
   "source": [
    "# lf.grant_table_level_permissions(GLUE_ROLE_ARN, CATALOG_DB_NAME, 'employees', ['DROP'])"
   ]
  },
  {
   "cell_type": "markdown",
   "metadata": {},
   "source": [
    "#### **Crawler**: Catalog Data from `raw/customers` as a table by the name `raw_customers`"
   ]
  },
  {
   "cell_type": "code",
   "execution_count": null,
   "metadata": {},
   "outputs": [],
   "source": [
    "S3_RAW_CRAWLER_NAME = \"httx-s3crawler\"\n",
    "S3_RAW_CRAWLER_TARGET = {\n",
    "    'S3Targets': [{'Path': f\"s3://{S3_BUCKET_DATALAKE}/{'raw/customers'}\"},]\n",
    "}\n",
    "glue.create_glue_crawler(S3_RAW_CRAWLER_NAME, GLUE_ROLE_ARN, CATALOG_DB_NAME, S3_RAW_CRAWLER_TARGET, table_prefix='raw_')"
   ]
  },
  {
   "cell_type": "code",
   "execution_count": 59,
   "metadata": {},
   "outputs": [],
   "source": [
    "# glue_client.start_crawler(Name=S3_CRAWLER_NAME)"
   ]
  },
  {
   "cell_type": "code",
   "execution_count": null,
   "metadata": {},
   "outputs": [],
   "source": [
    "AMominNJ_arn = iam_client.get_user(UserName='AMominNJ')['User']['Arn']\n",
    "lf.grant_table_level_permissions(AMominNJ_arn, CATALOG_DB_NAME, 'raw_customers', ['DROP'])"
   ]
  },
  {
   "cell_type": "markdown",
   "metadata": {},
   "source": [
    "#### **Job**: Transformed data from `raw/customers`  and load into `processed/customers`"
   ]
  },
  {
   "cell_type": "code",
   "execution_count": 61,
   "metadata": {},
   "outputs": [],
   "source": [
    "TEM_DIR = f\"s3://{S3_BUCKET_GLUE_ASSETS}/temporary/\"\n",
    "SPARK_EVENT_LOG_PATH = f\"s3://{S3_BUCKET_GLUE_ASSETS}/sparkHistoryLogs/\""
   ]
  },
  {
   "cell_type": "code",
   "execution_count": 62,
   "metadata": {},
   "outputs": [],
   "source": [
    "lcl_file_path = './glue_scripts/jb1_s3csv_s3parquet.py'   # The local file you want to upload\n",
    "object_path = f\"glues_scripts/jb1_s3csv_s3parquet.py\"     # The name to save the file as in the S3 bucket\n",
    "s3_client.upload_file(lcl_file_path, S3_BUCKET_GLUE_ASSETS, object_path)\n",
    "\n",
    "# s3.upload_file_to_s3(S3_BUCKET_GLUE_ASSETS, file_name1, object_name1)"
   ]
  },
  {
   "cell_type": "code",
   "execution_count": null,
   "metadata": {},
   "outputs": [],
   "source": [
    "JOB_NAME = 'jb1_s3csv_s3parquet'\n",
    "JOB_SCRIPT_PATH = f\"s3://{S3_BUCKET_GLUE_ASSETS}/{object_path}\"\n",
    "glue.create_glue_job(JOB_NAME, JOB_SCRIPT_PATH, GLUE_ROLE_ARN, TEM_DIR, SPARK_EVENT_LOG_PATH)"
   ]
  },
  {
   "cell_type": "code",
   "execution_count": 64,
   "metadata": {},
   "outputs": [],
   "source": [
    "# glue.start_glue_job(JOB_NAME1)"
   ]
  },
  {
   "cell_type": "code",
   "execution_count": 65,
   "metadata": {},
   "outputs": [],
   "source": [
    "# ! aws logs tail --follow /aws-glue/jobs --filter-pattern \"SUCCEEDED\""
   ]
  },
  {
   "cell_type": "markdown",
   "metadata": {},
   "source": [
    "#### SNF"
   ]
  },
  {
   "cell_type": "code",
   "execution_count": 66,
   "metadata": {},
   "outputs": [],
   "source": [
    "SMN_NAME = 'glue_pipeline_smn'"
   ]
  },
  {
   "cell_type": "code",
   "execution_count": 67,
   "metadata": {},
   "outputs": [],
   "source": [
    "state_machine_definition = {\n",
    "  \"Comment\": \"A description of my state machine\",\n",
    "  \"StartAt\": \"StartCrawler\",\n",
    "  \"States\": {\n",
    "    \"StartCrawler\": {\n",
    "      \"Type\": \"Task\",\n",
    "      \"Parameters\": {\n",
    "        \"Name\": S3_RAW_CRAWLER_NAME\n",
    "      },\n",
    "      \"Resource\": \"arn:aws:states:::aws-sdk:glue:startCrawler\",\n",
    "      \"Next\": \"GetCrawler\"\n",
    "    },\n",
    "    \"GetCrawler\": {\n",
    "      \"Type\": \"Task\",\n",
    "      \"Parameters\": {\n",
    "        \"Name\": S3_RAW_CRAWLER_NAME\n",
    "      },\n",
    "      \"Resource\": \"arn:aws:states:::aws-sdk:glue:getCrawler\",\n",
    "      \"Next\": \"Choice\"\n",
    "    },\n",
    "    \"Choice\": {\n",
    "      \"Type\": \"Choice\",\n",
    "      \"Choices\": [\n",
    "        {\n",
    "          \"Variable\": \"$.Crawler.State\",\n",
    "          \"StringEquals\": \"RUNNING\",\n",
    "          \"Next\": \"Wait\"\n",
    "        }\n",
    "      ],\n",
    "      \"Default\": \"Glue StartJobRun\"\n",
    "    },\n",
    "    \"Wait\": {\n",
    "      \"Type\": \"Wait\",\n",
    "      \"Seconds\": 5,\n",
    "      \"Next\": \"GetCrawler\"\n",
    "    },\n",
    "    \"Glue StartJobRun\": {\n",
    "      \"Type\": \"Task\",\n",
    "      \"Resource\": \"arn:aws:states:::glue:startJobRun.sync\",\n",
    "      \"Parameters\": {\n",
    "        \"JobName\": \"jb1_s3csv_s3parquet\"\n",
    "      },\n",
    "      \"End\": True\n",
    "    }\n",
    "  }\n",
    "}"
   ]
  },
  {
   "cell_type": "code",
   "execution_count": 68,
   "metadata": {},
   "outputs": [],
   "source": [
    "SFN_ARN = sfn_client.create_state_machine(\n",
    "    name=SMN_NAME,\n",
    "    definition=json.dumps(state_machine_definition),\n",
    "    roleArn=SFN_ROLE_ARN\n",
    ")['stateMachineArn']"
   ]
  },
  {
   "cell_type": "code",
   "execution_count": null,
   "metadata": {},
   "outputs": [],
   "source": [
    "sfn_client.start_execution(\n",
    "    stateMachineArn=SFN_ARN,\n",
    "    name=SMN_NAME,\n",
    ")"
   ]
  },
  {
   "cell_type": "markdown",
   "metadata": {},
   "source": [
    "#### Delete Resources"
   ]
  },
  {
   "cell_type": "code",
   "execution_count": null,
   "metadata": {},
   "outputs": [],
   "source": [
    "glue_client.delete_database(CatalogId=ACCOUNT_ID,Name=CATALOG_DB_NAME)"
   ]
  },
  {
   "cell_type": "code",
   "execution_count": null,
   "metadata": {},
   "outputs": [],
   "source": [
    "s3 = boto3.resource('s3')\n",
    "bucket1 = s3.Bucket(S3_BUCKET_DATALAKE)\n",
    "bucket2 = s3.Bucket(S3_BUCKET_GLUE_ASSETS)\n",
    "\n",
    "# Delete all objects in the bucket\n",
    "bucket1.objects.all().delete()\n",
    "bucket2.objects.all().delete()\n",
    "\n",
    "# Delete all object versions (if versioning is enabled)\n",
    "# bucket1.object_versions.all().delete()\n",
    "# bucket2.object_versions.all().delete()\n",
    "\n",
    "# Finally, delete the bucket\n",
    "bucket1.delete()\n",
    "bucket2.delete()"
   ]
  },
  {
   "cell_type": "code",
   "execution_count": null,
   "metadata": {},
   "outputs": [],
   "source": [
    "glue_client.delete_crawler(Name=S3_RAW_CRAWLER_NAME)\n",
    "# glue_client.delete_crawler(Name=S3_PROCESSED_CRAWLER_NAME)"
   ]
  },
  {
   "cell_type": "code",
   "execution_count": null,
   "metadata": {},
   "outputs": [],
   "source": [
    "glue_client.delete_job(JobName=JOB_NAME)"
   ]
  },
  {
   "cell_type": "code",
   "execution_count": null,
   "metadata": {},
   "outputs": [],
   "source": [
    "# sfn_client.delete_state_machine(stateMachineArn=SFN_ARN)\n",
    "sfn_client.delete_state_machine(stateMachineArn='arn:aws:states:us-east-1:381492255899:stateMachine:glue_pipeline_smn')"
   ]
  },
  {
   "cell_type": "code",
   "execution_count": null,
   "metadata": {},
   "outputs": [],
   "source": [
    "## DELETE IAM ROLE AT THE END AFTER DELETING ALL OTHER RESOURCES.\n",
    "iam.delete_iam_role(GLUE_ROLE_NAME)\n",
    "iam.delete_iam_role(SFN_ROLE_NAME)"
   ]
  },
  {
   "cell_type": "code",
   "execution_count": null,
   "metadata": {},
   "outputs": [],
   "source": []
  }
 ],
 "metadata": {
  "kernelspec": {
   "display_name": "dsnb",
   "language": "python",
   "name": "python3"
  },
  "language_info": {
   "codemirror_mode": {
    "name": "ipython",
    "version": 3
   },
   "file_extension": ".py",
   "mimetype": "text/x-python",
   "name": "python",
   "nbconvert_exporter": "python",
   "pygments_lexer": "ipython3",
   "version": "3.9.6"
  }
 },
 "nbformat": 4,
 "nbformat_minor": 2
}
