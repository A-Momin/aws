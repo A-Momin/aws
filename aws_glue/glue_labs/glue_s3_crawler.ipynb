{
 "cells": [
  {
   "cell_type": "markdown",
   "metadata": {},
   "source": [
    "-   [Building AWS Glue Job using PySpark](https://www.youtube.com/watch?v=vT9vu3NMsk4&t=1848s)\n",
    "-   [Building AWS Glue Job using PySpark - Part:1(of 2)](https://aws-dojo.com/workshoplists/workshoplist8/)\n",
    "    -   [lab](https://aws-dojo.com/ws8/labs/)\n",
    "-   [Building AWS Glue Job using PySpark - Part:2(of 2)](https://aws-dojo.com/workshoplists/workshoplist9/)\n",
    "    -   [lab](https://aws-dojo.com/ws9/labs/)"
   ]
  },
  {
   "cell_type": "markdown",
   "metadata": {},
   "source": [
    "![build_glue_job1](build_glue_job1.png)"
   ]
  },
  {
   "cell_type": "code",
   "execution_count": 61,
   "metadata": {},
   "outputs": [],
   "source": [
    "import boto3\n",
    "import botocore\n",
    "from botocore.exceptions import ClientError\n",
    "import os, time, json\n",
    "from datetime import date\n",
    "\n",
    "from misc import load_from_yaml, save_to_yaml\n",
    "import s3, iam, lf, glue"
   ]
  },
  {
   "cell_type": "code",
   "execution_count": 62,
   "metadata": {},
   "outputs": [],
   "source": [
    "boto3.setup_default_session(profile_name=\"AMominNJ\")\n",
    "sts_client = boto3.client('sts')\n",
    "iam_client = boto3.client('iam')\n",
    "lambda_client = boto3.client('lambda')\n",
    "glue_client = boto3.client('glue')\n",
    "lakeformation_client = boto3.client('lakeformation')"
   ]
  },
  {
   "cell_type": "code",
   "execution_count": null,
   "metadata": {},
   "outputs": [],
   "source": [
    "ACCOUNT_ID = os.environ['AWS_ACCOUNT_ID_ROOT']\n",
    "REGION = os.environ['AWS_DEFAULT_REGION']\n",
    "VPC_ID = 'vpc-03617a8a518caa526'\n",
    "SUBNET_IDS = ['subnet-0980ad10eb313405b', 'subnet-0de97821ddb8236f7', 'subnet-0a160fbe0fcafe373', 'subnet-0ca765b361e4cb186', 'subnet-0a972b05a5b162feb']\n",
    "SUBNET_ID = SUBNET_IDS[0]\n",
    "SECURITY_GROUP_ID = 'sg-07f4ccd7a5be677ea'"
   ]
  },
  {
   "cell_type": "code",
   "execution_count": 63,
   "metadata": {},
   "outputs": [],
   "source": [
    "CONFIG_PATH = 'resources_info.yml'\n",
    "CONFIG = load_from_yaml(CONFIG_PATH)\n",
    "\n",
    "account_id = os.environ['AWS_ACCOUNT_ID_ROOT']\n",
    "catalog_id = account_id\n",
    "region = os.environ['AWS_DEFAULT_REGION']"
   ]
  },
  {
   "cell_type": "code",
   "execution_count": 76,
   "metadata": {},
   "outputs": [],
   "source": [
    "bucket_name, datalake_folder_name = 'httx-datalake-bkt', \"S3-Datalake\"\n",
    "catalog_db_name = 'httx-catalog-db'\n",
    "glue_role_name = \"httx-glue-role\" \n",
    "s3_crawler_name = \"httx-s3crawler\"\n",
    "rds_crawler_name = \"httx-rdscrawler\""
   ]
  },
  {
   "cell_type": "markdown",
   "metadata": {},
   "source": [
    "#### Create IAM Roles and Policies"
   ]
  },
  {
   "cell_type": "markdown",
   "metadata": {},
   "source": [
    "-   Create Glue Service role"
   ]
  },
  {
   "cell_type": "code",
   "execution_count": 77,
   "metadata": {},
   "outputs": [],
   "source": [
    "# Role-Assume-Policy\n",
    "glue_trust_policy = {\n",
    "    \"Version\": \"2012-10-17\",\n",
    "    \"Statement\": [\n",
    "        {\n",
    "            \"Effect\": \"Allow\",\n",
    "            \"Principal\": {\n",
    "                \"Service\": \"glue.amazonaws.com\"\n",
    "            },\n",
    "            \"Action\": \"sts:AssumeRole\"\n",
    "        }\n",
    "    ]\n",
    "}\n",
    "description=\"Allows Glue to call AWS services on your behalf.\"\n",
    "create_glue_role_response = iam_client.create_role(\n",
    "    RoleName=glue_role_name,\n",
    "    AssumeRolePolicyDocument=json.dumps(glue_trust_policy),\n",
    "    Description=description\n",
    ")"
   ]
  },
  {
   "cell_type": "code",
   "execution_count": null,
   "metadata": {},
   "outputs": [],
   "source": [
    "glue_policy_arn = 'arn:aws:iam::aws:policy/PowerUserAccess'\n",
    "iam.attach_policy_to_role(glue_role_name, glue_policy_arn)"
   ]
  },
  {
   "cell_type": "code",
   "execution_count": 92,
   "metadata": {},
   "outputs": [],
   "source": [
    "\n",
    "AWSGlueServiceRole_arn = \"arn:aws:iam::aws:policy/service-role/AWSGlueServiceRole\"\n",
    "\n",
    "# Attach AWS managed policy with the role\n",
    "response = iam_client.attach_role_policy(\n",
    "    RoleName=glue_role_name,\n",
    "    PolicyArn=AWSGlueServiceRole_arn\n",
    ")"
   ]
  },
  {
   "cell_type": "code",
   "execution_count": 89,
   "metadata": {},
   "outputs": [],
   "source": [
    "# policy_document = {\n",
    "#     \"Version\": \"2012-10-17\",\n",
    "#     \"Statement\": [\n",
    "#         {\n",
    "#             \"Effect\": \"Allow\",\n",
    "#             \"Action\": [\n",
    "#                 \"s3:GetObject\",\n",
    "#                 \"s3:ListBucket\"\n",
    "#             ],\n",
    "#             \"Resource\": [\n",
    "#                 \"arn:aws:s3:::{bucket_name}\",\n",
    "#                 \"arn:aws:s3:::{bucket_name}/data/customers/*\"\n",
    "#             ]\n",
    "#         }\n",
    "#     ]\n",
    "# }\n",
    "# iam.put_inline_role_policy(glue_role_name, 'httx-inline-s3-policy', policy_document=policy_document)"
   ]
  },
  {
   "cell_type": "markdown",
   "metadata": {},
   "source": [
    "#### S3"
   ]
  },
  {
   "cell_type": "markdown",
   "metadata": {},
   "source": [
    "-   Create bucket with nested folders\n",
    "    -   `data/{customers,sales}/` --> Datalake\n",
    "    -   `script/`                 --> to keep glue job scripts"
   ]
  },
  {
   "cell_type": "code",
   "execution_count": null,
   "metadata": {},
   "outputs": [],
   "source": [
    "region = os.getenv('AWS_DEFAULT_REGION')    # Specify the AWS region, e.g., 'us-west-1'\n",
    "acl = 'private'                             # Set the ACL (e.g., 'private', 'public-read')\n",
    "enable_versioning = False                   # Enable versioning\n",
    "enable_encryption = False                   # Enable server-side encryption\n",
    "folders = [f'{datalake_folder_name}', 'script', f'{datalake_folder_name}/customers', f'{datalake_folder_name}/sales', 'processed_data']     # List of folders to create\n",
    "\n",
    "s3.create_s3_bucket(bucket_name, folders, region, enable_versioning, enable_encryption)\n"
   ]
  },
  {
   "cell_type": "code",
   "execution_count": null,
   "metadata": {},
   "outputs": [],
   "source": [
    "file_name1 = './customers.csv'  # The local file you want to upload\n",
    "folder_name1 = f'{datalake_folder_name}/customers'\n",
    "object_name1 = f\"{folder_name1}/customers.csv\"  # The name to save the file as in the S3 bucket\n",
    "\n",
    "# Upload the file\n",
    "s3.upload_file_to_s3(bucket_name, file_name1, object_name1)"
   ]
  },
  {
   "cell_type": "code",
   "execution_count": null,
   "metadata": {},
   "outputs": [],
   "source": [
    "file_name2 = './sales.csv'  # The local file you want to upload\n",
    "folder_name2 = f'{datalake_folder_name}/sales'\n",
    "object2 = f\"{folder_name2}/sales.csv\"  # The name to save the file as in the S3 bucket\n",
    "\n",
    "# Upload the file\n",
    "s3.upload_file_to_s3(bucket_name, file_name2, object2)"
   ]
  },
  {
   "cell_type": "markdown",
   "metadata": {},
   "source": [
    "#### [Configure Data Lake: Lake Formation](https://aws-dojo.com/ws8/labs/configure-data-lake/)"
   ]
  },
  {
   "cell_type": "markdown",
   "metadata": {},
   "source": [
    "- Create a Lake Formation Data Catalog database\n",
    "- Register S3 bucket location with the Catalog Database\n",
    "    -   A database is used to organize data catalog tables in the data lake."
   ]
  },
  {
   "cell_type": "markdown",
   "metadata": {},
   "source": [
    "<div style=\"text-align:center\" ><img src=\"./datalake.png\" width=\"800\" height=\"400\" /></div>"
   ]
  },
  {
   "cell_type": "code",
   "execution_count": 83,
   "metadata": {},
   "outputs": [],
   "source": [
    "## Example usage\n",
    "data_lake_location_uri = f\"s3://{bucket_name}/{datalake_folder_name}\"\n",
    "glue_role_arn = create_glue_role_response['Role']['Arn']\n",
    "# role_arn=f\"arn:aws:iam::{account_id}:role/{glue_role_name}\"\n",
    "\n",
    "create_database_response = glue_client.create_database(\n",
    "    CatalogId=catalog_id,\n",
    "    DatabaseInput={\n",
    "        'Name': catalog_db_name,\n",
    "        'Description': 'This is a Glue Catalog database',\n",
    "        'LocationUri': data_lake_location_uri,\n",
    "    }\n",
    ")"
   ]
  },
  {
   "cell_type": "code",
   "execution_count": 24,
   "metadata": {},
   "outputs": [],
   "source": [
    "# lf.register_s3_path_as_data_lake_location(data_lake_location_uri)"
   ]
  },
  {
   "cell_type": "markdown",
   "metadata": {},
   "source": [
    "#### Configure and Run Crawler"
   ]
  },
  {
   "cell_type": "markdown",
   "metadata": {},
   "source": [
    "-   Attach database level permission with the Glue Service Role so that Crawler can create catalog in it.\n",
    "-   Create a crawler\n",
    "-   Run the crawler"
   ]
  },
  {
   "cell_type": "markdown",
   "metadata": {},
   "source": [
    "-   Every data in the data lake should be catalogued. \n",
    "-   The creation of catalogs are automated using crawlers in AWS Glue. \n",
    "-   The crawler uses role based authorization to create catalog in the data lake database. \n",
    "    -   You created an IAM Role `dojogluerole` in the earlier task which the crawler will use to create data catalog in the database. \n",
    "-   You need to assign database permission for this role. \n",
    "    -   After the permission configuration, you will create and run crawler to catalog the data."
   ]
  },
  {
   "cell_type": "markdown",
   "metadata": {},
   "source": [
    "- Grant `ALL` permission to `glue_role` on data catalog database."
   ]
  },
  {
   "cell_type": "code",
   "execution_count": 84,
   "metadata": {},
   "outputs": [],
   "source": [
    "glue_role_arn = create_glue_role_response['Role']['Arn']\n",
    "# role_arn=f\"arn:aws:iam::{account_id}:role/{glue_role_name}\"\n",
    "permissions = [\"CREATE_TABLE\", \"ALTER\"] # ['ALL']\n",
    "grant_permissions_response = lakeformation_client.grant_permissions(\n",
    "    Principal={\n",
    "        'DataLakePrincipalIdentifier': glue_role_arn\n",
    "    },\n",
    "    Resource={\n",
    "        'Database': {\n",
    "            'Name': catalog_db_name\n",
    "        }\n",
    "    },\n",
    "    Permissions=permissions,\n",
    "    PermissionsWithGrantOption=permissions  # If you want to allow the role to grant these permissions to others\n",
    ")"
   ]
  },
  {
   "cell_type": "code",
   "execution_count": null,
   "metadata": {},
   "outputs": [],
   "source": [
    "targets = f\"s3://{bucket_name}/{datalake_folder_name}/\"\n",
    "create_crawler_response = glue_client.create_crawler(\n",
    "    Name=s3_crawler_name,\n",
    "    Role=glue_role_arn, # or glue_role_name\n",
    "    DatabaseName=catalog_db_name,\n",
    "    Description='Crawler for generated Sales schema',\n",
    "    Targets={\n",
    "        'S3Targets': [\n",
    "            {\n",
    "                'Path': f\"s3://{bucket_name}/{datalake_folder_name}/\"\n",
    "            },\n",
    "        ]\n",
    "    },\n",
    "    SchemaChangePolicy={\n",
    "        'UpdateBehavior': 'UPDATE_IN_DATABASE',\n",
    "        'DeleteBehavior': 'DELETE_FROM_DATABASE'\n",
    "    },\n",
    "    RecrawlPolicy={\n",
    "        'RecrawlBehavior': 'CRAWL_EVERYTHING'\n",
    "    },\n",
    "    #,Configuration='{ \"Version\": 1.0, \"CrawlerOutput\": { \"Partitions\": { \"AddOrUpdateBehavior\": \"InheritFromTable\" } } }'\n",
    ")\n",
    "print(create_crawler_response)"
   ]
  },
  {
   "cell_type": "code",
   "execution_count": null,
   "metadata": {},
   "outputs": [],
   "source": [
    "# run_crawler_response = glue_client.start_crawler(Name=s3_crawler_name)\n",
    "# print(run_crawler_response)"
   ]
  },
  {
   "cell_type": "markdown",
   "metadata": {},
   "source": [
    "#### [Role Permission to the Catalog](https://aws-dojo.com/ws8/labs/role-permission-catalog/)\n",
    "\n",
    "- Grant `SELECT` permission to `glue_role` on data catalog Tables (`sales` and `customers`)."
   ]
  },
  {
   "cell_type": "markdown",
   "metadata": {},
   "source": [
    "You need to assign Table level permission to the role."
   ]
  },
  {
   "cell_type": "code",
   "execution_count": 17,
   "metadata": {},
   "outputs": [],
   "source": [
    "def grant_permissions(principal, database_name, table_name, permissions, grant_option=False):\n",
    "    \"\"\"\n",
    "    Grant table permissions to an IAM role in AWS Lake Formation.\n",
    "    \n",
    "    :param principal: The ARN of the IAM role or user.\n",
    "    :param database_name: The name of the database in Lake Formation.\n",
    "    :param table_name: The name of the table in the database.\n",
    "    :param permissions: A list of permissions to grant (e.g., ['SELECT', 'ALTER']).\n",
    "    :param grant_option: Boolean to grant permissions with grant option (default is False).\n",
    "    \"\"\"\n",
    "\n",
    "    try:\n",
    "        # Define the permissions with or without grant option\n",
    "        permissions_with_grant_option = permissions if grant_option else []\n",
    "        \n",
    "        # Grant permissions on the table\n",
    "        response = lakeformation_client.grant_permissions(\n",
    "            Principal={\n",
    "                'DataLakePrincipalIdentifier': principal\n",
    "            },\n",
    "            Resource={\n",
    "                'Table': {\n",
    "                    'DatabaseName': database_name,\n",
    "                    'Name': table_name\n",
    "                }\n",
    "            },\n",
    "            Permissions=permissions,\n",
    "            PermissionsWithGrantOption=permissions_with_grant_option\n",
    "        )\n",
    "        \n",
    "        print(f\"Permissions granted successfully to {principal} for table {table_name} in database {database_name}\")\n",
    "        return response\n",
    "\n",
    "    except Exception as e:\n",
    "        print(f\"Error granting permissions: {e}\")"
   ]
  },
  {
   "cell_type": "code",
   "execution_count": null,
   "metadata": {},
   "outputs": [],
   "source": [
    "# Example usage\n",
    "glue_role_arn = create_glue_role_response['Role']['Arn']\n",
    "permissions = ['SELECT']\n",
    "\n",
    "# Attach \"SELECT\" (table level) permission on certain tables to Glue Service Role\n",
    "lf.grant_permissions(glue_role_arn, catalog_db_name, 'sales', permissions)\n",
    "lf.grant_permissions(glue_role_arn, catalog_db_name, 'customers', permissions)"
   ]
  },
  {
   "cell_type": "markdown",
   "metadata": {},
   "source": [
    "#### [Create Developer Endpoint](https://aws-dojo.com/ws8/labs/developer-endpoint/)\n",
    "\n",
    "- [AWS Tutorials - Interactively Develop Glue Job using Jupyter Notebook](https://www.youtube.com/watch?v=n4PVC5O_tJo)"
   ]
  },
  {
   "cell_type": "code",
   "execution_count": 30,
   "metadata": {},
   "outputs": [],
   "source": [
    "cmp_name1 = 'assume_role_for_glue_jobs' # Customer managed policy\n",
    "cmp_doc1 = {\n",
    "    \"Version\": \"2012-10-17\",\n",
    "    \"Statement\": [\n",
    "        {\n",
    "            \"Sid\": \"VisualEditor0\",\n",
    "            \"Effect\": \"Allow\",\n",
    "            \"Action\": [\n",
    "                \"iam:GetRole\",\n",
    "                \"iam:PassRole\"\n",
    "            ],\n",
    "            \"Resource\": f\"arn:aws:iam::{account_id}:role/{glue_role_name}-*\"\n",
    "        }\n",
    "    ]\n",
    "}\n",
    "\n",
    "create_policy_response1 = iam_client.create_policy(\n",
    "    PolicyName=cmp_name1,\n",
    "    PolicyDocument=json.dumps(cmp_doc1),\n",
    "    Description='assume_role_for_glue_jobs'\n",
    ")\n",
    "attach_role_policy_response = iam_client.attach_role_policy(\n",
    "    RoleName=glue_role_name,\n",
    "    PolicyArn=create_policy_response1[\"Policy\"][\"Arn\"]\n",
    ")"
   ]
  },
  {
   "cell_type": "code",
   "execution_count": null,
   "metadata": {},
   "outputs": [],
   "source": []
  },
  {
   "cell_type": "code",
   "execution_count": null,
   "metadata": {},
   "outputs": [],
   "source": []
  },
  {
   "cell_type": "markdown",
   "metadata": {},
   "source": [
    "#### Delete all Resources"
   ]
  },
  {
   "cell_type": "code",
   "execution_count": null,
   "metadata": {},
   "outputs": [],
   "source": [
    "# iam.delete_iam_policy(glue_policy_arn)\n",
    "# iam.delete_iam_role(glue_role_name)\n",
    "# s3.delete_s3_bucket(bucket_name)\n",
    "## lakeformation_client.deregister_resource(ResourceArn=f'arn:aws:s3:::{bucket_name}/{datalake_folder_name}')\n",
    "# glue_client.delete_database(CatalogId=catalog_id,Name=catalog_db_name)\n",
    "# response = glue_client.delete_crawler(Name=s3_crawler_name)"
   ]
  },
  {
   "cell_type": "code",
   "execution_count": null,
   "metadata": {},
   "outputs": [],
   "source": []
  }
 ],
 "metadata": {
  "kernelspec": {
   "display_name": "dsnb",
   "language": "python",
   "name": "python3"
  },
  "language_info": {
   "codemirror_mode": {
    "name": "ipython",
    "version": 3
   },
   "file_extension": ".py",
   "mimetype": "text/x-python",
   "name": "python",
   "nbconvert_exporter": "python",
   "pygments_lexer": "ipython3",
   "version": "3.9.6"
  }
 },
 "nbformat": 4,
 "nbformat_minor": 2
}
