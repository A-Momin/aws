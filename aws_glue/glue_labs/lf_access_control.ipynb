{
 "cells": [
  {
   "cell_type": "markdown",
   "metadata": {},
   "source": [
    "### [AWS Data Enginering](https://www.youtube.com/playlist?list=PLs7fR_1uLDaarvArh3bk_Q45MV5hKvaMG)"
   ]
  },
  {
   "cell_type": "code",
   "execution_count": null,
   "metadata": {},
   "outputs": [],
   "source": [
    "import boto3, botocore\n",
    "from botocore.exceptions import ClientError\n",
    "import os, time, json\n",
    "from datetime import date\n",
    "\n",
    "from misc import load_from_yaml, save_to_yaml\n",
    "import iam, s3, lf\n",
    "PASSWORD = os.environ['PASSWORD']\n"
   ]
  },
  {
   "cell_type": "code",
   "execution_count": null,
   "metadata": {},
   "outputs": [],
   "source": [
    "account_id = os.environ['AWS_ACCOUNT_ID_ROOT']\n",
    "# boto3.setup_default_session(profile_name=\"AMominNJ\")"
   ]
  },
  {
   "cell_type": "code",
   "execution_count": null,
   "metadata": {},
   "outputs": [],
   "source": [
    "sts_client = boto3.client('sts')\n",
    "iam_client = boto3.client('iam')\n",
    "s3_client = boto3.client('s3')\n",
    "glue_client = boto3.client('glue')\n",
    "lakeformation_client = boto3.client('lakeformation')"
   ]
  },
  {
   "cell_type": "code",
   "execution_count": null,
   "metadata": {},
   "outputs": [],
   "source": [
    "bucket_name, datalake_folder_name = 'httx-datalake-01', \"S3-Datalake\"\n",
    "catalog_db_name = 'httx-catalog-db'\n",
    "glue_role_name = \"httx-crawler-role\" \n",
    "s3_crawler_name = \"httx-s3crawler\""
   ]
  },
  {
   "cell_type": "markdown",
   "metadata": {},
   "source": [
    "#### [AWS Lake Formation initial setup](https://www.youtube.com/watch?v=pOm4UUwLRmQ&list=PLs7fR_1uLDaarvArh3bk_Q45MV5hKvaMG&index=1&t=3s)"
   ]
  },
  {
   "cell_type": "markdown",
   "metadata": {},
   "source": [
    "- Groups:\n",
    "  - Admins\n",
    "    - `AMominNJ` User\n",
    "  - Developers\n",
    "    - `dev1` User"
   ]
  },
  {
   "cell_type": "markdown",
   "metadata": {},
   "source": [
    "- Set `AMominNJ` user as LF Administrator\n",
    "- Grant the LF Administrator, `AMominNJ`, Database Creator permissions( `Catalog Permission`, `Grantable Permission`)\n",
    "- Unselect `Use only IAM access control for new databases` from LF Settings\n",
    "- Unselect `Use only IAM access control for new tables in new databases` from LF Settings"
   ]
  },
  {
   "cell_type": "code",
   "execution_count": null,
   "metadata": {},
   "outputs": [],
   "source": [
    "# Create IAM group\n",
    "dev_group = 'developers'\n",
    "dev_user_1 = 'dev1'"
   ]
  },
  {
   "cell_type": "code",
   "execution_count": null,
   "metadata": {},
   "outputs": [],
   "source": [
    "response = iam_client.create_group(GroupName=dev_group)\n",
    "\n",
    "print(f\"Group created: {response['Group']['GroupName']}\")"
   ]
  },
  {
   "cell_type": "code",
   "execution_count": null,
   "metadata": {},
   "outputs": [],
   "source": [
    "AWSGlueConsoleFullAccess_arn = \"arn:aws:iam::aws:policy/AWSGlueConsoleFullAccess\"\n",
    "# Attach `AWSGlueConsoleFullAccess_arn` policy with the `developers` group \n",
    "iam_client.attach_group_policy(\n",
    "    GroupName=dev_group,\n",
    "    PolicyArn=AWSGlueConsoleFullAccess_arn\n",
    ")"
   ]
  },
  {
   "cell_type": "code",
   "execution_count": null,
   "metadata": {},
   "outputs": [],
   "source": [
    "# iam.create_iam_user('dev1', 'password')\n",
    "# iam.delete_iam_user('dev1')"
   ]
  },
  {
   "cell_type": "code",
   "execution_count": null,
   "metadata": {},
   "outputs": [],
   "source": [
    "response = iam_client.get_user(UserName=dev_user_1)\n",
    "print(response['User']['UserName'], response['User']['Arn'], sep='\\n')"
   ]
  },
  {
   "cell_type": "code",
   "execution_count": null,
   "metadata": {},
   "outputs": [],
   "source": [
    "response = iam_client.add_user_to_group(\n",
    "    GroupName=dev_group,\n",
    "    UserName=dev_user_1\n",
    ")"
   ]
  },
  {
   "cell_type": "markdown",
   "metadata": {},
   "source": [
    "#### [AWS Lake Formation database creation and access](https://www.youtube.com/watch?v=Xtc75FeS21A&list=PLs7fR_1uLDaarvArh3bk_Q45MV5hKvaMG&index=2)"
   ]
  },
  {
   "cell_type": "markdown",
   "metadata": {},
   "source": [
    "- Create Lake Formation Data Catalog Database, `catalog_db_name` as `AMominNJ` admin user\n",
    "- Grant LF permissions to `dev_user_1` user on Catalog DB as `AMominNJ` admin user"
   ]
  },
  {
   "cell_type": "code",
   "execution_count": null,
   "metadata": {},
   "outputs": [],
   "source": [
    "s3.create_s3_bucket(bucket_name)"
   ]
  },
  {
   "cell_type": "code",
   "execution_count": null,
   "metadata": {},
   "outputs": [],
   "source": [
    "\n",
    "# lfdb_location_uri = f\"s3://{bucket_name}\"\n",
    "lfdb_location_uri = f\"s3://{bucket_name}/{datalake_folder_name}\"\n",
    "lf.create_glue_database(\n",
    "    catalog_db_name, catalog_id=account_id,\n",
    "    location_uri=lfdb_location_uri,\n",
    "    description=\"Data landing zone for sources\")\n",
    "# lf.register_s3_path_as_data_lake_location(lfdb_location_uri)"
   ]
  },
  {
   "cell_type": "markdown",
   "metadata": {},
   "source": [
    "- Grant LF permissions to `dev_user_1` user on Catalog DB."
   ]
  },
  {
   "cell_type": "code",
   "execution_count": null,
   "metadata": {},
   "outputs": [],
   "source": [
    "lf_principle_arn = f\"arn:aws:iam::{account_id}:user/{dev_user_1}\"\n",
    "data_lake_location_arn = f\"arn:aws:s3:::{bucket_name}/{datalake_folder_name}/\"\n",
    "\n",
    "# Grant multiple Lake Formation Permission to `dev1` user\n",
    "response = lakeformation_client.grant_permissions(\n",
    "    Principal={\n",
    "        'DataLakePrincipalIdentifier': lf_principle_arn # User: dev1\n",
    "    },\n",
    "    Resource={\n",
    "        'Database': {    # Grant `dev1` user database access\n",
    "            'Name': catalog_db_name\n",
    "        },\n",
    "        'DataLocation': { # Grant `dev1` user data location access\n",
    "            'ResourceArn': data_lake_location_arn\n",
    "        }\n",
    "    },\n",
    "    Permissions=['ALTER', 'DROP', 'CREATE_TABLE'],\n",
    "    PermissionsWithGrantOption=[]\n",
    ")"
   ]
  },
  {
   "cell_type": "markdown",
   "metadata": {},
   "source": [
    "#### [AWS Lake Formation access control model](https://www.youtube.com/watch?v=LQvARekJ1fM&list=PLs7fR_1uLDaarvArh3bk_Q45MV5hKvaMG&index=3)"
   ]
  },
  {
   "cell_type": "markdown",
   "metadata": {},
   "source": [
    "- Provide `dev_group` group full access to S3 bucket (`bucket_name`)"
   ]
  },
  {
   "cell_type": "code",
   "execution_count": null,
   "metadata": {},
   "outputs": [],
   "source": [
    "policy_name = 's3_full_access'\n",
    "description = f\"Full access to the {bucket_name}\""
   ]
  },
  {
   "cell_type": "code",
   "execution_count": null,
   "metadata": {},
   "outputs": [],
   "source": [
    "cmp_doc1 = {\n",
    "    \"Version\": \"2012-10-17\",\n",
    "    \"Statement\": [\n",
    "        {\n",
    "            \"Sid\": \"VisualEditor0\",\n",
    "            \"Effect\": \"Allow\",\n",
    "            \"Action\": [\n",
    "                \"s3:PauseReplication\",\n",
    "                \"s3:PutAnalyticsConfiguration\",\n",
    "                \"s3:GetObjectVersionTagging\",\n",
    "                \"s3:CreateBucket\",\n",
    "                \"s3:ReplicateObject\",\n",
    "                \"s3:GetObjectAcl\",\n",
    "                \"s3:GetBucketObjectLockConfiguration\",\n",
    "                \"s3:DeleteBucketWebsite\",\n",
    "                \"s3:GetIntelligentTieringConfiguration\",\n",
    "                \"s3:PutLifecycleConfiguration\",\n",
    "                \"s3:GetObjectVersionAcl\",\n",
    "                \"s3:PutObjectTagging\",\n",
    "                \"s3:DeleteObject\",\n",
    "                \"s3:DeleteObjectTagging\",\n",
    "                \"s3:GetBucketPolicyStatus\",\n",
    "                \"s3:GetObjectRetention\",\n",
    "                \"s3:GetBucketWebsite\",\n",
    "                \"s3:PutReplicationConfiguration\",\n",
    "                \"s3:GetObjectAttributes\",\n",
    "                \"s3:DeleteObjectVersionTagging\",\n",
    "                \"s3:PutObjectLegalHold\",\n",
    "                \"s3:InitiateReplication\",\n",
    "                \"s3:GetObjectLegalHold\",\n",
    "                \"s3:GetBucketNotification\",\n",
    "                \"s3:PutBucketCORS\",\n",
    "                \"s3:GetReplicationConfiguration\",\n",
    "                \"s3:ListMultipartUploadParts\",\n",
    "                \"s3:PutObject\",\n",
    "                \"s3:GetObject\",\n",
    "                \"s3:PutBucketNotification\",\n",
    "                \"s3:PutBucketLogging\",\n",
    "                \"s3:GetAnalyticsConfiguration\",\n",
    "                \"s3:PutBucketObjectLockConfiguration\",\n",
    "                \"s3:GetObjectVersionForReplication\",\n",
    "                \"s3:GetLifecycleConfiguration\",\n",
    "                \"s3:GetInventoryConfiguration\",\n",
    "                \"s3:GetBucketTagging\",\n",
    "                \"s3:PutAccelerateConfiguration\",\n",
    "                \"s3:DeleteObjectVersion\",\n",
    "                \"s3:GetBucketLogging\",\n",
    "                \"s3:ListBucketVersions\",\n",
    "                \"s3:ReplicateTags\",\n",
    "                \"s3:RestoreObject\",\n",
    "                \"s3:ListBucket\",\n",
    "                \"s3:GetAccelerateConfiguration\",\n",
    "                \"s3:GetObjectVersionAttributes\",\n",
    "                \"s3:GetBucketPolicy\",\n",
    "                \"s3:PutEncryptionConfiguration\",\n",
    "                \"s3:GetEncryptionConfiguration\",\n",
    "                \"s3:GetObjectVersionTorrent\",\n",
    "                \"s3:AbortMultipartUpload\",\n",
    "                \"s3:PutBucketTagging\",\n",
    "                \"s3:GetBucketRequestPayment\",\n",
    "                \"s3:GetObjectTagging\",\n",
    "                \"s3:GetMetricsConfiguration\",\n",
    "                \"s3:GetBucketOwnershipControls\",\n",
    "                \"s3:DeleteBucket\",\n",
    "                \"s3:PutBucketVersioning\",\n",
    "                \"s3:GetBucketPublicAccessBlock\",\n",
    "                \"s3:ListBucketMultipartUploads\",\n",
    "                \"s3:PutIntelligentTieringConfiguration\",\n",
    "                \"s3:PutMetricsConfiguration\",\n",
    "                \"s3:PutBucketOwnershipControls\",\n",
    "                \"s3:PutObjectVersionTagging\",\n",
    "                \"s3:GetBucketVersioning\",\n",
    "                \"s3:GetBucketAcl\",\n",
    "                \"s3:PutInventoryConfiguration\",\n",
    "                \"s3:GetObjectTorrent\",\n",
    "                \"s3:PutBucketWebsite\",\n",
    "                \"s3:PutBucketRequestPayment\",\n",
    "                \"s3:PutObjectRetention\",\n",
    "                \"s3:GetBucketCORS\",\n",
    "                \"s3:GetBucketLocation\",\n",
    "                \"s3:ReplicateDelete\",\n",
    "                \"s3:GetObjectVersion\"\n",
    "            ],\n",
    "            \"Resource\": [\n",
    "                f\"arn:aws:s3:::{bucket_name}/*\",\n",
    "                f\"arn:aws:s3:::{bucket_name}\"\n",
    "            ]\n",
    "        },\n",
    "        {\n",
    "            \"Sid\": \"VisualEditor1\",\n",
    "            \"Effect\": \"Allow\",\n",
    "            \"Action\": [\n",
    "                \"s3:ListAccessPointsForObjectLambda\",\n",
    "                \"s3:GetAccessPoint\",\n",
    "                \"s3:ListAccessPoints\",\n",
    "                \"s3:CreateStorageLensGroup\",\n",
    "                \"s3:ListJobs\",\n",
    "                \"s3:PutStorageLensConfiguration\",\n",
    "                \"s3:ListMultiRegionAccessPoints\",\n",
    "                \"s3:ListStorageLensGroups\",\n",
    "                \"s3:ListStorageLensConfigurations\",\n",
    "                \"s3:GetAccountPublicAccessBlock\",\n",
    "                \"s3:ListAllMyBuckets\",\n",
    "                \"s3:ListAccessGrantsInstances\",\n",
    "                \"s3:CreateJob\"\n",
    "            ],\n",
    "            \"Resource\": \"*\"\n",
    "        }\n",
    "    ]\n",
    "}\n",
    "\n",
    "create_policy_response1 = iam_client.create_policy(\n",
    "    PolicyName=policy_name,\n",
    "    PolicyDocument=json.dumps(cmp_doc1),\n",
    "    Description=description\n",
    ")\n",
    "attach_group_policy_response = iam_client.attach_group_policy(\n",
    "    GroupName=dev_group,\n",
    "    PolicyArn=create_policy_response1[\"Policy\"][\"Arn\"]\n",
    ")\n",
    "# print(attach_group_policy_response)"
   ]
  },
  {
   "cell_type": "markdown",
   "metadata": {},
   "source": [
    "#### [AWS Glue Permissions for different type of users](https://www.youtube.com/watch?v=D0d8XLaoi5c&list=PLs7fR_1uLDaarvArh3bk_Q45MV5hKvaMG&index=4)"
   ]
  },
  {
   "cell_type": "code",
   "execution_count": null,
   "metadata": {},
   "outputs": [],
   "source": [
    "filepath1 = \"./customers.csv\"\n",
    "key1 = f\"{datalake_folder_name}/customers.csv\"\n",
    "s3_client.put_object(Bucket=bucket_name, Key=datalake_folder_name)\n",
    "s3_client.upload_file(filepath1, bucket_name, key1)"
   ]
  },
  {
   "cell_type": "markdown",
   "metadata": {},
   "source": [
    "- Create `glue_role_name` role and attach `AWSGlueServiceRole` policy to the Role."
   ]
  },
  {
   "cell_type": "code",
   "execution_count": null,
   "metadata": {},
   "outputs": [],
   "source": [
    "assume_role_policy_doc = {\n",
    "    \"Version\": \"2012-10-17\",\n",
    "    \"Statement\": [\n",
    "        {\n",
    "            \"Effect\": \"Allow\",\n",
    "            \"Principal\": {\n",
    "                \"Service\": \"glue.amazonaws.com\"\n",
    "            },\n",
    "            \"Action\": \"sts:AssumeRole\"\n",
    "        }\n",
    "    ]\n",
    "}\n",
    "create_role_response = iam_client.create_role(\n",
    "    RoleName=glue_role_name,\n",
    "    AssumeRolePolicyDocument=json.dumps(assume_role_policy_doc),\n",
    "    Description=\"Glue Service Role Plus Customer Managed Policy\"\n",
    ")\n",
    "\n",
    "AWSGlueServiceRole_arn = \"arn:aws:iam::aws:policy/service-role/AWSGlueServiceRole\"\n",
    "\n",
    "# Attach AWS managed policy with the role\n",
    "response = iam_client.attach_role_policy(\n",
    "    RoleName=glue_role_name,\n",
    "    PolicyArn=AWSGlueServiceRole_arn\n",
    ")\n"
   ]
  },
  {
   "cell_type": "markdown",
   "metadata": {},
   "source": [
    "- Provide `glue_role_name` role full access to S3 bucket (`bucket_name`)"
   ]
  },
  {
   "cell_type": "code",
   "execution_count": null,
   "metadata": {},
   "outputs": [],
   "source": [
    "\n",
    "# Attach Customer managed policy with the role\n",
    "response = iam_client.attach_role_policy(\n",
    "    RoleName=glue_role_name,\n",
    "    PolicyArn=create_policy_response1[\"Policy\"][\"Arn\"]\n",
    ")"
   ]
  },
  {
   "cell_type": "markdown",
   "metadata": {},
   "source": [
    "-   Create Customer Managed Policy for `iam:GetRole` & `\"iam:PassRole\"` and attach it to the group (`dev_group`)"
   ]
  },
  {
   "cell_type": "code",
   "execution_count": null,
   "metadata": {},
   "outputs": [],
   "source": [
    "cmp_name2 = 'assume_role_for_glue_jobs' # Customer managed policy\n",
    "cmp_doc2 = {\n",
    "    \"Version\": \"2012-10-17\",\n",
    "    \"Statement\": [\n",
    "        {\n",
    "            \"Sid\": \"VisualEditor0\",\n",
    "            \"Effect\": \"Allow\",\n",
    "            \"Action\": [\n",
    "                \"iam:GetRole\",\n",
    "                \"iam:PassRole\"\n",
    "            ],\n",
    "            \"Resource\": f\"arn:aws:iam::{account_id}:role/httx-glue-dev-landing-*\"\n",
    "        }\n",
    "    ]\n",
    "}\n",
    "\n",
    "create_policy_response2 = iam_client.create_policy(\n",
    "    PolicyName=cmp_name2,\n",
    "    PolicyDocument=json.dumps(cmp_doc2),\n",
    "    Description='assume_role_for_glue_jobs'\n",
    ")\n",
    "attach_group_policy_response = iam_client.attach_group_policy(\n",
    "    GroupName=dev_group,\n",
    "    PolicyArn=create_policy_response2[\"Policy\"][\"Arn\"]\n",
    ")"
   ]
  },
  {
   "cell_type": "markdown",
   "metadata": {},
   "source": [
    "- Create Glue Crawler as developer user (`dev_user_1`)"
   ]
  },
  {
   "cell_type": "code",
   "execution_count": null,
   "metadata": {},
   "outputs": [],
   "source": [
    "boto3.setup_default_session(profile_name=dev_user_1)\n",
    "\n",
    "glue_role_arn = create_role_response['Role']['Arn']\n",
    "create_crawler_response1 = glue_client.create_crawler(\n",
    "    Name=s3_crawler_name,\n",
    "    Role=glue_role_arn,\n",
    "    DatabaseName=catalog_db_name,\n",
    "    Description='Crawler for generated customer schema',\n",
    "    Targets={\n",
    "        'S3Targets': [\n",
    "            {\n",
    "                'Path': f\"s3://{bucket_name}/{datalake_folder_name}\",\n",
    "                'Exclusions': []\n",
    "            },\n",
    "        ]\n",
    "    },\n",
    "    SchemaChangePolicy={\n",
    "        'UpdateBehavior': 'UPDATE_IN_DATABASE',\n",
    "        'DeleteBehavior': 'DELETE_FROM_DATABASE'\n",
    "    },\n",
    "    RecrawlPolicy={\n",
    "        'RecrawlBehavior': 'CRAWL_EVERYTHING'\n",
    "    },\n",
    "    #,Configuration='{ \"Version\": 1.0, \"CrawlerOutput\": { \"Partitions\": { \"AddOrUpdateBehavior\": \"InheritFromTable\" } } }'\n",
    ")\n",
    "print(response)"
   ]
  },
  {
   "cell_type": "markdown",
   "metadata": {},
   "source": [
    "-   Create Customer Managed Policy (`cloudwatch_on_glue`) and attach it to the group (`dev_group`)"
   ]
  },
  {
   "cell_type": "code",
   "execution_count": null,
   "metadata": {},
   "outputs": [],
   "source": [
    "cmp_name3 = 'cloudwatchlog_glue' # Customer managed policy\n",
    "cmp_doc3 = {\n",
    "    \"Version\": \"2012-10-17\",\n",
    "    \"Statement\": [\n",
    "        {\n",
    "            \"Sid\": \"VisualEditor0\",\n",
    "            \"Effect\": \"Allow\",\n",
    "            \"Action\": [\n",
    "                \"logs:ListTagsLogGroup\",\n",
    "                \"logs:GetDataProtectionPolicy\",\n",
    "                \"logs:ListAnomalies\",\n",
    "                \"logs:GetDelivery\",\n",
    "                \"logs:GetLogRecord\",\n",
    "                \"logs:ListLogAnomalyDetectors\",\n",
    "                \"logs:DescribeLogStreams\",\n",
    "                \"logs:DescribeSubscriptionFilters\",\n",
    "                \"logs:StartQuery\",\n",
    "                \"logs:Unmask\",\n",
    "                \"logs:GetDeliveryDestinationPolicy\",\n",
    "                \"logs:DescribeMetricFilters\",\n",
    "                \"logs:GetDeliveryDestination\",\n",
    "                \"logs:GetLogAnomalyDetector\",\n",
    "                \"logs:ListTagsForResource\",\n",
    "                \"logs:GetDeliverySource\",\n",
    "                \"logs:GetQueryResults\",\n",
    "                \"logs:StartLiveTail\",\n",
    "                \"logs:GetLogEvents\",\n",
    "                \"logs:FilterLogEvents\",\n",
    "                \"logs:GetLogGroupFields\"\n",
    "            ],\n",
    "            \"Resource\": f\"arn:aws:logs:us-east-1:{account_id}:log-group:aws-glue/*\"\n",
    "        },\n",
    "        {\n",
    "            \"Sid\": \"VisualEditor1\",\n",
    "            \"Effect\": \"Allow\",\n",
    "            \"Action\": [\n",
    "                \"logs:DescribeQueries\",\n",
    "                \"logs:DescribeLogGroups\",\n",
    "                \"logs:DescribeAccountPolicies\",\n",
    "                \"logs:DescribeDeliverySources\",\n",
    "                \"logs:StopQuery\",\n",
    "                \"logs:TestMetricFilter\",\n",
    "                \"logs:GetLogDelivery\",\n",
    "                \"logs:ListLogDeliveries\",\n",
    "                \"logs:DescribeDeliveryDestinations\",\n",
    "                \"logs:DescribeExportTasks\",\n",
    "                \"logs:StopLiveTail\",\n",
    "                \"logs:DescribeDeliveries\",\n",
    "                \"logs:DescribeQueryDefinitions\",\n",
    "                \"logs:DescribeResourcePolicies\",\n",
    "                \"logs:DescribeDestinations\"\n",
    "            ],\n",
    "            \"Resource\": \"*\"\n",
    "        }\n",
    "    ]\n",
    "}\n",
    "\n",
    "create_policy_response3 = iam_client.create_policy(\n",
    "    PolicyName=cmp_name3,\n",
    "    PolicyDocument=json.dumps(cmp_doc3),\n",
    "    Description='Access for developer group to read Glue Cloudwatch logs.'\n",
    ")\n",
    "attach_group_policy_response = iam_client.attach_group_policy(\n",
    "    GroupName=dev_group,\n",
    "    PolicyArn=create_policy_response3[\"Policy\"][\"Arn\"]\n",
    ")"
   ]
  },
  {
   "cell_type": "markdown",
   "metadata": {},
   "source": [
    "<b style=\"color:red\">User</b>: arn:aws:iam::381492255899:user/dev1 is not authorized to perform: logs:DescribeLogStreams on resource: arn:aws:logs:us-east-1:381492255899:log-group:/aws-glue/crawlers:log-stream: because no identity-based policy allows the logs:DescribeLogStreams action"
   ]
  },
  {
   "cell_type": "markdown",
   "metadata": {},
   "source": [
    "- Grant LF permissions (`ALL`) to `glue_role_name` Role on Catalog DB."
   ]
  },
  {
   "cell_type": "code",
   "execution_count": null,
   "metadata": {},
   "outputs": [],
   "source": [
    "lf_principle = create_role_response['Role']['Arn'] # glue_role_arn\n",
    "data_lake_location_arn = f\"arn:aws:s3:::{bucket_name}/{datalake_folder_name}/\"\n",
    "response = lakeformation_client.grant_permissions(\n",
    "    Principal={\n",
    "        'DataLakePrincipalIdentifier': lf_principle\n",
    "    },\n",
    "    Resource={\n",
    "        'Database': {\n",
    "            'Name': catalog_db_name\n",
    "        },\n",
    "        'DataLocation': {\n",
    "            'ResourceArn': data_lake_location_arn\n",
    "        }\n",
    "    },\n",
    "    Permissions=['ALL'],\n",
    "    PermissionsWithGrantOption=[]\n",
    ")"
   ]
  },
  {
   "cell_type": "markdown",
   "metadata": {},
   "source": [
    "- Grant Table level permission (`ALL`) to `dev_user_1`"
   ]
  },
  {
   "cell_type": "code",
   "execution_count": null,
   "metadata": {},
   "outputs": [],
   "source": [
    "lf_principle = f\"arn:aws:iam::{account_id}:user/{dev_user_1}\" # user_arn\n",
    "response = lakeformation_client.grant_permissions(\n",
    "    Principal={\n",
    "        'DataLakePrincipalIdentifier': lf_principle\n",
    "    },\n",
    "    Resource={\n",
    "        'Table': {\n",
    "            'DatabaseName': f\"{catalog_db_name}\",\n",
    "            'TableWildcard': {}\n",
    "        }\n",
    "    },\n",
    "    Permissions=['ALL'],\n",
    "    PermissionsWithGrantOption=[]\n",
    ")"
   ]
  },
  {
   "cell_type": "code",
   "execution_count": null,
   "metadata": {},
   "outputs": [],
   "source": [
    "# boto3.setup_default_session(profile_name=\"dev1\")\n",
    "# run_crawler_response = glue_client.start_crawler(Name=crawler_name)\n",
    "# print(run_crawler_response)"
   ]
  },
  {
   "cell_type": "markdown",
   "metadata": {},
   "source": [
    "#### Delete Resources"
   ]
  },
  {
   "cell_type": "code",
   "execution_count": null,
   "metadata": {},
   "outputs": [],
   "source": [
    "# s3 = boto3.resource('s3')\n",
    "# bucket = s3.Bucket(bucket_name)\n",
    "\n",
    "# # Delete all objects in the bucket\n",
    "# bucket.objects.all().delete()\n",
    "\n",
    "# # Delete all object versions (if versioning is enabled)\n",
    "# bucket.object_versions.all().delete()\n",
    "\n",
    "# # Finally, delete the bucket\n",
    "# bucket.delete()\n",
    "\n",
    "# s3_client.delete_object(Bucket=bucket_name, Key=key1)         # delete csv file\n",
    "# s3_client.delete_object(Bucket=bucket_name, Key=\"test-dataset\")    # delete folder\n",
    "# s3_client.delete_bucket(Bucket=bucket_name)"
   ]
  },
  {
   "cell_type": "code",
   "execution_count": null,
   "metadata": {},
   "outputs": [],
   "source": [
    "# iam.delete_iam_role(role_name)\n",
    "# iam.delete_iam_policy(create_policy_response1[\"Policy\"][\"Arn\"])\n",
    "# iam.delete_iam_policy(create_policy_response2[\"Policy\"][\"Arn\"])\n",
    "# iam.delete_iam_policy(create_policy_response3[\"Policy\"][\"Arn\"])"
   ]
  },
  {
   "cell_type": "code",
   "execution_count": null,
   "metadata": {},
   "outputs": [],
   "source": [
    "# boto3.setup_default_session(profile_name=\"AMominNJ\")\n",
    "\n",
    "# lakeformation_client.deregister_resource(ResourceArn=f'arn:aws:s3:::{bucket_name}/data')\n",
    "\n",
    "# response = iam_client.detach_group_policy(GroupName='developers',PolicyArn=create_policy_response3[\"Policy\"][\"Arn\"])\n",
    "# response = iam_client.delete_policy(PolicyArn=create_policy_response1[\"Policy\"][\"Arn\"])\n",
    "# response = iam_client.delete_policy(PolicyArn=create_policy_response2[\"Policy\"][\"Arn\"])\n",
    "# response = iam_client.delete_policy(PolicyArn=create_policy_response3[\"Policy\"][\"Arn\"])\n",
    "# iam_client.delete_role(RoleName=role_name)\n"
   ]
  },
  {
   "cell_type": "code",
   "execution_count": null,
   "metadata": {},
   "outputs": [],
   "source": [
    "# lf_principle = create_role_response['Role']['Arn'] # `httx-glue-dev-landing-test-dataset` role ARN\n",
    "# data_lake_location_arn = f\"arn:aws:s3:::{bucket_name}/{datalake_folder_name}/\"\n",
    "# lf_principle = f\"arn:aws:iam::{account_id}:user/dev1\"\n",
    "\n",
    "# response = lakeformation_client.revoke_permissions(\n",
    "#     Principal={\n",
    "#         'DataLakePrincipalIdentifier': lf_principle\n",
    "#     },\n",
    "#     Resource={\n",
    "#         'Database': {\n",
    "#             'Name': 'httx-landing-data'\n",
    "#         },\n",
    "#         'DataLocation': {\n",
    "#             'ResourceArn': data_lake_location_arn\n",
    "#         }\n",
    "#     },\n",
    "#     Permissions=['ALL'],\n",
    "#     PermissionsWithGrantOption=[]\n",
    "# )\n",
    "\n",
    "\n",
    "# response = lakeformation_client.revoke_permissions(\n",
    "#     Principal={\n",
    "#         'DataLakePrincipalIdentifier': lf_principle\n",
    "#     },\n",
    "#     Resource={\n",
    "#         'Database': {    # Grant `dev1` user database access\n",
    "#             'Name': 'httx-landing-data'\n",
    "#         },\n",
    "#         'DataLocation': { # Grant `dev1` user data location access\n",
    "#             'ResourceArn': data_lake_location_arn\n",
    "#         },\n",
    "#         'Table': {\n",
    "#             'DatabaseName': 'httx-landing-data',\n",
    "#             'TableWildcard': {}\n",
    "#         }\n",
    "#     },\n",
    "#     Permissions=['ALL'],\n",
    "#     PermissionsWithGrantOption=[]\n",
    "# )"
   ]
  },
  {
   "cell_type": "code",
   "execution_count": null,
   "metadata": {},
   "outputs": [],
   "source": []
  },
  {
   "cell_type": "code",
   "execution_count": null,
   "metadata": {},
   "outputs": [],
   "source": [
    "# glue_client.delete_database(CatalogId=account_id,Name=database_name)\n",
    "# glue_client.delete_crawler(Name=crawler_name)"
   ]
  }
 ],
 "metadata": {
  "kernelspec": {
   "display_name": "dsnb",
   "language": "python",
   "name": "python3"
  },
  "language_info": {
   "codemirror_mode": {
    "name": "ipython",
    "version": 3
   },
   "file_extension": ".py",
   "mimetype": "text/x-python",
   "name": "python",
   "nbconvert_exporter": "python",
   "pygments_lexer": "ipython3",
   "version": "3.9.6"
  }
 },
 "nbformat": 4,
 "nbformat_minor": 2
}
