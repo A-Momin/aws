{
 "cells": [
  {
   "cell_type": "code",
   "execution_count": null,
   "metadata": {},
   "outputs": [],
   "source": [
    "import boto3, botocore\n",
    "from botocore.exceptions import ClientError\n",
    "import os, time, json\n",
    "from datetime import date\n",
    "\n",
    "from misc import load_from_yaml, save_to_yaml\n",
    "import iam, s3, lf, rds, glue\n",
    "\n",
    "# boto3.setup_default_session(profile_name=\"AMominNJ\")"
   ]
  },
  {
   "cell_type": "code",
   "execution_count": null,
   "metadata": {},
   "outputs": [],
   "source": [
    "ACCOUNT_ID          = os.environ['AWS_ACCOUNT_ID_ROOT']\n",
    "REGION              = os.environ['AWS_DEFAULT_REGION']\n",
    "VPC_ID              = os.environ['AWS_DEFAULT_VPC']\n",
    "SECURITY_GROUP_ID   = os.environ['AWS_DEFAULT_SG_ID']\n",
    "SUBNET_IDS       = SUBNET_IDS = os.environ[\"AWS_DEFAULT_SUBNET_IDS\"].split(\":\")\n",
    "SUBNET_ID           = SUBNET_IDS[0]\n",
    "print(SUBNET_IDS)"
   ]
  },
  {
   "cell_type": "code",
   "execution_count": null,
   "metadata": {},
   "outputs": [],
   "source": [
    "sts_client           = boto3.client('sts')\n",
    "rds_client           = boto3.client('rds')\n",
    "iam_client           = boto3.client('iam')\n",
    "s3_client            = boto3.client('s3')\n",
    "glue_client          = boto3.client('glue')\n",
    "lakeformation_client = boto3.client('lakeformation')\n",
    "ec2_client           = boto3.client('ec2', region_name=REGION)\n",
    "ec2_resource         = boto3.resource('ec2', region_name=REGION)"
   ]
  },
  {
   "cell_type": "code",
   "execution_count": null,
   "metadata": {},
   "outputs": [],
   "source": [
    "# vpc_cidr_block = '172.0.0.0/16'"
   ]
  },
  {
   "cell_type": "code",
   "execution_count": null,
   "metadata": {},
   "outputs": [],
   "source": [
    "bucket_name, datalake_folder_name = 'httx-datalake-bkt', \"S3-Datalake\"\n",
    "CATALOG_DB_NAME = 'httx-catalog-db'\n",
    "catalog_db_name = 'httx-catalog-db'\n",
    "glue_role_name = \"httx-glue-role\"\n",
    "S3_CRAWLER_NAME = \"httx-s3crawler\"\n",
    "RDS_MYSQL_CRAWLER_NAME = \"mysql-crawler\""
   ]
  },
  {
   "cell_type": "markdown",
   "metadata": {},
   "source": [
    "### [Introduction to Data Catalog in AWS Lake Formation](https://www.youtube.com/watch?v=7U8G3DxTSaU&list=PL8RIJKpVAN1euv-WAoggrdI_wX3zeb9uR&index=2)"
   ]
  },
  {
   "cell_type": "markdown",
   "metadata": {},
   "source": [
    "#### Create S3 Bucket and Folders"
   ]
  },
  {
   "cell_type": "code",
   "execution_count": null,
   "metadata": {},
   "outputs": [],
   "source": [
    "s3.create_s3_bucket(bucket_name)"
   ]
  },
  {
   "cell_type": "code",
   "execution_count": null,
   "metadata": {},
   "outputs": [],
   "source": [
    "enable_versioning = False                   # Enable versioning\n",
    "enable_encryption = False                   # Enable server-side encryption\n",
    "\n",
    "customers_folder, employees_folder = \"customers\", 'employees'\n",
    "scripts_folder = 'scripts'\n",
    "athena_folder = 'athena'\n",
    "libraries_folder = \"software_libraries\"\n",
    "\n",
    "folders = [datalake_folder_name, customers_folder, scripts_folder, athena_folder, libraries_folder, employees_folder]     # List of folders to create\n"
   ]
  },
  {
   "cell_type": "code",
   "execution_count": null,
   "metadata": {},
   "outputs": [],
   "source": [
    "file_name1 = './customers.csv'  # The local file you want to upload\n",
    "object_name1 = f\"{customers_folder}/customers.csv\"  # The name to save the file as in the S3 bucket\n",
    "\n",
    "# Upload the file\n",
    "s3.upload_file_to_s3(bucket_name, file_name1, object_name1)"
   ]
  },
  {
   "cell_type": "markdown",
   "metadata": {},
   "source": [
    "#### Create Glue Catalog Database"
   ]
  },
  {
   "cell_type": "code",
   "execution_count": null,
   "metadata": {},
   "outputs": [],
   "source": [
    "## Example usage\n",
    "catalog_id = ACCOUNT_ID\n",
    "datalake_location_uri = f\"s3://{bucket_name}/{datalake_folder_name}\"\n",
    "\n",
    "create_database_response = glue_client.create_database(\n",
    "    CatalogId=catalog_id,\n",
    "    DatabaseInput={\n",
    "        'Name': CATALOG_DB_NAME,\n",
    "        'Description': 'This is a Glue Catalog database',\n",
    "        'LocationUri': datalake_location_uri,\n",
    "    }\n",
    ")\n",
    "print(create_database_response)"
   ]
  },
  {
   "cell_type": "code",
   "execution_count": null,
   "metadata": {},
   "outputs": [],
   "source": [
    "# glue_client.update_database(\n",
    "#     CatalogId=catalog_id,\n",
    "#     Name=catalog_db_name,\n",
    "#     DatabaseInput={\n",
    "#         'Name': catalog_db_name,\n",
    "#         'UseOnlyIamAccessControl': False\n",
    "#     }\n",
    "# )\n",
    "# lf.register_s3_path_as_data_lake_location(lfdb_location_uri)"
   ]
  },
  {
   "cell_type": "markdown",
   "metadata": {},
   "source": [
    "### [Lake Formation Data Access Control](https://www.youtube.com/watch?v=PYw4wtyhxbI&list=PL8RIJKpVAN1euv-WAoggrdI_wX3zeb9uR&index=3)"
   ]
  },
  {
   "cell_type": "markdown",
   "metadata": {},
   "source": [
    "### [Glue Crawler (RDS)](https://www.youtube.com/watch?v=nVtvzFUUmZ8&list=PL8RIJKpVAN1euv-WAoggrdI_wX3zeb9uR&index=4) || `SUCCESS`\n",
    "\n",
    "- [PART 3 - How to pull data from RDS through AWS Glue | RDS with AWS Glue](https://www.youtube.com/watch?v=4m0tFvhnZE8&t=365s)"
   ]
  },
  {
   "cell_type": "markdown",
   "metadata": {},
   "source": [
    "#### Create a Role for AWS Glue Service"
   ]
  },
  {
   "cell_type": "markdown",
   "metadata": {},
   "source": [
    "- Create aws glue role by the name of `glue_role_name`.\n",
    "- Assign AWS Glue Service Policy (`AWSGlueServiceRole`) to the role."
   ]
  },
  {
   "cell_type": "code",
   "execution_count": null,
   "metadata": {},
   "outputs": [],
   "source": [
    "assume_role_policy_doc = {\n",
    "    \"Version\": \"2012-10-17\",\n",
    "    \"Statement\": [\n",
    "        {\n",
    "            \"Effect\": \"Allow\",\n",
    "            \"Principal\": {\n",
    "                \"Service\": \"glue.amazonaws.com\"\n",
    "            },\n",
    "            \"Action\": \"sts:AssumeRole\"\n",
    "        }\n",
    "    ]\n",
    "}\n",
    "create_role_response = iam_client.create_role(\n",
    "    RoleName=glue_role_name,\n",
    "    AssumeRolePolicyDocument=json.dumps(assume_role_policy_doc),\n",
    "    Description=\"Glue Service Role\"\n",
    ")\n",
    "GLUE_ROLE_ARN = create_role_response['Role']['Arn']"
   ]
  },
  {
   "cell_type": "code",
   "execution_count": null,
   "metadata": {},
   "outputs": [],
   "source": [
    "# aws_glue_service_policy_arn = \"arn:aws:iam::aws:policy/service-role/AWSGlueServiceRole\"\n",
    "# admin_access_policy_arn = \"arn:aws:iam::aws:policy/AdministratorAccess\"\n",
    "power_user_access_policy_arn = \"arn:aws:iam::aws:policy/PowerUserAccess\""
   ]
  },
  {
   "cell_type": "code",
   "execution_count": null,
   "metadata": {},
   "outputs": [],
   "source": [
    "# Attach AWS managed policy with the role\n",
    "response = iam_client.attach_role_policy(\n",
    "    RoleName=glue_role_name,\n",
    "    PolicyArn=power_user_access_policy_arn\n",
    ")"
   ]
  },
  {
   "cell_type": "markdown",
   "metadata": {},
   "source": [
    "- Grant `CREATE_TABLE` permission to `glue_role_name` on data catalog DB."
   ]
  },
  {
   "cell_type": "code",
   "execution_count": null,
   "metadata": {},
   "outputs": [],
   "source": [
    "# Arn for glue_role_name\n",
    "lf_principle = GLUE_ROLE_ARN\n",
    "\n",
    "# Grant 'CREATE_TABLE' LF Permission to `glue_role_name` Role\n",
    "response = lakeformation_client.grant_permissions(\n",
    "    Principal={\n",
    "        'DataLakePrincipalIdentifier': lf_principle\n",
    "    },\n",
    "    Resource={\n",
    "        'Database': {\n",
    "            'Name': CATALOG_DB_NAME\n",
    "        }\n",
    "    },\n",
    "    Permissions=['CREATE_TABLE'],\n",
    "    PermissionsWithGrantOption=[]\n",
    ")"
   ]
  },
  {
   "cell_type": "markdown",
   "metadata": {},
   "source": [
    "#### Start RDS"
   ]
  },
  {
   "cell_type": "markdown",
   "metadata": {},
   "source": [
    "-   Create and connect to an RDS instance\n",
    "-   Create table and insert data using SQL script"
   ]
  },
  {
   "cell_type": "code",
   "execution_count": null,
   "metadata": {},
   "outputs": [],
   "source": [
    "# rds.get_rds_instance_parameters('mysqlrds1')"
   ]
  },
  {
   "cell_type": "code",
   "execution_count": null,
   "metadata": {},
   "outputs": [],
   "source": [
    "db_instance_identifier_mysqlrds1 = 'httx-rds-mysql'\n",
    "mysql_db_name = 'interview_questions'\n",
    "DB_PASSWORD = os.environ['PASSWORD']\n",
    "DB_USERNAME = os.environ['USERNAME']\n",
    "mysql_endpoint = ''                     # It will be replaced after RDS instance get created\n",
    "postgresql_endpoint = ''                # It will be replaced after RDS instance get created\n",
    "mysql_port = '3306'\n",
    "vpc_id = 'vpc-03617a8a518caa526'        # Default VPC\n",
    "security_group_id = 'sg-07f4ccd7a5be677ea'\n",
    "SUBNET_GROUP_NAME = 'httx-rds-subnet-group'"
   ]
  },
  {
   "cell_type": "code",
   "execution_count": null,
   "metadata": {},
   "outputs": [],
   "source": [
    "# Create the RDS subnet group\n",
    "response = rds_client.create_db_subnet_group(\n",
    "    DBSubnetGroupName=SUBNET_GROUP_NAME,\n",
    "    DBSubnetGroupDescription='Subnet group for RDS instance',\n",
    "    SubnetIds=SUBNET_IDS\n",
    ")"
   ]
  },
  {
   "cell_type": "code",
   "execution_count": null,
   "metadata": {},
   "outputs": [],
   "source": [
    "rds_instances = [\n",
    "    {\n",
    "        'db_instance_identifier': 'httx-rds-postgresql',\n",
    "        'db_name': 'interview_questions',\n",
    "        'db_username': DB_USERNAME,\n",
    "        'db_password': DB_PASSWORD,\n",
    "        'port': 5432,\n",
    "        'engine': 'postgres',\n",
    "        'engine_version': '14.13',\n",
    "        'db_instance_class': 'db.t3.micro',\n",
    "        'allocated_storage': 20,\n",
    "        'availability_zone': 'us-east-1a',\n",
    "        'tags': [{'Key': 'Project', 'Value': 'glue-rds-Crawler'}],\n",
    "        'security_group_ids': [SECURITY_GROUP_ID],\n",
    "        'db_subnet_group_name': SUBNET_GROUP_NAME,\n",
    "    },\n",
    "    {\n",
    "        'db_instance_identifier': db_instance_identifier_mysqlrds1,\n",
    "        'db_name': mysql_db_name,\n",
    "        'db_username': DB_USERNAME,\n",
    "        'db_password': DB_PASSWORD,\n",
    "        'engine': 'mysql',\n",
    "        'port': 3306,\n",
    "        'engine_version': '8.0.32',\n",
    "        'db_instance_class': 'db.t3.micro',\n",
    "        'allocated_storage': 20,\n",
    "        'availability_zone': 'us-east-1a',\n",
    "        'tags': [{'Key': 'Project', 'Value': 'glue-rds-Crawler'}],\n",
    "        'security_group_ids': [SECURITY_GROUP_ID],\n",
    "        'db_subnet_group_name': SUBNET_GROUP_NAME,\n",
    "    }\n",
    "]"
   ]
  },
  {
   "cell_type": "code",
   "execution_count": null,
   "metadata": {},
   "outputs": [],
   "source": [
    "# rds.create_rds_instance(**rds_instances[0])   # 'httx-rds-postgresql'\n",
    "# rds.create_rds_instance(**rds_instances[1])   # 'httx-rds-mysql'"
   ]
  },
  {
   "cell_type": "code",
   "execution_count": null,
   "metadata": {},
   "outputs": [],
   "source": [
    "# Describe the RDS instance\n",
    "response = rds_client.describe_db_instances(\n",
    "    DBInstanceIdentifier=db_instance_identifier_mysqlrds1\n",
    ")\n",
    "\n",
    "# Extract the instance details\n",
    "db_instances = response['DBInstances']\n",
    "if db_instances:\n",
    "    instance = db_instances[0]\n",
    "    status = instance['DBInstanceStatus']\n",
    "    \n",
    "    if status == 'available':\n",
    "        mysql_endpoint = instance['Endpoint']['Address']\n",
    "        print(f\"RDS Endpoint: {mysql_endpoint}\")\n",
    "    else:\n",
    "        print(f\"RDS instance is in {status} state, NO ENDPOINT AVAILABLE YET!!\")\n",
    "else:\n",
    "    print(\"No RDS instance found.\")"
   ]
  },
  {
   "cell_type": "code",
   "execution_count": null,
   "metadata": {},
   "outputs": [],
   "source": [
    "print(DB_USERNAME, DB_PASSWORD)"
   ]
  },
  {
   "cell_type": "code",
   "execution_count": null,
   "metadata": {},
   "outputs": [],
   "source": [
    "# ! mysql -h {mysql_endpoint} -P {mysql_port} -u {DB_USERNAME} -p'{DB_PASSWORD}' interview_questions < /Users/am/mydocs/Software_Development/Web_Development/aws/aws_rds/mysql_interview_questions.sql\n",
    "# ! PGPASSWORD={DB_PASSWORD} psql -h {postgresql_endpoint} -p {rds_instances[0]['port']} -U {DB_USERNAME} -d interview_questions < /Users/am/mydocs/Software_Development/Web_Development/aws/aws_rds/psql_interview_questions.sql"
   ]
  },
  {
   "cell_type": "markdown",
   "metadata": {},
   "source": [
    "-   `Gateway` endpoints serve as a target for a route in your route table for traffic destined for the service."
   ]
  },
  {
   "cell_type": "code",
   "execution_count": null,
   "metadata": {},
   "outputs": [],
   "source": [
    "# VPC Endpoint parameters\n",
    "vpc_endpoint_tag = 'rds-vpc-endpoint'\n",
    "service_name = f\"com.amazonaws.{REGION}.s3\"\n",
    "SECURITY_GROUP_IDS = [SECURITY_GROUP_ID]  # Security group(s) associated with the endpoint\n",
    "ROUTE_TABLE_IDS = ['rtb-0ec4311296ec952f8']\n",
    "\n",
    "# Create an Interface Endpoint\n",
    "vpc_endpoint_id = ec2_client.create_vpc_endpoint(\n",
    "    VpcEndpointType='Gateway',\n",
    "    VpcId=vpc_id,\n",
    "    ServiceName=service_name,\n",
    "    RouteTableIds=ROUTE_TABLE_IDS,\n",
    "    # SubnetIds=sg_id,\n",
    "    # SecurityGroupIds=SECURITY_GROUP_IDS,\n",
    "    PrivateDnsEnabled=False  # Enable private DNS to resolve service names within the VPC\n",
    ")['VpcEndpoint']['VpcEndpointId']"
   ]
  },
  {
   "cell_type": "code",
   "execution_count": null,
   "metadata": {},
   "outputs": [],
   "source": [
    "ec2_client.create_tags(Resources=[vpc_endpoint_id],Tags=[{'Key': 'Name', 'Value': vpc_endpoint_tag}])"
   ]
  },
  {
   "cell_type": "code",
   "execution_count": null,
   "metadata": {},
   "outputs": [],
   "source": []
  },
  {
   "cell_type": "markdown",
   "metadata": {},
   "source": [
    "#### Create JDBC connection for Glue Crawler."
   ]
  },
  {
   "cell_type": "code",
   "execution_count": null,
   "metadata": {},
   "outputs": [],
   "source": [
    "# glue_client.delete_connection?\n",
    "# glue_client.get_connection?"
   ]
  },
  {
   "cell_type": "markdown",
   "metadata": {},
   "source": [
    "- MySQL Connection"
   ]
  },
  {
   "cell_type": "code",
   "execution_count": null,
   "metadata": {},
   "outputs": [],
   "source": [
    "glue_mysql_connection_name = \"glue-mysql-connection\"\n",
    "\n",
    "# Construct the connection properties\n",
    "connection_properties = {\n",
    "    'JDBC_CONNECTION_URL': f\"jdbc:mysql://{mysql_endpoint}:3306/{mysql_db_name}\",\n",
    "    'USERNAME': DB_USERNAME,\n",
    "    'PASSWORD': DB_PASSWORD,\n",
    "    # 'JDBC_DRIVER_S3_PATH': 's3://httx-data-lake-01/software_libraries/mysql-connector-j-8.0.32.jar',\n",
    "    # 'JDBC_DRIVER_CLASS_NAME': 'com.mysql.cj.jdbc.Driver'\n",
    "}\n",
    "\n",
    "# Construct the physical connection requirements\n",
    "physical_connection_requirements = {\n",
    "    'SecurityGroupIdList': [security_group_id],\n",
    "    'SubnetId': SUBNET_IDS[0]\n",
    "    # 'AvailabilityZone': 'us-east-1a'\n",
    "}\n",
    "\n",
    "response = glue_client.create_connection(\n",
    "    ConnectionInput={\n",
    "        \"Name\": glue_mysql_connection_name,\n",
    "        \"ConnectionType\": \"JDBC\",\n",
    "        \"ConnectionProperties\": connection_properties,\n",
    "        \"PhysicalConnectionRequirements\": physical_connection_requirements\n",
    "    },\n",
    "    Tags={'string': 'string'}\n",
    ")"
   ]
  },
  {
   "cell_type": "markdown",
   "metadata": {},
   "source": [
    "- **Test the Connection**:\n",
    "    -   <b style=\"color:red\">NOTES</b>: For some unknown reasons connection made Using the SDK (Boto3) does not work unless you make some random eidt on the connection from AWS Console.\n",
    "    -   <b style=\"color:red\">InvalidInputException</b>: At least one security group must open all ingress ports.To limit traffic, the source security group in your inbound rule can be restricted to the same security group\n",
    "    -   <b style=\"color:red\">InvalidInputException</b>: VPC S3 endpoint validation failed for SubnetId: subnet-0980ad10eb313405b. VPC: vpc-03617a8a518caa526. Reason: Could not find S3 endpoint or NAT gateway for subnetId: subnet-0980ad10eb313405b in Vpc vpc-03617a8a518caa526"
   ]
  },
  {
   "cell_type": "markdown",
   "metadata": {},
   "source": [
    "- Postgresql Connection"
   ]
  },
  {
   "cell_type": "code",
   "execution_count": null,
   "metadata": {},
   "outputs": [],
   "source": [
    "POSTGRESQL_CONNECTION_NAME = \"glue-psql-connection\"\n",
    "postgresql_endpoint = rds.get_rds_endpoint(rds.get_rds_endpoint(rds_instances[0]['db_instance_identifier']))\n",
    "postgresql_connection_url = f\"jdbc:sqlserver://{postgresql_endpoint}:{rds_instances[0]['port']}/{rds_instances[0]['db_name']}\""
   ]
  },
  {
   "cell_type": "code",
   "execution_count": null,
   "metadata": {},
   "outputs": [],
   "source": [
    "glue.create_glue_connection(\n",
    "    POSTGRESQL_CONNECTION_NAME, \n",
    "    postgresql_connection_url, \n",
    "    DB_USERNAME, \n",
    "    DB_PASSWORD, \n",
    "    SECURITY_GROUP_ID, \n",
    "    SUBNET_ID, \n",
    "    REGION\n",
    ")"
   ]
  },
  {
   "cell_type": "code",
   "execution_count": null,
   "metadata": {},
   "outputs": [],
   "source": [
    "# connection_test_response = glue_client.start_connection_test(ConnectionName=POSTGRESQL_CONNECTION_NAME)\n",
    "# print(connection_test_response.get('Status', 'UNKNOWN'))\n"
   ]
  },
  {
   "cell_type": "code",
   "execution_count": null,
   "metadata": {},
   "outputs": [],
   "source": [
    "# glue_mysql_connection_name = \"glue-mysql-connection\"\n",
    "# response = glue_client.get_connection(Name=glue_mysql_connection_name)\n",
    "# print(response)"
   ]
  },
  {
   "cell_type": "markdown",
   "metadata": {},
   "source": [
    "#### Create Glue Crawler."
   ]
  },
  {
   "cell_type": "code",
   "execution_count": null,
   "metadata": {},
   "outputs": [],
   "source": [
    "RDS_MYSQL_CRAWLER_NAME = \"mysql-crawler\"\n",
    "\n",
    "create_crawler_response1 = glue_client.create_crawler(\n",
    "    Name=RDS_MYSQL_CRAWLER_NAME,\n",
    "    Role=GLUE_ROLE_ARN,\n",
    "    DatabaseName=catalog_db_name,\n",
    "    Description='Crawler for generated customer schema',\n",
    "    Targets={\n",
    "        'JdbcTargets': [\n",
    "            {\n",
    "                'ConnectionName': glue_mysql_connection_name,\n",
    "                'Path': f\"{mysql_db_name}/%\",\n",
    "                'Exclusions': [],  # Optional: specify any patterns to exclude\n",
    "            }\n",
    "        ],\n",
    "    },\n",
    "    TablePrefix=\"\",\n",
    "    SchemaChangePolicy={\n",
    "        'UpdateBehavior': 'UPDATE_IN_DATABASE',\n",
    "        'DeleteBehavior': 'DELETE_FROM_DATABASE'\n",
    "    },\n",
    "    RecrawlPolicy={\n",
    "        'RecrawlBehavior': 'CRAWL_EVERYTHING'\n",
    "    }\n",
    ")\n",
    "print(response)"
   ]
  },
  {
   "cell_type": "code",
   "execution_count": null,
   "metadata": {},
   "outputs": [],
   "source": [
    "run_crawler_response1 = glue_client.start_crawler(Name=RDS_MYSQL_CRAWLER_NAME)\n",
    "print(run_crawler_response1)"
   ]
  },
  {
   "cell_type": "markdown",
   "metadata": {},
   "source": [
    "- PostgreSQL Crawler"
   ]
  },
  {
   "cell_type": "code",
   "execution_count": null,
   "metadata": {},
   "outputs": [],
   "source": [
    "POSTGRESQL_CRAWLER_NAME = \"httx-postgresqlcrawler\"\n",
    "glue.create_glue_jdbc_crawler(\n",
    "    POSTGRESQL_CRAWLER_NAME, \n",
    "    POSTGRESQL_CONNECTION_NAME, \n",
    "    GLUE_ROLE_ARN, \n",
    "    CATALOG_DB_NAME, \n",
    "    f\"{rds_instances[0]['db_name']}/%\",\n",
    "    table_prefix=''\n",
    ")"
   ]
  },
  {
   "cell_type": "code",
   "execution_count": null,
   "metadata": {},
   "outputs": [],
   "source": [
    "run_crawler_response1 = glue_client.start_crawler(Name=POSTGRESQL_CRAWLER_NAME)\n",
    "print(run_crawler_response1)"
   ]
  },
  {
   "cell_type": "code",
   "execution_count": null,
   "metadata": {},
   "outputs": [],
   "source": []
  },
  {
   "cell_type": "code",
   "execution_count": null,
   "metadata": {},
   "outputs": [],
   "source": []
  },
  {
   "cell_type": "code",
   "execution_count": null,
   "metadata": {},
   "outputs": [],
   "source": []
  },
  {
   "cell_type": "markdown",
   "metadata": {},
   "source": [
    "#### Delete All Resources"
   ]
  },
  {
   "cell_type": "code",
   "execution_count": null,
   "metadata": {},
   "outputs": [],
   "source": [
    "# lakeformation_client.deregister_resource(ResourceArn=f'arn:aws:s3:::{bucket_name}')\n",
    "glue_client.delete_database(CatalogId=catalog_id,Name=catalog_db_name)"
   ]
  },
  {
   "cell_type": "code",
   "execution_count": null,
   "metadata": {},
   "outputs": [],
   "source": [
    "s3 = boto3.resource('s3')\n",
    "bucket = s3.Bucket(bucket_name)\n",
    "\n",
    "# Delete all objects in the bucket\n",
    "bucket.objects.all().delete()\n",
    "\n",
    "# Delete all object versions (if versioning is enabled)\n",
    "# bucket.object_versions.all().delete()\n",
    "\n",
    "# Finally, delete the bucket\n",
    "bucket.delete()\n"
   ]
  },
  {
   "cell_type": "code",
   "execution_count": null,
   "metadata": {},
   "outputs": [],
   "source": [
    "rds_client.delete_db_subnet_group(DBSubnetGroupName=SUBNET_GROUP_NAME)"
   ]
  },
  {
   "cell_type": "code",
   "execution_count": null,
   "metadata": {},
   "outputs": [],
   "source": [
    "rds.delete_rds_instance(db_instance_identifier_mysqlrds1)\n",
    "# rds.delete_rds_instance(rds_instances[0]['db_instance_identifier'])"
   ]
  },
  {
   "cell_type": "code",
   "execution_count": null,
   "metadata": {},
   "outputs": [],
   "source": [
    "## Delete the VPC Endpoint\n",
    "response = ec2_client.delete_vpc_endpoints(VpcEndpointIds=[vpc_endpoint_id])"
   ]
  },
  {
   "cell_type": "code",
   "execution_count": null,
   "metadata": {},
   "outputs": [],
   "source": [
    "response = glue_client.delete_connection(ConnectionName=glue_mysql_connection_name)\n",
    "# response = glue_client.delete_crawler(Name=rds_crawler_name)"
   ]
  },
  {
   "cell_type": "code",
   "execution_count": null,
   "metadata": {},
   "outputs": [],
   "source": [
    "## DELETE IAM ROLE AT THE END AFTER DELETING ALL OTHER RESOURCES.\n",
    "iam.delete_iam_role(glue_role_name)"
   ]
  },
  {
   "cell_type": "markdown",
   "metadata": {},
   "source": [
    "### [Glue Data Catalog Revisited](https://www.youtube.com/watch?v=WUojHQTyTaY&list=PL8RIJKpVAN1euv-WAoggrdI_wX3zeb9uR&index=5)"
   ]
  },
  {
   "cell_type": "markdown",
   "metadata": {},
   "source": [
    "### [Glue Job and Glue Studio](https://www.youtube.com/watch?v=QQb_HOmn3MU&list=PL8RIJKpVAN1euv-WAoggrdI_wX3zeb9uR&index=6)"
   ]
  },
  {
   "cell_type": "markdown",
   "metadata": {},
   "source": [
    "- [Create Developer Endpoint](https://aws-dojo.com/ws8/labs/developer-endpoint/)\n",
    "- [AWS Tutorials - Interactively Develop Glue Job using Jupyter Notebook](https://www.youtube.com/watch?v=n4PVC5O_tJo)"
   ]
  },
  {
   "cell_type": "code",
   "execution_count": null,
   "metadata": {},
   "outputs": [],
   "source": [
    "EMPLOYEES_DIR = 'employees'\n",
    "TEM_DIR = 'temporary'\n",
    "SPARK_HISTORY_LOGS_DIR = 'sparkHistoryLogs'\n",
    "s3_client.put_object(Bucket=bucket_name, Key=EMPLOYEES_DIR)\n",
    "s3_client.put_object(Bucket=bucket_name, Key=TEM_DIR)\n",
    "s3_client.put_object(Bucket=bucket_name, Key=SPARK_HISTORY_LOGS_DIR)"
   ]
  },
  {
   "cell_type": "code",
   "execution_count": null,
   "metadata": {},
   "outputs": [],
   "source": [
    "file_name1 = './glue_etl_employee.py'                   # The local file you want to upload\n",
    "object_name1 = f\"glueScripts/glue_etl_employee.py\"      # The name to save the file as in the S3 bucket\n",
    "s3.upload_file_to_s3(bucket_name, file_name1, object_name1)"
   ]
  },
  {
   "cell_type": "code",
   "execution_count": null,
   "metadata": {},
   "outputs": [],
   "source": [
    "inline_policy_doc = {\n",
    "    \"Version\": \"2012-10-17\",\n",
    "    \"Statement\": [\n",
    "        {\n",
    "            \"Effect\": \"Allow\",\n",
    "            \"Action\": [\n",
    "                \"s3:GetObject\",\n",
    "                \"s3:PutObject\",\n",
    "                \"s3:DeleteObject\"\n",
    "            ],\n",
    "            \"Resource\": [\n",
    "                f\"arn:aws:s3:::{bucket_name}/*\"\n",
    "            ]\n",
    "        },\n",
    "        {\n",
    "            \"Effect\": \"Allow\",\n",
    "            \"Action\": [\n",
    "                \"s3:GetObject\"\n",
    "            ],\n",
    "            \"Resource\": [\n",
    "                f\"arn:aws:s3:::{bucket_name}\"\n",
    "            ]\n",
    "        }\n",
    "    ]\n",
    "}\n",
    "iam.put_inline_role_policy(role_name=glue_role_name, policy_name='s3_get_put_del', policy_document=inline_policy_doc)\n",
    "\n",
    "lf.grant_table_level_permissions(GLUE_ROLE_ARN, catalog_db_name, 'interview_questions_employee', ['SELECT'])"
   ]
  },
  {
   "cell_type": "code",
   "execution_count": null,
   "metadata": {},
   "outputs": [],
   "source": [
    "GLUE_JOB_NAME = 'glue_etl_employee_job'\n",
    "GLUE_SCRIPT_PATH = f\"s3://{bucket_name}/glueScripts/glue_etl_employee.py\"\n",
    "TEM_DIR_PATH = f\"s3://{bucket_name}/{TEM_DIR}/\"\n",
    "SPARK_EVENT_LOG_PATH = f\"s3://{bucket_name}/{SPARK_HISTORY_LOGS_DIR}/\"\n",
    "glue.create_glue_job(GLUE_JOB_NAME, GLUE_SCRIPT_PATH, GLUE_ROLE_ARN, TEM_DIR, SPARK_EVENT_LOG_PATH)"
   ]
  },
  {
   "cell_type": "code",
   "execution_count": null,
   "metadata": {},
   "outputs": [],
   "source": [
    "# glue.start_glue_job(GLUE_JOB_NAME)"
   ]
  },
  {
   "cell_type": "code",
   "execution_count": null,
   "metadata": {},
   "outputs": [],
   "source": [
    "# glue_client.delete_job(JobName=GLUE_JOB_NAME)"
   ]
  },
  {
   "cell_type": "markdown",
   "metadata": {},
   "source": [
    "### [Glue Workflow](https://www.youtube.com/watch?v=QX8stvTQ57o&list=PL8RIJKpVAN1euv-WAoggrdI_wX3zeb9uR&index=8)"
   ]
  },
  {
   "cell_type": "markdown",
   "metadata": {},
   "source": [
    "-   [AWS Tutorials - Using AWS Glue Workflow](https://www.youtube.com/watch?v=Z3jV3o7NyC8&t=753s)\n",
    "-   [LAB](https://aws-dojo.com/ws29/labs/)"
   ]
  },
  {
   "cell_type": "markdown",
   "metadata": {},
   "source": [
    "### Glue Advanced Topics"
   ]
  },
  {
   "cell_type": "markdown",
   "metadata": {},
   "source": [
    "### Delete Resources"
   ]
  },
  {
   "cell_type": "code",
   "execution_count": null,
   "metadata": {},
   "outputs": [],
   "source": []
  }
 ],
 "metadata": {
  "kernelspec": {
   "display_name": "dsnb",
   "language": "python",
   "name": "python3"
  },
  "language_info": {
   "codemirror_mode": {
    "name": "ipython",
    "version": 3
   },
   "file_extension": ".py",
   "mimetype": "text/x-python",
   "name": "python",
   "nbconvert_exporter": "python",
   "pygments_lexer": "ipython3",
   "version": "3.9.6"
  },
  "toc": {
   "base_numbering": 1,
   "nav_menu": {},
   "number_sections": true,
   "sideBar": true,
   "skip_h1_title": false,
   "title_cell": "Table of Contents",
   "title_sidebar": "Contents",
   "toc_cell": false,
   "toc_position": {},
   "toc_section_display": true,
   "toc_window_display": false
  }
 },
 "nbformat": 4,
 "nbformat_minor": 2
}
