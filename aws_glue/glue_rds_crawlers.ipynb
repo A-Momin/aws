{
 "cells": [
  {
   "cell_type": "markdown",
   "metadata": {},
   "source": [
    "### Glue RDS Crawlers"
   ]
  },
  {
   "cell_type": "markdown",
   "metadata": {},
   "source": []
  },
  {
   "cell_type": "code",
   "execution_count": null,
   "metadata": {},
   "outputs": [],
   "source": []
  },
  {
   "cell_type": "code",
   "execution_count": null,
   "metadata": {},
   "outputs": [],
   "source": [
    "import boto3, botocore\n",
    "from botocore.exceptions import ClientError\n",
    "import os, time, json\n",
    "from datetime import date\n",
    "\n",
    "from misc import load_from_yaml, save_to_yaml\n",
    "import iam, s3, lf, rds"
   ]
  },
  {
   "cell_type": "code",
   "execution_count": null,
   "metadata": {},
   "outputs": [],
   "source": [
    "ACCOUNT_ID = os.environ['AWS_ACCOUNT_ID_ROOT']\n",
    "REGION = os.getenv('AWS_DEFAULT_REGION')\n",
    "# boto3.setup_default_session(profile_name=\"AMominNJ\")"
   ]
  },
  {
   "cell_type": "code",
   "execution_count": null,
   "metadata": {},
   "outputs": [],
   "source": [
    "sts_client           = boto3.client('sts')\n",
    "rds_client           = boto3.client('rds')\n",
    "iam_client           = boto3.client('iam')\n",
    "s3_client            = boto3.client('s3')\n",
    "glue_client          = boto3.client('glue')\n",
    "lakeformation_client = boto3.client('lakeformation')\n",
    "ec2_client = boto3.client('ec2', region_name='us-east-1')\n",
    "ec2_resource = boto3.resource('ec2', region_name='us-east-1')"
   ]
  },
  {
   "cell_type": "code",
   "execution_count": null,
   "metadata": {},
   "outputs": [],
   "source": [
    "BUCKET_NAME, DATALAKE_FOLDER_NAME = 'httx-datalake-bkt', \"S3-Datalake\"\n",
    "CATALOG_DB_NAME = 'httx-catalog-db'\n",
    "GLUE_ROLE_NAME = \"httx-glue-role\" \n",
    "S3_CRAWLER_NAME = \"httx-s3crawler\"\n",
    "RDS_CRAWLER_NAME = \"httx-rdscrawler\""
   ]
  },
  {
   "cell_type": "code",
   "execution_count": null,
   "metadata": {},
   "outputs": [],
   "source": []
  },
  {
   "cell_type": "markdown",
   "metadata": {},
   "source": [
    "#### Create S3 Bucket and Folders"
   ]
  },
  {
   "cell_type": "code",
   "execution_count": null,
   "metadata": {},
   "outputs": [],
   "source": [
    "acl = 'private'                             # Set the ACL (e.g., 'private', 'public-read')\n",
    "enable_versioning = False                   # Enable versioning\n",
    "enable_encryption = False                   # Enable server-side encryption\n",
    "\n",
    "customers_folder, employees_folder = \"customers\", 'employees'\n",
    "scripts_folder = 'scripts'\n",
    "athena_folder = 'athena'\n",
    "libraries_folder = \"software_libraries\"\n",
    "\n",
    "folders = [DATALAKE_FOLDER_NAME, customers_folder, scripts_folder, athena_folder, libraries_folder, employees_folder]     # List of folders to create\n",
    "\n",
    "s3.create_s3_bucket(BUCKET_NAME, REGION, acl, enable_versioning, enable_encryption, folders)"
   ]
  },
  {
   "cell_type": "code",
   "execution_count": null,
   "metadata": {},
   "outputs": [],
   "source": [
    "file_name1 = './customers.csv'  # The local file you want to upload\n",
    "object_name1 = f\"{customers_folder}/customers.csv\"  # The name to save the file as in the S3 bucket\n",
    "\n",
    "# Upload the file\n",
    "s3.upload_file_to_s3(BUCKET_NAME, file_name1, object_name1)"
   ]
  },
  {
   "cell_type": "markdown",
   "metadata": {},
   "source": [
    "#### Create Glue Catalog Database"
   ]
  },
  {
   "cell_type": "code",
   "execution_count": null,
   "metadata": {},
   "outputs": [],
   "source": [
    "## Example usage\n",
    "CATALOG_ID = ACCOUNT_ID\n",
    "datalake_location_uri = f\"s3://{BUCKET_NAME}/{DATALAKE_FOLDER_NAME}\"\n",
    "\n",
    "create_database_response = glue_client.create_database(\n",
    "    CatalogId=CATALOG_ID,\n",
    "    DatabaseInput={\n",
    "        'Name': CATALOG_DB_NAME,\n",
    "        'Description': 'This is a Glue Catalog database',\n",
    "        'LocationUri': datalake_location_uri,\n",
    "    }\n",
    ")\n",
    "print(create_database_response)"
   ]
  },
  {
   "cell_type": "code",
   "execution_count": null,
   "metadata": {},
   "outputs": [],
   "source": [
    "# glue_client.update_database(\n",
    "#     CatalogId=catalog_id,\n",
    "#     Name=catalog_db_name,\n",
    "#     DatabaseInput={\n",
    "#         'Name': catalog_db_name,\n",
    "#         'UseOnlyIamAccessControl': False\n",
    "#     }\n",
    "# )\n",
    "# lf.register_s3_path_as_data_lake_location(lfdb_location_uri)"
   ]
  },
  {
   "cell_type": "markdown",
   "metadata": {},
   "source": [
    "#### Create a Role for AWS Glue Service"
   ]
  },
  {
   "cell_type": "markdown",
   "metadata": {},
   "source": [
    "- Create aws glue role by the name of `glue_role_name`.\n",
    "- Assign AWS Glue Service Policy (`AWSGlueServiceRole`) to the role."
   ]
  },
  {
   "cell_type": "code",
   "execution_count": null,
   "metadata": {},
   "outputs": [],
   "source": [
    "assume_role_policy_doc = {\n",
    "    \"Version\": \"2012-10-17\",\n",
    "    \"Statement\": [\n",
    "        {\n",
    "            \"Effect\": \"Allow\",\n",
    "            \"Principal\": {\n",
    "                \"Service\": \"glue.amazonaws.com\"\n",
    "            },\n",
    "            \"Action\": \"sts:AssumeRole\"\n",
    "        }\n",
    "    ]\n",
    "}\n",
    "create_role_response = iam_client.create_role(\n",
    "    RoleName=GLUE_ROLE_NAME,\n",
    "    AssumeRolePolicyDocument=json.dumps(assume_role_policy_doc),\n",
    "    Description=\"Glue Service Role\"\n",
    ")"
   ]
  },
  {
   "cell_type": "code",
   "execution_count": null,
   "metadata": {},
   "outputs": [],
   "source": [
    "AWS_GLUE_SERVICE_POLICY_ARN = \"arn:aws:iam::aws:policy/service-role/AWSGlueServiceRole\"\n",
    "ADMIN_ACCESS_POLICY_ARN = \"arn:aws:iam::aws:policy/AdministratorAccess\"\n",
    "POWER_USER_ACCESS_POLICY_ARN = \"arn:aws:iam::aws:policy/PowerUserAccess\""
   ]
  },
  {
   "cell_type": "code",
   "execution_count": null,
   "metadata": {},
   "outputs": [],
   "source": [
    "# Attach AWS managed policy with the role\n",
    "response = iam_client.attach_role_policy(\n",
    "    RoleName=GLUE_ROLE_NAME,\n",
    "    PolicyArn=POWER_USER_ACCESS_POLICY_ARN\n",
    ")\n"
   ]
  },
  {
   "cell_type": "markdown",
   "metadata": {},
   "source": [
    "- Grant `CREATE_TABLE` permission to `glue_role_name` on data catalog DB."
   ]
  },
  {
   "cell_type": "code",
   "execution_count": null,
   "metadata": {},
   "outputs": [],
   "source": [
    "# Arn for glue_role_name\n",
    "lf_principle = create_role_response['Role']['Arn']\n",
    "\n",
    "# Grant 'CREATE_TABLE' LF Permission to `glue_role_name` Role\n",
    "response = lakeformation_client.grant_permissions(\n",
    "    Principal={\n",
    "        'DataLakePrincipalIdentifier': lf_principle\n",
    "    },\n",
    "    Resource={\n",
    "        'Database': {\n",
    "            'Name': CATALOG_DB_NAME\n",
    "        }\n",
    "    },\n",
    "    Permissions=['CREATE_TABLE'],\n",
    "    PermissionsWithGrantOption=[]\n",
    ")"
   ]
  },
  {
   "cell_type": "markdown",
   "metadata": {},
   "source": [
    "#### Start RDS (MySQL)"
   ]
  },
  {
   "cell_type": "markdown",
   "metadata": {},
   "source": [
    "-   Create and connect to an RDS instance\n",
    "-   Create table and insert data using SQL script"
   ]
  },
  {
   "cell_type": "code",
   "execution_count": null,
   "metadata": {},
   "outputs": [],
   "source": [
    "# rds.get_rds_instance_parameters('mysqlrds1')"
   ]
  },
  {
   "cell_type": "code",
   "execution_count": null,
   "metadata": {},
   "outputs": [],
   "source": [
    "DB_PASSWORD = os.environ['PASSWORD']\n",
    "DB_USERNAME = os.environ['USERNAME']\n",
    "VPC_ID = 'vpc-03617a8a518caa526'\n",
    "SECURITY_GROUP_ID = 'sg-07f4ccd7a5be677ea'\n",
    "SUBNET_GROUP_NAME = VPC_ID"
   ]
  },
  {
   "cell_type": "code",
   "execution_count": null,
   "metadata": {},
   "outputs": [],
   "source": [
    "DB_INSTANCE_IDENTIFIER_MYSQLRDS1 = 'mysqlrds1'\n",
    "MYSQL_DB_NAME = 'interview_questions'\n",
    "MYSQL_PORT = '3306'\n",
    "mysql_db_endpoint = ''"
   ]
  },
  {
   "cell_type": "code",
   "execution_count": null,
   "metadata": {},
   "outputs": [],
   "source": [
    "# rds.create_rds_instance(db_instance_identifier_mysqlrds1, mysql_db_name, security_group_id, subnet_group_name, DB_USERNAME, DB_PASSWORD)"
   ]
  },
  {
   "cell_type": "code",
   "execution_count": null,
   "metadata": {},
   "outputs": [],
   "source": [
    "# Describe the RDS instance\n",
    "response = rds_client.describe_db_instances(\n",
    "    DBInstanceIdentifier=DB_INSTANCE_IDENTIFIER_MYSQLRDS1\n",
    ")\n",
    "\n",
    "# Extract the instance details\n",
    "db_instances = response['DBInstances']\n",
    "if db_instances:\n",
    "    instance = db_instances[0]\n",
    "    status = instance['DBInstanceStatus']\n",
    "    \n",
    "    if status == 'available':\n",
    "        mysql_db_endpoint = instance['Endpoint']['Address']\n",
    "        print(f\"RDS Endpoint is Available Now: \\n\\t{mysql_db_endpoint}\")\n",
    "    else:\n",
    "        print(f\"RDS instance is in {status} state, NO ENDPOINT AVAILABLE!!!!\")\n",
    "        print(f\"Please wait until the Database is available.\")\n",
    "else:\n",
    "    print(\"No RDS instance found.\")"
   ]
  },
  {
   "cell_type": "code",
   "execution_count": null,
   "metadata": {},
   "outputs": [],
   "source": []
  },
  {
   "cell_type": "code",
   "execution_count": null,
   "metadata": {},
   "outputs": [],
   "source": [
    "# ! mysql -h {endpoint} -P {MYSQL_PORT} -u httxadmin -p'{DB_PASSWORD}' interview_questions < /Users/am/mydocs/Software_Development/Web_Development/aws/rds/interview_questions.sql"
   ]
  },
  {
   "cell_type": "markdown",
   "metadata": {},
   "source": [
    "-   `Gateway` endpoints serve as a target for a route in your route table for traffic destined for the service."
   ]
  },
  {
   "cell_type": "code",
   "execution_count": null,
   "metadata": {},
   "outputs": [],
   "source": [
    "# VPC Endpoint parameters\n",
    "VPC_ENDPOINT_TAG = 'rs-glue-vpc-endpoint'\n",
    "VPC_ENDPOINT_SERVICE_NAME = 'com.amazonaws.us-east-1.s3'\n",
    "SUBNET_IDS = ['subnet-0980ad10eb313405b', 'subnet-0de97821ddb8236f7', 'subnet-0a160fbe0fcafe373', 'subnet-0ca765b361e4cb186', 'subnet-0a972b05a5b162feb']  # List of subnets where the endpoint should be placed\n",
    "SECURITY_GROUP_IDS = [SECURITY_GROUP_ID]  # Security group(s) associated with the endpoint\n",
    "ROUTE_TABLE_IDS = ['rtb-0ec4311296ec952f8']\n",
    "\n",
    "# Create an Interface Endpoint\n",
    "vpc_endpoint_id = ec2_client.create_vpc_endpoint(\n",
    "    VpcEndpointType='Gateway',\n",
    "    VpcId=VPC_ID,\n",
    "    ServiceName=VPC_ENDPOINT_SERVICE_NAME,\n",
    "    RouteTableIds=ROUTE_TABLE_IDS,\n",
    "    # SubnetIds=SUBNET_IDS,\n",
    "    # SecurityGroupIds=SECURITY_GROUP_IDS,\n",
    "    PrivateDnsEnabled=False  # Enable private DNS to resolve service names within the VPC\n",
    ")['VpcEndpoint']['VpcEndpointId']"
   ]
  },
  {
   "cell_type": "code",
   "execution_count": null,
   "metadata": {},
   "outputs": [],
   "source": [
    "ec2_client.create_tags(Resources=['vpc_endpoint_id'],Tags=[{'Key': 'Name', 'Value': VPC_ENDPOINT_TAG}])"
   ]
  },
  {
   "cell_type": "markdown",
   "metadata": {},
   "source": [
    "#### Create JDBC connection for Glue Crawler."
   ]
  },
  {
   "cell_type": "code",
   "execution_count": null,
   "metadata": {},
   "outputs": [],
   "source": [
    "# glue_client.delete_connection?\n",
    "# glue_client.get_connection?"
   ]
  },
  {
   "cell_type": "code",
   "execution_count": null,
   "metadata": {},
   "outputs": [],
   "source": [
    "GLUE_MYSQL_CONNECTION_NAME = \"glue-mysql-connection\"\n",
    "\n",
    "# Construct the connection properties\n",
    "connection_properties = {\n",
    "    'JDBC_CONNECTION_URL': f'jdbc:mysql://{DB_INSTANCE_IDENTIFIER_MYSQLRDS1}.rds.amazonaws.com:3306/{MYSQL_DB_NAME}',\n",
    "    'USERNAME': DB_USERNAME,\n",
    "    'PASSWORD': DB_PASSWORD,\n",
    "    # 'JDBC_DRIVER_S3_PATH': 's3://httx-data-lake-01/software_libraries/mysql-connector-j-8.0.32.jar',\n",
    "    # 'JDBC_DRIVER_CLASS_NAME': 'com.mysql.cj.jdbc.Driver'\n",
    "}\n",
    "\n",
    "# Construct the physical connection requirements\n",
    "physical_connection_requirements = {\n",
    "    'SecurityGroupIdList': [SECURITY_GROUP_ID],\n",
    "    'SubnetId': VPC_ID\n",
    "}\n",
    "\n",
    "response = glue_client.create_connection(\n",
    "    ConnectionInput={\n",
    "        \"Name\": GLUE_MYSQL_CONNECTION_NAME,\n",
    "        \"ConnectionType\": \"JDBC\",\n",
    "        \"ConnectionProperties\": connection_properties,\n",
    "        \"PhysicalConnectionRequirements\": physical_connection_requirements\n",
    "    },\n",
    "    Tags={'string': 'string'}\n",
    ")"
   ]
  },
  {
   "cell_type": "markdown",
   "metadata": {},
   "source": [
    "- **Test the Connection**:\n",
    "    -   <b style=\"color:red\">InvalidInputException</b>: At least one security group must open all ingress ports.To limit traffic, the source security group in your inbound rule can be restricted to the same security group\n",
    "    -   <b style=\"color:red\">InvalidInputException</b>: VPC S3 endpoint validation failed for SubnetId: subnet-0980ad10eb313405b. VPC: vpc-03617a8a518caa526. Reason: Could not find S3 endpoint or NAT gateway for subnetId: subnet-0980ad10eb313405b in Vpc vpc-03617a8a518caa526"
   ]
  },
  {
   "cell_type": "code",
   "execution_count": null,
   "metadata": {},
   "outputs": [],
   "source": [
    "# glue_mysql_connection_name = \"glue-mysql-connection\"\n",
    "# response = glue_client.get_connection(Name=glue_mysql_connection_name)\n",
    "# print(response)"
   ]
  },
  {
   "cell_type": "markdown",
   "metadata": {},
   "source": [
    "#### Create Glue Crawler."
   ]
  },
  {
   "cell_type": "code",
   "execution_count": null,
   "metadata": {},
   "outputs": [],
   "source": [
    "role_arn = create_role_response['Role']['Arn']\n",
    "create_crawler_response1 = glue_client.create_crawler(\n",
    "    Name=rds_crawler_name,\n",
    "    Role=role_arn,\n",
    "    DatabaseName=catalog_db_name,\n",
    "    Description='Crawler for generated customer schema',\n",
    "    Targets={\n",
    "        'JdbcTargets': [\n",
    "            {\n",
    "                'ConnectionName': GLUE_MYSQL_CONNECTION_NAME,\n",
    "                'Path': f\"{MYSQL_DB_NAME}/%\",\n",
    "                'Exclusions': [],  # Optional: specify any patterns to exclude\n",
    "            }\n",
    "        ],\n",
    "    },\n",
    "    SchemaChangePolicy={\n",
    "        'UpdateBehavior': 'UPDATE_IN_DATABASE',\n",
    "        'DeleteBehavior': 'DELETE_FROM_DATABASE'\n",
    "    },\n",
    "    RecrawlPolicy={\n",
    "        'RecrawlBehavior': 'CRAWL_EVERYTHING'\n",
    "    }\n",
    ")\n",
    "print(response)"
   ]
  },
  {
   "cell_type": "code",
   "execution_count": null,
   "metadata": {},
   "outputs": [],
   "source": [
    "# run_crawler_response1 = glue_client.start_crawler(Name=rds_crawler_name)\n",
    "# print(run_crawler_response1)"
   ]
  },
  {
   "cell_type": "markdown",
   "metadata": {},
   "source": [
    "<b style=\"color:red\">InvalidInputException</b>: An error occurred (InvalidInputException) when calling the CreateCrawler operation: Please provide both the driver s3 path and driver classname.\n"
   ]
  },
  {
   "cell_type": "code",
   "execution_count": null,
   "metadata": {},
   "outputs": [],
   "source": []
  },
  {
   "cell_type": "markdown",
   "metadata": {},
   "source": [
    "#### Delete All Resources"
   ]
  },
  {
   "cell_type": "code",
   "execution_count": null,
   "metadata": {},
   "outputs": [],
   "source": [
    "# s3 = boto3.resource('s3')\n",
    "# bucket = s3.Bucket(bucket_name)\n",
    "\n",
    "# # Delete all objects in the bucket\n",
    "# bucket.objects.all().delete()\n",
    "\n",
    "# # Delete all object versions (if versioning is enabled)\n",
    "# bucket.object_versions.all().delete()\n",
    "\n",
    "# # Finally, delete the bucket\n",
    "# bucket.delete()\n"
   ]
  },
  {
   "cell_type": "code",
   "execution_count": null,
   "metadata": {},
   "outputs": [],
   "source": [
    "# iam.delete_iam_role(glue_role_name)"
   ]
  },
  {
   "cell_type": "code",
   "execution_count": null,
   "metadata": {},
   "outputs": [],
   "source": [
    "# rds.delete_rds_instance(db_instance_identifier_mysqlrds1)"
   ]
  },
  {
   "cell_type": "code",
   "execution_count": null,
   "metadata": {},
   "outputs": [],
   "source": [
    "# # Delete the VPC Endpoint\n",
    "# response = ec2_client.delete_vpc_endpoints(\n",
    "#     VpcEndpointIds=[vpc_endpoint_id]\n",
    "# )"
   ]
  },
  {
   "cell_type": "code",
   "execution_count": null,
   "metadata": {},
   "outputs": [],
   "source": [
    "# response = glue_client.delete_connection(ConnectionName=glue_mysql_connection_name)\n",
    "# response = glue_client.delete_crawler(Name=rds_crawler_name)"
   ]
  },
  {
   "cell_type": "code",
   "execution_count": null,
   "metadata": {},
   "outputs": [],
   "source": [
    "# lakeformation_client.deregister_resource(ResourceArn=f'arn:aws:s3:::{bucket_name}')\n",
    "# glue_client.delete_database(CatalogId=catalog_id,Name=catalog_db_name)"
   ]
  }
 ],
 "metadata": {
  "language_info": {
   "name": "python"
  }
 },
 "nbformat": 4,
 "nbformat_minor": 2
}
