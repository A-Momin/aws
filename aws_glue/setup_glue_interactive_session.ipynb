{
 "cells": [
  {
   "cell_type": "markdown",
   "metadata": {},
   "source": [
    "-   [AWS Summit SF 2022 - Interactive data integration with AWS Glue (ANA313)](https://www.youtube.com/watch?v=4z6MUOVFM4Q&t=959s)\n",
    "-   [Serverless Data Integration for a Modern Data Infrastructure with AWS Glue - AWS Online Tech Talks](https://www.youtube.com/watch?v=cdk_6bpmZYE&t=511s)"
   ]
  },
  {
   "cell_type": "markdown",
   "metadata": {},
   "source": [
    "### [Introducing AWS Glue interactive sessions for Jupyter](https://docs.aws.amazon.com/glue/latest/dg/interactive-sessions.html)\n",
    "-   [Getting started with AWS Glue](https://docs.aws.amazon.com/glue/latest/dg/what-is-glue.html)"
   ]
  },
  {
   "cell_type": "code",
   "execution_count": null,
   "metadata": {},
   "outputs": [],
   "source": []
  },
  {
   "cell_type": "markdown",
   "metadata": {},
   "source": [
    "### [Using interactive sessions with Microsoft Visual Studio Code](https://docs.aws.amazon.com/glue/latest/dg/interactive-sessions-vscode.html)"
   ]
  },
  {
   "cell_type": "code",
   "execution_count": null,
   "metadata": {},
   "outputs": [],
   "source": []
  },
  {
   "cell_type": "markdown",
   "metadata": {},
   "source": [
    "### [Develop AWS Glue Jobs Locally Using VScode and Docker on Windows](https://www.youtube.com/watch?v=__j-SyopVBs)"
   ]
  }
 ],
 "metadata": {
  "language_info": {
   "name": "python"
  }
 },
 "nbformat": 4,
 "nbformat_minor": 2
}
