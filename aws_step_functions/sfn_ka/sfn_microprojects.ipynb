{
 "cells": [
  {
   "cell_type": "markdown",
   "metadata": {},
   "source": [
    "#   [AWS Step Functions Simplified by Knowledge Amplifier](https://www.youtube.com/playlist?list=PLjfRmoYoxpNoahLvGnz_vJnOZ2FBQhaVu)"
   ]
  },
  {
   "cell_type": "code",
   "execution_count": 2,
   "metadata": {},
   "outputs": [],
   "source": [
    "import boto3\n",
    "import botocore\n",
    "from botocore.exceptions import ClientError\n",
    "import os, time, json, io, zipfile, subprocess, shutil, requests\n",
    "from requests_aws4auth import AWS4Auth\n",
    "from pathlib import Path\n",
    "from datetime import date\n",
    "from dotenv import load_dotenv\n",
    "\n",
    "import s3, iam, lf, glue, lambdafn as lfn, sns, eventbridge as event\n",
    "\n",
    "from ads.utils import red"
   ]
  },
  {
   "cell_type": "code",
   "execution_count": 3,
   "metadata": {},
   "outputs": [],
   "source": [
    "ACCOUNT_ID          = os.environ['AWS_ACCOUNT_ID_ROOT']\n",
    "REGION              = os.environ['AWS_DEFAULT_REGION']\n",
    "\n",
    "sts_client           = boto3.client('sts')\n",
    "iam_client           = boto3.client('iam')\n",
    "s3_client            = boto3.client('s3')\n",
    "glue_client          = boto3.client('glue')\n",
    "ec2_client           = boto3.client('ec2', region_name=REGION)\n",
    "ec2_resource         = boto3.resource('ec2', region_name=REGION)\n",
    "lfn_client           = boto3.client('lambda')\n",
    "sfn_client           = boto3.client('stepfunctions')\n",
    "logs_client          = boto3.client('logs')\n",
    "events_client        = boto3.client('events')\n",
    "\n",
    "apigateway_client    = boto3.client('apigateway', region_name=REGION)"
   ]
  },
  {
   "cell_type": "code",
   "execution_count": 4,
   "metadata": {},
   "outputs": [],
   "source": [
    "load_dotenv(\".env\")\n",
    "VPC_ID              = 'vpc-03617a8a518caa526'\n",
    "SUBNET_IDS          = ['subnet-0980ad10eb313405b', 'subnet-0de97821ddb8236f7', 'subnet-0a160fbe0fcafe373', 'subnet-0ca765b361e4cb186', 'subnet-0a972b05a5b162feb']\n",
    "SUBNET_ID           = SUBNET_IDS[0]\n",
    "SECURITY_GROUP_ID   = 'sg-07f4ccd7a5be677ea'"
   ]
  },
  {
   "cell_type": "markdown",
   "metadata": {},
   "source": [
    "### [BeABetterDev: Build a Serverless Workflow with AWS Step Functions](https://www.youtube.com/watch?v=DFSko_sLyMM&list=PL9nWRykSBSFjrGfOfH5wJ6Gl56N746obR&index=10&t=268s)"
   ]
  },
  {
   "cell_type": "code",
   "execution_count": null,
   "metadata": {},
   "outputs": [],
   "source": []
  },
  {
   "cell_type": "code",
   "execution_count": null,
   "metadata": {},
   "outputs": [],
   "source": []
  },
  {
   "cell_type": "markdown",
   "metadata": {},
   "source": [
    "### [Invoking State Machine with CloudWatch](https://www.youtube.com/watch?v=22yRNLm6BbQ&list=PLjfRmoYoxpNoahLvGnz_vJnOZ2FBQhaVu&index=4)"
   ]
  },
  {
   "cell_type": "code",
   "execution_count": null,
   "metadata": {},
   "outputs": [],
   "source": []
  },
  {
   "cell_type": "code",
   "execution_count": null,
   "metadata": {},
   "outputs": [],
   "source": []
  },
  {
   "cell_type": "markdown",
   "metadata": {},
   "source": [
    "### [AWS Tutorials - Using Amazon API Gateway in AWS Step Functions](https://www.youtube.com/watch?v=dYpc8O-2JuM)\n",
    "- [lab](https://aws-dojo.com/excercises/excercise28/)"
   ]
  },
  {
   "cell_type": "code",
   "execution_count": null,
   "metadata": {},
   "outputs": [],
   "source": []
  },
  {
   "cell_type": "code",
   "execution_count": null,
   "metadata": {},
   "outputs": [],
   "source": []
  },
  {
   "cell_type": "markdown",
   "metadata": {},
   "source": [
    "### [Adding manual approval step to the AWS Step Function workflow](https://www.youtube.com/watch?v=URhLte0NJJU&list=PLjfRmoYoxpNoahLvGnz_vJnOZ2FBQhaVu&index=13)"
   ]
  },
  {
   "cell_type": "markdown",
   "metadata": {},
   "source": [
    "<div style=\"text-align: center\"><img src=\"./architectural_diagram.png\" length=\"500p\" height=\"300p\"></img></div>"
   ]
  },
  {
   "cell_type": "code",
   "execution_count": null,
   "metadata": {},
   "outputs": [],
   "source": []
  },
  {
   "cell_type": "markdown",
   "metadata": {},
   "source": [
    "### [Automating EMR Serverless Workload |Creating|Submitting | Destroying EMR Cluster using Step Function](https://www.youtube.com/watch?v=V7bFwXBN5xc)\n",
    "-   [code](https://github.com/soumilshah1995/Automating-EMR-Serverless-Workload-Creating-Submitting-Destroying-EMR-Cluster-using-Step-Funct)"
   ]
  },
  {
   "cell_type": "code",
   "execution_count": null,
   "metadata": {},
   "outputs": [],
   "source": []
  },
  {
   "cell_type": "code",
   "execution_count": null,
   "metadata": {},
   "outputs": [],
   "source": []
  }
 ],
 "metadata": {
  "kernelspec": {
   "display_name": "dsnb",
   "language": "python",
   "name": "python3"
  },
  "language_info": {
   "codemirror_mode": {
    "name": "ipython",
    "version": 3
   },
   "file_extension": ".py",
   "mimetype": "text/x-python",
   "name": "python",
   "nbconvert_exporter": "python",
   "pygments_lexer": "ipython3",
   "version": "3.9.6"
  }
 },
 "nbformat": 4,
 "nbformat_minor": 2
}
