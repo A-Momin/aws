{
 "cells": [
  {
   "cell_type": "code",
   "execution_count": null,
   "metadata": {},
   "outputs": [],
   "source": []
  },
  {
   "cell_type": "markdown",
   "metadata": {},
   "source": [
    "-   [AWS IAM Roles Anywhere with OpenSSL](https://www.youtube.com/watch?v=aIX9by2uEgU)\n",
    "-   [Masterclass in openSSL](https://www.youtube.com/watch?v=d8OpUcHzTeg&t=231s)\n",
    "-   [OpenSSL Certification Authority (CA) on Ubuntu Server](https://www.youtube.com/watch?v=oCl0gzLPPMI)\n",
    "-   [Intro to Digital Certificates](https://www.youtube.com/watch?v=qXLD2UHq2vk)\n",
    "-   [Create CSR & Install SSL Certificate (OpenSSL)](https://www.digicert.com/kb/csr-ssl-installation/apache-openssl.htm#ssl_certificate_install)\n",
    "-   [Cacert | Trust Store | Key Store in 3 minutes](https://www.youtube.com/watch?v=1I9lQ42SnLA)\n"
   ]
  },
  {
   "cell_type": "code",
   "execution_count": null,
   "metadata": {},
   "outputs": [],
   "source": []
  }
 ],
 "metadata": {
  "language_info": {
   "name": "python"
  }
 },
 "nbformat": 4,
 "nbformat_minor": 2
}
