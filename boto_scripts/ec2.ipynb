{
 "cells": [
  {
   "cell_type": "code",
   "execution_count": null,
   "metadata": {},
   "outputs": [],
   "source": [
    "import boto3, botocore\n",
    "from botocore.exceptions import ClientError\n",
    "import os, time, json, io, zipfile\n",
    "from datetime import date\n",
    "from dotenv import load_dotenv\n",
    "\n",
    "\n",
    "from misc import load_from_yaml, save_to_yaml\n",
    "import iam, s3, lf, rds, vpc, ec2\n",
    "\n",
    "load_dotenv(\".env\")\n",
    "# boto3.setup_default_session(profile_name=\"AMominNJ\")"
   ]
  },
  {
   "cell_type": "code",
   "execution_count": null,
   "metadata": {},
   "outputs": [],
   "source": [
    "ALL_IN_ONE_SG = 'sg-0d8a868137f653df6'\n",
    "ACCOUNT_ID        = os.environ['AWS_ACCOUNT_ID_ROOT']\n",
    "REGION            = os.environ['AWS_DEFAULT_REGION']\n",
    "VPC_ID            = os.environ['AWS_DEFAULT_VPC']\n",
    "SECURITY_GROUP_ID = os.environ['AWS_DEFAULT_SG_ID']\n",
    "SUBNET_IDS        = SUBNET_IDS = os.environ[\"AWS_DEFAULT_SUBNET_IDS\"].split(\":\")\n",
    "SUBNET_ID         = SUBNET_IDS[0]\n",
    "AWS_INSTANCE_ID_JMASTER   = os.environ['AWS_INSTANCE_ID_JMASTER']\n",
    "AWS_INSTANCE_ID_JAGENT    = os.environ['AWS_INSTANCE_ID_JAGENT']\n",
    "AWS_DEFAULT_IMAGE_ID      = os.environ['AWS_DEFAULT_IMAGE_ID']\n",
    "AWS_DEFAULT_KEY_PAIR_NAME = os.environ['AWS_DEFAULT_KEY_PAIR_NAME']\n",
    "AWS_DEFAULT_INSTANCE_TYPE = os.environ['AWS_DEFAULT_INSTANCE_TYPE']"
   ]
  },
  {
   "cell_type": "code",
   "execution_count": null,
   "metadata": {},
   "outputs": [],
   "source": [
    "sts_client           = boto3.client('sts')\n",
    "rds_client           = boto3.client('rds')\n",
    "iam_client           = boto3.client('iam')\n",
    "s3_client            = boto3.client('s3')\n",
    "glue_client          = boto3.client('glue')\n",
    "lakeformation_client = boto3.client('lakeformation')\n",
    "stepfunctions_client = boto3.client('stepfunctions')\n",
    "apigateway_client    = boto3.client('apigateway')\n",
    "lsn_client           = boto3.client('lambda')\n",
    "events_client        = boto3.client('events')\n",
    "sqs_client           = boto3.client('sqs')\n",
    "\n",
    "emr_client = boto3.client('emr', region_name=REGION)"
   ]
  },
  {
   "cell_type": "code",
   "execution_count": null,
   "metadata": {},
   "outputs": [],
   "source": [
    "ec2_client           = boto3.client('ec2', region_name=REGION)\n",
    "ec2_resource         = boto3.resource('ec2', region_name=REGION)\n",
    "\n",
    "# Example: Get a specific VPC\n",
    "vpc = ec2_resource.Vpc('vpc_id')\n",
    "\n",
    "# Example: Get a specific EBS volume\n",
    "volume = ec2_resource.Volume('volume_id')"
   ]
  },
  {
   "cell_type": "markdown",
   "metadata": {},
   "source": [
    "# [EC2](https://boto3.amazonaws.com/v1/documentation/api/latest/reference/services/ec2.html)"
   ]
  },
  {
   "cell_type": "markdown",
   "metadata": {},
   "source": [
    "## Fundamentals"
   ]
  },
  {
   "cell_type": "code",
   "execution_count": null,
   "metadata": {},
   "outputs": [],
   "source": [
    "# !scp /Users/am/mydocs/Software_Development/noteshub/dotfiles/lnx/automate_installations.sh jenkins_agent1:/home/ubuntu/"
   ]
  },
  {
   "cell_type": "code",
   "execution_count": null,
   "metadata": {},
   "outputs": [],
   "source": []
  },
  {
   "cell_type": "code",
   "execution_count": null,
   "metadata": {},
   "outputs": [],
   "source": []
  },
  {
   "cell_type": "code",
   "execution_count": null,
   "metadata": {},
   "outputs": [],
   "source": [
    "# Launch EC2 instance with tagging using TagSpecifications\n",
    "response = ec2_client.run_instances(\n",
    "    ImageId='ami-04b70fa74e45c3917',  # Replace with your AMI ID\n",
    "    InstanceType='t2.micro', #'t2.medium', 't2.micro'\n",
    "    MinCount=1,\n",
    "    MaxCount=1,\n",
    "    KeyName='AMominNJ',               # Replace with your key pair\n",
    "    TagSpecifications=[\n",
    "        {\n",
    "            'ResourceType': 'instance',\n",
    "            'Tags': [{'Key': 'Name', 'Value': 'JENKINS_AGENT'}]\n",
    "        }\n",
    "    ],\n",
    "    BlockDeviceMappings=[\n",
    "        {\n",
    "            'DeviceName': '/dev/sda1',  # Default root volume\n",
    "            'Ebs': {\n",
    "                'VolumeSize': 10,  # Volume size in GiB\n",
    "                'VolumeType': 'gp2'        # General Purpose SSD\n",
    "            }\n",
    "        }\n",
    "    ],\n",
    "    SecurityGroupIds=[ALL_IN_ONE_SG],\n",
    "    # SubnetId=subnet_id if subnet_id else None\n",
    ")\n",
    "\n",
    "# Extract the instance ID of the newly created instance\n",
    "instance_id = response['Instances'][0]['InstanceId']\n",
    "print(f\"Instance created with ID: {instance_id}\")"
   ]
  },
  {
   "cell_type": "code",
   "execution_count": null,
   "metadata": {},
   "outputs": [],
   "source": [
    "response = ec2_client.describe_instances(InstanceIds=['i-032ac00bc29763d73'])\n",
    "print(response['Reservations'][0]['Instances'][0]['PublicDnsName'])\n",
    "print(response['Reservations'][0]['Instances'][0]['PublicIpAddress'])"
   ]
  },
  {
   "cell_type": "code",
   "execution_count": null,
   "metadata": {},
   "outputs": [],
   "source": [
    "# # Stop the instance immediately after creation\n",
    "ec2_client.stop_instances(InstanceIds=[os.environ['AWS_INSTANCE_ID_JMASTER']])"
   ]
  },
  {
   "cell_type": "code",
   "execution_count": null,
   "metadata": {},
   "outputs": [],
   "source": [
    "ec2_client.start_instances(InstanceIds=[AWS_INSTANCE_ID_JAGENT])"
   ]
  },
  {
   "cell_type": "code",
   "execution_count": null,
   "metadata": {},
   "outputs": [],
   "source": [
    "ec2_client.terminate_instances(InstanceIds=[AWS_INSTANCE_ID_JAGENT])"
   ]
  },
  {
   "cell_type": "markdown",
   "metadata": {},
   "source": [
    "- **Elastic IP**"
   ]
  },
  {
   "cell_type": "code",
   "execution_count": null,
   "metadata": {},
   "outputs": [],
   "source": [
    "# Step 2: Allocate an Elastic IP\n",
    "print(\"Allocating an Elastic IP...\")\n",
    "allocation = ec2_client.allocate_address(Domain='vpc')\n",
    "elastic_ip = allocation['PublicIp']\n",
    "allocation_id = allocation['AllocationId']\n",
    "print(f\"Elastic IP allocated: {allocation_id}\")\n",
    "print(f\"Elastic IP allocated: {elastic_ip}\")\n"
   ]
  },
  {
   "cell_type": "code",
   "execution_count": null,
   "metadata": {},
   "outputs": [],
   "source": [
    "addresses = ec2_client.describe_addresses()\n",
    "for address in addresses['Addresses']:\n",
    "    print(f\"Public IP: {address['PublicIp']}, Allocation ID: {address.get('AllocationId', 'N/A')}\")"
   ]
  },
  {
   "cell_type": "code",
   "execution_count": null,
   "metadata": {},
   "outputs": [],
   "source": [
    "ec2_client.release_address(AllocationId=\"eipalloc-0397507c5325a58c0\")"
   ]
  },
  {
   "cell_type": "code",
   "execution_count": null,
   "metadata": {},
   "outputs": [],
   "source": [
    "\n",
    "# Step 3: Associate the Elastic IP with the instance\n",
    "# print(f\"Associating Elastic IP {elastic_ip} with instance {instance_id}...\")\n",
    "ec2_client.associate_address(InstanceId=\"i-0a593d44df00aa8f9\",AllocationId=\"eipalloc-03cd6f9a89e292ffb\")\n",
    "# print(f\"Elastic IP {elastic_ip} associated with instance {instance_id}.\")\n"
   ]
  },
  {
   "cell_type": "code",
   "execution_count": null,
   "metadata": {},
   "outputs": [],
   "source": [
    "ec2_client.disassociate_address(AssociationId='eipassoc-0abcdef1234567890')\n"
   ]
  },
  {
   "cell_type": "markdown",
   "metadata": {},
   "source": [
    "- **Key Pair (Identity File)**"
   ]
  },
  {
   "cell_type": "code",
   "execution_count": null,
   "metadata": {},
   "outputs": [],
   "source": [
    "response = ec2_client.create_key_pair(\n",
    "    KeyName='string',\n",
    "    KeyType='rsa'|'ed25519',\n",
    "    TagSpecifications=[\n",
    "        {\n",
    "            'ResourceType': 'capacity-reservation'|'client-vpn-endpoint'|'customer-gateway'|'carrier-gateway'|'coip-pool'|'dedicated-host'|'dhcp-options'|'egress-only-internet-gateway'|'elastic-ip'|'elastic-gpu'|'export-image-task'|'export-instance-task'|'fleet'|'fpga-image'|'host-reservation'|'image'|'import-image-task'|'import-snapshot-task'|'instance'|'instance-event-window'|'internet-gateway'|'ipam'|'ipam-pool'|'ipam-scope'|'ipv4pool-ec2'|'ipv6pool-ec2'|'key-pair'|'launch-template'|'local-gateway'|'local-gateway-route-table'|'local-gateway-virtual-interface'|'local-gateway-virtual-interface-group'|'local-gateway-route-table-vpc-association'|'local-gateway-route-table-virtual-interface-group-association'|'natgateway'|'network-acl'|'network-interface'|'network-insights-analysis'|'network-insights-path'|'network-insights-access-scope'|'network-insights-access-scope-analysis'|'placement-group'|'prefix-list'|'replace-root-volume-task'|'reserved-instances'|'route-table'|'security-group'|'security-group-rule'|'snapshot'|'spot-fleet-request'|'spot-instances-request'|'subnet'|'subnet-cidr-reservation'|'traffic-mirror-filter'|'traffic-mirror-session'|'traffic-mirror-target'|'transit-gateway'|'transit-gateway-attachment'|'transit-gateway-connect-peer'|'transit-gateway-multicast-domain'|'transit-gateway-policy-table'|'transit-gateway-route-table'|'transit-gateway-route-table-announcement'|'volume'|'vpc'|'vpc-endpoint'|'vpc-endpoint-connection'|'vpc-endpoint-service'|'vpc-endpoint-service-permission'|'vpc-peering-connection'|'vpn-connection'|'vpn-gateway'|'vpc-flow-log'|'capacity-reservation-fleet'|'traffic-mirror-filter-rule'|'vpc-endpoint-connection-device-type'|'verified-access-instance'|'verified-access-group'|'verified-access-endpoint'|'verified-access-policy'|'verified-access-trust-provider'|'vpn-connection-device-type'|'vpc-block-public-access-exclusion'|'ipam-resource-discovery'|'ipam-resource-discovery-association'|'instance-connect-endpoint'|'ipam-external-resource-verification-token',\n",
    "            'Tags': [\n",
    "                {\n",
    "                    'Key': 'string',\n",
    "                    'Value': 'string'\n",
    "                },\n",
    "            ]\n",
    "        },\n",
    "    ],\n",
    "    KeyFormat='pem'|'ppk',\n",
    "    DryRun=True|False\n",
    ")"
   ]
  },
  {
   "cell_type": "code",
   "execution_count": null,
   "metadata": {},
   "outputs": [],
   "source": [
    "# Get the list of key pairs\n",
    "response = ec2_client.describe_key_pairs()\n",
    "\n",
    "# Print key pair names and details\n",
    "for key_pair in response['KeyPairs']:\n",
    "    print(f\"Key Name: {key_pair['KeyName']}, Key Fingerprint: {key_pair['KeyFingerprint']}\")"
   ]
  },
  {
   "cell_type": "markdown",
   "metadata": {},
   "source": [
    "- Instance Profile"
   ]
  },
  {
   "cell_type": "code",
   "execution_count": null,
   "metadata": {},
   "outputs": [],
   "source": [
    "response = iam_client.list_instance_profiles()\n",
    "\n",
    "# Extract and return the instance profiles\n",
    "instance_profiles = response[\"InstanceProfiles\"]"
   ]
  },
  {
   "cell_type": "code",
   "execution_count": null,
   "metadata": {},
   "outputs": [],
   "source": [
    "profile_name = \"MyInstanceProfile\"  # Name for the instance profile\n",
    "role_name = \"MyEC2Role\"            # Name of the existing IAM role\n",
    "instance_id = \"i-0abcdef1234567890\" # Replace with your EC2 instance ID"
   ]
  },
  {
   "cell_type": "code",
   "execution_count": null,
   "metadata": {},
   "outputs": [],
   "source": [
    "# Create the instance profile\n",
    "print(f\"Creating instance profile: {profile_name}\")\n",
    "iam_client.create_instance_profile(InstanceProfileName=profile_name)\n",
    "\n",
    "# Attach the role to the instance profile\n",
    "print(f\"Attaching role '{role_name}' to instance profile '{profile_name}'\")\n",
    "iam_client.add_role_to_instance_profile(\n",
    "    InstanceProfileName=profile_name,\n",
    "    RoleName=role_name\n",
    ")"
   ]
  },
  {
   "cell_type": "code",
   "execution_count": null,
   "metadata": {},
   "outputs": [],
   "source": [
    "ec2_client.associate_iam_instance_profile(\n",
    "    IamInstanceProfile={\n",
    "        'Name': profile_name\n",
    "    },\n",
    "    InstanceId=instance_id\n",
    ")"
   ]
  },
  {
   "cell_type": "code",
   "execution_count": null,
   "metadata": {},
   "outputs": [],
   "source": [
    "def create_instance_profile(profile_name, role_name, policy_arn):\n",
    "    iam_client = boto3.client('iam')\n",
    "\n",
    "    try:\n",
    "        # Step 1: Create IAM Role\n",
    "        print(f\"Creating IAM Role: {role_name}\")\n",
    "        assume_role_policy_document = {\n",
    "            \"Version\": \"2012-10-17\",\n",
    "            \"Statement\": [\n",
    "                {\n",
    "                    \"Effect\": \"Allow\",\n",
    "                    \"Principal\": {\"Service\": \"ec2.amazonaws.com\"},\n",
    "                    \"Action\": \"sts:AssumeRole\"\n",
    "                }\n",
    "            ]\n",
    "        }\n",
    "\n",
    "        iam_client.create_role(\n",
    "            RoleName=role_name,\n",
    "            AssumeRolePolicyDocument=json.dumps(assume_role_policy_document)\n",
    "        )\n",
    "\n",
    "        print(f\"IAM Role '{role_name}' created successfully.\")\n",
    "\n",
    "        # Step 2: Attach Policy to the Role\n",
    "        print(f\"Attaching policy {policy_arn} to role {role_name}.\")\n",
    "        iam_client.attach_role_policy(\n",
    "            RoleName=role_name,\n",
    "            PolicyArn=policy_arn\n",
    "        )\n",
    "\n",
    "        print(f\"Policy '{policy_arn}' attached to role '{role_name}' successfully.\")\n",
    "\n",
    "        # Step 3: Create an Instance Profile\n",
    "        print(f\"Creating Instance Profile: {profile_name}\")\n",
    "        iam_client.create_instance_profile(InstanceProfileName=profile_name)\n",
    "        print(f\"Instance Profile '{profile_name}' created successfully.\")\n",
    "\n",
    "        # Step 4: Add Role to Instance Profile\n",
    "        print(f\"Adding role '{role_name}' to instance profile '{profile_name}'.\")\n",
    "        iam_client.add_role_to_instance_profile(\n",
    "            InstanceProfileName=profile_name,\n",
    "            RoleName=role_name\n",
    "        )\n",
    "        print(f\"Role '{role_name}' added to instance profile '{profile_name}' successfully.\")\n",
    "\n",
    "    except iam_client.exceptions.EntityAlreadyExistsException as e:\n",
    "        print(f\"Entity already exists: {e}\")\n",
    "    except Exception as e:\n",
    "        print(f\"An error occurred: {e}\")\n",
    "\n",
    "if __name__ == \"__main__\":\n",
    "    import json\n",
    "\n",
    "    # Specify the instance profile name, role name, and policy ARN\n",
    "    instance_profile_name = \"MyEC2InstanceProfile\"\n",
    "    role_name = \"MyEC2Role\"\n",
    "    policy_arn = \"arn:aws:iam::aws:policy/AmazonS3ReadOnlyAccess\"  # Example policy for S3 read-only access\n",
    "\n",
    "    create_instance_profile(instance_profile_name, role_name, policy_arn)\n"
   ]
  },
  {
   "cell_type": "markdown",
   "metadata": {},
   "source": [
    "## Security Group"
   ]
  },
  {
   "cell_type": "code",
   "execution_count": null,
   "metadata": {},
   "outputs": [],
   "source": [
    "group_name = \"ALL_IN_ONE_SG\""
   ]
  },
  {
   "cell_type": "code",
   "execution_count": null,
   "metadata": {},
   "outputs": [],
   "source": [
    "# Example usage\n",
    "inbound_rules = [\n",
    "    {\n",
    "        'IpProtocol': 'tcp',\n",
    "        'FromPort': 22,\n",
    "        'ToPort': 22,\n",
    "        'IpRanges': [{'CidrIp': '0.0.0.0/0', \"Description\": \"SSH_Port\"}]\n",
    "    },\n",
    "    {\n",
    "        'IpProtocol': 'tcp',\n",
    "        'FromPort': 80,\n",
    "        'ToPort': 80,\n",
    "        'IpRanges': [{'CidrIp': '0.0.0.0/0', \"Description\": \"HTTP_Port\"}]\n",
    "    },\n",
    "    {\n",
    "        'IpProtocol': 'tcp',\n",
    "        'FromPort': 443,\n",
    "        'ToPort': 443,\n",
    "        'IpRanges': [{'CidrIp': '0.0.0.0/0', \"Description\": \"HTTPs_Port\"}]\n",
    "    },\n",
    "    {\n",
    "        'IpProtocol': 'tcp',\n",
    "        'FromPort': 8000,\n",
    "        'ToPort': 8000,\n",
    "        'IpRanges': [{'CidrIp': '0.0.0.0/0', \"Description\": \"Django_Port1\"}]\n",
    "    },\n",
    "    {\n",
    "        'IpProtocol': 'tcp',\n",
    "        'FromPort': 8010,\n",
    "        'ToPort': 8010,\n",
    "        'IpRanges': [{'CidrIp': '0.0.0.0/0', \"Description\": \"Django_Port2\"}]\n",
    "    },\n",
    "    {\n",
    "        'IpProtocol': 'tcp',\n",
    "        'FromPort': 8080,\n",
    "        'ToPort': 8080,\n",
    "        'IpRanges': [{'CidrIp': '0.0.0.0/0', \"Description\": \"Jenkins_Port\"}]\n",
    "    },\n",
    "    {\n",
    "        'IpProtocol': 'tcp',\n",
    "        'FromPort': 8888,\n",
    "        'ToPort': 8888,\n",
    "        'IpRanges': [{'CidrIp': '0.0.0.0/0', \"Description\": \"JupyterNotebook_Port\"}]\n",
    "    },\n",
    "    {\n",
    "        'IpProtocol': 'tcp',\n",
    "        'FromPort': 3306,\n",
    "        'ToPort': 3306,\n",
    "        'IpRanges': [{'CidrIp': '0.0.0.0/0', \"Description\": \"AWS_RDS_MySQL_Port\"}]\n",
    "    },\n",
    "    {\n",
    "        'IpProtocol': 'tcp',\n",
    "        'FromPort': 4243,\n",
    "        'ToPort': 4243,\n",
    "        'IpRanges': [{'CidrIp': '0.0.0.0/0', \"Description\": \"docker_host\"}]\n",
    "    },\n",
    "    {\n",
    "        'IpProtocol': 'tcp',\n",
    "        'FromPort': 32768,\n",
    "        'ToPort': 60999,\n",
    "        'IpRanges': [{'CidrIp': '0.0.0.0/0', \"Description\": \"docker_host_communication\"}]\n",
    "    },\n",
    "]\n",
    "\n",
    "outbound_rules = [\n",
    "    {\n",
    "        'IpProtocol': '-1', # '-1' means all protocols\n",
    "        'FromPort': -1,\n",
    "        'ToPort': -1,\n",
    "        'IpRanges': [{'CidrIp': '0.0.0.0/0'}]\n",
    "    }\n",
    "]"
   ]
  },
  {
   "cell_type": "code",
   "execution_count": null,
   "metadata": {},
   "outputs": [],
   "source": [
    "security_group_id = ec2_client.create_security_group(\n",
    "    GroupName=group_name,\n",
    "    Description=\"ALL IN ONE SECURITY GROUP\",\n",
    "    VpcId=VPC_ID\n",
    ")['GroupId']"
   ]
  },
  {
   "cell_type": "code",
   "execution_count": null,
   "metadata": {},
   "outputs": [],
   "source": [
    "ec2_client.authorize_security_group_ingress(\n",
    "    GroupId=security_group_id,\n",
    "    IpPermissions=inbound_rules\n",
    ")\n",
    "\n",
    "# Adds an inbound rule to allow all traffic from instances within the same security group.\n",
    "ec2_client.authorize_security_group_ingress(\n",
    "    GroupId=security_group_id,\n",
    "    IpPermissions=[\n",
    "        {\n",
    "            'IpProtocol': '-1',  # '-1' means all protocols\n",
    "            'UserIdGroupPairs': [\n",
    "                {\n",
    "                    'GroupId': security_group_id,\n",
    "                    'Description': 'Allow all traffic from the same security group'\n",
    "                }\n",
    "            ]\n",
    "        }\n",
    "    ]\n",
    ")"
   ]
  },
  {
   "cell_type": "code",
   "execution_count": null,
   "metadata": {},
   "outputs": [],
   "source": [
    "ec2_client.authorize_security_group_egress(GroupId=security_group_id,IpPermissions=outbound_rules)"
   ]
  },
  {
   "cell_type": "code",
   "execution_count": null,
   "metadata": {},
   "outputs": [],
   "source": [
    "ec2_client.describe_security_groups(GroupIds=[security_group_id])"
   ]
  },
  {
   "cell_type": "code",
   "execution_count": null,
   "metadata": {},
   "outputs": [],
   "source": [
    "tags = [{'Key': 'Name','Value': 'ALL_IN_ONE_SG'}]\n",
    "ec2_client.create_tags(Resources=[security_group_id],Tags=tags)"
   ]
  },
  {
   "cell_type": "code",
   "execution_count": null,
   "metadata": {},
   "outputs": [],
   "source": [
    "\n",
    "# Retrieve the current security groups attached to the instance\n",
    "response = ec2_client.describe_instances(InstanceIds=[AWS_INSTANCE_ID_JENKINS_MASTER])\n",
    "current_security_groups = response['Reservations'][0]['Instances'][0]['SecurityGroups']\n",
    "\n",
    "# Extract current security group IDs\n",
    "security_group_ids = [sg['GroupId'] for sg in current_security_groups]\n",
    "print(security_group_ids)"
   ]
  },
  {
   "cell_type": "markdown",
   "metadata": {},
   "source": [
    "- Update Security group of a EC2 instance."
   ]
  },
  {
   "cell_type": "code",
   "execution_count": null,
   "metadata": {},
   "outputs": [],
   "source": [
    "# Update the instance to attach the new list of security groups\n",
    "ec2_client.modify_instance_attribute(\n",
    "    InstanceId=\"i-064a3505ab360d46d\",\n",
    "    Groups=[ALL_IN_ONE_SG]\n",
    ")"
   ]
  },
  {
   "cell_type": "markdown",
   "metadata": {},
   "source": [
    "## VPC"
   ]
  },
  {
   "cell_type": "markdown",
   "metadata": {},
   "source": [
    "-   [AWS re:Invent 2020: Monitoring and troubleshooting network traffic](https://www.youtube.com/watch?v=Ed09ReWRQXc)"
   ]
  },
  {
   "cell_type": "markdown",
   "metadata": {},
   "source": [
    "#### [Must Know: AWS Networking Basics For Programmers | Hands On](https://www.youtube.com/watch?v=2doSoMN2xvI&t=1007s)"
   ]
  },
  {
   "cell_type": "markdown",
   "metadata": {},
   "source": [
    "- VPC can have different types of Gateways\n",
    "  - Internet Gateway\n",
    "  - NAT Gateway: \n",
    "    - It is usally created in a public subnet\n",
    "    - Only allow outbound trafic (Usually used to update packages by the instances within a private subnet)\n",
    "  - Interface Gateway\n",
    "\n",
    "- Each VPC have a Routers.\n",
    "- Each VPC have a Default Route Table (Called `Main`).\n",
    "  - It allows all internal communication `WITHIN` (subnet to subnet) the VPC\n",
    "  - All subnets without any explecit association get associated to the `Main` route table.\n",
    "\n",
    "\n",
    "- Each Subnet has a Route Table\n",
    "\n",
    "\n",
    "- Route Table (RT):\n",
    "  - By Default RT allwo communication amoung the subnets within the VPC.\n",
    "  - RTs are created within a VPC (TR belongs to VPC)\n",
    "  - Main Route Table: all unassociated subnets use the route table.\n",
    "  - RT gets associated with Subnets."
   ]
  },
  {
   "cell_type": "markdown",
   "metadata": {},
   "source": [
    "<div style=\"text-align:center\" ><img src=\"./screenshots/vpc/screenshot.png\" width=\"700\" height=\"400\" /></div>"
   ]
  },
  {
   "cell_type": "code",
   "execution_count": null,
   "metadata": {},
   "outputs": [],
   "source": [
    "# ?ec2_resource.create_vpc"
   ]
  },
  {
   "cell_type": "code",
   "execution_count": null,
   "metadata": {},
   "outputs": [],
   "source": [
    "vpc_cidr_block = '172.0.0.0/16'\n",
    "vpc_name = 'httx-vpc'\n",
    "vpc_id = ec2_client.create_vpc(CidrBlock=vpc_cidr_block)['Vpc']['VpcId']\n",
    "\n",
    "# Add a Name tag to the VPC\n",
    "ec2_client.create_tags(Resources=[vpc_id], Tags=[{'Key': 'Name', 'Value': vpc_name}])\n",
    "# ec2_client.describe_vpcs(VpcIds=[vpc_id])"
   ]
  },
  {
   "cell_type": "code",
   "execution_count": null,
   "metadata": {},
   "outputs": [],
   "source": [
    "vpc_endpoints = ec2_client.describe_vpc_endpoints(Filters=[{'Name': 'vpc-id', 'Values': [vpc_id]}])\n",
    "print(vpc_endpoints)\n",
    "# for endpoint in vpc_endpoints['VpcEndpoints']:\n",
    "#     endpoint_id = endpoint['VpcEndpointId']\n",
    "#     print(f\"Deleting VPC Endpoint: {endpoint_id}\")\n",
    "#     ec2_client.delete_vpc_endpoints(VpcEndpointIds=[endpoint_id])\n"
   ]
  },
  {
   "cell_type": "code",
   "execution_count": null,
   "metadata": {},
   "outputs": [],
   "source": [
    "\n",
    "vpc = ec2_resource.Vpc(vpc_id)"
   ]
  },
  {
   "cell_type": "code",
   "execution_count": null,
   "metadata": {},
   "outputs": [],
   "source": [
    "# ?ec2_resource.create_subnet"
   ]
  },
  {
   "cell_type": "code",
   "execution_count": null,
   "metadata": {},
   "outputs": [],
   "source": [
    "subnet_configs = [\n",
    "    {'cidr_block': '172.0.1.0/24', 'az': 'us-east-1a', 'tag': 'public-subnet-01'},\n",
    "    {'cidr_block': '172.0.2.0/24', 'az': 'us-east-1b', 'tag': 'public-subnet-02'},\n",
    "    {'cidr_block': '172.0.3.0/24', 'az': 'us-east-1a', 'tag': 'private-subnet-01'},\n",
    "    {'cidr_block': '172.0.4.0/24', 'az': 'us-east-1b', 'tag': 'private-subnet-02'}\n",
    "]"
   ]
  },
  {
   "cell_type": "code",
   "execution_count": null,
   "metadata": {},
   "outputs": [],
   "source": [
    "public_subnet1 = ec2_resource.create_subnet(\n",
    "    CidrBlock=subnet_configs[0]['cidr_block'],\n",
    "    VpcId=vpc.id,\n",
    "    AvailabilityZone=subnet_configs[0]['az']\n",
    ")\n",
    "ec2_client.create_tags(Resources=[public_subnet1.id],Tags=[{'Key': 'Name', 'Value': subnet_configs[0]['tag']}])\n",
    "\n",
    "public_subnet2 = ec2_resource.create_subnet(\n",
    "    CidrBlock=subnet_configs[1]['cidr_block'],\n",
    "    VpcId=vpc.id,\n",
    "    AvailabilityZone=subnet_configs[1]['az']\n",
    ")\n",
    "ec2_client.create_tags(Resources=[public_subnet2.id],Tags=[{'Key': 'Name', 'Value': subnet_configs[1]['tag']}])"
   ]
  },
  {
   "cell_type": "code",
   "execution_count": null,
   "metadata": {},
   "outputs": [],
   "source": [
    "private_subnet1 = ec2_resource.create_subnet(\n",
    "    CidrBlock=subnet_configs[2]['cidr_block'],\n",
    "    VpcId=vpc.id,\n",
    "    AvailabilityZone=subnet_configs[2]['az']\n",
    ")\n",
    "ec2_client.create_tags(Resources=[private_subnet1.id],Tags=[{'Key': 'Name', 'Value': subnet_configs[2]['tag']}])\n",
    "\n",
    "private_subnet2 = ec2_resource.create_subnet(\n",
    "    CidrBlock=subnet_configs[3]['cidr_block'],\n",
    "    VpcId=vpc.id,\n",
    "    AvailabilityZone=subnet_configs[3]['az']\n",
    ")\n",
    "ec2_client.create_tags(Resources=[private_subnet2.id],Tags=[{'Key': 'Name', 'Value': subnet_configs[3]['tag']}])"
   ]
  },
  {
   "cell_type": "code",
   "execution_count": null,
   "metadata": {},
   "outputs": [],
   "source": [
    "sg_name = 'htts-sg'\n",
    "# ec2.create_security_group(sg_name, vpc_id)"
   ]
  },
  {
   "cell_type": "code",
   "execution_count": null,
   "metadata": {},
   "outputs": [],
   "source": [
    "# response = ec2_client.describe_security_group_rules(SecurityGroupRuleIds=['sgr-0151050acf52e2f6b'])"
   ]
  },
  {
   "cell_type": "code",
   "execution_count": null,
   "metadata": {},
   "outputs": [],
   "source": [
    "ec2_instance_type = os.environ['AWS_DEFAULT_INSTANCE_TYPE'] # t2.micro\n",
    "key_name='AMominNJ'\n",
    "sg_id = 'sg-03866c6a844806569'\n",
    "ami_id = 'ami-0e86e20dae9224db8' # Ubuntu Server 24.04 LTS (Free Tier Eligible)\n",
    "\n",
    "ec2_in_public_subnet = ec2_client.run_instances(\n",
    "    ImageId=ami_id,                         # The ID of the AMI\n",
    "    InstanceType=ec2_instance_type,         # The instance type\n",
    "    KeyName=key_name,                       # The name of the key pair\n",
    "    MaxCount=1,                             # Number of instances to launch\n",
    "    MinCount=1,\n",
    "    NetworkInterfaces=[{\n",
    "        'SubnetId': public_subnet1.subnet_id,   # Subnet within the VPC\n",
    "        'DeviceIndex': 0,                       # Primary network interface\n",
    "        'AssociatePublicIpAddress': True,       # Automatically assign public IP\n",
    "        'Groups': [sg_id]                       # Security group ID(s)\n",
    "    }]\n",
    ")"
   ]
  },
  {
   "cell_type": "code",
   "execution_count": null,
   "metadata": {},
   "outputs": [],
   "source": [
    "# Create Internet Gateway and attach that with VPC\n",
    "igw_id = ec2_resource.create_internet_gateway()\n",
    "ec2_client.attach_internet_gateway(InternetGatewayId=igw_id,VpcId=vpc_id)"
   ]
  },
  {
   "cell_type": "code",
   "execution_count": null,
   "metadata": {},
   "outputs": [],
   "source": [
    "public_route_table = ec2_resource.create_route_table(VpcId=vpc_id)\n",
    "ec2_client.create_tags(Resources=[public_route_table.id],Tags=[{'Key': 'Name','Value': 'public_route_table'},])\n",
    "\n",
    "public_route_table.associate_with_subnet(SubnetId=public_subnet1.id)\n",
    "\n",
    "route_params = {'DestinationCidrBlock': '0.0.0.0/0', 'GatewayId': igw_id}\n",
    "public_route_table.create_route(**route_params)"
   ]
  },
  {
   "cell_type": "code",
   "execution_count": null,
   "metadata": {},
   "outputs": [],
   "source": [
    "private_route_table = ec2_resource.create_route_table(VpcId=vpc_id)\n",
    "ec2_client.create_tags(Resources=[private_route_table.id],Tags=[{'Key': 'Name','Value': 'private_route_table'},])\n",
    "\n",
    "private_route_table.associate_with_subnet(SubnetId=private_subnet1.id)"
   ]
  },
  {
   "cell_type": "markdown",
   "metadata": {},
   "source": [
    "- YOU SHOULD BE ABLE TO CONNECT TO YOUR EC2 INSTANCE (`ec2_in_public_subnet`)."
   ]
  },
  {
   "cell_type": "code",
   "execution_count": null,
   "metadata": {},
   "outputs": [],
   "source": [
    "ec2_instance_type = os.environ['AWS_DEFAULT_INSTANCE_TYPE'] # t2.micro\n",
    "key_name='AMominNJ'\n",
    "sg_id = 'sg-03866c6a844806569'\n",
    "ami_id = 'ami-0e86e20dae9224db8' # Ubuntu Server 24.04 LTS (Free Tier Eligible)\n",
    "\n",
    "ec2_in_private_subnet = ec2_client.run_instances(\n",
    "    ImageId=ami_id,                # The ID of the AMI\n",
    "    InstanceType=ec2_instance_type,       # The instance type\n",
    "    KeyName=key_name,              # The name of the key pair\n",
    "    MaxCount=1,                    # Number of instances to launch\n",
    "    MinCount=1,\n",
    "    NetworkInterfaces=[{\n",
    "        'SubnetId': private_subnet1.subnet_id,     # Subnet within the VPC\n",
    "        'DeviceIndex': 0,          # Primary network interface\n",
    "        'AssociatePublicIpAddress': True,  # Automatically assign public IP\n",
    "        'Groups': [sg_id]  # Security group ID(s)\n",
    "    }]\n",
    ")"
   ]
  },
  {
   "cell_type": "code",
   "execution_count": null,
   "metadata": {},
   "outputs": [],
   "source": [
    "ec2_client.create_tags(Resources=['i-0169495b08d0ec48c'],Tags=[{'Key': 'Name','Value': 'ec2_in_private_subnet'},])"
   ]
  },
  {
   "cell_type": "markdown",
   "metadata": {},
   "source": [
    "- YOU SHOULD BE ABLE TO CONNECT TO YOUR `ec2_in_private_subnet` EC2 INSTANCE from `ec2_in_public_subnet` EC2 INSTANCE. SINCE ROUTE TABLE ALLOW INTER SUBNET COMMUNICATION.\n",
    "- BUT YOU SHOULD NOT BE ABLE TO CONNECT TO YOUR `ec2_in_private_subnet` EC2 INSTANCE from `LOCAL_MACHINE` EC2 INSTANCE.\n",
    "- BUT HOW DOES `ec2_in_private_subnet` UPDATES IT'S PACAGES SINCE IT DOES NOT HAVE INTERNET ACCESS? `NAT Gateway`!!!"
   ]
  },
  {
   "cell_type": "markdown",
   "metadata": {},
   "source": []
  },
  {
   "cell_type": "code",
   "execution_count": null,
   "metadata": {},
   "outputs": [],
   "source": [
    "# Step 1: Allocate an Elastic IP address\n",
    "eip_response = ec2_client.allocate_address(Domain='vpc')\n",
    "eip_allocation_id = eip_response['AllocationId']\n",
    "print(f\"Elastic IP allocated: {eip_allocation_id}\")\n",
    "\n",
    "# Step 2: Create the NAT Gateway\n",
    "nat_gateway_response = ec2_client.create_nat_gateway(\n",
    "    SubnetId=public_subnet1.id,\n",
    "    AllocationId=eip_allocation_id\n",
    ")\n",
    "nat_gateway_id = nat_gateway_response['NatGateway']['NatGatewayId']\n",
    "print(f\"NAT Gateway created: {nat_gateway_id}\")"
   ]
  },
  {
   "cell_type": "code",
   "execution_count": null,
   "metadata": {},
   "outputs": [],
   "source": [
    "private_route_params = {'DestinationCidrBlock': '0.0.0.0/0', 'GatewayId': nat_gateway_id}\n",
    "private_route_table.create_route(**private_route_params)"
   ]
  },
  {
   "cell_type": "code",
   "execution_count": null,
   "metadata": {},
   "outputs": [],
   "source": [
    "public_ip = ''  # Collect it from instetiated EC2 instance\n",
    "private_ip = '' # Collect it from instetiated EC2 instance"
   ]
  },
  {
   "cell_type": "markdown",
   "metadata": {},
   "source": [
    "```sh\n",
    "# Run to access into ec2_in_public_subnet from local machine\n",
    "ssh -o StrictHostKeyChecking=no -i ~/.ssh/{key_name}.pem ubuntu@{public_ip}\n",
    "# Run to copy key file into ec2_in_public_subnet from local machine\n",
    "scp -i ~/.ssh/{key_name}.pem ~/.ssh/{key_name}.pem ubuntu@{public_ip}:.ssh/\n",
    "# Run to access into ec2_in_private_subnet from ec2_in_public_subnet\n",
    "ssh -o StrictHostKeyChecking=no -i ~/.ssh/{key_name}.pem ubuntu@{private_ip}\n",
    "```"
   ]
  },
  {
   "cell_type": "code",
   "execution_count": null,
   "metadata": {},
   "outputs": [],
   "source": []
  },
  {
   "cell_type": "code",
   "execution_count": null,
   "metadata": {},
   "outputs": [],
   "source": [
    "# vpc.delete_vpc_with_dependencies(vpc_id)"
   ]
  },
  {
   "cell_type": "code",
   "execution_count": null,
   "metadata": {},
   "outputs": [],
   "source": []
  },
  {
   "cell_type": "code",
   "execution_count": null,
   "metadata": {},
   "outputs": [],
   "source": []
  },
  {
   "cell_type": "markdown",
   "metadata": {},
   "source": [
    "#### [BeBetterDev: AWS VPC Endpoints](https://www.youtube.com/watch?v=jo3X_aay4Vs&list=PL9nWRykSBSFhzwFa9Z5PqBM0XON8hpXE7&index=6)"
   ]
  },
  {
   "cell_type": "code",
   "execution_count": null,
   "metadata": {},
   "outputs": [],
   "source": []
  },
  {
   "cell_type": "markdown",
   "metadata": {},
   "source": [
    "-   `Gateway` endpoints serve as a target for a route in your route table for traffic destined for the service."
   ]
  },
  {
   "cell_type": "code",
   "execution_count": null,
   "metadata": {},
   "outputs": [],
   "source": [
    "# VPC Endpoint parameters\n",
    "vpc_endpoint_tag = 'rs-glue-vpc-endpoint'\n",
    "service_name = 'com.amazonaws.us-east-1.s3'  # Replace with the desired service (e.g., S3)\n",
    "subnet_ids = ['subnet-0980ad10eb313405b', 'subnet-0de97821ddb8236f7', 'subnet-0a160fbe0fcafe373', 'subnet-0ca765b361e4cb186', 'subnet-0a972b05a5b162feb']  # List of subnets where the endpoint should be placed\n",
    "security_group_ids = [sg_id]  # Security group(s) associated with the endpoint\n",
    "route_table_ids = ['rtb-0ec4311296ec952f8']\n",
    "\n",
    "# Create an Interface Endpoint\n",
    "vpc_endpoint = ec2_client.create_vpc_endpoint(\n",
    "    VpcEndpointType='Gateway',\n",
    "    VpcId=vpc_id,\n",
    "    ServiceName=service_name,\n",
    "    RouteTableIds=route_table_ids,\n",
    "    # SubnetIds=sg_id,\n",
    "    # SecurityGroupIds=security_group_ids,\n",
    "    PrivateDnsEnabled=False  # Enable private DNS to resolve service names within the VPC\n",
    ")\n",
    "print(vpc_endpoint)"
   ]
  },
  {
   "cell_type": "code",
   "execution_count": null,
   "metadata": {},
   "outputs": [],
   "source": [
    "# ec2_client.create_tags(Resources=['vpce-039138a9e51a77069'],Tags=[{'Key': 'Name', 'Value': vpc_endpoint_tag}])"
   ]
  },
  {
   "cell_type": "code",
   "execution_count": null,
   "metadata": {},
   "outputs": [],
   "source": [
    "vpc_endpoint_id = vpc_endpoint['VpcEndpoint']['VpcEndpointId']\n",
    "# Delete the VPC Endpoint\n",
    "response = ec2_client.delete_vpc_endpoints(VpcEndpointIds=[vpc_endpoint_id])"
   ]
  },
  {
   "cell_type": "code",
   "execution_count": null,
   "metadata": {},
   "outputs": [],
   "source": []
  },
  {
   "cell_type": "markdown",
   "metadata": {},
   "source": [
    "#### Experiments"
   ]
  },
  {
   "cell_type": "markdown",
   "metadata": {},
   "source": [
    "- Create a Private VPC\n",
    "- Create a Internet Gatway and attach it to the VPC"
   ]
  },
  {
   "cell_type": "code",
   "execution_count": null,
   "metadata": {},
   "outputs": [],
   "source": [
    "# ?ec2_resource.create_vpc"
   ]
  },
  {
   "cell_type": "code",
   "execution_count": null,
   "metadata": {},
   "outputs": [],
   "source": [
    "tag_specifications=[\n",
    "    {\n",
    "        'Tags': [\n",
    "            {\n",
    "                'Key': 'Name',\n",
    "                'Value': 'httx-vpc'\n",
    "            },\n",
    "        ]\n",
    "    },\n",
    "]\n",
    "vpc_cidr_block = '172.0.0.0/16'\n",
    "vpc = ec2_resource.create_vpc(CidrBlock=vpc_cidr_block, TagSpecifications=tag_specifications)\n",
    "vpc.wait_until_available()\n",
    "print(f\"VPC '{vpc.id}' created with CIDR block '{vpc_cidr_block}'\")\n",
    "\n",
    "\n",
    "# Create Internet Gateway and attach that with VPC\n",
    "igw = ec2_resource.create_internet_gateway()\n",
    "\n",
    "# attach the IG with VPC\n",
    "vpc.attach_internet_gateway(InternetGatewayId=igw.id)\n",
    "print(f\"Internet Gateway '{igw.id}' attached to VPC '{vpc.id}'\")\n"
   ]
  },
  {
   "cell_type": "markdown",
   "metadata": {},
   "source": [
    "- Create Subnets and Route Tables within the VPC.\n",
    "- Associate Route Tables with the Subnets."
   ]
  },
  {
   "cell_type": "code",
   "execution_count": null,
   "metadata": {},
   "outputs": [],
   "source": [
    "subnet_configs = [\n",
    "    {'cidr_block': '172.0.1.0/24', 'az': 'us-east-1a'},\n",
    "    {'cidr_block': '172.0.2.0/24', 'az': 'us-east-1b'}\n",
    "]\n",
    "\n",
    "route_table_configs = [\n",
    "    {\n",
    "        'routes': [\n",
    "            {'destination_cidr_block': '0.0.0.0/0', 'gateway_id': igw.id, 'nat_gateway_id': ''}\n",
    "        ]\n",
    "    }\n",
    "]\n",
    "\n",
    "\n",
    "for subnet_config in subnet_configs:\n",
    "\n",
    "    subnet = ec2_resource.create_subnet(\n",
    "        CidrBlock=subnet_config['cidr_block'],\n",
    "        VpcId=vpc.id,\n",
    "        AvailabilityZone=subnet_config['az']\n",
    "    )\n",
    "\n",
    "    route_table = ec2_resource.create_route_table(VpcId=vpc.id)\n",
    "    route_table_config = route_table_configs[0]\n",
    "\n",
    "    if 'routes' in route_table_config:\n",
    "        for route in route_table_config['routes']:\n",
    "            route_params = {'DestinationCidrBlock': route['destination_cidr_block']}\n",
    "            \n",
    "            if 'gateway_id' in route and route['gateway_id']: route_params['GatewayId'] = route['gateway_id']\n",
    "            elif igw.id: route_params['GatewayId'] = igw.id\n",
    "            \n",
    "            if 'nat_gateway_id' in route and route['nat_gateway_id']:\n",
    "                route_params['NatGatewayId'] = route['nat_gateway_id']\n",
    "            \n",
    "            # Create a route within the Route Table\n",
    "            route_table.create_route(**route_params)\n",
    "    \n",
    "    route_table.associate_with_subnet(SubnetId=subnet.id)\n",
    "    print(f\"Route table '{route_table.id}' associated with subnet '{subnet.id}'\")"
   ]
  },
  {
   "cell_type": "code",
   "execution_count": null,
   "metadata": {},
   "outputs": [],
   "source": [
    "security_group_configs = [\n",
    "    {\n",
    "        'group_name': f\"httx-{date.today().strftime('%Y-%m-%d')}-sg\",\n",
    "        'description': f\"httx-{date.today().strftime('%Y-%m-%d')} security group\",\n",
    "        'ingress_rules': [\n",
    "            {'protocol': 'tcp', 'cidr_ip': '0.0.0.0/0', 'from_port': 80, 'to_port': 80},\n",
    "            {'protocol': 'tcp', 'cidr_ip': '0.0.0.0/0', 'from_port': 443, 'to_port': 443}\n",
    "        ],\n",
    "        'egress_rules': [\n",
    "            {'protocol': 'tcp', 'cidr_ip': '0.0.0.0/0', 'from_port': 0, 'to_port': 0}\n",
    "        ]\n",
    "    }\n",
    "]\n",
    "\n",
    "if security_group_configs:\n",
    "    for sg_config in security_group_configs:\n",
    "        security_group = ec2_resource.create_security_group(\n",
    "            GroupName=sg_config['group_name'],\n",
    "            Description=sg_config['description'],\n",
    "            VpcId=vpc.id\n",
    "        )\n",
    "        if 'ingress_rules' in sg_config:\n",
    "            for rule in sg_config['ingress_rules']:\n",
    "                security_group.authorize_ingress(\n",
    "                    IpProtocol=rule['protocol'],\n",
    "                    CidrIp=rule['cidr_ip'],\n",
    "                    FromPort=rule['from_port'],\n",
    "                    ToPort=rule['to_port']\n",
    "                )\n",
    "        if 'egress_rules' in sg_config:\n",
    "            for rule in sg_config['egress_rules']:\n",
    "                security_group.authorize_egress(\n",
    "                    IpPermissions=[{\n",
    "                        'IpProtocol': rule['protocol'],\n",
    "                        'IpRanges': [{'CidrIp': rule['cidr_ip']}],\n",
    "                        'FromPort': rule['from_port'],\n",
    "                        'ToPort': rule['to_port']\n",
    "                    }]\n",
    "                )\n",
    "        print(f\"Security group '{security_group.id}' created with name '{sg_config['group_name']}'\")\n"
   ]
  },
  {
   "cell_type": "markdown",
   "metadata": {},
   "source": [
    "-   Delete all resources associated with the VPC.\n",
    "-   Then delete the VPC."
   ]
  },
  {
   "cell_type": "code",
   "execution_count": null,
   "metadata": {},
   "outputs": [],
   "source": [
    "vpc = ec2_resource.Vpc(vpc.id)\n",
    "\n",
    "# Detach and delete all internet gateways\n",
    "for igw in vpc.internet_gateways.all():\n",
    "    vpc.detach_internet_gateway(InternetGatewayId=igw.id)\n",
    "    # Delete the Internet Gateway\n",
    "    igw.delete()\n",
    "    # ec2_client.delete_internet_gateway(InternetGatewayId=igw.id)\n",
    "    print(f\"Deleted Internet Gateway: {igw.id}\")\n",
    "\n",
    "# Delete all route table associations and route tables\n",
    "for rt in vpc.route_tables.all():\n",
    "    for association in rt.associations:\n",
    "        if not association.main:\n",
    "            ec2_client.disassociate_route_table(AssociationId=association.id)\n",
    "    if not rt.associations_attribute or all(not assoc['Main'] for assoc in rt.associations_attribute):\n",
    "        rt.delete()\n",
    "        print(f\"Deleted Route Table: {rt.id}\")\n",
    "\n",
    "# Delete all network ACLs (except the default one)\n",
    "for acl in vpc.network_acls.all():\n",
    "    if not acl.is_default:\n",
    "        acl.delete()\n",
    "        print(f\"Deleted Network ACL: {acl.id}\")\n",
    "\n",
    "# Delete all subnets\n",
    "for subnet in vpc.subnets.all():\n",
    "    for eni in subnet.network_interfaces.all():\n",
    "        eni.delete()\n",
    "        print(f\"Deleted Network Interface: {eni.id}\")\n",
    "    subnet.delete()\n",
    "    print(f\"Deleted Subnet: {subnet.id}\")\n",
    "\n",
    "# Delete all security groups (except the default one)\n",
    "for sg in vpc.security_groups.all():\n",
    "    if sg.group_name != 'default':\n",
    "        sg.delete()\n",
    "        print(f\"Deleted Security Group: {sg.id}\")\n",
    "\n",
    "# Finally, delete the VPC\n",
    "vpc.delete()\n",
    "print(f\"Deleted VPC: {vpc.id}\")\n"
   ]
  },
  {
   "cell_type": "code",
   "execution_count": null,
   "metadata": {},
   "outputs": [],
   "source": [
    "# ?ec2_client.describe_vpcs"
   ]
  },
  {
   "cell_type": "code",
   "execution_count": null,
   "metadata": {},
   "outputs": [],
   "source": [
    "response = ec2_client.describe_vpcs(\n",
    "    VpcIds=[\n",
    "        'vpc-054e315c7fbdb0d6f',\n",
    "    ]\n",
    ")\n",
    "print(response)"
   ]
  },
  {
   "cell_type": "code",
   "execution_count": null,
   "metadata": {},
   "outputs": [],
   "source": []
  }
 ],
 "metadata": {
  "kernelspec": {
   "display_name": "dsnb",
   "language": "python",
   "name": "python3"
  },
  "language_info": {
   "codemirror_mode": {
    "name": "ipython",
    "version": 3
   },
   "file_extension": ".py",
   "mimetype": "text/x-python",
   "name": "python",
   "nbconvert_exporter": "python",
   "pygments_lexer": "ipython3",
   "version": "3.9.6"
  }
 },
 "nbformat": 4,
 "nbformat_minor": 2
}
