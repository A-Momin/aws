{
 "cells": [
  {
   "cell_type": "code",
   "execution_count": 37,
   "metadata": {},
   "outputs": [
    {
     "data": {
      "text/plain": [
       "True"
      ]
     },
     "execution_count": 37,
     "metadata": {},
     "output_type": "execute_result"
    }
   ],
   "source": [
    "import boto3, botocore\n",
    "from botocore.exceptions import ClientError\n",
    "import os, time, json, io, zipfile, base64\n",
    "from datetime import date\n",
    "from dotenv import load_dotenv\n",
    "\n",
    "\n",
    "from misc import load_from_yaml, save_to_yaml\n",
    "import iam, s3, lf, rds, vpc, ec2\n",
    "\n",
    "load_dotenv(\".env\")\n",
    "# boto3.setup_default_session(profile_name=\"AMominNJ\")"
   ]
  },
  {
   "cell_type": "code",
   "execution_count": 2,
   "metadata": {},
   "outputs": [],
   "source": [
    "ALL_IN_ONE_SG     = 'sg-0d8a868137f653df6'\n",
    "ACCOUNT_ID        = os.environ['AWS_ACCOUNT_ID_ROOT']\n",
    "REGION            = os.environ['AWS_DEFAULT_REGION']\n",
    "VPC_ID            = os.environ['AWS_DEFAULT_VPC']\n",
    "SECURITY_GROUP_ID = os.environ['AWS_DEFAULT_SG_ID']\n",
    "SUBNET_IDS        = SUBNET_IDS = os.environ[\"AWS_DEFAULT_SUBNET_IDS\"].split(\":\")\n",
    "SUBNET_ID         = SUBNET_IDS[0]\n",
    "AWS_INSTANCE_ID_JMASTER   = os.environ['AWS_INSTANCE_ID_JMASTER']\n",
    "AWS_INSTANCE_ID_JAGENT    = os.environ['AWS_INSTANCE_ID_JAGENT']\n",
    "AWS_DEFAULT_IMAGE_ID      = os.environ['AWS_DEFAULT_IMAGE_ID']\n",
    "AWS_DEFAULT_KEY_PAIR_NAME = os.environ['AWS_DEFAULT_KEY_PAIR_NAME']\n",
    "AWS_DEFAULT_INSTANCE_TYPE = os.environ['AWS_DEFAULT_INSTANCE_TYPE']"
   ]
  },
  {
   "cell_type": "code",
   "execution_count": 60,
   "metadata": {},
   "outputs": [],
   "source": [
    "sts_client           = boto3.client('sts')\n",
    "rds_client           = boto3.client('rds')\n",
    "s3_client            = boto3.client('s3')\n",
    "glue_client          = boto3.client('glue')\n",
    "lakeformation_client = boto3.client('lakeformation')\n",
    "stepfunctions_client = boto3.client('stepfunctions')\n",
    "apigateway_client    = boto3.client('apigateway')\n",
    "lsn_client           = boto3.client('lambda')\n",
    "events_client        = boto3.client('events')\n",
    "sqs_client           = boto3.client('sqs')\n",
    "emr_client = boto3.client('emr', region_name=REGION)\n",
    "\n",
    "iam_client           = boto3.client('iam')\n",
    "elbv2_client = boto3.client(\"elbv2\", region_name=REGION)\n",
    "autoscaling_client = boto3.client(\"autoscaling\", region_name=REGION)\n",
    "acm_client = boto3.client(\"acm\", region_name=REGION)  # Change region as needed\n",
    "route53 = boto3.client(\"route53\", region_name=REGION)"
   ]
  },
  {
   "cell_type": "code",
   "execution_count": null,
   "metadata": {},
   "outputs": [],
   "source": [
    "ec2_client           = boto3.client('ec2', region_name=REGION)\n",
    "ec2_resource         = boto3.resource('ec2', region_name=REGION)\n",
    "\n",
    "# # Example: Get a specific VPC\n",
    "# vpc = ec2_resource.Vpc('vpc_id')\n",
    "\n",
    "# # Example: Get a specific EBS volume\n",
    "# volume = ec2_resource.Volume('volume_id')"
   ]
  },
  {
   "cell_type": "markdown",
   "metadata": {},
   "source": [
    "[boto3 doc: ELB](https://boto3.amazonaws.com/v1/documentation/api/latest/reference/services/elb.html)\n",
    "[boto3 doc: ELBv2](https://boto3.amazonaws.com/v1/documentation/api/latest/reference/services/elbv2.html)"
   ]
  },
  {
   "cell_type": "markdown",
   "metadata": {},
   "source": [
    "##   [Auto Scaling and Load Balancing on AWS](https://www.youtube.com/watch?v=0mwgbiJae5Q&list=PLO95rE9ahzRs0QMA8qtIAstWFo4X4gHtH&index=5)"
   ]
  },
  {
   "cell_type": "markdown",
   "metadata": {},
   "source": [
    "write a python script to create a AWS Auto Scalling Group with all possible option. please write the script without defining any python function. create all resources step by step using boto3 API. "
   ]
  },
  {
   "cell_type": "code",
   "execution_count": null,
   "metadata": {},
   "outputs": [],
   "source": [
    "vpc_cidr_block = '172.0.0.0/16'\n",
    "vpc_name = 'httx-asg-alb-vpc'\n",
    "vpc_id = ec2_client.create_vpc(CidrBlock=vpc_cidr_block)['Vpc']['VpcId']\n",
    "# vpc = ec2_resource.Vpc('vpc_id')\n"
   ]
  },
  {
   "cell_type": "code",
   "execution_count": 32,
   "metadata": {},
   "outputs": [],
   "source": [
    "# Create Internet Gateway and attach that with VPC\n",
    "igw = ec2_resource.create_internet_gateway()"
   ]
  },
  {
   "cell_type": "code",
   "execution_count": null,
   "metadata": {},
   "outputs": [
    {
     "name": "stdout",
     "output_type": "stream",
     "text": [
      "igw-0e7b77977cdf6f731\n"
     ]
    }
   ],
   "source": [
    "print(igw.id)"
   ]
  },
  {
   "cell_type": "code",
   "execution_count": null,
   "metadata": {},
   "outputs": [],
   "source": [
    "ec2_client.attach_internet_gateway(InternetGatewayId=igw.id,VpcId=vpc_id)"
   ]
  },
  {
   "cell_type": "markdown",
   "metadata": {},
   "source": [
    "##### Subnets"
   ]
  },
  {
   "cell_type": "code",
   "execution_count": 23,
   "metadata": {},
   "outputs": [],
   "source": [
    "subnet_configs = [\n",
    "    {'cidr_block': '172.0.1.0/24', 'az': 'us-east-1a', 'tag': 'public-subnet-01'},\n",
    "    {'cidr_block': '172.0.2.0/24', 'az': 'us-east-1b', 'tag': 'public-subnet-02'},\n",
    "    {'cidr_block': '172.0.3.0/24', 'az': 'us-east-1a', 'tag': 'private-subnet-01'},\n",
    "    {'cidr_block': '172.0.4.0/24', 'az': 'us-east-1b', 'tag': 'private-subnet-02'}\n",
    "]"
   ]
  },
  {
   "cell_type": "code",
   "execution_count": null,
   "metadata": {},
   "outputs": [],
   "source": [
    "public_subnet1 = ec2_resource.create_subnet(\n",
    "    CidrBlock=subnet_configs[0]['cidr_block'],\n",
    "    VpcId=vpc_id,\n",
    "    AvailabilityZone=subnet_configs[0]['az']\n",
    ")\n",
    "ec2_client.create_tags(Resources=[public_subnet1.id],Tags=[{'Key': 'Name', 'Value': subnet_configs[0]['tag']}])\n",
    "\n",
    "public_subnet2 = ec2_resource.create_subnet(\n",
    "    CidrBlock=subnet_configs[1]['cidr_block'],\n",
    "    VpcId=vpc_id,\n",
    "    AvailabilityZone=subnet_configs[1]['az']\n",
    ")\n",
    "ec2_client.create_tags(Resources=[public_subnet2.id],Tags=[{'Key': 'Name', 'Value': subnet_configs[1]['tag']}])"
   ]
  },
  {
   "cell_type": "markdown",
   "metadata": {},
   "source": [
    " -  **Need to `enable auto-assign public IPv4 address`**:\n",
    "    -   `public_subnet1` --> `Actions` --> `Edit Subnet Settings` --> `enable auto-assign public IPv4 address` --> `Save`\n",
    "    -   `public_subnet2` --> `Actions` --> `Edit Subnet Settings` --> `enable auto-assign public IPv4 address` --> `Save`"
   ]
  },
  {
   "cell_type": "code",
   "execution_count": null,
   "metadata": {},
   "outputs": [],
   "source": [
    "private_subnet1 = ec2_resource.create_subnet(\n",
    "    CidrBlock=subnet_configs[2]['cidr_block'],\n",
    "    VpcId=vpc_id,\n",
    "    AvailabilityZone=subnet_configs[2]['az']\n",
    ")\n",
    "ec2_client.create_tags(Resources=[private_subnet1.id],Tags=[{'Key': 'Name', 'Value': subnet_configs[2]['tag']}])\n",
    "\n",
    "private_subnet2 = ec2_resource.create_subnet(\n",
    "    CidrBlock=subnet_configs[3]['cidr_block'],\n",
    "    VpcId=vpc_id,\n",
    "    AvailabilityZone=subnet_configs[3]['az']\n",
    ")\n",
    "ec2_client.create_tags(Resources=[private_subnet2.id],Tags=[{'Key': 'Name', 'Value': subnet_configs[3]['tag']}])"
   ]
  },
  {
   "cell_type": "markdown",
   "metadata": {},
   "source": [
    "##### Security Group"
   ]
  },
  {
   "cell_type": "code",
   "execution_count": 16,
   "metadata": {},
   "outputs": [],
   "source": [
    "ALB1_RULE = [\n",
    "    {\n",
    "        \"IpProtocol\": \"tcp\",\n",
    "        \"FromPort\": 80,\n",
    "        \"ToPort\": 80,\n",
    "        \"IpRanges\": [{\"CidrIp\": \"0.0.0.0/0\", \"Description\": \"HTTP_Port\"}],\n",
    "    },\n",
    "    {\n",
    "        \"IpProtocol\": \"tcp\",\n",
    "        \"FromPort\": 443,\n",
    "        \"ToPort\": 443,\n",
    "        \"IpRanges\": [{\"CidrIp\": \"0.0.0.0/0\", \"Description\": \"HTTPS_Port\"}],\n",
    "    },\n",
    "]\n",
    "\n",
    "ALL_IN_ONE_OUTBOUND_RULES = [\n",
    "    {\n",
    "        'IpProtocol': '-1', # '-1' means all protocols\n",
    "        'FromPort': -1,\n",
    "        'ToPort': -1,\n",
    "        'IpRanges': [{'CidrIp': '0.0.0.0/0'}]\n",
    "    }\n",
    "]\n",
    "\n",
    "tags = [\n",
    "    {\n",
    "        'Key': 'Name',\n",
    "        'Value': 'ALB1_SG'\n",
    "    }\n",
    "]\n"
   ]
  },
  {
   "cell_type": "code",
   "execution_count": 17,
   "metadata": {},
   "outputs": [
    {
     "name": "stdout",
     "output_type": "stream",
     "text": [
      "Security Group 'sg-0786b90b3bd212897' is Created in VPC vpc-0787f9c66827a9980\n"
     ]
    }
   ],
   "source": [
    "ALB1_SG_ID = ec2.create_security_group(\n",
    "    \"ALB1_SG_NAME\",\n",
    "    vpc_id,\n",
    "    inbound_rules=ALB1_RULE,\n",
    "    outbound_rules=\"\",\n",
    "    tags=tags,\n",
    "    description=\"ALB1\",\n",
    ")[\"GroupId\"]"
   ]
  },
  {
   "cell_type": "code",
   "execution_count": 18,
   "metadata": {},
   "outputs": [
    {
     "name": "stdout",
     "output_type": "stream",
     "text": [
      "Security Group 'sg-06a31d2e790e3e6c5' is Created in VPC vpc-0787f9c66827a9980\n"
     ]
    }
   ],
   "source": [
    "WEB1_SG_RULE = [\n",
    "    {\n",
    "        \"IpProtocol\": \"tcp\",\n",
    "        \"FromPort\": 80,\n",
    "        \"ToPort\": 80,\n",
    "        \"UserIdGroupPairs\": [\n",
    "            {\n",
    "                \"GroupId\": ALB1_SG_ID,\n",
    "                \"Description\": \"Allow all tcp traffic from another security group on port 80\",\n",
    "            }\n",
    "        ],\n",
    "    },\n",
    "    {\n",
    "        \"IpProtocol\": \"tcp\",\n",
    "        \"FromPort\": 22, # SSH: For testing only\n",
    "        \"ToPort\": 22,\n",
    "        \"IpRanges\": [{\"CidrIp\": \"0.0.0.0/0\", \"Description\": \"SSH_Port\"}],\n",
    "    },\n",
    "    {\n",
    "        \"IpProtocol\": \"tcp\",\n",
    "        \"FromPort\": 80, # HTTP: For testing only\n",
    "        \"ToPort\": 80,\n",
    "        \"IpRanges\": [{\"CidrIp\": \"0.0.0.0/0\", \"Description\": \"HTTP_Port\"}],\n",
    "    },\n",
    "]\n",
    "\n",
    "WEB1_SG_ID = ec2.create_security_group(\n",
    "    \"WEB1_SG_NAME\",\n",
    "    vpc_id,\n",
    "    inbound_rules=WEB1_SG_RULE,\n",
    "    outbound_rules=\"\",\n",
    "    tags=[{\"Key\": \"Name\", \"Value\": \"WEB1_SG\"}],\n",
    "    description=\"WEB1_SG\",\n",
    ")[\"GroupId\"]"
   ]
  },
  {
   "cell_type": "code",
   "execution_count": null,
   "metadata": {},
   "outputs": [
    {
     "name": "stdout",
     "output_type": "stream",
     "text": [
      "Error: An error occurred (InvalidParameterValue) when calling the AuthorizeSecurityGroupIngress operation: Invalid value for portRange. Must specify both from and to ports with TCP/UDP.\n"
     ]
    }
   ],
   "source": []
  },
  {
   "cell_type": "markdown",
   "metadata": {},
   "source": [
    "##### Target Groups"
   ]
  },
  {
   "cell_type": "code",
   "execution_count": 22,
   "metadata": {},
   "outputs": [
    {
     "name": "stdout",
     "output_type": "stream",
     "text": [
      "Target Group created: arn:aws:elasticloadbalancing:us-east-1:381492255899:targetgroup/TG1/6848ff432ca636ce\n"
     ]
    }
   ],
   "source": [
    "# Define the target group parameters\n",
    "TARGET_GROUP_NAME = \"TG1\"\n",
    "\n",
    "target_group = elbv2_client.create_target_group(\n",
    "    Name=TARGET_GROUP_NAME,\n",
    "    Protocol=\"HTTP\",  # Options: HTTP, HTTPS, TCP, TLS, UDP, TCP_UDP, GENEVE\n",
    "    Port=80,  # Port on which the target is listening\n",
    "    VpcId=vpc_id,\n",
    "    HealthCheckProtocol=\"HTTP\",  # Options: HTTP, HTTPS, TCP, TLS\n",
    "    HealthCheckPort=\"traffic-port\",  # Use \"traffic-port\" to match the listener port\n",
    "    HealthCheckEnabled=True,  # Enable health checks\n",
    "    HealthCheckPath=\"/\",  # Path for health check requests\n",
    "    HealthCheckIntervalSeconds=30,  # Interval in seconds between health checks\n",
    "    HealthCheckTimeoutSeconds=5,  # Timeout before considering the check as failed\n",
    "    HealthyThresholdCount=3,  # Number of successful checks to consider healthy\n",
    "    UnhealthyThresholdCount=2,  # Number of failed checks to consider unhealthy\n",
    "    Matcher={\"HttpCode\": \"200-299\"},  # HTTP response code for a successful health check\n",
    "    TargetType=\"instance\",  # Options: instance, ip, lambda, alb\n",
    "    Tags=[{\"Key\": \"Environment\", \"Value\": \"Production\"}],  # Optional tags\n",
    ")\n",
    "\n",
    "# Extract the Target Group ARN\n",
    "TARGET_GROUP_ARN = target_group[\"TargetGroups\"][0][\"TargetGroupArn\"]\n",
    "print(f\"Target Group created: {TARGET_GROUP_ARN}\")\n",
    "\n",
    "## We will be attaching the Target Group to the Auto Scaling Group in the next step.\n"
   ]
  },
  {
   "cell_type": "markdown",
   "metadata": {},
   "source": [
    "##### ACM"
   ]
  },
  {
   "cell_type": "code",
   "execution_count": null,
   "metadata": {},
   "outputs": [],
   "source": [
    "# Initialize ACM client\n",
    "client = boto3.client(\"acm\", region_name=\"us-east-1\")  # Change region as needed\n",
    "\n",
    "# Define certificate details\n",
    "domain_name = \"harnesstechtx.com\"  # Replace with your actual domain\n",
    "subject_alternative_names = [\"www.harnesstechtx.com\", \"site.harnesstechtx.com\"]  # SANs\n",
    "validation_method = \"DNS\"  # Options: \"DNS\" or \"EMAIL\"\n",
    "tags = [{\"Key\": \"Environment\", \"Value\": \"QA\"}]  # Optional tags\n",
    "options = {\"CertificateTransparencyLoggingPreference\": \"ENABLED\"}  # Enable logging\n",
    "\n",
    "# Request the ACM Certificate\n",
    "ssl_certificate_response = client.request_certificate(\n",
    "    DomainName=domain_name,\n",
    "    ValidationMethod=validation_method,\n",
    "    SubjectAlternativeNames=subject_alternative_names,\n",
    "    IdempotencyToken=\"unique-token-123\",  # Replace with a unique identifier\n",
    "    Options=options,\n",
    "    Tags=tags,\n",
    ")\n",
    "\n",
    "# Extract Certificate ARN\n",
    "SSL_CERTIFICATE_ARN = ssl_certificate_response[\"CertificateArn\"]\n"
   ]
  },
  {
   "cell_type": "code",
   "execution_count": null,
   "metadata": {},
   "outputs": [],
   "source": []
  },
  {
   "cell_type": "markdown",
   "metadata": {},
   "source": [
    "##### Load Balancer"
   ]
  },
  {
   "cell_type": "code",
   "execution_count": null,
   "metadata": {},
   "outputs": [],
   "source": [
    "# ec2_client.modify_vpc_attribute(VpcId=vpc_id, EnableDnsSupport={\"Value\": True})\n",
    "# ec2_client.modify_vpc_attribute(VpcId=vpc_id, EnableDnsHostnames={\"Value\": True})\n",
    "\n",
    "# ALB_SSL_ROLE_NAME = \"ALB-SSL-Role\"\n",
    "\n",
    "# # Step 4: Create an IAM Role and Policy for SSL (Optional, needed for HTTPS termination)\n",
    "# ALB_SSL_ROLE_ARN = iam_client.create_role(\n",
    "#     RoleName=ALB_SSL_ROLE_NAME,\n",
    "#     AssumeRolePolicyDocument=\"\"\"{\n",
    "#         \"Version\": \"2012-10-17\",\n",
    "#         \"Statement\": [\n",
    "#             {\n",
    "#                 \"Effect\": \"Allow\",\n",
    "#                 \"Principal\": {\n",
    "#                     \"Service\": \"elasticloadbalancing.amazonaws.com\"\n",
    "#                 },\n",
    "#                 \"Action\": \"sts:AssumeRole\"\n",
    "#             }\n",
    "#         ]\n",
    "#     }\"\"\",\n",
    "# )[\"Role\"][\"Arn\"]\n",
    "\n",
    "# iam_client.attach_role_policy(\n",
    "#     RoleName=ALB_SSL_ROLE_NAME,\n",
    "#     PolicyArn=\"arn:aws:iam::aws:policy/service-role/AmazonEC2ContainerServiceRole\",\n",
    "# )"
   ]
  },
  {
   "cell_type": "code",
   "execution_count": null,
   "metadata": {},
   "outputs": [],
   "source": [
    "# Step 7: Create Application Load Balancer\n",
    "alb_response = elbv2_client.create_load_balancer(\n",
    "    Name=\"ALB1\",\n",
    "    Subnets=[public_subnet1.id, public_subnet2.id],\n",
    "    SecurityGroups=[ALB1_SG_ID],\n",
    "    Scheme=\"internet-facing\",  # Options: internet-facing, internal\n",
    "    Type=\"application\",\n",
    "    IpAddressType=\"ipv4\",  # Options: ipv4, dualstack\n",
    ")\n",
    "ALB_ARN = alb_response[\"LoadBalancers\"][0][\"LoadBalancerArn\"]\n",
    "ALB_DNS = alb_response[\"LoadBalancers\"][0][\"DNSName\"]\n",
    "\n",
    "\n",
    "# Step 8: Create HTTP Listener (Specify the Target Group)\n",
    "http_listener_response = elbv2_client.create_listener(\n",
    "    LoadBalancerArn=ALB_ARN,\n",
    "    Protocol=\"HTTP\",\n",
    "    Port=80,\n",
    "    DefaultActions=[{\"Type\": \"forward\", \"TargetGroupArn\": TARGET_GROUP_ARN}],\n",
    ")\n",
    "HTTP_LISTENER_ARN = http_listener_response[\"Listeners\"][0][\"ListenerArn\"]"
   ]
  },
  {
   "cell_type": "code",
   "execution_count": 36,
   "metadata": {},
   "outputs": [
    {
     "name": "stdout",
     "output_type": "stream",
     "text": [
      "arn:aws:elasticloadbalancing:us-east-1:381492255899:loadbalancer/app/ALB1/ccd548fb7b0feb10\n",
      "ALB1-1782892738.us-east-1.elb.amazonaws.com\n",
      "arn:aws:elasticloadbalancing:us-east-1:381492255899:listener/app/ALB1/ccd548fb7b0feb10/2d75b1ed6da2e498\n"
     ]
    }
   ],
   "source": [
    "print(ALB_ARN, ALB_DNS, HTTP_LISTENER_ARN, sep=\"\\n\")"
   ]
  },
  {
   "cell_type": "code",
   "execution_count": null,
   "metadata": {},
   "outputs": [],
   "source": [
    "\n",
    "# # Step 9: Create HTTPS Listener (Requires an SSL Certificate)\n",
    "# https_listener_response = elbv2_client.create_listener(\n",
    "#     LoadBalancerArn=ALB_ARN,\n",
    "#     Protocol=\"HTTPS\",\n",
    "#     Port=443,\n",
    "#     SslPolicy=\"ELBSecurityPolicy-2016-08\",\n",
    "#     Certificates=[{\"CertificateArn\": SSL_CERTIFICATE_ARN}],\n",
    "#     DefaultActions=[{\"Type\": \"forward\", \"TargetGroupArn\": TARGET_GROUP_ARN}],\n",
    "# )\n",
    "# HTTPS_LISTENER_ARN = https_listener_response[\"Listeners\"][0][\"ListenerArn\"]\n",
    "\n",
    "\n",
    "# # Step 10: Wait until ALB is active\n",
    "# while True:\n",
    "#     alb_status = elbv2_client.describe_load_balancers(LoadBalancerArns=[ALB_ARN])\n",
    "#     state = alb_status[\"LoadBalancers\"][0][\"State\"][\"Code\"]\n",
    "#     if state == \"active\":\n",
    "#         break\n",
    "#     print(f\"Waiting for ALB to become active... Current state: {state}\")\n",
    "#     time.sleep(10)\n",
    "\n",
    "# print(\"ALB is now active and ready to use!\")\n",
    "\n",
    "# # Step 11: Output Load Balancer DNS\n",
    "# print(f\"ALB DNS Name: {ALB_DNS}\")\n"
   ]
  },
  {
   "cell_type": "code",
   "execution_count": null,
   "metadata": {},
   "outputs": [],
   "source": []
  },
  {
   "cell_type": "markdown",
   "metadata": {},
   "source": [
    "##### Launch Template"
   ]
  },
  {
   "cell_type": "code",
   "execution_count": null,
   "metadata": {},
   "outputs": [],
   "source": [
    "# Define Launch Template parameters\n",
    "launch_template_name = \"MyLT\"\n",
    "ami_id = \"ami-053a45fff0a704a47\"  # Amazon Linux 2023 AMI 2023.6.20250211.0 x86_64 HVM kernel-6.1\n",
    "instance_type = \"t2.micro\"\n",
    "\n",
    "# User Data (Base64 Encoded)\n",
    "user_data_script = \"\"\"#!/bin/bash\n",
    "\n",
    "# Update the system and install Apache\n",
    "yum update -y\n",
    "yum install -y httpd\n",
    "\n",
    "# Start and enable Apache to run on boot\n",
    "systemctl start httpd\n",
    "systemctl enable httpd\n",
    "\n",
    "# Fetch the latest token for accessing EC2 instance metadata\n",
    "TOKEN=$(curl -X PUT \"http://169.254.169.254/latest/api/token\" -H \"X-aws-ec2-metadata-token-ttl-seconds: 21600\")\n",
    "\n",
    "# Fetch the instance ID\n",
    "INSTANCEID=$(curl -s http://169.254.169.254/latest/meta-data/instance-id -H \"X-aws-ec2-metadata-token: $TOKEN\")\n",
    "\n",
    "# Create or overwrite `index.html` with the instance ID information\n",
    "echo \"<center><h1>This instance has the ID: $INSTANCEID </h1></center>\" > /var/www/html/index.html\n",
    "\n",
    "# Ensure httpd can read the `index.html` file and its directory\n",
    "chown apache:apache /var/www/html/index.html\n",
    "chmod 755 /var/www/html\n",
    "chmod 644 /var/www/html/index.html\n",
    "\n",
    "# Restart Apache to apply changes\n",
    "systemctl restart httpd\n",
    "\"\"\"\n",
    "user_data_encoded = base64.b64encode(user_data_script.encode(\"utf-8\")).decode(\"utf-8\")\n",
    "\n",
    "# Define Block Device Mappings\n",
    "block_device_mappings = [\n",
    "    {\n",
    "        \"DeviceName\": \"/dev/xvda\",\n",
    "        \"Ebs\": {\n",
    "            \"VolumeSize\": 20,  # 20 GB Root Volume\n",
    "            \"VolumeType\": \"gp3\",\n",
    "            \"DeleteOnTermination\": True,\n",
    "            \"Encrypted\": True,\n",
    "        },\n",
    "    },\n",
    "    {\n",
    "        \"DeviceName\": \"/dev/xvdb\",\n",
    "        \"Ebs\": {\n",
    "            \"VolumeSize\": 50,  # Additional 50 GB Volume\n",
    "            \"VolumeType\": \"gp3\",\n",
    "            \"DeleteOnTermination\": False,\n",
    "            \"Encrypted\": False,\n",
    "        },\n",
    "    },\n",
    "]\n",
    "\n",
    "# Create Launch Template\n",
    "response = ec2_client.create_launch_template(\n",
    "    LaunchTemplateName=launch_template_name,\n",
    "    VersionDescription=\"Initial Version\",\n",
    "    LaunchTemplateData={\n",
    "        \"ImageId\": ami_id,\n",
    "        \"InstanceType\": instance_type,\n",
    "        \"SecurityGroupIds\": [WEB1_SG_ID],\n",
    "        \"UserData\": user_data_encoded,\n",
    "        \"BlockDeviceMappings\": block_device_mappings,\n",
    "        # \"NetworkInterfaces\": [\n",
    "        #     {\n",
    "        #         \"SubnetId\": SUBNET_ID,\n",
    "        #         \"DeviceIndex\": 0,\n",
    "        #         \"AssociatePublicIpAddress\": True,\n",
    "        #         \"Groups\": [WEB1_SG_ID],\n",
    "        #     }\n",
    "        # ],\n",
    "        \"TagSpecifications\": [\n",
    "            {\n",
    "                \"ResourceType\": \"instance\",\n",
    "                \"Tags\": [{\"Key\": \"Environment\", \"Value\": \"QA\"}],\n",
    "            }\n",
    "        ],\n",
    "        \"Monitoring\": {\"Enabled\": True},  # Enable detailed monitoring\n",
    "        \"DisableApiTermination\": False,  # Allow instance termination\n",
    "        \"InstanceInitiatedShutdownBehavior\": \"stop\",  # 'terminate' or 'stop'\n",
    "    },\n",
    ")\n",
    "\n",
    "# Extract Launch Template ID & ARN\n",
    "LAUNCH_TEMPLATE_ID = response[\"LaunchTemplate\"][\"LaunchTemplateId\"]\n",
    "print(LAUNCH_TEMPLATE_ID)"
   ]
  },
  {
   "cell_type": "code",
   "execution_count": null,
   "metadata": {},
   "outputs": [
    {
     "name": "stdout",
     "output_type": "stream",
     "text": [
      "lt-008808c40faac42fa\n"
     ]
    }
   ],
   "source": []
  },
  {
   "cell_type": "markdown",
   "metadata": {},
   "source": [
    "##### Autoscaling Group"
   ]
  },
  {
   "cell_type": "code",
   "execution_count": null,
   "metadata": {},
   "outputs": [],
   "source": [
    "ASG_NAME = \"MyASG\"\n",
    "\n",
    "# Step 2: Create Auto Scaling Group\n",
    "asg_response = autoscaling_client.create_auto_scaling_group(\n",
    "    AutoScalingGroupName=ASG_NAME,\n",
    "    LaunchTemplate={\"LaunchTemplateId\": LAUNCH_TEMPLATE_ID, \"Version\": \"$Latest\"},\n",
    "    MinSize=2, # Minimum number of instances\n",
    "    MaxSize=4, # Maximum number of instances\n",
    "    DesiredCapacity=2,\n",
    "    VPCZoneIdentifier=\",\".join([public_subnet1.id, public_subnet2.id]), #\n",
    "    HealthCheckType=\"EC2\", # Options: EC2, ELB\n",
    "    HealthCheckGracePeriod=300, # Wait time before checking health status\n",
    "    Tags=[{\"Key\": \"Environment\", \"Value\": \"Production\", \"PropagateAtLaunch\": True}],\n",
    "    NewInstancesProtectedFromScaleIn=True, # Protect new instances from scale in\n",
    "    DefaultCooldown=300, # Default cooldown period in seconds\n",
    "    AvailabilityZones=[\"us-east-1a\", \"us-east-1b\"],\n",
    "    TerminationPolicies=[\"Default\"], # Options: Default, OldestInstance, NewestInstance, OldestLaunchConfiguration, ClosestToNextInstanceHour, AllocationStrategy\n",
    "    TargetGroupARNs=[TARGET_GROUP_ARN],  # Add ALB target group ARNs if applicable\n",
    "    InstanceMaintenancePolicy={\"MinHealthyPercentage\": 50, \"MaxHealthyPercentage\": 100}, # Instance maintenance policy\n",
    ")"
   ]
  },
  {
   "cell_type": "code",
   "execution_count": 52,
   "metadata": {},
   "outputs": [
    {
     "name": "stdout",
     "output_type": "stream",
     "text": [
      "Scaling Policy Created: arn:aws:autoscaling:us-east-1:381492255899:scalingPolicy:8800f825-d056-4f50-86c2-a424b5085569:autoScalingGroupName/MyASG:policyName/TargetTrackingPolicy\n",
      "Auto Scaling Group Details: {'AutoScalingGroups': [{'AutoScalingGroupName': 'MyASG', 'AutoScalingGroupARN': 'arn:aws:autoscaling:us-east-1:381492255899:autoScalingGroup:dea29129-8d8b-4d4d-93e4-447f5c52c51e:autoScalingGroupName/MyASG', 'LaunchTemplate': {'LaunchTemplateId': 'lt-008808c40faac42fa', 'LaunchTemplateName': 'MyLT', 'Version': '$Latest'}, 'MinSize': 1, 'MaxSize': 4, 'DesiredCapacity': 2, 'DefaultCooldown': 300, 'AvailabilityZones': ['us-east-1a', 'us-east-1b'], 'LoadBalancerNames': [], 'TargetGroupARNs': ['arn:aws:elasticloadbalancing:us-east-1:381492255899:targetgroup/TG1/6848ff432ca636ce'], 'HealthCheckType': 'EC2', 'HealthCheckGracePeriod': 300, 'Instances': [{'InstanceId': 'i-04d9cc500452b14e9', 'InstanceType': 't2.micro', 'AvailabilityZone': 'us-east-1b', 'LifecycleState': 'InService', 'HealthStatus': 'Healthy', 'LaunchTemplate': {'LaunchTemplateId': 'lt-008808c40faac42fa', 'LaunchTemplateName': 'MyLT', 'Version': '1'}, 'ProtectedFromScaleIn': True}, {'InstanceId': 'i-0d3cd2585047e826a', 'InstanceType': 't2.micro', 'AvailabilityZone': 'us-east-1a', 'LifecycleState': 'InService', 'HealthStatus': 'Healthy', 'LaunchTemplate': {'LaunchTemplateId': 'lt-008808c40faac42fa', 'LaunchTemplateName': 'MyLT', 'Version': '1'}, 'ProtectedFromScaleIn': True}], 'CreatedTime': datetime.datetime(2025, 2, 14, 5, 17, 56, 359000, tzinfo=tzutc()), 'SuspendedProcesses': [], 'VPCZoneIdentifier': 'subnet-0d40e86d90806131e,subnet-09f2fd229817db68b', 'EnabledMetrics': [], 'Tags': [{'ResourceId': 'MyASG', 'ResourceType': 'auto-scaling-group', 'Key': 'Environment', 'Value': 'Production', 'PropagateAtLaunch': True}], 'TerminationPolicies': ['Default'], 'NewInstancesProtectedFromScaleIn': True, 'ServiceLinkedRoleARN': 'arn:aws:iam::381492255899:role/aws-service-role/autoscaling.amazonaws.com/AWSServiceRoleForAutoScaling', 'TrafficSources': [{'Identifier': 'arn:aws:elasticloadbalancing:us-east-1:381492255899:targetgroup/TG1/6848ff432ca636ce', 'Type': 'elbv2'}], 'InstanceMaintenancePolicy': {'MinHealthyPercentage': 50, 'MaxHealthyPercentage': 100}, 'AvailabilityZoneDistribution': {'CapacityDistributionStrategy': 'balanced-best-effort'}, 'CapacityReservationSpecification': {'CapacityReservationPreference': 'default'}}], 'ResponseMetadata': {'RequestId': '09c1ff3a-6e8d-445c-b1ef-fad1efbf0063', 'HTTPStatusCode': 200, 'HTTPHeaders': {'x-amzn-requestid': '09c1ff3a-6e8d-445c-b1ef-fad1efbf0063', 'content-type': 'text/xml', 'content-length': '4279', 'date': 'Fri, 14 Feb 2025 05:56:58 GMT'}, 'RetryAttempts': 0}}\n"
     ]
    }
   ],
   "source": [
    "# Extract required parts\n",
    "alb_name, alb_id = ALB_ARN.split(\"/\")[-2:]\n",
    "tg_name, tg_id = TARGET_GROUP_ARN.split(\"/\")[-2:]\n",
    "\n",
    "# Construct the correct Resource Label\n",
    "resource_label = f\"app/{alb_name}/{alb_id}/targetgroup/{tg_name}/{tg_id}\"\n",
    "\n",
    "\n",
    "# Step 3: Attach Scaling Policies\n",
    "scaling_policy_response = autoscaling_client.put_scaling_policy(\n",
    "    AutoScalingGroupName=ASG_NAME,\n",
    "    PolicyName=\"TargetTrackingPolicy\",\n",
    "    PolicyType=\"TargetTrackingScaling\",\n",
    "    TargetTrackingConfiguration={\n",
    "        \"PredefinedMetricSpecification\": {\n",
    "            \"PredefinedMetricType\": \"ALBRequestCountPerTarget\",  # ASGAverageCPUUtilization, ASGAverageNetworkIn, ASGAverageNetworkOut, ALBRequestCountPerTarget\n",
    "            \"ResourceLabel\": resource_label,  # Correct format\n",
    "\n",
    "        },\n",
    "        \"TargetValue\": 50.0,\n",
    "    },\n",
    ")\n",
    "print(\"Scaling Policy Created:\", scaling_policy_response[\"PolicyARN\"])\n",
    "\n",
    "# # Step 4: Attach Notifications (Optional)\n",
    "# autoscaling_client.put_notification_configuration(\n",
    "#     AutoScalingGroupName=ASG_NAME,\n",
    "#     TopicARN=\"arn:aws:sns:us-east-1:123456789012:MySNSTopic\",\n",
    "#     NotificationTypes=[\n",
    "#         \"autoscaling:EC2_INSTANCE_LAUNCH\",\n",
    "#         \"autoscaling:EC2_INSTANCE_TERMINATE\",\n",
    "#     ],\n",
    "# )\n",
    "# print(\"Notification Configurations Set\")\n",
    "\n",
    "# Step 5: Verify Auto Scaling Group Status\n",
    "asg_status = autoscaling_client.describe_auto_scaling_groups(\n",
    "    AutoScalingGroupNames=[ASG_NAME]\n",
    ")\n",
    "print(\"Auto Scaling Group Details:\", asg_status)\n"
   ]
  },
  {
   "cell_type": "markdown",
   "metadata": {},
   "source": [
    "##### Delete Resources"
   ]
  },
  {
   "cell_type": "code",
   "execution_count": null,
   "metadata": {},
   "outputs": [
    {
     "name": "stdout",
     "output_type": "stream",
     "text": [
      "Deleted Security Group: sg-072e783262d750070\n"
     ]
    }
   ],
   "source": [
    "ec2.delete_security_group(WEB1_SG_ID)\n",
    "ec2.delete_security_group(ALB1_SG_ID)"
   ]
  },
  {
   "cell_type": "code",
   "execution_count": 57,
   "metadata": {},
   "outputs": [
    {
     "data": {
      "text/plain": [
       "{'ResponseMetadata': {'RequestId': 'fb0be7fb-45ab-461d-be19-576f88a69259',\n",
       "  'HTTPStatusCode': 200,\n",
       "  'HTTPHeaders': {'x-amzn-requestid': 'fb0be7fb-45ab-461d-be19-576f88a69259',\n",
       "   'content-type': 'text/xml',\n",
       "   'content-length': '259',\n",
       "   'date': 'Fri, 14 Feb 2025 06:00:21 GMT'},\n",
       "  'RetryAttempts': 0}}"
      ]
     },
     "execution_count": 57,
     "metadata": {},
     "output_type": "execute_result"
    }
   ],
   "source": [
    "elbv2_client.delete_target_group(TargetGroupArn=TARGET_GROUP_ARN)"
   ]
  },
  {
   "cell_type": "code",
   "execution_count": 56,
   "metadata": {},
   "outputs": [
    {
     "data": {
      "text/plain": [
       "{'ResponseMetadata': {'RequestId': '5225a004-9da6-4c68-91b3-def710b2abab',\n",
       "  'HTTPStatusCode': 200,\n",
       "  'HTTPHeaders': {'x-amzn-requestid': '5225a004-9da6-4c68-91b3-def710b2abab',\n",
       "   'content-type': 'text/xml',\n",
       "   'content-length': '262',\n",
       "   'date': 'Fri, 14 Feb 2025 05:59:54 GMT'},\n",
       "  'RetryAttempts': 0}}"
      ]
     },
     "execution_count": 56,
     "metadata": {},
     "output_type": "execute_result"
    }
   ],
   "source": [
    "elbv2_client.delete_load_balancer(LoadBalancerArn=ALB_ARN)"
   ]
  },
  {
   "cell_type": "code",
   "execution_count": 54,
   "metadata": {},
   "outputs": [
    {
     "data": {
      "text/plain": [
       "{'LaunchTemplate': {'LaunchTemplateId': 'lt-008808c40faac42fa',\n",
       "  'LaunchTemplateName': 'MyLT',\n",
       "  'CreateTime': datetime.datetime(2025, 2, 14, 5, 6, 14, tzinfo=tzutc()),\n",
       "  'CreatedBy': 'arn:aws:iam::381492255899:user/AMominNJ',\n",
       "  'DefaultVersionNumber': 1,\n",
       "  'LatestVersionNumber': 1,\n",
       "  'Operator': {'Managed': False}},\n",
       " 'ResponseMetadata': {'RequestId': 'f2cc9380-170d-4cec-8738-d211c476be7f',\n",
       "  'HTTPStatusCode': 200,\n",
       "  'HTTPHeaders': {'x-amzn-requestid': 'f2cc9380-170d-4cec-8738-d211c476be7f',\n",
       "   'cache-control': 'no-cache, no-store',\n",
       "   'strict-transport-security': 'max-age=31536000; includeSubDomains',\n",
       "   'vary': 'accept-encoding',\n",
       "   'content-type': 'text/xml;charset=UTF-8',\n",
       "   'transfer-encoding': 'chunked',\n",
       "   'date': 'Fri, 14 Feb 2025 05:59:22 GMT',\n",
       "   'server': 'AmazonEC2'},\n",
       "  'RetryAttempts': 0}}"
      ]
     },
     "execution_count": 54,
     "metadata": {},
     "output_type": "execute_result"
    }
   ],
   "source": [
    "ec2_client.delete_launch_template(LaunchTemplateId=LAUNCH_TEMPLATE_ID)"
   ]
  },
  {
   "cell_type": "code",
   "execution_count": 53,
   "metadata": {},
   "outputs": [
    {
     "data": {
      "text/plain": [
       "{'ResponseMetadata': {'RequestId': 'e87ff5fc-1dcd-45d4-a626-02b76ef94baf',\n",
       "  'HTTPStatusCode': 200,\n",
       "  'HTTPHeaders': {'x-amzn-requestid': 'e87ff5fc-1dcd-45d4-a626-02b76ef94baf',\n",
       "   'content-type': 'text/xml',\n",
       "   'content-length': '231',\n",
       "   'date': 'Fri, 14 Feb 2025 05:59:17 GMT'},\n",
       "  'RetryAttempts': 0}}"
      ]
     },
     "execution_count": 53,
     "metadata": {},
     "output_type": "execute_result"
    }
   ],
   "source": [
    "autoscaling_client.delete_auto_scaling_group(AutoScalingGroupName=ASG_NAME,ForceDelete=True)"
   ]
  },
  {
   "cell_type": "code",
   "execution_count": 58,
   "metadata": {},
   "outputs": [
    {
     "name": "stdout",
     "output_type": "stream",
     "text": [
      "An error occurred: An error occurred (DependencyViolation) when calling the DetachInternetGateway operation: Network vpc-0787f9c66827a9980 has some mapped public address(es). Please unmap those public address(es) before detaching the gateway.\n"
     ]
    },
    {
     "data": {
      "text/plain": [
       "False"
      ]
     },
     "execution_count": 58,
     "metadata": {},
     "output_type": "execute_result"
    }
   ],
   "source": [
    "vpc.delete_vpc_with_dependencies(vpc_id)"
   ]
  },
  {
   "cell_type": "code",
   "execution_count": null,
   "metadata": {},
   "outputs": [],
   "source": []
  },
  {
   "cell_type": "markdown",
   "metadata": {},
   "source": [
    "## [ Securing AWS Load Balancers with SSL/TLS - Hands-on](https://www.youtube.com/watch?v=R-x1qudp1ig&list=PLO95rE9ahzRs0QMA8qtIAstWFo4X4gHtH&index=6&t=619s)"
   ]
  },
  {
   "cell_type": "code",
   "execution_count": null,
   "metadata": {},
   "outputs": [],
   "source": []
  },
  {
   "cell_type": "code",
   "execution_count": null,
   "metadata": {},
   "outputs": [],
   "source": []
  },
  {
   "cell_type": "code",
   "execution_count": 59,
   "metadata": {},
   "outputs": [
    {
     "name": "stdout",
     "output_type": "stream",
     "text": [
      "Creating CloudFormation stack: secure-listner-lab\n"
     ]
    }
   ],
   "source": [
    "import boto3\n",
    "import time\n",
    "import json\n",
    "\n",
    "# Initialize the CloudFormation client\n",
    "cloudformation = boto3.client(\"cloudformation\", region_name=\"us-east-1\")  # Change as needed\n",
    "\n",
    "# Read CloudFormation template from a file\n",
    "with open(\"/Users/am/mydocs/Software_Development/Web_Development/aws/auto_scaling_and_load_balancing/alb-cf-template.yml\", \"r\") as file:\n",
    "    template_body = file.read()\n",
    "\n",
    "# Define stack name\n",
    "stack_name = \"secure-listner-lab\"\n",
    "\n",
    "# Define CloudFormation parameters\n",
    "parameters = [\n",
    "    {\"ParameterKey\": \"VPCId\", \"ParameterValue\": \"vpc-03617a8a518caa526\"},  # Replace with actual VPC ID\n",
    "    {\"ParameterKey\": \"SubnetIdOne\", \"ParameterValue\": \"subnet-0a972b05a5b162feb\"},  # default-subnet-a\n",
    "    {\"ParameterKey\": \"SubnetIdTwo\", \"ParameterValue\": \"subnet-0ca765b361e4cb186\"},  # default-subnet-c\n",
    "    {\"ParameterKey\": \"ImageId\", \"ParameterValue\": \"ami-053a45fff0a704a47\"},  # Replace with valid AMI ID\n",
    "    {\"ParameterKey\": \"InstanceType\", \"ParameterValue\": \"t2.micro\"}\n",
    "]\n",
    "\n",
    "# Create CloudFormation stack\n",
    "print(f\"Creating CloudFormation stack: {stack_name}\")\n",
    "response = cloudformation.create_stack(\n",
    "    StackName=stack_name,\n",
    "    TemplateBody=template_body,\n",
    "    Parameters=parameters,\n",
    "    Capabilities=[\"CAPABILITY_IAM\", \"CAPABILITY_NAMED_IAM\"],  # Required for IAM resources\n",
    ")\n"
   ]
  },
  {
   "cell_type": "code",
   "execution_count": null,
   "metadata": {},
   "outputs": [],
   "source": []
  },
  {
   "cell_type": "code",
   "execution_count": 62,
   "metadata": {},
   "outputs": [],
   "source": [
    "hosted_zone_id = \"Z04555692B7PI94BFJEBI\"  # Replace with actual hosted zone ID\n",
    "\n",
    "# Define certificate details\n",
    "domain_name = \"harnesstechtx.com\"  # Replace with your domain\n",
    "alternative_names = [\"www.harnesstechtx.com\", \"sub.harnesstechtx.com\"]  # Replace with alternative domain names\n"
   ]
  },
  {
   "cell_type": "code",
   "execution_count": null,
   "metadata": {},
   "outputs": [
    {
     "name": "stdout",
     "output_type": "stream",
     "text": [
      "Creating Route 53 records...\n",
      "Route 53 records created successfully.\n",
      "Change Info: {'Id': '/change/C0118376HEYEAKW83EKQ', 'Status': 'PENDING', 'SubmittedAt': datetime.datetime(2025, 2, 15, 6, 8, 26, 746000, tzinfo=tzutc()), 'Comment': 'Adding an alias record to Route 53'}\n"
     ]
    }
   ],
   "source": [
    "alb_dns_name = \"secure-LoadB-qNBBuPNmMEVs-303894070.us-east-1.elb.amazonaws.com.\"\n",
    "elb_hosted_zone_id = \"Z35SXDOTRQ7X7K\"\n",
    "# Define records\n",
    "record_sets = [\n",
    "    {\n",
    "        \"Action\": \"UPSERT\",\n",
    "        \"ResourceRecordSet\": {\n",
    "            \"Name\": domain_name,\n",
    "            \"Type\": \"A\",\n",
    "            \"TTL\": 300,  # 300 seconds (5 minutes)\n",
    "            \"AliasTarget\": {\n",
    "                \"HostedZoneId\": elb_hosted_zone_id,  # Correct ELB Hosted Zone ID\n",
    "                \"DNSName\": alb_dns_name,\n",
    "                \"EvaluateTargetHealth\": True\n",
    "            }\n",
    "        }\n",
    "    },\n",
    "]\n",
    "\n",
    "# Create Route 53 record set\n",
    "print(\"Creating Route 53 records...\")\n",
    "response = route53.change_resource_record_sets(\n",
    "    HostedZoneId=hosted_zone_id,  # Route 53 hosted zone\n",
    "    ChangeBatch={\n",
    "        \"Comment\": \"Adding an alias record to Route 53\",\n",
    "        \"Changes\": record_sets\n",
    "    }\n",
    ")\n",
    "\n",
    "print(\"Route 53 records created successfully.\")\n",
    "print(\"Change Info:\", response[\"ChangeInfo\"])"
   ]
  },
  {
   "cell_type": "code",
   "execution_count": null,
   "metadata": {},
   "outputs": [],
   "source": []
  },
  {
   "cell_type": "code",
   "execution_count": null,
   "metadata": {},
   "outputs": [],
   "source": []
  },
  {
   "cell_type": "code",
   "execution_count": null,
   "metadata": {},
   "outputs": [],
   "source": []
  },
  {
   "cell_type": "markdown",
   "metadata": {},
   "source": [
    "#### Delete Resources"
   ]
  },
  {
   "cell_type": "code",
   "execution_count": null,
   "metadata": {},
   "outputs": [],
   "source": [
    "acm_client.delete_certificate(CertificateArn=certificate_arn)"
   ]
  },
  {
   "cell_type": "code",
   "execution_count": null,
   "metadata": {},
   "outputs": [],
   "source": []
  },
  {
   "cell_type": "code",
   "execution_count": null,
   "metadata": {},
   "outputs": [],
   "source": []
  }
 ],
 "metadata": {
  "kernelspec": {
   "display_name": "nbenv",
   "language": "python",
   "name": "python3"
  },
  "language_info": {
   "codemirror_mode": {
    "name": "ipython",
    "version": 3
   },
   "file_extension": ".py",
   "mimetype": "text/x-python",
   "name": "python",
   "nbconvert_exporter": "python",
   "pygments_lexer": "ipython3",
   "version": "3.11.6"
  }
 },
 "nbformat": 4,
 "nbformat_minor": 2
}
