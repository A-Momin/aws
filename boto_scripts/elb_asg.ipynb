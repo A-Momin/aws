{
 "cells": [
  {
   "cell_type": "code",
   "execution_count": 1,
   "metadata": {},
   "outputs": [
    {
     "data": {
      "text/plain": [
       "True"
      ]
     },
     "execution_count": 1,
     "metadata": {},
     "output_type": "execute_result"
    }
   ],
   "source": [
    "import boto3, botocore\n",
    "from botocore.exceptions import ClientError\n",
    "import os, time, json, io, zipfile\n",
    "from datetime import date\n",
    "from dotenv import load_dotenv\n",
    "\n",
    "\n",
    "from misc import load_from_yaml, save_to_yaml\n",
    "import iam, s3, lf, rds, vpc, ec2\n",
    "\n",
    "load_dotenv(\".env\")\n",
    "# boto3.setup_default_session(profile_name=\"AMominNJ\")"
   ]
  },
  {
   "cell_type": "code",
   "execution_count": null,
   "metadata": {},
   "outputs": [],
   "source": [
    "ALL_IN_ONE_SG = 'sg-0d8a868137f653df6'\n",
    "ACCOUNT_ID        = os.environ['AWS_ACCOUNT_ID_ROOT']\n",
    "REGION            = os.environ['AWS_DEFAULT_REGION']\n",
    "VPC_ID            = os.environ['AWS_DEFAULT_VPC']\n",
    "SECURITY_GROUP_ID = os.environ['AWS_DEFAULT_SG_ID']\n",
    "SUBNET_IDS        = SUBNET_IDS = os.environ[\"AWS_DEFAULT_SUBNET_IDS\"].split(\":\")\n",
    "SUBNET_ID         = SUBNET_IDS[0]\n",
    "AWS_INSTANCE_ID_JMASTER   = os.environ['AWS_INSTANCE_ID_JMASTER']\n",
    "AWS_INSTANCE_ID_JAGENT    = os.environ['AWS_INSTANCE_ID_JAGENT']\n",
    "AWS_DEFAULT_IMAGE_ID      = os.environ['AWS_DEFAULT_IMAGE_ID']\n",
    "AWS_DEFAULT_KEY_PAIR_NAME = os.environ['AWS_DEFAULT_KEY_PAIR_NAME']\n",
    "AWS_DEFAULT_INSTANCE_TYPE = os.environ['AWS_DEFAULT_INSTANCE_TYPE']"
   ]
  },
  {
   "cell_type": "code",
   "execution_count": null,
   "metadata": {},
   "outputs": [],
   "source": [
    "sts_client           = boto3.client('sts')\n",
    "rds_client           = boto3.client('rds')\n",
    "iam_client           = boto3.client('iam')\n",
    "s3_client            = boto3.client('s3')\n",
    "glue_client          = boto3.client('glue')\n",
    "lakeformation_client = boto3.client('lakeformation')\n",
    "stepfunctions_client = boto3.client('stepfunctions')\n",
    "apigateway_client    = boto3.client('apigateway')\n",
    "lsn_client           = boto3.client('lambda')\n",
    "events_client        = boto3.client('events')\n",
    "sqs_client           = boto3.client('sqs')\n",
    "\n",
    "emr_client = boto3.client('emr', region_name=REGION)"
   ]
  },
  {
   "cell_type": "code",
   "execution_count": null,
   "metadata": {},
   "outputs": [],
   "source": [
    "ec2_client           = boto3.client('ec2', region_name=REGION)\n",
    "ec2_resource         = boto3.resource('ec2', region_name=REGION)\n",
    "\n",
    "# # Example: Get a specific VPC\n",
    "# vpc = ec2_resource.Vpc('vpc_id')\n",
    "\n",
    "# # Example: Get a specific EBS volume\n",
    "# volume = ec2_resource.Volume('volume_id')"
   ]
  },
  {
   "cell_type": "markdown",
   "metadata": {},
   "source": [
    "##   [Auto Scaling and Load Balancing on AWS](https://www.youtube.com/watch?v=0mwgbiJae5Q&list=PLO95rE9ahzRs0QMA8qtIAstWFo4X4gHtH&index=5)"
   ]
  },
  {
   "cell_type": "code",
   "execution_count": null,
   "metadata": {},
   "outputs": [],
   "source": [
    "vpc_cidr_block = '10.0.0.0/16'\n",
    "vpc_name = 'httx-asg-alb'\n",
    "vpc_id = ec2_client.create_vpc(CidrBlock=vpc_cidr_block)['Vpc']['VpcId']\n"
   ]
  },
  {
   "cell_type": "code",
   "execution_count": null,
   "metadata": {},
   "outputs": [],
   "source": [
    "subnet_configs = [\n",
    "    {'cidr_block': '172.0.1.0/24', 'az': 'us-east-1a', 'tag': 'public-subnet-01'},\n",
    "    {'cidr_block': '172.0.2.0/24', 'az': 'us-east-1b', 'tag': 'public-subnet-02'},\n",
    "    {'cidr_block': '172.0.3.0/24', 'az': 'us-east-1a', 'tag': 'private-subnet-01'},\n",
    "    {'cidr_block': '172.0.4.0/24', 'az': 'us-east-1b', 'tag': 'private-subnet-02'}\n",
    "]"
   ]
  },
  {
   "cell_type": "code",
   "execution_count": null,
   "metadata": {},
   "outputs": [],
   "source": [
    "public_subnet1 = ec2_resource.create_subnet(\n",
    "    CidrBlock=subnet_configs[0]['cidr_block'],\n",
    "    VpcId=vpc.id,\n",
    "    AvailabilityZone=subnet_configs[0]['az']\n",
    ")\n",
    "ec2_client.create_tags(Resources=[public_subnet1.id],Tags=[{'Key': 'Name', 'Value': subnet_configs[0]['tag']}])\n",
    "\n",
    "public_subnet2 = ec2_resource.create_subnet(\n",
    "    CidrBlock=subnet_configs[1]['cidr_block'],\n",
    "    VpcId=vpc.id,\n",
    "    AvailabilityZone=subnet_configs[1]['az']\n",
    ")\n",
    "ec2_client.create_tags(Resources=[public_subnet2.id],Tags=[{'Key': 'Name', 'Value': subnet_configs[1]['tag']}])"
   ]
  },
  {
   "cell_type": "code",
   "execution_count": null,
   "metadata": {},
   "outputs": [],
   "source": [
    "private_subnet1 = ec2_resource.create_subnet(\n",
    "    CidrBlock=subnet_configs[2]['cidr_block'],\n",
    "    VpcId=vpc.id,\n",
    "    AvailabilityZone=subnet_configs[2]['az']\n",
    ")\n",
    "ec2_client.create_tags(Resources=[private_subnet1.id],Tags=[{'Key': 'Name', 'Value': subnet_configs[2]['tag']}])\n",
    "\n",
    "private_subnet2 = ec2_resource.create_subnet(\n",
    "    CidrBlock=subnet_configs[3]['cidr_block'],\n",
    "    VpcId=vpc.id,\n",
    "    AvailabilityZone=subnet_configs[3]['az']\n",
    ")\n",
    "ec2_client.create_tags(Resources=[private_subnet2.id],Tags=[{'Key': 'Name', 'Value': subnet_configs[3]['tag']}])"
   ]
  },
  {
   "cell_type": "markdown",
   "metadata": {},
   "source": [
    "- Create Security Group"
   ]
  },
  {
   "cell_type": "code",
   "execution_count": null,
   "metadata": {},
   "outputs": [],
   "source": [
    "ALB1 = [\n",
    "    {\n",
    "        'IpProtocol': 'tcp',\n",
    "        'FromPort': 22,\n",
    "        'ToPort': 22,\n",
    "        'IpRanges': [{'CidrIp': '0.0.0.0/0', \"Description\": \"SSH_Port\"}]\n",
    "    },\n",
    "    {\n",
    "        'IpProtocol': 'tcp',\n",
    "        'FromPort': 80,\n",
    "        'ToPort': 80,\n",
    "        'IpRanges': [{'CidrIp': '0.0.0.0/0', \"Description\": \"HTTP_Port\"}]\n",
    "    },\n",
    "]\n",
    "\n",
    "ALL_IN_ONE_OUTBOUND_RULES = [\n",
    "    {\n",
    "        'IpProtocol': '-1', # '-1' means all protocols\n",
    "        'FromPort': -1,\n",
    "        'ToPort': -1,\n",
    "        'IpRanges': [{'CidrIp': '0.0.0.0/0'}]\n",
    "    }\n",
    "]\n",
    "\n",
    "tags = [\n",
    "    {\n",
    "        'Key': 'Name',\n",
    "        'Value': 'ALB1'\n",
    "    }\n",
    "]\n"
   ]
  },
  {
   "cell_type": "code",
   "execution_count": null,
   "metadata": {},
   "outputs": [],
   "source": [
    "ALB1_SG = ec2.create_security_group(\n",
    "    \"ALB1\",\n",
    "    vpc_id,\n",
    "    inbound_rules=ALB1,\n",
    "    outbound_rules=ALL_IN_ONE_OUTBOUND_RULES,\n",
    "    tags=tags,\n",
    "    description='ALB1'\n",
    ")['GroupId']"
   ]
  },
  {
   "cell_type": "code",
   "execution_count": null,
   "metadata": {},
   "outputs": [],
   "source": [
    "WEB1_SG_RULE = [\n",
    "    {\n",
    "        'IpProtocol': 'tcp',\n",
    "        'FromPort': 80,\n",
    "        'ToPort': 80,\n",
    "        'UserIdGroupPairs': [\n",
    "            {\n",
    "                'GroupId': ALB1_SG,\n",
    "                'Description': 'Allow all tcp traffic from another security group on port 80'\n",
    "            }\n",
    "        ]\n",
    "    },\n",
    "]\n",
    "\n",
    "WEB1_SG = ec2.create_security_group(\n",
    "    \"WEB1\",\n",
    "    vpc_id,\n",
    "    inbound_rules=WEB1_SG_RULE,\n",
    "    outbound_rules='',\n",
    "    tags=[{'Key': 'Name','Value': 'WEB-1'}],\n",
    "    description='WEB-1'\n",
    ")['GroupId']"
   ]
  },
  {
   "cell_type": "code",
   "execution_count": null,
   "metadata": {},
   "outputs": [],
   "source": [
    "ec2.allow_sg_to_sg(WEB1_SG, source_security_group_id=ALB1_SG)"
   ]
  },
  {
   "cell_type": "code",
   "execution_count": null,
   "metadata": {},
   "outputs": [],
   "source": []
  },
  {
   "cell_type": "code",
   "execution_count": null,
   "metadata": {},
   "outputs": [],
   "source": []
  },
  {
   "cell_type": "code",
   "execution_count": null,
   "metadata": {},
   "outputs": [],
   "source": []
  },
  {
   "cell_type": "code",
   "execution_count": null,
   "metadata": {},
   "outputs": [],
   "source": []
  }
 ],
 "metadata": {
  "kernelspec": {
   "display_name": "dsnb",
   "language": "python",
   "name": "python3"
  },
  "language_info": {
   "codemirror_mode": {
    "name": "ipython",
    "version": 3
   },
   "file_extension": ".py",
   "mimetype": "text/x-python",
   "name": "python",
   "nbconvert_exporter": "python",
   "pygments_lexer": "ipython3",
   "version": "3.9.6"
  }
 },
 "nbformat": 4,
 "nbformat_minor": 2
}
