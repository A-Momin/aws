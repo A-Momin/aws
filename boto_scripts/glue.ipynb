{
 "cells": [
  {
   "cell_type": "code",
   "execution_count": null,
   "metadata": {},
   "outputs": [],
   "source": []
  },
  {
   "cell_type": "code",
   "execution_count": 2,
   "metadata": {},
   "outputs": [],
   "source": [
    "import boto3, botocore\n",
    "from botocore.exceptions import ClientError\n",
    "import os, time, json, io, zipfile\n",
    "from datetime import date\n",
    "\n",
    "from misc import load_from_yaml, save_to_yaml\n",
    "import iam, s3, lf, rds, vpc, ec2"
   ]
  },
  {
   "cell_type": "code",
   "execution_count": 3,
   "metadata": {},
   "outputs": [],
   "source": [
    "ACCOUNT_ID = os.environ['AWS_ACCOUNT_ID_ROOT']\n",
    "REGION = os.getenv('AWS_DEFAULT_REGION')\n",
    "# boto3.setup_default_session(profile_name=\"AMominNJ\")"
   ]
  },
  {
   "cell_type": "code",
   "execution_count": 4,
   "metadata": {},
   "outputs": [],
   "source": [
    "ec2_client           = boto3.client('ec2', region_name=REGION)\n",
    "ec2_resource         = boto3.resource('ec2', region_name=REGION)\n",
    "sts_client           = boto3.client('sts')\n",
    "rds_client           = boto3.client('rds')\n",
    "iam_client           = boto3.client('iam')\n",
    "s3_client            = boto3.client('s3')\n",
    "glue_client          = boto3.client('glue')\n",
    "lakeformation_client = boto3.client('lakeformation')\n",
    "stepfunctions_client = boto3.client('stepfunctions')\n",
    "apigateway_client    = boto3.client('apigateway')\n",
    "lsn_client           = boto3.client('lambda')\n",
    "events_client        = boto3.client('events')\n"
   ]
  },
  {
   "cell_type": "markdown",
   "metadata": {},
   "source": [
    "# [Glue](https://boto3.amazonaws.com/v1/documentation/api/latest/reference/services/glue.html)"
   ]
  },
  {
   "cell_type": "markdown",
   "metadata": {},
   "source": [
    "- [AWS Glue ETL scripts in PySpark](https://docs.aws.amazon.com/glue/latest/dg/aws-glue-programming-python.html)\n",
    "- [Using interactive sessions with Microsoft Visual Studio Code](https://docs.aws.amazon.com/glue/latest/dg/interactive-sessions-vscode.html)"
   ]
  },
  {
   "cell_type": "code",
   "execution_count": null,
   "metadata": {},
   "outputs": [],
   "source": []
  },
  {
   "cell_type": "markdown",
   "metadata": {},
   "source": [
    "##### Glue API"
   ]
  },
  {
   "cell_type": "code",
   "execution_count": null,
   "metadata": {},
   "outputs": [],
   "source": [
    "# [method for method in dir(glue_client) if not method.startswith(\"_\")]"
   ]
  },
  {
   "cell_type": "markdown",
   "metadata": {},
   "source": [
    "###### Triggers"
   ]
  },
  {
   "cell_type": "markdown",
   "metadata": {},
   "source": [
    "\n",
    "1. `batch_get_triggers()`\n",
    "2. `create_trigger()`\n",
    "2. `delete_trigger()`\n",
    "1. `get_trigger()`\n",
    "1. `get_triggers()`\n",
    "1. `list_triggers()`\n",
    "2. `start_trigger()`\n",
    "3. `stop_trigger()`\n",
    "4. `update_trigger()`"
   ]
  },
  {
   "cell_type": "markdown",
   "metadata": {},
   "source": [
    "\n",
    "###### Crawlers\n"
   ]
  },
  {
   "cell_type": "markdown",
   "metadata": {},
   "source": [
    "\n",
    "1. `batch_get_crawlers()`\n",
    "1. `create_crawler()`\n",
    "1. `delete_crawler()`\n",
    "1. `get_crawler()`\n",
    "1. `get_crawler_metrics()`\n",
    "1. `get_crawlers()`\n",
    "1. `list_crawlers()`\n",
    "1. `start_crawler()`\n",
    "1. `start_crawler_schedule()`\n",
    "1. `stop_crawler()`\n",
    "1. `stop_crawler_schedule()`\n",
    "1. `update_crawler()`\n",
    "1. `update_crawler_schedule()`\n"
   ]
  },
  {
   "cell_type": "markdown",
   "metadata": {},
   "source": [
    "###### Jobs"
   ]
  },
  {
   "cell_type": "markdown",
   "metadata": {},
   "source": [
    "\n",
    "1. `batch_get_jobs()`\n",
    "1. `batch_stop_job_run()`\n",
    "1. `create_job()`\n",
    "1. `delete_job()`\n",
    "1. `get_job()`\n",
    "1. `get_job_bookmark()`\n",
    "1. `get_job_run()`\n",
    "1. `get_job_runs()`\n",
    "1. `get_jobs()`\n",
    "1. `list_jobs()`\n",
    "1. `reset_job_bookmark()`\n",
    "1. `start_job_run()`\n",
    "1. `update_job()`\n",
    "1. `update_job_from_source_control()`\n",
    "1. `update_source_control_from_job()`\n"
   ]
  },
  {
   "cell_type": "markdown",
   "metadata": {},
   "source": [
    "###### Workflows"
   ]
  },
  {
   "cell_type": "markdown",
   "metadata": {},
   "source": [
    "\n",
    "1. `batch_get_workflows()`\n",
    "1. `create_workflow()`\n",
    "1. `delete_workflow()`\n",
    "1. `get_workflow()`\n",
    "1. `get_workflow_run()`\n",
    "1. `get_workflow_run_properties()`\n",
    "1. `get_workflow_runs()`\n",
    "1. `list_workflows()`\n",
    "1. `put_workflow_run_properties()`\n",
    "1. `resume_workflow_run()`\n",
    "1. `start_workflow_run()`\n",
    "1. `stop_workflow_run()`\n",
    "1. `update_workflow()`"
   ]
  },
  {
   "cell_type": "markdown",
   "metadata": {},
   "source": [
    "### Workflow"
   ]
  },
  {
   "cell_type": "code",
   "execution_count": null,
   "metadata": {},
   "outputs": [],
   "source": [
    "workflow_name = \"MyGlueWorkflow\"\n",
    "response = glue_client.create_workflow(\n",
    "    Name=workflow_name,\n",
    "    Description=\"Workflow to crawl S3 data and run a job.\"\n",
    ")\n",
    "print(f\"Workflow '{workflow_name}' created successfully.\")\n"
   ]
  },
  {
   "cell_type": "code",
   "execution_count": null,
   "metadata": {},
   "outputs": [],
   "source": []
  },
  {
   "cell_type": "markdown",
   "metadata": {},
   "source": [
    "- Add Workflow Triggers: Add triggers to orchestrate the crawler and job sequentially."
   ]
  },
  {
   "cell_type": "code",
   "execution_count": null,
   "metadata": {},
   "outputs": [],
   "source": [
    "## Trigger for the Crawler:\n",
    "trigger_name_crawler = \"TriggerCrawler\"\n",
    "\n",
    "response = glue_client.create_trigger(\n",
    "    Name=trigger_name_crawler,\n",
    "    Type=\"ON_DEMAND\",\n",
    "    WorkflowName=workflow_name,\n",
    "    Actions=[{\n",
    "        \"CrawlerName\": crawler_name\n",
    "    }],\n",
    ")\n",
    "print(f\"Trigger '{trigger_name_crawler}' created successfully.\")\n"
   ]
  },
  {
   "cell_type": "code",
   "execution_count": null,
   "metadata": {},
   "outputs": [],
   "source": [
    "# Trigger for the Job (dependent on the Crawler):\n",
    "trigger_name_job = \"TriggerJob\"\n",
    "\n",
    "response = glue_client.create_trigger(\n",
    "    Name=trigger_name_job,\n",
    "    Type=\"CONDITIONAL\",\n",
    "    WorkflowName=workflow_name,\n",
    "    Actions=[{\n",
    "        \"JobName\": job_name\n",
    "    }],\n",
    "    Predicate={\n",
    "        \"Conditions\": [{\n",
    "            \"LogicalOperator\": \"EQUALS\",\n",
    "            \"CrawlerName\": crawler_name,\n",
    "            \"CrawlState\": \"SUCCEEDED\"\n",
    "        }]\n",
    "    }\n",
    ")\n",
    "print(f\"Trigger '{trigger_name_job}' created successfully.\")\n"
   ]
  },
  {
   "cell_type": "code",
   "execution_count": null,
   "metadata": {},
   "outputs": [],
   "source": []
  },
  {
   "cell_type": "markdown",
   "metadata": {},
   "source": [
    "- Start and Monitor Workflow Execution"
   ]
  },
  {
   "cell_type": "code",
   "execution_count": null,
   "metadata": {},
   "outputs": [],
   "source": [
    "response = glue_client.start_workflow_run(Name=workflow_name)\n",
    "workflow_run_id = response['RunId']\n",
    "print(f\"Workflow started successfully with RunId: {workflow_run_id}\")"
   ]
  },
  {
   "cell_type": "code",
   "execution_count": null,
   "metadata": {},
   "outputs": [],
   "source": [
    "while True:\n",
    "    response = glue_client.get_workflow_run(\n",
    "        Name=workflow_name,\n",
    "        RunId=workflow_run_id\n",
    "    )\n",
    "    status = response['Run']['Status']\n",
    "    print(f\"Workflow status: {status}\")\n",
    "    if status in ['COMPLETED', 'FAILED', 'STOPPED']:\n",
    "        break\n",
    "    time.sleep(10)\n"
   ]
  }
 ],
 "metadata": {
  "kernelspec": {
   "display_name": "dsnb",
   "language": "python",
   "name": "python3"
  },
  "language_info": {
   "codemirror_mode": {
    "name": "ipython",
    "version": 3
   },
   "file_extension": ".py",
   "mimetype": "text/x-python",
   "name": "python",
   "nbconvert_exporter": "python",
   "pygments_lexer": "ipython3",
   "version": "3.9.6"
  }
 },
 "nbformat": 4,
 "nbformat_minor": 2
}
