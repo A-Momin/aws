{
 "cells": [
  {
   "cell_type": "code",
   "execution_count": null,
   "metadata": {},
   "outputs": [
    {
     "data": {
      "text/plain": [
       "True"
      ]
     },
     "metadata": {},
     "output_type": "display_data"
    }
   ],
   "source": [
    "import boto3, botocore\n",
    "from botocore.exceptions import ClientError\n",
    "import os, time, json, io, zipfile\n",
    "from datetime import date\n",
    "from dotenv import load_dotenv\n",
    "\n",
    "\n",
    "from misc import load_from_yaml, save_to_yaml\n",
    "import iam, s3, lf, rds, vpc, ec2\n",
    "\n",
    "load_dotenv(\".env\")\n",
    "# boto3.setup_default_session(profile_name=\"AMominNJ\")"
   ]
  },
  {
   "cell_type": "code",
   "execution_count": null,
   "metadata": {},
   "outputs": [],
   "source": [
    "ALL_IN_ONE_SG = 'sg-0d8a868137f653df6'\n",
    "ACCOUNT_ID        = os.environ['AWS_ACCOUNT_ID_ROOT']\n",
    "REGION            = os.environ['AWS_DEFAULT_REGION']\n",
    "VPC_ID            = os.environ['AWS_DEFAULT_VPC']\n",
    "SECURITY_GROUP_ID = os.environ['AWS_DEFAULT_SG_ID']\n",
    "SUBNET_IDS        = SUBNET_IDS = os.environ[\"AWS_DEFAULT_SUBNET_IDS\"].split(\":\")\n",
    "SUBNET_ID         = SUBNET_IDS[0]\n",
    "AWS_INSTANCE_ID_JMASTER   = os.environ['AWS_INSTANCE_ID_JMASTER']\n",
    "AWS_INSTANCE_ID_JAGENT    = os.environ['AWS_INSTANCE_ID_JAGENT']\n",
    "AWS_DEFAULT_IMAGE_ID      = os.environ['AWS_DEFAULT_IMAGE_ID']\n",
    "AWS_DEFAULT_KEY_PAIR_NAME = os.environ['AWS_DEFAULT_KEY_PAIR_NAME']\n",
    "AWS_DEFAULT_INSTANCE_TYPE = os.environ['AWS_DEFAULT_INSTANCE_TYPE']"
   ]
  },
  {
   "cell_type": "code",
   "execution_count": null,
   "metadata": {},
   "outputs": [],
   "source": [
    "sts_client           = boto3.client('sts')\n",
    "rds_client           = boto3.client('rds')\n",
    "iam_client           = boto3.client('iam')\n",
    "s3_client            = boto3.client('s3')\n",
    "glue_client          = boto3.client('glue')\n",
    "lakeformation_client = boto3.client('lakeformation')\n",
    "stepfunctions_client = boto3.client('stepfunctions')\n",
    "apigateway_client    = boto3.client('apigateway')\n",
    "lsn_client           = boto3.client('lambda')\n",
    "events_client        = boto3.client('events')\n",
    "sqs_client           = boto3.client('sqs')\n",
    "\n",
    "emr_client = boto3.client('emr', region_name=REGION)"
   ]
  },
  {
   "cell_type": "code",
   "execution_count": null,
   "metadata": {},
   "outputs": [],
   "source": [
    "ec2_client           = boto3.client('ec2', region_name=REGION)\n",
    "ec2_resource         = boto3.resource('ec2', region_name=REGION)\n",
    "\n",
    "# # Example: Get a specific VPC\n",
    "# vpc = ec2_resource.Vpc('vpc_id')\n",
    "\n",
    "# # Example: Get a specific EBS volume\n",
    "# volume = ec2_resource.Volume('volume_id')"
   ]
  },
  {
   "cell_type": "markdown",
   "metadata": {},
   "source": [
    "### [DNS & Amazon Route 53 Deep dive](https://www.youtube.com/watch?v=94vdYMBcE5Y&list=PLO95rE9ahzRsP_ryXpnAHTbKlQIt_JEyF&index=1)"
   ]
  },
  {
   "cell_type": "code",
   "execution_count": 1,
   "metadata": {},
   "outputs": [],
   "source": [
    "! mkdir ./data/route53"
   ]
  },
  {
   "cell_type": "code",
   "execution_count": 2,
   "metadata": {},
   "outputs": [
    {
     "name": "stdout",
     "output_type": "stream",
     "text": [
      "  % Total    % Received % Xferd  Average Speed   Time    Time     Time  Current\n",
      "                                 Dload  Upload   Total   Spent    Left  Speed\n",
      "100  877k  100  877k    0     0   468k      0  0:00:01  0:00:01 --:--:--  470k\n"
     ]
    }
   ],
   "source": [
    "! curl -o ./data/route53/free_static_webpage.zip https://www.free-css.com/assets/files/free-css-templates/download/page295/makaan.zip"
   ]
  },
  {
   "cell_type": "code",
   "execution_count": null,
   "metadata": {},
   "outputs": [],
   "source": [
    "! unzip ./data/route53/free_static_webpage.zip -d ./data/route53/"
   ]
  },
  {
   "cell_type": "code",
   "execution_count": 8,
   "metadata": {},
   "outputs": [],
   "source": [
    "! rm -fr ./data/route53/free_static_webpage.zip"
   ]
  },
  {
   "cell_type": "code",
   "execution_count": null,
   "metadata": {},
   "outputs": [],
   "source": [
    "def create_dns_record(\n",
    "    zone_id,\n",
    "    record_name,\n",
    "    record_type,\n",
    "    record_value,\n",
    "    ttl=300,\n",
    "    routing_policy=\"simple\",\n",
    "    set_identifier=None,\n",
    "    weight=None,\n",
    "    region=None,\n",
    "):\n",
    "    \"\"\"\n",
    "    Creates a DNS record in AWS Route 53 with the specified routing policy.\n",
    "\n",
    "    :param zone_id: (str) Hosted zone ID.\n",
    "    :param record_name: (str) Fully qualified domain name (FQDN).\n",
    "    :param record_type: (str) DNS record type (e.g., \"A\", \"CNAME\", \"TXT\").\n",
    "    :param record_value: (list) List of values for the record.\n",
    "    :param ttl: (int) Time to Live (TTL) in seconds.\n",
    "    :param routing_policy: (str) Routing policy (\"simple\", \"weighted\", \"latency\", \"failover\", \"geolocation\").\n",
    "    :param set_identifier: (str) Unique identifier required for weighted, latency, geolocation policies.\n",
    "    :param weight: (int) Weight value (required for weighted policy).\n",
    "    :param region: (str) AWS region (required for latency policy).\n",
    "    \"\"\"\n",
    "    client = boto3.client(\"route53\")\n",
    "\n",
    "    record_set = {\n",
    "        \"Name\": record_name,\n",
    "        \"Type\": record_type,\n",
    "        \"TTL\": ttl,\n",
    "        \"ResourceRecords\": [{\"Value\": val} for val in record_value],\n",
    "    }\n",
    "\n",
    "    # Handle routing policies\n",
    "    if routing_policy == \"weighted\":\n",
    "        if set_identifier is None or weight is None:\n",
    "            raise ValueError(\"Weighted routing requires 'set_identifier' and 'weight'\")\n",
    "        record_set[\"SetIdentifier\"] = set_identifier\n",
    "        record_set[\"Weight\"] = weight\n",
    "\n",
    "    elif routing_policy == \"latency\":\n",
    "        if set_identifier is None or region is None:\n",
    "            raise ValueError(\"Latency routing requires 'set_identifier' and 'region'\")\n",
    "        record_set[\"SetIdentifier\"] = set_identifier\n",
    "        record_set[\"Region\"] = region\n",
    "\n",
    "    elif routing_policy == \"failover\":\n",
    "        if set_identifier is None:\n",
    "            raise ValueError(\"Failover routing requires 'set_identifier'\")\n",
    "        record_set[\"SetIdentifier\"] = set_identifier\n",
    "        record_set[\"Failover\"] = \"PRIMARY\"  # Change to \"SECONDARY\" as needed\n",
    "\n",
    "    elif routing_policy == \"geolocation\":\n",
    "        if set_identifier is None:\n",
    "            raise ValueError(\"Geolocation routing requires 'set_identifier'\")\n",
    "        record_set[\"SetIdentifier\"] = set_identifier\n",
    "        record_set[\"GeoLocation\"] = {\"CountryCode\": \"US\"}  # Modify as needed\n",
    "\n",
    "    change_batch = {\"Changes\": [{\"Action\": \"UPSERT\", \"ResourceRecordSet\": record_set}]}\n",
    "\n",
    "    response = client.change_resource_record_sets(\n",
    "        HostedZoneId=zone_id, ChangeBatch=change_batch\n",
    "    )\n",
    "\n",
    "    return response"
   ]
  },
  {
   "cell_type": "code",
   "execution_count": null,
   "metadata": {},
   "outputs": [],
   "source": [
    "# # Example Usage:\n",
    "# response = create_dns_record(\n",
    "#     zone_id=\"ZXXXXXXXXXXXXX\",\n",
    "#     record_name=\"example.mydomain.com\",\n",
    "#     record_type=\"A\",\n",
    "#     record_value=[\"192.168.1.1\"],\n",
    "#     ttl=300,\n",
    "#     routing_policy=\"weighted\",\n",
    "#     set_identifier=\"Instance-1\",\n",
    "#     weight=50,\n",
    "# )\n",
    "# print(response)"
   ]
  },
  {
   "cell_type": "code",
   "execution_count": null,
   "metadata": {},
   "outputs": [],
   "source": []
  }
 ],
 "metadata": {
  "kernelspec": {
   "display_name": "dsnb",
   "language": "python",
   "name": "python3"
  },
  "language_info": {
   "codemirror_mode": {
    "name": "ipython",
    "version": 3
   },
   "file_extension": ".py",
   "mimetype": "text/x-python",
   "name": "python",
   "nbconvert_exporter": "python",
   "pygments_lexer": "ipython3",
   "version": "3.9.6"
  }
 },
 "nbformat": 4,
 "nbformat_minor": 2
}
