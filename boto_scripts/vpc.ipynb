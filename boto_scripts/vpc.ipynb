{
 "cells": [
  {
   "cell_type": "code",
   "execution_count": null,
   "metadata": {},
   "outputs": [
    {
     "data": {
      "text/plain": [
       "True"
      ]
     },
     "metadata": {},
     "output_type": "display_data"
    }
   ],
   "source": [
    "import boto3, botocore\n",
    "from botocore.exceptions import ClientError\n",
    "import os, time, json, io, zipfile\n",
    "from datetime import date\n",
    "from dotenv import load_dotenv\n",
    "\n",
    "\n",
    "from misc import load_from_yaml, save_to_yaml\n",
    "import iam, s3, lf, rds, vpc, ec2\n",
    "\n",
    "load_dotenv(\".env\")\n",
    "# boto3.setup_default_session(profile_name=\"AMominNJ\")"
   ]
  },
  {
   "cell_type": "code",
   "execution_count": null,
   "metadata": {},
   "outputs": [],
   "source": [
    "ACCOUNT_ID        = os.environ['AWS_ACCOUNT_ID_ROOT']\n",
    "REGION            = os.environ['AWS_DEFAULT_REGION']\n",
    "VPC_ID            = os.environ['AWS_DEFAULT_VPC']\n",
    "SECURITY_GROUP_ID = os.environ['AWS_DEFAULT_SG_ID']\n",
    "SUBNET_IDS        = SUBNET_IDS = os.environ[\"AWS_DEFAULT_SUBNET_IDS\"].split(\":\")\n",
    "SUBNET_ID         = SUBNET_IDS[0]\n",
    "print(SUBNET_IDS)"
   ]
  },
  {
   "cell_type": "code",
   "execution_count": null,
   "metadata": {},
   "outputs": [],
   "source": [
    "sts_client           = boto3.client('sts')\n",
    "iam_client           = boto3.client('iam')\n",
    "s3_client            = boto3.client('s3')\n",
    "glue_client          = boto3.client('glue')\n",
    "lakeformation_client = boto3.client('lakeformation')\n",
    "stepfunctions_client = boto3.client('stepfunctions')\n",
    "apigateway_client    = boto3.client('apigateway')\n",
    "lsn_client           = boto3.client('lambda')\n",
    "events_client        = boto3.client('events')"
   ]
  },
  {
   "cell_type": "code",
   "execution_count": null,
   "metadata": {},
   "outputs": [],
   "source": [
    "ec2_client           = boto3.client('ec2', region_name=REGION)\n",
    "ec2_resource         = boto3.resource('ec2', region_name=REGION)"
   ]
  },
  {
   "cell_type": "markdown",
   "metadata": {},
   "source": [
    "## VPC (Virtual Private Cloud)"
   ]
  },
  {
   "cell_type": "markdown",
   "metadata": {},
   "source": [
    "#### [Must Know: AWS Networking Basics For Programmers | Hands On](https://www.youtube.com/watch?v=2doSoMN2xvI&t=1007s)"
   ]
  },
  {
   "cell_type": "markdown",
   "metadata": {},
   "source": [
    "- VPC can have different types of Gateways\n",
    "  - Internet Gateway\n",
    "  - NAT Gateway: \n",
    "    - It is usally created in a public subnet\n",
    "    - Only allow outbound trafic (Usually used to update packages by the instances within a private subnet)\n",
    "  - Interface Gateway\n",
    "\n",
    "- Each VPC have a Routers.\n",
    "- Each VPC have a Default Route Table (Called `Main`).\n",
    "  - It allows all internal communication `WITHIN` (subnet to subnet) the VPC\n",
    "  - All subnets without any explecit association get associated to the `Main` route table.\n",
    "\n",
    "\n",
    "- Each Subnet has a Route Table\n",
    "\n",
    "\n",
    "- Route Table (RT):\n",
    "  - By Default RT allwo communication amoung the subnets within the VPC.\n",
    "  - RTs are created within a VPC (TR belongs to VPC)\n",
    "  - Main Route Table: all unassociated subnets use the route table.\n",
    "  - RT gets associated with Subnets."
   ]
  },
  {
   "cell_type": "markdown",
   "metadata": {},
   "source": [
    "<div style=\"text-align:center\" ><img src=\"./screenshots/vpc/screenshot.png\" width=\"700\" height=\"400\" /></div>"
   ]
  },
  {
   "cell_type": "code",
   "execution_count": 15,
   "metadata": {},
   "outputs": [],
   "source": [
    "# ?ec2_resource.create_vpc"
   ]
  },
  {
   "cell_type": "code",
   "execution_count": null,
   "metadata": {},
   "outputs": [],
   "source": [
    "vpc_cidr_block = '172.0.0.0/16'\n",
    "vpc_name = 'httx-vpc'\n",
    "vpc_id = ec2_client.create_vpc(CidrBlock=vpc_cidr_block)['Vpc']['VpcId']\n",
    "\n",
    "# Add a Name tag to the VPC\n",
    "ec2_client.create_tags(Resources=[vpc_id], Tags=[{'Key': 'Name', 'Value': vpc_name}])\n",
    "# ec2_client.describe_vpcs(VpcIds=[vpc_id])"
   ]
  },
  {
   "cell_type": "code",
   "execution_count": null,
   "metadata": {},
   "outputs": [],
   "source": [
    "vpc_endpoints = ec2_client.describe_vpc_endpoints(Filters=[{'Name': 'vpc-id', 'Values': [vpc_id]}])\n",
    "print(vpc_endpoints)\n",
    "# for endpoint in vpc_endpoints['VpcEndpoints']:\n",
    "#     endpoint_id = endpoint['VpcEndpointId']\n",
    "#     print(f\"Deleting VPC Endpoint: {endpoint_id}\")\n",
    "#     ec2_client.delete_vpc_endpoints(VpcEndpointIds=[endpoint_id])\n",
    "\n",
    "vpc = ec2_resource.Vpc(vpc_id)"
   ]
  },
  {
   "cell_type": "code",
   "execution_count": 21,
   "metadata": {},
   "outputs": [],
   "source": [
    "# ?ec2_resource.create_subnet"
   ]
  },
  {
   "cell_type": "code",
   "execution_count": 29,
   "metadata": {},
   "outputs": [],
   "source": [
    "subnet_configs = [\n",
    "    {'cidr_block': '172.0.1.0/24', 'az': 'us-east-1a', 'tag': 'public-subnet-01'},\n",
    "    {'cidr_block': '172.0.2.0/24', 'az': 'us-east-1b', 'tag': 'public-subnet-02'},\n",
    "    {'cidr_block': '172.0.3.0/24', 'az': 'us-east-1a', 'tag': 'private-subnet-01'},\n",
    "    {'cidr_block': '172.0.4.0/24', 'az': 'us-east-1b', 'tag': 'private-subnet-02'}\n",
    "]"
   ]
  },
  {
   "cell_type": "code",
   "execution_count": null,
   "metadata": {},
   "outputs": [],
   "source": [
    "public_subnet1 = ec2_resource.create_subnet(\n",
    "    CidrBlock=subnet_configs[0]['cidr_block'],\n",
    "    VpcId=vpc.id,\n",
    "    AvailabilityZone=subnet_configs[0]['az']\n",
    ")\n",
    "ec2_client.create_tags(Resources=[public_subnet1.id],Tags=[{'Key': 'Name', 'Value': subnet_configs[0]['tag']}])\n",
    "\n",
    "public_subnet2 = ec2_resource.create_subnet(\n",
    "    CidrBlock=subnet_configs[1]['cidr_block'],\n",
    "    VpcId=vpc.id,\n",
    "    AvailabilityZone=subnet_configs[1]['az']\n",
    ")\n",
    "ec2_client.create_tags(Resources=[public_subnet2.id],Tags=[{'Key': 'Name', 'Value': subnet_configs[1]['tag']}])"
   ]
  },
  {
   "cell_type": "code",
   "execution_count": null,
   "metadata": {},
   "outputs": [],
   "source": [
    "private_subnet1 = ec2_resource.create_subnet(\n",
    "    CidrBlock=subnet_configs[2]['cidr_block'],\n",
    "    VpcId=vpc.id,\n",
    "    AvailabilityZone=subnet_configs[2]['az']\n",
    ")\n",
    "ec2_client.create_tags(Resources=[private_subnet1.id],Tags=[{'Key': 'Name', 'Value': subnet_configs[2]['tag']}])\n",
    "\n",
    "private_subnet2 = ec2_resource.create_subnet(\n",
    "    CidrBlock=subnet_configs[3]['cidr_block'],\n",
    "    VpcId=vpc.id,\n",
    "    AvailabilityZone=subnet_configs[3]['az']\n",
    ")\n",
    "ec2_client.create_tags(Resources=[private_subnet2.id],Tags=[{'Key': 'Name', 'Value': subnet_configs[3]['tag']}])"
   ]
  },
  {
   "cell_type": "code",
   "execution_count": 45,
   "metadata": {},
   "outputs": [],
   "source": [
    "sg_name = 'htts-sg'\n",
    "# ec2.create_security_group(sg_name, vpc_id)"
   ]
  },
  {
   "cell_type": "code",
   "execution_count": null,
   "metadata": {},
   "outputs": [],
   "source": [
    "# response = ec2_client.describe_security_group_rules(SecurityGroupRuleIds=['sgr-0151050acf52e2f6b'])"
   ]
  },
  {
   "cell_type": "code",
   "execution_count": 46,
   "metadata": {},
   "outputs": [],
   "source": [
    "ec2_instance_type = os.environ['AWS_DEFAULT_INSTANCE_TYPE'] # t2.micro\n",
    "key_name='AMominNJ'\n",
    "sg_id = 'sg-03866c6a844806569'\n",
    "ami_id = 'ami-0e86e20dae9224db8' # Ubuntu Server 24.04 LTS (Free Tier Eligible)\n",
    "\n",
    "ec2_in_public_subnet = ec2_client.run_instances(\n",
    "    ImageId=ami_id,                         # The ID of the AMI\n",
    "    InstanceType=ec2_instance_type,         # The instance type\n",
    "    KeyName=key_name,                       # The name of the key pair\n",
    "    MaxCount=1,                             # Number of instances to launch\n",
    "    MinCount=1,\n",
    "    NetworkInterfaces=[{\n",
    "        'SubnetId': public_subnet1.subnet_id,   # Subnet within the VPC\n",
    "        'DeviceIndex': 0,                       # Primary network interface\n",
    "        'AssociatePublicIpAddress': True,       # Automatically assign public IP\n",
    "        'Groups': [sg_id]                       # Security group ID(s)\n",
    "    }]\n",
    ")"
   ]
  },
  {
   "cell_type": "code",
   "execution_count": null,
   "metadata": {},
   "outputs": [],
   "source": [
    "# Create Internet Gateway and attach that with VPC\n",
    "igw_id = ec2_resource.create_internet_gateway()\n",
    "ec2_client.attach_internet_gateway(InternetGatewayId=igw_id,VpcId=vpc_id)"
   ]
  },
  {
   "cell_type": "code",
   "execution_count": null,
   "metadata": {},
   "outputs": [],
   "source": [
    "public_route_table = ec2_resource.create_route_table(VpcId=vpc_id)\n",
    "ec2_client.create_tags(Resources=[public_route_table.id],Tags=[{'Key': 'Name','Value': 'public_route_table'},])\n",
    "\n",
    "public_route_table.associate_with_subnet(SubnetId=public_subnet1.id)\n",
    "\n",
    "route_params = {'DestinationCidrBlock': '0.0.0.0/0', 'GatewayId': igw_id}\n",
    "public_route_table.create_route(**route_params)"
   ]
  },
  {
   "cell_type": "code",
   "execution_count": null,
   "metadata": {},
   "outputs": [],
   "source": [
    "private_route_table = ec2_resource.create_route_table(VpcId=vpc_id)\n",
    "ec2_client.create_tags(Resources=[private_route_table.id],Tags=[{'Key': 'Name','Value': 'private_route_table'},])\n",
    "\n",
    "private_route_table.associate_with_subnet(SubnetId=private_subnet1.id)"
   ]
  },
  {
   "cell_type": "markdown",
   "metadata": {},
   "source": [
    "- YOU SHOULD BE ABLE TO CONNECT TO YOUR EC2 INSTANCE (`ec2_in_public_subnet`)."
   ]
  },
  {
   "cell_type": "code",
   "execution_count": 68,
   "metadata": {},
   "outputs": [],
   "source": [
    "ec2_instance_type = os.environ['AWS_DEFAULT_INSTANCE_TYPE'] # t2.micro\n",
    "key_name='AMominNJ'\n",
    "sg_id = 'sg-03866c6a844806569'\n",
    "ami_id = 'ami-0e86e20dae9224db8' # Ubuntu Server 24.04 LTS (Free Tier Eligible)\n",
    "\n",
    "ec2_in_private_subnet = ec2_client.run_instances(\n",
    "    ImageId=ami_id,                # The ID of the AMI\n",
    "    InstanceType=ec2_instance_type,       # The instance type\n",
    "    KeyName=key_name,              # The name of the key pair\n",
    "    MaxCount=1,                    # Number of instances to launch\n",
    "    MinCount=1,\n",
    "    NetworkInterfaces=[{\n",
    "        'SubnetId': private_subnet1.subnet_id,     # Subnet within the VPC\n",
    "        'DeviceIndex': 0,          # Primary network interface\n",
    "        'AssociatePublicIpAddress': True,  # Automatically assign public IP\n",
    "        'Groups': [sg_id]  # Security group ID(s)\n",
    "    }]\n",
    ")"
   ]
  },
  {
   "cell_type": "code",
   "execution_count": null,
   "metadata": {},
   "outputs": [],
   "source": [
    "ec2_client.create_tags(Resources=['i-0169495b08d0ec48c'],Tags=[{'Key': 'Name','Value': 'ec2_in_private_subnet'},])"
   ]
  },
  {
   "cell_type": "markdown",
   "metadata": {},
   "source": [
    "- You should be able to connect to your ec2-instance-in-private-instance (`ec2_in_private_subnet`) from ec2-instance-in-public-instance (`ec2_in_public_subnet`). since route table allow inter subnet communication.\n",
    "- But you should not be diractly able to connect to your ec2-instance-in-private-instance (`ec2_in_private_subnet`) from `local_machine`.\n",
    "- But how does ec2-instance-in-private-instance (`ec2_in_private_subnet`) updates it's pacages since it does not have internet access? `nat gateway` !!!"
   ]
  },
  {
   "cell_type": "code",
   "execution_count": 65,
   "metadata": {},
   "outputs": [
    {
     "name": "stdout",
     "output_type": "stream",
     "text": [
      "Elastic IP allocated: eipalloc-008e9c592579ee50c\n",
      "NAT Gateway created: nat-02c185babfaebd368\n"
     ]
    }
   ],
   "source": [
    "# Step 1: Allocate an Elastic IP address\n",
    "eip_response = ec2_client.allocate_address(Domain='vpc')\n",
    "eip_allocation_id = eip_response['AllocationId']\n",
    "print(f\"Elastic IP allocated: {eip_allocation_id}\")\n",
    "\n",
    "# Step 2: Create the NAT Gateway\n",
    "nat_gateway_response = ec2_client.create_nat_gateway(\n",
    "    SubnetId=public_subnet1.id,\n",
    "    AllocationId=eip_allocation_id\n",
    ")\n",
    "nat_gateway_id = nat_gateway_response['NatGateway']['NatGatewayId']\n",
    "print(f\"NAT Gateway created: {nat_gateway_id}\")"
   ]
  },
  {
   "cell_type": "code",
   "execution_count": 66,
   "metadata": {},
   "outputs": [
    {
     "data": {
      "text/plain": [
       "ec2.Route(route_table_id='rtb-0f565bee0eb6e0b0c', destination_cidr_block='0.0.0.0/0')"
      ]
     },
     "execution_count": 66,
     "metadata": {},
     "output_type": "execute_result"
    }
   ],
   "source": [
    "private_route_params = {'DestinationCidrBlock': '0.0.0.0/0', 'GatewayId': nat_gateway_id}\n",
    "private_route_table.create_route(**private_route_params)"
   ]
  },
  {
   "cell_type": "code",
   "execution_count": null,
   "metadata": {},
   "outputs": [],
   "source": [
    "public_ip = ''  # Collect it from instetiated EC2 instance\n",
    "private_ip = '' # Collect it from instetiated EC2 instance"
   ]
  },
  {
   "cell_type": "markdown",
   "metadata": {},
   "source": [
    "```sh\n",
    "# Run to access into ec2_in_public_subnet from local machine\n",
    "ssh -o StrictHostKeyChecking=no -i ~/.ssh/{key_name}.pem ubuntu@{public_ip}\n",
    "# Run to copy key file into ec2_in_public_subnet from local machine\n",
    "scp -i ~/.ssh/{key_name}.pem ~/.ssh/{key_name}.pem ubuntu@{public_ip}:.ssh/\n",
    "# Run to access into ec2_in_private_subnet from ec2_in_public_subnet\n",
    "ssh -o StrictHostKeyChecking=no -i ~/.ssh/{key_name}.pem ubuntu@{private_ip}\n",
    "```"
   ]
  },
  {
   "cell_type": "code",
   "execution_count": null,
   "metadata": {},
   "outputs": [],
   "source": []
  },
  {
   "cell_type": "code",
   "execution_count": 71,
   "metadata": {},
   "outputs": [],
   "source": [
    "# vpc.delete_vpc_with_dependencies(vpc_id)"
   ]
  },
  {
   "cell_type": "code",
   "execution_count": null,
   "metadata": {},
   "outputs": [],
   "source": []
  },
  {
   "cell_type": "code",
   "execution_count": null,
   "metadata": {},
   "outputs": [],
   "source": []
  },
  {
   "cell_type": "markdown",
   "metadata": {},
   "source": [
    "#### [BeBetterDev: AWS VPC Endpoints](https://www.youtube.com/watch?v=jo3X_aay4Vs&list=PL9nWRykSBSFhzwFa9Z5PqBM0XON8hpXE7&index=6)"
   ]
  },
  {
   "cell_type": "markdown",
   "metadata": {},
   "source": [
    "-   `Gateway` endpoints serve as a target for a route in your route table for traffic destined for the service."
   ]
  },
  {
   "cell_type": "code",
   "execution_count": null,
   "metadata": {},
   "outputs": [],
   "source": [
    "# VPC Endpoint parameters\n",
    "vpc_endpoint_tag = 'rs-glue-vpc-endpoint'\n",
    "service_name = 'com.amazonaws.us-east-1.s3'  # Replace with the desired service (e.g., S3)\n",
    "subnet_ids = ['subnet-0980ad10eb313405b', 'subnet-0de97821ddb8236f7', 'subnet-0a160fbe0fcafe373', 'subnet-0ca765b361e4cb186', 'subnet-0a972b05a5b162feb']  # List of subnets where the endpoint should be placed\n",
    "security_group_ids = [sg_id]  # Security group(s) associated with the endpoint\n",
    "route_table_ids = ['rtb-0ec4311296ec952f8']\n",
    "\n",
    "# Create an Interface Endpoint\n",
    "vpc_endpoint = ec2_client.create_vpc_endpoint(\n",
    "    VpcEndpointType='Gateway',\n",
    "    VpcId=vpc_id,\n",
    "    ServiceName=service_name,\n",
    "    RouteTableIds=route_table_ids,\n",
    "    # SubnetIds=sg_id,\n",
    "    # SecurityGroupIds=security_group_ids,\n",
    "    PrivateDnsEnabled=False  # Enable private DNS to resolve service names within the VPC\n",
    ")\n",
    "print(vpc_endpoint)"
   ]
  },
  {
   "cell_type": "code",
   "execution_count": null,
   "metadata": {},
   "outputs": [],
   "source": [
    "# ec2_client.create_tags(Resources=['vpce-039138a9e51a77069'],Tags=[{'Key': 'Name', 'Value': vpc_endpoint_tag}])"
   ]
  },
  {
   "cell_type": "code",
   "execution_count": null,
   "metadata": {},
   "outputs": [],
   "source": [
    "vpc_endpoint_id = vpc_endpoint['VpcEndpoint']['VpcEndpointId']\n",
    "# Delete the VPC Endpoint\n",
    "response = ec2_client.delete_vpc_endpoints(\n",
    "    VpcEndpointIds=[vpc_endpoint_id]\n",
    ")"
   ]
  },
  {
   "cell_type": "code",
   "execution_count": null,
   "metadata": {},
   "outputs": [],
   "source": []
  },
  {
   "cell_type": "markdown",
   "metadata": {},
   "source": [
    "#### Experiments"
   ]
  },
  {
   "cell_type": "markdown",
   "metadata": {},
   "source": [
    "- Create a Private VPC\n",
    "- Create a Internet Gatway and attach it to the VPC"
   ]
  },
  {
   "cell_type": "code",
   "execution_count": 16,
   "metadata": {},
   "outputs": [],
   "source": [
    "# ?ec2_resource.create_vpc"
   ]
  },
  {
   "cell_type": "code",
   "execution_count": null,
   "metadata": {},
   "outputs": [],
   "source": [
    "tag_specifications=[\n",
    "    {\n",
    "        'Tags': [\n",
    "            {\n",
    "                'Key': 'Name',\n",
    "                'Value': 'httx-vpc'\n",
    "            },\n",
    "        ]\n",
    "    },\n",
    "]\n",
    "vpc_cidr_block = '172.0.0.0/16'\n",
    "vpc = ec2_resource.create_vpc(CidrBlock=vpc_cidr_block, TagSpecifications=tag_specifications)\n",
    "vpc.wait_until_available()\n",
    "print(f\"VPC '{vpc.id}' created with CIDR block '{vpc_cidr_block}'\")\n",
    "\n",
    "\n",
    "# Create Internet Gateway and attach that with VPC\n",
    "igw = ec2_resource.create_internet_gateway()\n",
    "\n",
    "# attach the IG with VPC\n",
    "vpc.attach_internet_gateway(InternetGatewayId=igw.id)\n",
    "print(f\"Internet Gateway '{igw.id}' attached to VPC '{vpc.id}'\")\n"
   ]
  },
  {
   "cell_type": "markdown",
   "metadata": {},
   "source": [
    "- Create Subnets and Route Tables within the VPC.\n",
    "- Associate Route Tables with the Subnets."
   ]
  },
  {
   "cell_type": "code",
   "execution_count": null,
   "metadata": {},
   "outputs": [],
   "source": [
    "subnet_configs = [\n",
    "    {'cidr_block': '172.0.1.0/24', 'az': 'us-east-1a'},\n",
    "    {'cidr_block': '172.0.2.0/24', 'az': 'us-east-1b'}\n",
    "]\n",
    "\n",
    "route_table_configs = [\n",
    "    {\n",
    "        'routes': [\n",
    "            {'destination_cidr_block': '0.0.0.0/0', 'gateway_id': igw.id, 'nat_gateway_id': ''}\n",
    "        ]\n",
    "    }\n",
    "]\n",
    "\n",
    "\n",
    "for subnet_config in subnet_configs:\n",
    "\n",
    "    subnet = ec2_resource.create_subnet(\n",
    "        CidrBlock=subnet_config['cidr_block'],\n",
    "        VpcId=vpc.id,\n",
    "        AvailabilityZone=subnet_config['az']\n",
    "    )\n",
    "\n",
    "    route_table = ec2_resource.create_route_table(VpcId=vpc.id)\n",
    "    route_table_config = route_table_configs[0]\n",
    "\n",
    "    if 'routes' in route_table_config:\n",
    "        for route in route_table_config['routes']:\n",
    "            route_params = {'DestinationCidrBlock': route['destination_cidr_block']}\n",
    "            \n",
    "            if 'gateway_id' in route and route['gateway_id']: route_params['GatewayId'] = route['gateway_id']\n",
    "            elif igw.id: route_params['GatewayId'] = igw.id\n",
    "            \n",
    "            if 'nat_gateway_id' in route and route['nat_gateway_id']:\n",
    "                route_params['NatGatewayId'] = route['nat_gateway_id']\n",
    "            \n",
    "            # Create a route within the Route Table\n",
    "            route_table.create_route(**route_params)\n",
    "    \n",
    "    route_table.associate_with_subnet(SubnetId=subnet.id)\n",
    "    print(f\"Route table '{route_table.id}' associated with subnet '{subnet.id}'\")"
   ]
  },
  {
   "cell_type": "code",
   "execution_count": null,
   "metadata": {},
   "outputs": [],
   "source": [
    "security_group_configs = [\n",
    "    {\n",
    "        'group_name': f\"httx-{date.today().strftime('%Y-%m-%d')}-sg\",\n",
    "        'description': f\"httx-{date.today().strftime('%Y-%m-%d')} security group\",\n",
    "        'ingress_rules': [\n",
    "            {'protocol': 'tcp', 'cidr_ip': '0.0.0.0/0', 'from_port': 80, 'to_port': 80},\n",
    "            {'protocol': 'tcp', 'cidr_ip': '0.0.0.0/0', 'from_port': 443, 'to_port': 443}\n",
    "        ],\n",
    "        'egress_rules': [\n",
    "            {'protocol': 'tcp', 'cidr_ip': '0.0.0.0/0', 'from_port': 0, 'to_port': 0}\n",
    "        ]\n",
    "    }\n",
    "]\n",
    "\n",
    "if security_group_configs:\n",
    "    for sg_config in security_group_configs:\n",
    "        security_group = ec2_resource.create_security_group(\n",
    "            GroupName=sg_config['group_name'],\n",
    "            Description=sg_config['description'],\n",
    "            VpcId=vpc.id\n",
    "        )\n",
    "        if 'ingress_rules' in sg_config:\n",
    "            for rule in sg_config['ingress_rules']:\n",
    "                security_group.authorize_ingress(\n",
    "                    IpProtocol=rule['protocol'],\n",
    "                    CidrIp=rule['cidr_ip'],\n",
    "                    FromPort=rule['from_port'],\n",
    "                    ToPort=rule['to_port']\n",
    "                )\n",
    "        if 'egress_rules' in sg_config:\n",
    "            for rule in sg_config['egress_rules']:\n",
    "                security_group.authorize_egress(\n",
    "                    IpPermissions=[{\n",
    "                        'IpProtocol': rule['protocol'],\n",
    "                        'IpRanges': [{'CidrIp': rule['cidr_ip']}],\n",
    "                        'FromPort': rule['from_port'],\n",
    "                        'ToPort': rule['to_port']\n",
    "                    }]\n",
    "                )\n",
    "        print(f\"Security group '{security_group.id}' created with name '{sg_config['group_name']}'\")\n"
   ]
  },
  {
   "cell_type": "markdown",
   "metadata": {},
   "source": [
    "-   Delete all resources associated with the VPC.\n",
    "-   Then delete the VPC."
   ]
  },
  {
   "cell_type": "code",
   "execution_count": null,
   "metadata": {},
   "outputs": [],
   "source": [
    "vpc = ec2_resource.Vpc(vpc.id)\n",
    "\n",
    "# Detach and delete all internet gateways\n",
    "for igw in vpc.internet_gateways.all():\n",
    "    vpc.detach_internet_gateway(InternetGatewayId=igw.id)\n",
    "    # Delete the Internet Gateway\n",
    "    igw.delete()\n",
    "    # ec2_client.delete_internet_gateway(InternetGatewayId=igw.id)\n",
    "    print(f\"Deleted Internet Gateway: {igw.id}\")\n",
    "\n",
    "# Delete all route table associations and route tables\n",
    "for rt in vpc.route_tables.all():\n",
    "    for association in rt.associations:\n",
    "        if not association.main:\n",
    "            ec2_client.disassociate_route_table(AssociationId=association.id)\n",
    "    if not rt.associations_attribute or all(not assoc['Main'] for assoc in rt.associations_attribute):\n",
    "        rt.delete()\n",
    "        print(f\"Deleted Route Table: {rt.id}\")\n",
    "\n",
    "# Delete all network ACLs (except the default one)\n",
    "for acl in vpc.network_acls.all():\n",
    "    if not acl.is_default:\n",
    "        acl.delete()\n",
    "        print(f\"Deleted Network ACL: {acl.id}\")\n",
    "\n",
    "# Delete all subnets\n",
    "for subnet in vpc.subnets.all():\n",
    "    for eni in subnet.network_interfaces.all():\n",
    "        eni.delete()\n",
    "        print(f\"Deleted Network Interface: {eni.id}\")\n",
    "    subnet.delete()\n",
    "    print(f\"Deleted Subnet: {subnet.id}\")\n",
    "\n",
    "# Delete all security groups (except the default one)\n",
    "for sg in vpc.security_groups.all():\n",
    "    if sg.group_name != 'default':\n",
    "        sg.delete()\n",
    "        print(f\"Deleted Security Group: {sg.id}\")\n",
    "\n",
    "# Finally, delete the VPC\n",
    "vpc.delete()\n",
    "print(f\"Deleted VPC: {vpc.id}\")\n"
   ]
  },
  {
   "cell_type": "code",
   "execution_count": 7,
   "metadata": {},
   "outputs": [],
   "source": [
    "# ?ec2_client.describe_vpcs"
   ]
  },
  {
   "cell_type": "code",
   "execution_count": null,
   "metadata": {},
   "outputs": [],
   "source": [
    "response = ec2_client.describe_vpcs(\n",
    "    VpcIds=[\n",
    "        'vpc-054e315c7fbdb0d6f',\n",
    "    ]\n",
    ")\n",
    "print(response)"
   ]
  },
  {
   "cell_type": "code",
   "execution_count": null,
   "metadata": {},
   "outputs": [],
   "source": []
  },
  {
   "cell_type": "code",
   "execution_count": null,
   "metadata": {},
   "outputs": [],
   "source": []
  }
 ],
 "metadata": {
  "kernelspec": {
   "display_name": "dsnb",
   "language": "python",
   "name": "python3"
  },
  "language_info": {
   "codemirror_mode": {
    "name": "ipython",
    "version": 3
   },
   "file_extension": ".py",
   "mimetype": "text/x-python",
   "name": "python",
   "nbconvert_exporter": "python",
   "pygments_lexer": "ipython3",
   "version": "3.9.6"
  }
 },
 "nbformat": 4,
 "nbformat_minor": 2
}
