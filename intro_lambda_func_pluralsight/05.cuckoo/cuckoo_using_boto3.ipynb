{
 "cells": [
  {
   "cell_type": "markdown",
   "metadata": {},
   "source": [
    "## 5.cuckoo"
   ]
  },
  {
   "cell_type": "code",
   "execution_count": 34,
   "metadata": {},
   "outputs": [],
   "source": [
    "import boto3\n",
    "import botocore\n",
    "from botocore.exceptions import ClientError\n",
    "import os, time, json, subprocess\n",
    "\n",
    "import s3, iam, ec2, lambda_fn, eventbridge as event"
   ]
  },
  {
   "cell_type": "code",
   "execution_count": 35,
   "metadata": {},
   "outputs": [],
   "source": [
    "\n",
    "ACCOUNT_ID = os.environ['AWS_ACCOUNT_ID_ROOT']\n",
    "REGION = os.environ['AWS_DEFAULT_REGION']\n",
    "VPC_ID = 'vpc-03617a8a518caa526'\n",
    "DEFAULT_SUBNET_IDS = ['subnet-0980ad10eb313405b', 'subnet-0de97821ddb8236f7', 'subnet-0a160fbe0fcafe373', 'subnet-0ca765b361e4cb186', 'subnet-0a972b05a5b162feb']\n",
    "SUBNET_ID = DEFAULT_SUBNET_IDS[0]\n",
    "DEFAULT_SECURITY_GROUP_ID = 'sg-07f4ccd7a5be677ea'"
   ]
  },
  {
   "cell_type": "code",
   "execution_count": 36,
   "metadata": {},
   "outputs": [],
   "source": [
    "# Initialize boto3 clients\n",
    "s3_client = boto3.client('s3')\n",
    "s3_resource = boto3.resource('s3')\n",
    "lambda_client = boto3.client('lambda')\n",
    "logs_client = boto3.client('logs')\n",
    "events_client = boto3.client('events')\n",
    "iam_client = boto3.client('iam')\n",
    "ses_client = boto3.client('ses', region_name='us-east-1')  # Choose your AWS region"
   ]
  },
  {
   "cell_type": "code",
   "execution_count": null,
   "metadata": {},
   "outputs": [],
   "source": []
  },
  {
   "cell_type": "markdown",
   "metadata": {},
   "source": [
    "#### Create IAM Role"
   ]
  },
  {
   "cell_type": "code",
   "execution_count": null,
   "metadata": {},
   "outputs": [],
   "source": [
    "assume_role_policy_document = {\n",
    "    \"Version\": \"2012-10-17\",\n",
    "    \"Statement\": [\n",
    "        {\n",
    "            \"Effect\": \"Allow\",\n",
    "            \"Principal\": {\n",
    "                \"Service\": \"lambda.amazonaws.com\"\n",
    "            },\n",
    "            \"Action\": \"sts:AssumeRole\"\n",
    "        }\n",
    "    ]\n",
    "}\n",
    "role_name = \"gpc_cuckoo_role\"\n",
    "\n",
    "# Create the IAM role with the assume role policy document\n",
    "role_arn = iam_client.create_role(\n",
    "    RoleName=role_name,\n",
    "    AssumeRolePolicyDocument=json.dumps(assume_role_policy_document)\n",
    ")['Role']['Arn']\n",
    "\n",
    "\n",
    "#### Create IAM Role Policy (SQS, S3, Logs Permissions)\n",
    "policy_document = {\n",
    "    \"Version\": \"2012-10-17\",\n",
    "    \"Statement\": [\n",
    "        {\n",
    "            \"Effect\": \"Allow\",\n",
    "            \"Action\": [\n",
    "                \"sqs:*\"\n",
    "            ],\n",
    "            \"Resource\": \"*\"\n",
    "        },\n",
    "        {\n",
    "            \"Effect\": \"Allow\",\n",
    "            \"Action\": [\n",
    "                \"ses:*\"\n",
    "            ],\n",
    "            \"Resource\": \"*\"\n",
    "        },\n",
    "        {\n",
    "            \"Effect\": \"Allow\",\n",
    "            \"Action\": [\n",
    "                \"s3:*\",\n",
    "                \"s3-object-lambda:*\"\n",
    "            ],\n",
    "            \"Resource\": \"*\"\n",
    "        },\n",
    "        {\n",
    "            \"Effect\": \"Allow\",\n",
    "            \"Action\": [\n",
    "                \"logs:*\"\n",
    "            ],\n",
    "            \"Resource\": \"*\"\n",
    "        }\n",
    "    ]\n",
    "}\n",
    "\n",
    "policy_name = \"sqs_s3_logs_policies\"\n",
    "\n",
    "# Attach the inline policy to the IAM role\n",
    "iam_client.put_role_policy(\n",
    "    RoleName=role_name,\n",
    "    PolicyName=policy_name,\n",
    "    PolicyDocument=json.dumps(policy_document)\n",
    ")\n",
    "print(f\"Policy {policy_name} attached to role {role_name}\")\n"
   ]
  },
  {
   "cell_type": "markdown",
   "metadata": {},
   "source": [
    "#### Create S3 Bucket"
   ]
  },
  {
   "cell_type": "code",
   "execution_count": null,
   "metadata": {},
   "outputs": [],
   "source": [
    "\n",
    "bucket_name = \"gpc-cuckoo-bkt\"\n",
    "\n",
    "# Create the S3 bucket\n",
    "s3.create_s3_bucket(bucket_name)\n",
    "\n",
    "s3.upload_folder_to_s3('./templates', bucket_name, s3_folder_path=None, region=REGION)"
   ]
  },
  {
   "cell_type": "code",
   "execution_count": 55,
   "metadata": {},
   "outputs": [],
   "source": [
    "# # Upload templates to the S3 bucket\n",
    "# subprocess.run(['aws', 's3', 'cp', './templates', f's3://{bucket_name}', '--recursive'])"
   ]
  },
  {
   "cell_type": "markdown",
   "metadata": {},
   "source": [
    "#### Create Lambda Function"
   ]
  },
  {
   "cell_type": "code",
   "execution_count": 56,
   "metadata": {},
   "outputs": [],
   "source": [
    "lfn_name = \"gpc_cuckoo\"\n",
    "zip_file = \"./package.zip\"  # Change this to the actual zip file path\n",
    "\n",
    "# Create Lambda function\n",
    "with open(zip_file, 'rb') as f:\n",
    "    zipped_code = f.read()\n",
    "\n",
    "lambda_arn = lambda_client.create_function(\n",
    "    FunctionName=lfn_name,\n",
    "    Runtime='python3.9',\n",
    "    Role=role_arn,\n",
    "    Handler='cuckoo.handler',\n",
    "    Code={'ZipFile': zipped_code},\n",
    "    Timeout=60,\n",
    "    Environment={\n",
    "        'Variables': {\n",
    "            'foo': 'BAR'\n",
    "        }\n",
    "    }\n",
    ")['FunctionArn']"
   ]
  },
  {
   "cell_type": "markdown",
   "metadata": {},
   "source": [
    "#### Create CloudWatch Log Group"
   ]
  },
  {
   "cell_type": "code",
   "execution_count": null,
   "metadata": {},
   "outputs": [],
   "source": [
    "log_group_name = \"/aws/lambda/gpc_cuckoo\"\n",
    "logs_client.create_log_group(logGroupName=log_group_name)\n",
    "logs_client.put_retention_policy(logGroupName=log_group_name,retentionInDays=7)"
   ]
  },
  {
   "cell_type": "markdown",
   "metadata": {},
   "source": [
    "#### Create CloudWatch Events Rules"
   ]
  },
  {
   "cell_type": "code",
   "execution_count": null,
   "metadata": {},
   "outputs": [],
   "source": [
    "cron_expressions = {\n",
    "    \"come_to_work\": \"cron(0 12 ? * MON-FRI *)\",\n",
    "    \"daily_tasks\": \"cron(0 17 ? * MON-FRI *)\",\n",
    "    \"pickup\": \"cron(0 22 ? * MON-FRI *)\"\n",
    "}\n",
    "\n",
    "rules = {}\n",
    "for rule_name, cron_expression in cron_expressions.items():\n",
    "    rule_response = events_client.put_rule(Name=rule_name, ScheduleExpression=cron_expression)\n",
    "    rules[rule_name] = rule_response['RuleArn']\n",
    "    print(f\"Event rule {rule_name} created with cron {cron_expression}\")\n",
    "\n",
    "# Add Targets to Event Rules (Invoke Lambda)\n",
    "for rule_name, rule_arn in rules.items():\n",
    "    events_client.put_targets(Rule=rule_name,Targets=[{'Id': f\"{rule_name}_target\",'Arn': lambda_arn}])\n",
    "    print(f\"Target added to rule {rule_name}\")"
   ]
  },
  {
   "cell_type": "markdown",
   "metadata": {},
   "source": [
    "#### Add Lambda Permissions for Event Rules"
   ]
  },
  {
   "cell_type": "code",
   "execution_count": null,
   "metadata": {},
   "outputs": [],
   "source": [
    "for i, (rule_name, rule_arn) in enumerate(rules.items(), start=1):\n",
    "    lambda_client.add_permission(\n",
    "        FunctionName=lfn_name,\n",
    "        StatementId=str(i),\n",
    "        Action='lambda:InvokeFunction',\n",
    "        Principal='events.amazonaws.com',\n",
    "        SourceArn=rule_arn\n",
    "    )\n",
    "    print(f\"Permission added for {rule_name} to invoke {lfn_name}\")\n",
    "\n",
    "print(\"All resources created successfully.\")\n"
   ]
  },
  {
   "cell_type": "markdown",
   "metadata": {},
   "source": [
    "#### Test The Lambda Function locally"
   ]
  },
  {
   "cell_type": "markdown",
   "metadata": {},
   "source": [
    "- Create identities using AWS SES Service"
   ]
  },
  {
   "cell_type": "code",
   "execution_count": 67,
   "metadata": {},
   "outputs": [],
   "source": [
    "emails = ['AMominNJ@gmail.com', 'bbcredcap3@gmail.com', 'A.Momin.NYC@gmail.com']\n",
    "# Create an email identity\n",
    "[ses_client.verify_email_identity(EmailAddress=email) for email in emails]"
   ]
  },
  {
   "cell_type": "code",
   "execution_count": null,
   "metadata": {},
   "outputs": [],
   "source": []
  },
  {
   "cell_type": "markdown",
   "metadata": {},
   "source": [
    "-   With the events created make sure to modify your code skeleton. Come back for these commands when you need to test locally\n",
    "-   Testing the function from the command line: (Make sure you're in the directory with the cuckoo.py file)\n",
    "-   Call the handler function and give it a sample event. This event can either be the event ARN text or something else that contains text that contains some of the text that the function is looking for. The text should contain `come_to_work` or `daily_tasks` or `pickup`. We'll also put them into the following format to match the way they will be passed to the function by the AWS event"
   ]
  },
  {
   "cell_type": "code",
   "execution_count": null,
   "metadata": {},
   "outputs": [],
   "source": [
    "import cuckoo\n",
    "cuckoo.handler({'resources':['some text containing the word pickup']},'context')\n",
    "cuckoo.handler({'resources':['arn:aws:events:us-east-1:444510800003:rule/come_to_work']}, 'context')\n",
    "cuckoo.handler({'resources':['a great daily_tasks test']},'context')"
   ]
  },
  {
   "cell_type": "markdown",
   "metadata": {},
   "source": [
    "#### Delete Resources"
   ]
  },
  {
   "cell_type": "code",
   "execution_count": null,
   "metadata": {},
   "outputs": [],
   "source": [
    "bucket = s3_resource.Bucket(bucket_name)\n",
    "\n",
    "# Delete all objects in the bucket\n",
    "bucket.objects.all().delete()\n",
    "\n",
    "# Delete all object versions (if versioning is enabled)\n",
    "# bucket.object_versions.all().delete()\n",
    "\n",
    "# Finally, delete the bucket\n",
    "bucket.delete()\n"
   ]
  },
  {
   "cell_type": "code",
   "execution_count": null,
   "metadata": {},
   "outputs": [],
   "source": [
    "lambda_client.delete_function(FunctionName=\"gpc_cuckoo\")"
   ]
  },
  {
   "cell_type": "code",
   "execution_count": null,
   "metadata": {},
   "outputs": [],
   "source": [
    "event.delete_event_bridge_rule(list(cron_expressions.keys())[0])\n",
    "event.delete_event_bridge_rule(list(cron_expressions.keys())[1])\n",
    "event.delete_event_bridge_rule(list(cron_expressions.keys())[2])"
   ]
  },
  {
   "cell_type": "code",
   "execution_count": null,
   "metadata": {},
   "outputs": [],
   "source": [
    "# Delete the log group\n",
    "logs_client.delete_log_group(logGroupName=log_group_name)"
   ]
  },
  {
   "cell_type": "code",
   "execution_count": null,
   "metadata": {},
   "outputs": [],
   "source": [
    "### DELETE IAM ROLE AT THE END AFTER DELETING ALL OTHER RESOURCES.\n",
    "iam.delete_iam_role(role_name)"
   ]
  },
  {
   "cell_type": "code",
   "execution_count": null,
   "metadata": {},
   "outputs": [],
   "source": [
    "[ses_client.delete_identity(Identity=identity) for identity in emails]"
   ]
  },
  {
   "cell_type": "code",
   "execution_count": null,
   "metadata": {},
   "outputs": [],
   "source": []
  }
 ],
 "metadata": {
  "kernelspec": {
   "display_name": "dsnb",
   "language": "python",
   "name": "python3"
  },
  "language_info": {
   "codemirror_mode": {
    "name": "ipython",
    "version": 3
   },
   "file_extension": ".py",
   "mimetype": "text/x-python",
   "name": "python",
   "nbconvert_exporter": "python",
   "pygments_lexer": "ipython3",
   "version": "3.9.6"
  }
 },
 "nbformat": 4,
 "nbformat_minor": 2
}
