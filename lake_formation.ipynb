{
 "cells": [
  {
   "cell_type": "markdown",
   "metadata": {},
   "source": [
    "-   [Deep Dive Into AWS Lake Formation - Level 300 (United States)](https://www.youtube.com/watch?v=Aj5T5fcZZr0&t=313s)\n",
    "-   [AWS Summit ATL 2022 - Modern data lakes with Lake Formation, Amazon Redshift & AWS Glue (ANT302)](https://www.youtube.com/watch?v=7H15CYpJRRI)"
   ]
  },
  {
   "cell_type": "code",
   "execution_count": null,
   "metadata": {
    "vscode": {
     "languageId": "plaintext"
    }
   },
   "outputs": [],
   "source": []
  },
  {
   "cell_type": "markdown",
   "metadata": {},
   "source": [
    "### [AWS Lake Formation - Tag Based Access Control](https://www.youtube.com/watch?v=7jm3ukY_aGQ&list=PL8RIJKpVAN1e611zQsSDcRja90bQiEMr3&index=40&t=176s)\n",
    "- [lab](https://aws-dojo.com/excercises/excercise47/)"
   ]
  }
 ],
 "metadata": {
  "language_info": {
   "name": "python"
  }
 },
 "nbformat": 4,
 "nbformat_minor": 2
}
